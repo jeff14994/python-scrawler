{
 "cells": [
  {
   "cell_type": "markdown",
   "metadata": {
    "toc": true
   },
   "source": [
    "<h1>Table of Contents<span class=\"tocSkip\"></span></h1>\n",
    "<div class=\"toc\"><ul class=\"toc-item\"><li><span><a href=\"#反爬：代理伺服器/IP\" data-toc-modified-id=\"反爬：代理伺服器/IP-1\"><span class=\"toc-item-num\">1&nbsp;&nbsp;</span>反爬：代理伺服器/IP</a></span><ul class=\"toc-item\"><li><span><a href=\"#下載檔案\" data-toc-modified-id=\"下載檔案-1.1\"><span class=\"toc-item-num\">1.1&nbsp;&nbsp;</span>下載檔案</a></span></li><li><span><a href=\"#作業目標\" data-toc-modified-id=\"作業目標-1.2\"><span class=\"toc-item-num\">1.2&nbsp;&nbsp;</span>作業目標</a></span></li></ul></li></ul></div>"
   ]
  },
  {
   "cell_type": "markdown",
   "metadata": {},
   "source": [
    "# 反爬：代理伺服器/IP\n",
    "\n",
    "* 了解「IP 黑/白名單」的反爬蟲機制\n",
    "* 「IP 黑/白名單」反爬蟲的因應策略"
   ]
  },
  {
   "cell_type": "markdown",
   "metadata": {},
   "source": [
    "## 下載檔案"
   ]
  },
  {
   "cell_type": "code",
   "execution_count": 1,
   "metadata": {
    "ExecuteTime": {
     "end_time": "2021-01-06T02:38:20.824393Z",
     "start_time": "2021-01-06T02:38:20.554686Z"
    }
   },
   "outputs": [],
   "source": [
    "from bs4 import BeautifulSoup\n",
    "import requests\n",
    "import random"
   ]
  },
  {
   "cell_type": "code",
   "execution_count": null,
   "metadata": {
    "ExecuteTime": {
     "start_time": "2021-01-06T02:39:57.574Z"
    }
   },
   "outputs": [
    {
     "name": "stdout",
     "output_type": "stream",
     "text": [
      "Use 206.189.235.156:80\n"
     ]
    }
   ],
   "source": [
    "\n",
    "proxy_ips = ['51.158.99.51:8811', '51.158.111.229:8811', '206.189.235.156:80', '68.183.105.214:8080']\n",
    "\n",
    "for i in range(5):\n",
    "    # 隨機挑選 IP\n",
    "    ip = random.choice(proxy_ips)\n",
    "    print('Use', ip)\n",
    "    resp = requests.get('http://ip.filefab.com/index.php',\n",
    "                        proxies={'http': ip})\n",
    "    soup = BeautifulSoup(resp.text, 'htmlparser')\n",
    "    print(soup.find('h1', id='ipd').text.strip())\n"
   ]
  },
  {
   "cell_type": "markdown",
   "metadata": {},
   "source": [
    "## 作業目標\n",
    "\n",
    "* 目前程式中的 proxy_ips 是手動輸入的，請根據 https://free-proxy-list.net/ 寫一個可自動化抓取可用 Proxy 的 proxy_ips。\n",
    "\n",
    "\n",
    "\n"
   ]
  },
  {
   "cell_type": "code",
   "execution_count": null,
   "metadata": {},
   "outputs": [],
   "source": []
  }
 ],
 "metadata": {
  "kernelspec": {
   "display_name": "Python 3",
   "language": "python",
   "name": "python3"
  },
  "language_info": {
   "codemirror_mode": {
    "name": "ipython",
    "version": 3
   },
   "file_extension": ".py",
   "mimetype": "text/x-python",
   "name": "python",
   "nbconvert_exporter": "python",
   "pygments_lexer": "ipython3",
   "version": "3.7.4"
  },
  "toc": {
   "base_numbering": 1,
   "nav_menu": {},
   "number_sections": true,
   "sideBar": true,
   "skip_h1_title": false,
   "title_cell": "Table of Contents",
   "title_sidebar": "Contents",
   "toc_cell": true,
   "toc_position": {},
   "toc_section_display": true,
   "toc_window_display": true
  }
 },
 "nbformat": 4,
 "nbformat_minor": 2
}
