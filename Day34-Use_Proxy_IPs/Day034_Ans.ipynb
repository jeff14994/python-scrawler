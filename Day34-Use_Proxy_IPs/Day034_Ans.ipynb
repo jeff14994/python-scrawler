{
 "cells": [
  {
   "cell_type": "markdown",
   "metadata": {
    "toc": true
   },
   "source": [
    "<h1>Table of Contents<span class=\"tocSkip\"></span></h1>\n",
    "<div class=\"toc\"><ul class=\"toc-item\"><li><span><a href=\"#反爬：代理伺服器/IP\" data-toc-modified-id=\"反爬：代理伺服器/IP-1\"><span class=\"toc-item-num\">1&nbsp;&nbsp;</span>反爬：代理伺服器/IP</a></span><ul class=\"toc-item\"><li><span><a href=\"#作業目標\" data-toc-modified-id=\"作業目標-1.1\"><span class=\"toc-item-num\">1.1&nbsp;&nbsp;</span>作業目標</a></span></li></ul></li></ul></div>"
   ]
  },
  {
   "cell_type": "markdown",
   "metadata": {
    "colab_type": "text",
    "id": "IX8KUwndVkg2"
   },
   "source": [
    "# 反爬：代理伺服器/IP\n",
    "\n",
    "* 了解「IP 黑/白名單」的反爬蟲機制\n",
    "* 「IP 黑/白名單」反爬蟲的因應策略"
   ]
  },
  {
   "cell_type": "markdown",
   "metadata": {
    "colab_type": "text",
    "id": "DP-sCoO2Vkg5"
   },
   "source": [
    "## 作業目標\n",
    "\n",
    "* 目前程式中的 proxy_ips 是手動輸入的，請根據 https://free-proxy-list.net/ 寫一個可自動化抓取可用 Proxy 的 proxy_ips。\n",
    "\n",
    "\n"
   ]
  },
  {
   "cell_type": "code",
   "execution_count": 1,
   "metadata": {
    "ExecuteTime": {
     "end_time": "2021-01-06T04:13:20.923804Z",
     "start_time": "2021-01-06T04:13:20.630037Z"
    },
    "colab": {},
    "colab_type": "code",
    "id": "Tcn5GfmLVkg5"
   },
   "outputs": [],
   "source": [
    "from bs4 import BeautifulSoup\n",
    "import requests\n",
    "import random"
   ]
  },
  {
   "cell_type": "code",
   "execution_count": 2,
   "metadata": {
    "ExecuteTime": {
     "end_time": "2021-01-06T04:13:23.532962Z",
     "start_time": "2021-01-06T04:13:23.211703Z"
    }
   },
   "outputs": [
    {
     "name": "stdout",
     "output_type": "stream",
     "text": [
      "['103.233.198.156:8081', '51.81.82.175:80', '40.79.26.139:1080', '216.58.163.118:80', '186.229.25.18:8080', '191.101.39.105:80', '203.146.255.101:80', '168.138.33.79:50000', '192.117.146.110:80', '144.202.101.83:3128', '104.207.151.250:3128', '27.147.155.70:55424', '43.245.202.15:57396', '192.109.165.239:80', '133.86.253.49:80', '104.42.216.178:80', '84.247.51.123:3128', '52.77.155.160:80', '41.79.33.170:8080', '124.107.185.189:3128', '178.128.125.16:34001', '103.156.225.18:80', '195.239.178.110:48009', '165.22.64.68:37196', '201.151.79.30:8080', '101.255.75.46:40092', '176.235.182.79:8080', '14.207.60.7:3128', '51.75.147.33:3128', '223.16.188.152:8908', '51.75.147.43:3128', '113.53.83.212:44664', '46.191.226.105:3128', '185.142.67.23:8080', '91.214.128.243:23500', '176.197.95.2:3128', '200.69.210.59:80', '217.15.195.141:59792', '91.192.2.168:53281', '103.106.114.134:8080', '37.187.19.70:80', '202.75.99.10:56773', '180.179.98.22:3128', '163.172.28.22:80', '181.129.183.19:53281', '125.26.7.124:61642', '176.98.75.120:60852', '150.129.148.88:35101', '103.250.68.10:8080', '199.255.96.233:8080', '90.189.116.152:3128', '115.178.103.230:55443', '188.156.240.240:8118', '103.241.227.106:6666', '195.158.3.198:3128', '87.97.60.160:8080', '36.73.177.91:3128', '213.230.69.33:8080', '167.172.109.12:36457', '37.79.254.152:3128', '213.105.29.14:3128', '178.63.10.89:3128', '161.35.4.201:80', '177.220.136.22:80', '200.62.96.71:80', '62.210.15.54:80', '93.146.185.139:80', '45.32.136.27:3128', '94.23.91.209:80', '203.198.94.132:80', '195.1.208.121:80', '62.176.1.194:35608', '191.239.250.182:80', '89.187.177.106:80', '117.197.102.193:80', '5.189.133.231:80', '185.255.134.106:40001', '89.187.177.108:80', '89.187.177.97:80', '89.187.177.95:80', '89.187.177.105:80', '89.187.177.103:80', '89.187.177.104:80', '89.187.177.99:80', '89.187.177.100:80', '89.187.177.86:80', '89.187.177.98:80', '89.187.177.88:80', '89.187.177.93:80', '89.187.177.91:80', '89.187.177.92:80', '89.187.177.107:80', '89.187.177.90:80', '89.187.177.85:80', '89.187.177.102:80', '51.158.99.51:8811', '89.187.177.94:80', '51.158.119.88:8811', '89.187.177.87:80', '89.187.177.96:80']\n"
     ]
    }
   ],
   "source": [
    "proxy_ips = []\n",
    "\n",
    "# 對 https://free-proxy-list.net/ 發送請求，並從表格中整理出免費的代理伺服器\n",
    "\n",
    "headers = {'User-Agent': 'Mozilla/5.0 (Macintosh; Intel Mac OS X 10_11_5) AppleWebKit/537.36 (KHTML, like Gecko) Cafari/537.36'}\n",
    "url = 'https://free-proxy-list.net/'\n",
    "response = requests.get(url, headers=headers)\n",
    "soup = BeautifulSoup(response.text, 'lxml')\n",
    "\n",
    "for tr in soup.find('tbody').find_all('tr')[:100]:\n",
    "    # 取 Ip and port\n",
    "    proxy = tr.find_all('td')[0].text + ':' + tr.find_all('td')[1].text\n",
    "    proxy_ips.append(proxy)\n",
    "    \n",
    "print(proxy_ips)"
   ]
  },
  {
   "cell_type": "code",
   "execution_count": 5,
   "metadata": {
    "ExecuteTime": {
     "end_time": "2021-01-06T04:36:52.225844Z",
     "start_time": "2021-01-06T04:26:00.967808Z"
    },
    "colab": {},
    "colab_type": "code",
    "id": "sXotLl8mVkg9"
   },
   "outputs": [
    {
     "name": "stdout",
     "output_type": "stream",
     "text": [
      "Use 103.233.198.156:8081\n",
      "Fail\n",
      "Use 51.81.82.175:80\n",
      "Fail\n",
      "Use 40.79.26.139:1080\n",
      "Fail\n",
      "Use 216.58.163.118:80\n",
      "Fail\n",
      "Use 186.229.25.18:8080\n",
      "Fail\n",
      "Use 191.101.39.105:80\n",
      "Fail\n",
      "Use 203.146.255.101:80\n",
      "Fail\n",
      "Use 168.138.33.79:50000\n",
      "Fail\n",
      "Use 192.117.146.110:80\n",
      "Fail\n",
      "Use 144.202.101.83:3128\n",
      "Fail\n",
      "Use 104.207.151.250:3128\n",
      "Fail\n",
      "Use 27.147.155.70:55424\n",
      "Fail\n",
      "Use 43.245.202.15:57396\n",
      "Fail\n",
      "Use 192.109.165.239:80\n",
      "Fail\n",
      "Use 133.86.253.49:80\n",
      "Fail\n",
      "Use 104.42.216.178:80\n",
      "Fail\n",
      "Use 84.247.51.123:3128\n",
      "Fail\n",
      "Use 52.77.155.160:80\n",
      "Fail\n",
      "Use 41.79.33.170:8080\n",
      "Fail\n",
      "Use 124.107.185.189:3128\n",
      "Fail\n",
      "Use 178.128.125.16:34001\n",
      "Fail\n",
      "Use 103.156.225.18:80\n",
      "Fail\n",
      "Use 195.239.178.110:48009\n",
      "Fail\n",
      "Use 165.22.64.68:37196\n",
      "Fail\n",
      "Use 201.151.79.30:8080\n",
      "Fail\n",
      "Use 101.255.75.46:40092\n",
      "Fail\n",
      "Use 176.235.182.79:8080\n",
      "Fail\n",
      "Use 14.207.60.7:3128\n",
      "Fail\n",
      "Use 51.75.147.33:3128\n",
      "Fail\n",
      "Use 223.16.188.152:8908\n",
      "Fail\n",
      "Use 51.75.147.43:3128\n",
      "Fail\n",
      "Use 113.53.83.212:44664\n",
      "Fail\n",
      "Use 46.191.226.105:3128\n",
      "Fail\n",
      "Use 185.142.67.23:8080\n",
      "Fail\n",
      "Use 91.214.128.243:23500\n",
      "Fail\n",
      "Use 176.197.95.2:3128\n",
      "Fail\n",
      "Use 200.69.210.59:80\n",
      "Fail\n",
      "Use 217.15.195.141:59792\n",
      "Fail\n",
      "Use 91.192.2.168:53281\n",
      "Fail\n",
      "Use 103.106.114.134:8080\n",
      "Fail\n",
      "Use 37.187.19.70:80\n",
      "Fail\n",
      "Use 202.75.99.10:56773\n",
      "Fail\n",
      "Use 180.179.98.22:3128\n",
      "Fail\n",
      "Use 163.172.28.22:80\n",
      "Fail\n",
      "Use 181.129.183.19:53281\n",
      "Fail\n",
      "Use 125.26.7.124:61642\n",
      "Fail\n",
      "Use 176.98.75.120:60852\n",
      "Fail\n",
      "Use 150.129.148.88:35101\n",
      "Fail\n",
      "Use 103.250.68.10:8080\n",
      "Fail\n",
      "Use 199.255.96.233:8080\n",
      "Fail\n",
      "Use 90.189.116.152:3128\n",
      "Fail\n",
      "Use 115.178.103.230:55443\n",
      "Fail\n",
      "Use 188.156.240.240:8118\n",
      "Fail\n",
      "Use 103.241.227.106:6666\n",
      "Fail\n",
      "Use 195.158.3.198:3128\n",
      "Fail\n",
      "Use 87.97.60.160:8080\n",
      "Fail\n",
      "Use 36.73.177.91:3128\n",
      "Fail\n",
      "Use 213.230.69.33:8080\n",
      "Fail\n",
      "Use 167.172.109.12:36457\n",
      "Fail\n",
      "Use 37.79.254.152:3128\n",
      "Fail\n",
      "Use 213.105.29.14:3128\n",
      "Fail\n",
      "Use 178.63.10.89:3128\n",
      "Fail\n",
      "Use 161.35.4.201:80\n",
      "Fail\n",
      "Use 177.220.136.22:80\n",
      "Fail\n",
      "Use 200.62.96.71:80\n",
      "Fail\n",
      "Use 62.210.15.54:80\n",
      "Fail\n",
      "Use 93.146.185.139:80\n",
      "Fail\n",
      "Use 45.32.136.27:3128\n",
      "Fail\n",
      "Use 94.23.91.209:80\n",
      "Fail\n",
      "Use 203.198.94.132:80\n",
      "Fail\n",
      "Use 195.1.208.121:80\n",
      "Fail\n",
      "Use 62.176.1.194:35608\n",
      "Fail\n",
      "Use 191.239.250.182:80\n",
      "Fail\n",
      "Use 89.187.177.106:80\n",
      "Fail\n",
      "Use 117.197.102.193:80\n",
      "Fail\n",
      "Use 5.189.133.231:80\n",
      "Fail\n",
      "Use 185.255.134.106:40001\n",
      "Fail\n",
      "Use 89.187.177.108:80\n",
      "Fail\n",
      "Use 89.187.177.97:80\n",
      "Fail\n",
      "Use 89.187.177.95:80\n",
      "Fail\n",
      "Use 89.187.177.105:80\n",
      "Fail\n",
      "Use 89.187.177.103:80\n",
      "Fail\n",
      "Use 89.187.177.104:80\n",
      "Fail\n",
      "Use 89.187.177.99:80\n",
      "Fail\n",
      "Use 89.187.177.100:80\n",
      "Fail\n",
      "Use 89.187.177.86:80\n",
      "Fail\n",
      "Use 89.187.177.98:80\n",
      "Fail\n",
      "Use 89.187.177.88:80\n",
      "Fail\n",
      "Use 89.187.177.93:80\n",
      "Fail\n",
      "Use 89.187.177.91:80\n",
      "Fail\n",
      "Use 89.187.177.92:80\n",
      "Fail\n",
      "Use 89.187.177.107:80\n",
      "Fail\n",
      "Use 89.187.177.90:80\n",
      "Fail\n",
      "Use 89.187.177.85:80\n",
      "Fail\n",
      "Use 89.187.177.102:80\n",
      "Fail\n",
      "Use 51.158.99.51:8811\n",
      "Fail\n",
      "Use 89.187.177.94:80\n",
      "Fail\n",
      "Use 51.158.119.88:8811\n",
      "Fail\n",
      "Use 89.187.177.87:80\n",
      "Fail\n",
      "Use 89.187.177.96:80\n",
      "Fail\n",
      "[]\n"
     ]
    }
   ],
   "source": [
    "# 將免費的代理伺服器，發送至 http://ip.filefab.com/index.php 找出可用的代理伺服器\n",
    "\n",
    "available_proxies = []\n",
    "\n",
    "for i in range(100):\n",
    "    ip = proxy_ips[i]\n",
    "    print('Use', ip)\n",
    "    try:\n",
    "        resp = requests.get('http://ip.filefab.com/index.php',\n",
    "                        proxies={'http': ip, 'https': ip}, timeout=10)\n",
    "        soup = BeautifulSoup(resp.text, 'html5lib')\n",
    "        # .strip() 去除頭尾空白\n",
    "        print(soup.find('h1', id='ipd').text.strip())\n",
    "        available_proxies.append(ip)\n",
    "        # 取 6 個可用 Proxy\n",
    "        if len(available_proxies) > 5:\n",
    "            break\n",
    "    except:\n",
    "        print('Fail')\n",
    "    \n",
    "print(available_proxies)"
   ]
  },
  {
   "cell_type": "code",
   "execution_count": 4,
   "metadata": {
    "ExecuteTime": {
     "end_time": "2021-01-06T04:25:32.192245Z",
     "start_time": "2021-01-06T04:25:32.187768Z"
    }
   },
   "outputs": [],
   "source": [
    "# 將前面找出的可用代理伺服器，再發送至 https://httpbin.org/ip 查看是否代理（偷換 IP）成功\n",
    "\n",
    "for ip in available_proxies:\n",
    "    print('Use', ip)\n",
    "    try:\n",
    "        resp = requests.get('https://httpbin.org/ip',\n",
    "                        proxies={'http': ip, 'https': ip}, timeout=10)\n",
    "        print(resp.json())\n",
    "    except:\n",
    "        print('Fail')"
   ]
  },
  {
   "cell_type": "code",
   "execution_count": null,
   "metadata": {},
   "outputs": [],
   "source": []
  }
 ],
 "metadata": {
  "colab": {
   "name": "homework.solution.ipynb",
   "provenance": []
  },
  "kernelspec": {
   "display_name": "Python 3",
   "language": "python",
   "name": "python3"
  },
  "language_info": {
   "codemirror_mode": {
    "name": "ipython",
    "version": 3
   },
   "file_extension": ".py",
   "mimetype": "text/x-python",
   "name": "python",
   "nbconvert_exporter": "python",
   "pygments_lexer": "ipython3",
   "version": "3.7.4"
  },
  "toc": {
   "base_numbering": 1,
   "nav_menu": {},
   "number_sections": true,
   "sideBar": true,
   "skip_h1_title": false,
   "title_cell": "Table of Contents",
   "title_sidebar": "Contents",
   "toc_cell": true,
   "toc_position": {},
   "toc_section_display": true,
   "toc_window_display": true
  }
 },
 "nbformat": 4,
 "nbformat_minor": 1
}
