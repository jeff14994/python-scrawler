{
 "cells": [
  {
   "cell_type": "markdown",
   "metadata": {
    "toc": true
   },
   "source": [
    "<h1>Table of Contents<span class=\"tocSkip\"></span></h1>\n",
    "<div class=\"toc\"><ul class=\"toc-item\"><li><span><a href=\"#正規表達式練習\" data-toc-modified-id=\"正規表達式練習-1\"><span class=\"toc-item-num\">1&nbsp;&nbsp;</span>正規表達式練習</a></span><ul class=\"toc-item\"><li><span><a href=\"#在網路爬蟲當中，正規表達式常常用來過濾以及搜尋特定的pattern字串。\" data-toc-modified-id=\"在網路爬蟲當中，正規表達式常常用來過濾以及搜尋特定的pattern字串。-1.1\"><span class=\"toc-item-num\">1.1&nbsp;&nbsp;</span>在網路爬蟲當中，正規表達式常常用來過濾以及搜尋特定的pattern字串。</a></span></li><li><span><a href=\"#今天要來練習過濾IP-address，以及URL。\" data-toc-modified-id=\"今天要來練習過濾IP-address，以及URL。-1.2\"><span class=\"toc-item-num\">1.2&nbsp;&nbsp;</span>今天要來練習過濾IP address，以及URL。</a></span></li><li><span><a href=\"#用正規表達式過濾IP-address。\" data-toc-modified-id=\"用正規表達式過濾IP-address。-1.3\"><span class=\"toc-item-num\">1.3&nbsp;&nbsp;</span>用正規表達式過濾IP address。</a></span><ul class=\"toc-item\"><li><ul class=\"toc-item\"><li><span><a href=\"#一個合法的網路IP-address，其格式為：X.X.X.X,-其中X是0~255的數字。我們可以用一個regex，來表達IP-address的內容。\" data-toc-modified-id=\"一個合法的網路IP-address，其格式為：X.X.X.X,-其中X是0~255的數字。我們可以用一個regex，來表達IP-address的內容。-1.3.0.1\"><span class=\"toc-item-num\">1.3.0.1&nbsp;&nbsp;</span>一個合法的網路IP address，其格式為：X.X.X.X, 其中X是0~255的數字。我們可以用一個regex，來表達IP address的內容。</a></span></li><li><span><a href=\"#以上是最簡單的regex寫法。但深入思考，上面的regex也能夠匹配444.555.666.777這種無效的IP-address。\" data-toc-modified-id=\"以上是最簡單的regex寫法。但深入思考，上面的regex也能夠匹配444.555.666.777這種無效的IP-address。-1.3.0.2\"><span class=\"toc-item-num\">1.3.0.2&nbsp;&nbsp;</span>以上是最簡單的regex寫法。但深入思考，上面的regex也能夠匹配444.555.666.777這種無效的IP address。</a></span></li><li><span><a href=\"#我們必須再雕琢regex，只接受[0255].[0255].[0255].[0255]這種合法的IP-address，而過濾不合法的IP。\" data-toc-modified-id=\"我們必須再雕琢regex，只接受[0255].[0255].[0255].[0255]這種合法的IP-address，而過濾不合法的IP。-1.3.0.3\"><span class=\"toc-item-num\">1.3.0.3&nbsp;&nbsp;</span>我們必須再雕琢regex，只接受[0<del>255].[0</del>255].[0<del>255].[0</del>255]這種合法的IP address，而過濾不合法的IP。</a></span></li></ul></li></ul></li><li><span><a href=\"#用正規表達式過濾URL。\" data-toc-modified-id=\"用正規表達式過濾URL。-1.4\"><span class=\"toc-item-num\">1.4&nbsp;&nbsp;</span>用正規表達式過濾URL。</a></span><ul class=\"toc-item\"><li><ul class=\"toc-item\"><li><span><a href=\"#在網頁爬蟲中，常常會有外部連結的A-tag，例如：\" data-toc-modified-id=\"在網頁爬蟲中，常常會有外部連結的A-tag，例如：-1.4.0.1\"><span class=\"toc-item-num\">1.4.0.1&nbsp;&nbsp;</span>在網頁爬蟲中，常常會有外部連結的A tag，例如：</a></span></li><li><span><a href=\"#我們要把&quot;href=&quot;之後的URL擷取出來，用來做後續處理。\" data-toc-modified-id=\"我們要把&quot;href=&quot;之後的URL擷取出來，用來做後續處理。-1.4.0.2\"><span class=\"toc-item-num\">1.4.0.2&nbsp;&nbsp;</span>我們要把\"href=\"之後的URL擷取出來，用來做後續處理。</a></span></li></ul></li></ul></li></ul></li></ul></div>"
   ]
  },
  {
   "cell_type": "markdown",
   "metadata": {},
   "source": [
    "# 正規表達式練習\n",
    "## 在網路爬蟲當中，正規表達式常常用來過濾以及搜尋特定的pattern字串。\n",
    "## 今天要來練習過濾IP address，以及URL。"
   ]
  },
  {
   "cell_type": "code",
   "execution_count": 2,
   "metadata": {
    "ExecuteTime": {
     "end_time": "2020-12-12T20:58:56.831927Z",
     "start_time": "2020-12-12T20:58:56.828124Z"
    }
   },
   "outputs": [],
   "source": [
    "import re  #載入re模組"
   ]
  },
  {
   "cell_type": "code",
   "execution_count": 33,
   "metadata": {
    "ExecuteTime": {
     "end_time": "2020-12-12T21:20:21.610756Z",
     "start_time": "2020-12-12T21:20:21.603188Z"
    }
   },
   "outputs": [],
   "source": [
    "# 定義一個函數，用來測試是否能匹配正規表達式\n",
    "def RegexMatchingTest(regex, input_text):\n",
    "    #將正規表達式轉換成pattern\n",
    "    pattern = re.compile(regex)\n",
    "    \n",
    "    # 使轉換後的pattern，來測試是否匹配\n",
    "    result = re.search(pattern, input_text)\n",
    "\n",
    "    if result:\n",
    "        # 匹配完的結果會儲存在group()的屬性中，我們可以把匹配的結果列印出來\n",
    "        print(\"Matched: %s\" % (result.group()))\n",
    "#         print(result.lastindex)\n",
    "        if result.lastindex is not None:\n",
    "            # group(0)代表整個字串，group(1)、group(2)...代表分組中，匹配的內容\n",
    "            for i in range(0, result.lastindex+1):\n",
    "                print(\"  group(%d): %s\" % (i, result.group(i)))\n",
    "    else:\n",
    "        print(\"Not matched.\")"
   ]
  },
  {
   "cell_type": "markdown",
   "metadata": {},
   "source": [
    "## 用正規表達式過濾IP address。\n",
    "#### 一個合法的網路IP address，其格式為：X.X.X.X, 其中X是0~255的數字。我們可以用一個regex，來表達IP address的內容。"
   ]
  },
  {
   "cell_type": "code",
   "execution_count": 34,
   "metadata": {
    "ExecuteTime": {
     "end_time": "2020-12-12T21:20:24.914766Z",
     "start_time": "2020-12-12T21:20:24.911008Z"
    }
   },
   "outputs": [
    {
     "name": "stdout",
     "output_type": "stream",
     "text": [
      "Matched: 216.58.200.227\n",
      "  group(0): 216.58.200.227\n",
      "  group(1): 216\n",
      "  group(2): 58\n",
      "  group(3): 200\n",
      "  group(4): 227\n"
     ]
    }
   ],
   "source": [
    "test_string = \"Google IP address is 216.58.200.227\"\n",
    "\n",
    "# 過濾IP address的regex pattern\n",
    "regex = '(\\d{1,3}).(\\d{1,3}).(\\d{1,3}).(\\d{1,3})'\n",
    "RegexMatchingTest(regex, test_string)"
   ]
  },
  {
   "cell_type": "markdown",
   "metadata": {},
   "source": [
    "#### 以上是最簡單的regex寫法。但深入思考，上面的regex也能夠匹配444.555.666.777這種無效的IP address。\n",
    "#### 我們必須再雕琢regex，只接受[0~255].[0~255].[0~255].[0~255]這種合法的IP address，而過濾不合法的IP。"
   ]
  },
  {
   "cell_type": "code",
   "execution_count": 46,
   "metadata": {
    "ExecuteTime": {
     "end_time": "2020-12-12T21:26:36.295523Z",
     "start_time": "2020-12-12T21:26:36.289643Z"
    }
   },
   "outputs": [
    {
     "name": "stdout",
     "output_type": "stream",
     "text": [
      "Matched: Test IP 216.58.200.227\n",
      "  group(0): Test IP 216.58.200.227\n",
      "  group(1): 216\n",
      "  group(2): 58\n",
      "  group(3): 200\n",
      "  group(4): 227\n",
      "Not matched.\n",
      "Not matched.\n",
      "Matched: Test IP 216.08.7.6\n",
      "  group(0): Test IP 216.08.7.6\n",
      "  group(1): 216\n",
      "  group(2): 08\n",
      "  group(3): 7\n",
      "  group(4): 6\n"
     ]
    }
   ],
   "source": [
    "'''\n",
    "    Your code here.\n",
    "    hint: 把IP可能出現的數字範圍，分開來思考\n",
    "          1. 000 ~ 199\n",
    "          2. 200 ~ 249\n",
    "          3. 250 ~ 255\n",
    "'''\n",
    "regex = \"Test IP ([012][0-9]{1,2})\\.([012]*[0-9]{1,2})\\.([012]*[0-9]{1,2})\\.([012]*[0-9]{1,2})\"\n",
    "\n",
    "test_string1 = \"Test IP 216.58.200.227\"\n",
    "RegexMatchingTest(regex, test_string1)  #測試表達式是否會匹配此合法IP\n",
    "\n",
    "test_string2 = \"Test IP 999.888.777.666\"\n",
    "RegexMatchingTest(regex, test_string2)  #測試表達式是否會匹配此不合法IP\n",
    "\n",
    "test_string3 = \"Test IP 216.888.777.666\"\n",
    "RegexMatchingTest(regex, test_string3)  #測試表達式是否會匹配此不合法IP\n",
    "\n",
    "test_string4 = \"Test IP 216.8.7.6\"\n",
    "RegexMatchingTest(regex, test_string4)  #測試表達式是否會匹配此合法IP"
   ]
  },
  {
   "cell_type": "markdown",
   "metadata": {},
   "source": [
    "## 用正規表達式過濾URL。\n",
    "#### 在網頁爬蟲中，常常會有外部連結的A tag，例如：\n",
    "< a href=\"https://movies.yahoo.com.tw/movietime_result.html/id=9467\"> 時刻表 < /a >\n",
    "#### 我們要把\"href=\"之後的URL擷取出來，用來做後續處理。"
   ]
  },
  {
   "cell_type": "code",
   "execution_count": 66,
   "metadata": {
    "ExecuteTime": {
     "end_time": "2020-12-12T21:36:17.166289Z",
     "start_time": "2020-12-12T21:36:17.152789Z"
    }
   },
   "outputs": [
    {
     "name": "stdout",
     "output_type": "stream",
     "text": [
      "Matched: https://movies.yahoo.com.tw/movietime_result.html/id=9467\n",
      "  group(0): https://movies.yahoo.com.tw/movietime_result.html/id=9467\n",
      "  group(1): movies.yahoo.com.tw\n",
      "  group(2): movietime_result.html\n",
      "  group(3): id=9467\n",
      "Matched: http://movies.yahoo.com.tw/movietime_result.html/id=9467\n",
      "  group(0): http://movies.yahoo.com.tw/movietime_result.html/id=9467\n",
      "  group(1): movies.yahoo.com.tw\n",
      "  group(2): movietime_result.html\n",
      "  group(3): id=9467\n",
      "Matched: http://movies.yahoo.com.tw/movietime_result.html/id=9461232132137\n",
      "  group(0): http://movies.yahoo.com.tw/movietime_result.html/id=9461232132137\n",
      "  group(1): movies.yahoo.com.tw\n",
      "  group(2): movietime_result.html\n",
      "  group(3): id=9461232132137\n",
      "Matched: http://movies.yahoo.com/movietime_result.html/id=9461232132137\n",
      "  group(0): http://movies.yahoo.com/movietime_result.html/id=9461232132137\n",
      "  group(1): movies.yahoo.com\n",
      "  group(2): movietime_result.html\n",
      "  group(3): id=9461232132137\n",
      "Matched: http://yahoo.com/movietime_result.html/id=9461232132137\n",
      "  group(0): http://yahoo.com/movietime_result.html/id=9461232132137\n",
      "  group(1): yahoo.com\n",
      "  group(2): movietime_result.html\n",
      "  group(3): id=9461232132137\n"
     ]
    }
   ],
   "source": [
    "html_a_tag = \"<a href=https://movies.yahoo.com.tw/movietime_result.html/id=9467> 時刻表 </a>\"\n",
    "html_a_tag1 = \"<a href=http://movies.yahoo.com.tw/movietime_result.html/id=9467> 時刻表 </a>\"\n",
    "html_a_tag2 = \"<a href=http://movies.yahoo.com.tw/movietime_result.html/id=9461232132137> 時刻表 </a>\"\n",
    "html_a_tag3 = \"<a href=http://movies.yahoo.com/movietime_result.html/id=9461232132137> 時刻表 </a>\"\n",
    "html_a_tag4 = \"<a href=http://yahoo.com/movietime_result.html/id=9461232132137> 時刻表 </a>\"\n",
    "'''\n",
    "    Your code here.\n",
    "    過濾URL的regex pattern\n",
    "'''\n",
    "# \\d 一定是數字結尾\n",
    "# \\S 代表匹配非空白單字\n",
    "regex = \"http[s]*://([a-z]*\\.[a-z]*\\.*[a-z]*\\.*[a-z]*)\\/(\\w+\\.\\w*)\\/(\\S*\\d)\"\n",
    "RegexMatchingTest(regex, html_a_tag)\n",
    "RegexMatchingTest(regex, html_a_tag1)\n",
    "RegexMatchingTest(regex, html_a_tag2)\n",
    "RegexMatchingTest(regex, html_a_tag3)\n",
    "RegexMatchingTest(regex, html_a_tag4)"
   ]
  },
  {
   "cell_type": "code",
   "execution_count": null,
   "metadata": {},
   "outputs": [],
   "source": []
  }
 ],
 "metadata": {
  "kernelspec": {
   "display_name": "Python 3",
   "language": "python",
   "name": "python3"
  },
  "language_info": {
   "codemirror_mode": {
    "name": "ipython",
    "version": 3
   },
   "file_extension": ".py",
   "mimetype": "text/x-python",
   "name": "python",
   "nbconvert_exporter": "python",
   "pygments_lexer": "ipython3",
   "version": "3.7.4"
  },
  "toc": {
   "base_numbering": 1,
   "nav_menu": {},
   "number_sections": true,
   "sideBar": true,
   "skip_h1_title": false,
   "title_cell": "Table of Contents",
   "title_sidebar": "Contents",
   "toc_cell": true,
   "toc_position": {},
   "toc_section_display": true,
   "toc_window_display": true
  }
 },
 "nbformat": 4,
 "nbformat_minor": 2
}
