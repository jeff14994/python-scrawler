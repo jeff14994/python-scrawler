{
 "cells": [
  {
   "cell_type": "markdown",
   "metadata": {
    "toc": true
   },
   "source": [
    "<h1>Table of Contents<span class=\"tocSkip\"></span></h1>\n",
    "<div class=\"toc\"><ul class=\"toc-item\"><li><span><a href=\"#正規表達式-Regular-Expression\" data-toc-modified-id=\"正規表達式-Regular-Expression-1\"><span class=\"toc-item-num\">1&nbsp;&nbsp;</span>正規表達式 Regular Expression</a></span><ul class=\"toc-item\"><li><span><a href=\"#透過一些範例來說明如何使用正規表達式\" data-toc-modified-id=\"透過一些範例來說明如何使用正規表達式-1.1\"><span class=\"toc-item-num\">1.1&nbsp;&nbsp;</span>透過一些範例來說明如何使用正規表達式</a></span><ul class=\"toc-item\"><li><span><a href=\"#範例1:使用「\\w」匹配字母，「\\d」匹配數字，「\\s」匹配空白\" data-toc-modified-id=\"範例1:使用「\\w」匹配字母，「\\d」匹配數字，「\\s」匹配空白-1.1.1\"><span class=\"toc-item-num\">1.1.1&nbsp;&nbsp;</span>範例1:使用「\\w」匹配字母，「\\d」匹配數字，「\\s」匹配空白</a></span></li><li><span><a href=\"#範例2:使用[...]匹配在[-]裡面所列出的字元\" data-toc-modified-id=\"範例2:使用[...]匹配在[-]裡面所列出的字元-1.1.2\"><span class=\"toc-item-num\">1.1.2&nbsp;&nbsp;</span>範例2:使用[...]匹配在[ ]裡面所列出的字元</a></span></li><li><span><a href=\"#範例3:分組及捕捉\" data-toc-modified-id=\"範例3:分組及捕捉-1.1.3\"><span class=\"toc-item-num\">1.1.3&nbsp;&nbsp;</span>範例3:分組及捕捉</a></span></li><li><span><a href=\"#範例4:使用跳脫符號「\\」\" data-toc-modified-id=\"範例4:使用跳脫符號「\\」-1.1.4\"><span class=\"toc-item-num\">1.1.4&nbsp;&nbsp;</span>範例4:使用跳脫符號「\\」</a></span></li><li><span><a href=\"#範例5:比對中文字\" data-toc-modified-id=\"範例5:比對中文字-1.1.5\"><span class=\"toc-item-num\">1.1.5&nbsp;&nbsp;</span>範例5:比對中文字</a></span></li></ul></li></ul></li></ul></div>"
   ]
  },
  {
   "cell_type": "markdown",
   "metadata": {},
   "source": [
    "# 正規表達式 Regular Expression\n",
    "## 透過一些範例來說明如何使用正規表達式"
   ]
  },
  {
   "cell_type": "code",
   "execution_count": 1,
   "metadata": {
    "ExecuteTime": {
     "end_time": "2020-12-12T20:53:13.778167Z",
     "start_time": "2020-12-12T20:53:13.774310Z"
    }
   },
   "outputs": [],
   "source": [
    "import re  #載入re模組"
   ]
  },
  {
   "cell_type": "code",
   "execution_count": 4,
   "metadata": {
    "ExecuteTime": {
     "end_time": "2020-12-12T21:00:15.174499Z",
     "start_time": "2020-12-12T21:00:15.165292Z"
    }
   },
   "outputs": [],
   "source": [
    "# 定義一個函數，用來測試正規表達式是否匹配文本\n",
    "def RegexMatchingTest(regex, input_text):\n",
    "    #將正規表達式轉換成pattern\n",
    "    pattern = re.compile(regex)\n",
    "    # pattern = re.compile(regex, flags=re.IGNORECASE)  #若要忽略大小寫，在編譯時加上flags=re.IGNORECASE\n",
    "    \n",
    "    # 帶入編譯後的pattern，來測試是否匹配\n",
    "    # 這裡也可以用match()、split()、findall()、sub()等其他函數來測試匹配\n",
    "    result = re.search(pattern, input_text)\n",
    "\n",
    "    if result:\n",
    "        # 匹配完的結果會儲存在group()的屬性中，我們可以把匹配的結果列印出來\n",
    "        print(\"Matched: %s\" % (result.group()))\n",
    "        \n",
    "        if result.lastindex is not None:\n",
    "            # group(0)代表整個字串，group(1)、group(2)...代表分組中，匹配的內容\n",
    "            for i in range(0, result.lastindex+1):\n",
    "                print(\"  group(%d): %s\" % (i, result.group(i)))\n",
    "    else:\n",
    "        print(\"Not matched.\")"
   ]
  },
  {
   "cell_type": "markdown",
   "metadata": {},
   "source": [
    "### 範例1:使用「\\w」匹配字母，「\\d」匹配數字，「\\s」匹配空白"
   ]
  },
  {
   "cell_type": "code",
   "execution_count": 5,
   "metadata": {
    "ExecuteTime": {
     "end_time": "2020-12-12T21:00:17.044498Z",
     "start_time": "2020-12-12T21:00:17.039737Z"
    }
   },
   "outputs": [
    {
     "name": "stdout",
     "output_type": "stream",
     "text": [
      "Matched: My plate number is XYZ-1234\n"
     ]
    }
   ],
   "source": [
    "test_string = \"My plate number is XYZ-1234.\"\n",
    "regex = 'My plate number is \\w\\w\\w-\\d\\d\\d\\d'\n",
    "RegexMatchingTest(regex, test_string)"
   ]
  },
  {
   "cell_type": "code",
   "execution_count": 6,
   "metadata": {
    "ExecuteTime": {
     "end_time": "2020-12-12T21:00:31.697151Z",
     "start_time": "2020-12-12T21:00:31.675064Z"
    }
   },
   "outputs": [
    {
     "name": "stdout",
     "output_type": "stream",
     "text": [
      "Matched: My phone number is 0912-345 678\n"
     ]
    }
   ],
   "source": [
    "test_string = \"My phone number is 0912-345 678.\"\n",
    "regex = 'My phone number is \\d\\d\\d\\d-\\d\\d\\d\\s\\d\\d\\d'\n",
    "RegexMatchingTest(regex, test_string)"
   ]
  },
  {
   "cell_type": "code",
   "execution_count": 7,
   "metadata": {
    "ExecuteTime": {
     "end_time": "2020-12-12T21:00:34.478575Z",
     "start_time": "2020-12-12T21:00:34.473574Z"
    }
   },
   "outputs": [
    {
     "name": "stdout",
     "output_type": "stream",
     "text": [
      "Matched: My phone number is 0912-345 678\n"
     ]
    }
   ],
   "source": [
    "#利用量詞{n,m}來簡化寫法\n",
    "test_string = \"My phone number is 0912-345 678.\"\n",
    "regex = 'My phone number is \\d{4}-\\d{3}\\s{1}\\d{3}'\n",
    "RegexMatchingTest(regex, test_string)"
   ]
  },
  {
   "cell_type": "code",
   "execution_count": 8,
   "metadata": {
    "ExecuteTime": {
     "end_time": "2020-12-12T21:00:50.461237Z",
     "start_time": "2020-12-12T21:00:50.456990Z"
    }
   },
   "outputs": [
    {
     "name": "stdout",
     "output_type": "stream",
     "text": [
      "Matched: My phone number is 0912-345 678\n"
     ]
    }
   ],
   "source": [
    "# 更偷懶的寫法，用「.」來代表任何字元\n",
    "test_string = \"My phone number is 0912-345 678.\"\n",
    "regex = 'My phone number is .{4}-.{3}.{1}.{3}'\n",
    "RegexMatchingTest(regex, test_string)"
   ]
  },
  {
   "cell_type": "markdown",
   "metadata": {},
   "source": [
    "### 範例2:使用[...]匹配在[ ]裡面所列出的字元"
   ]
  },
  {
   "cell_type": "code",
   "execution_count": 9,
   "metadata": {
    "ExecuteTime": {
     "end_time": "2020-12-12T21:00:53.593120Z",
     "start_time": "2020-12-12T21:00:53.588495Z"
    }
   },
   "outputs": [
    {
     "name": "stdout",
     "output_type": "stream",
     "text": [
      "Matched: I love d\n"
     ]
    }
   ],
   "source": [
    "test_string = \"I love dogs.\"\n",
    "regex = 'I love [acdgnost]'\n",
    "RegexMatchingTest(regex, test_string)"
   ]
  },
  {
   "cell_type": "code",
   "execution_count": 10,
   "metadata": {
    "ExecuteTime": {
     "end_time": "2020-12-12T21:01:14.208396Z",
     "start_time": "2020-12-12T21:01:14.204106Z"
    }
   },
   "outputs": [
    {
     "name": "stdout",
     "output_type": "stream",
     "text": [
      "Matched: I love c\n"
     ]
    }
   ],
   "source": [
    "test_string = \"I love cats.\"\n",
    "regex = 'I love [acdgnost]'\n",
    "RegexMatchingTest(regex, test_string)"
   ]
  },
  {
   "cell_type": "code",
   "execution_count": 11,
   "metadata": {
    "ExecuteTime": {
     "end_time": "2020-12-12T21:01:18.798553Z",
     "start_time": "2020-12-12T21:01:18.794141Z"
    }
   },
   "outputs": [
    {
     "name": "stdout",
     "output_type": "stream",
     "text": [
      "Matched: I love dogs\n"
     ]
    }
   ],
   "source": [
    "# 若要匹配超過一個以上的字元，必須加入量詞(「+」或「*」或「?」)來表達\n",
    "test_string = \"I love dogs.\"\n",
    "regex = 'I love [acdgnost]+'\n",
    "RegexMatchingTest(regex, test_string)"
   ]
  },
  {
   "cell_type": "code",
   "execution_count": 12,
   "metadata": {
    "ExecuteTime": {
     "end_time": "2020-12-12T21:01:21.622381Z",
     "start_time": "2020-12-12T21:01:21.617809Z"
    }
   },
   "outputs": [
    {
     "name": "stdout",
     "output_type": "stream",
     "text": [
      "Not matched.\n"
     ]
    }
   ],
   "source": [
    "test_string = \"I love people.\"\n",
    "regex = 'I love [acdgnost]+'\n",
    "RegexMatchingTest(regex, test_string)\n",
    "# people裡面只有'p'、'e'、'o'、'l'等字元，無法滿足[acdgnost]裡面所列出的條件"
   ]
  },
  {
   "cell_type": "markdown",
   "metadata": {},
   "source": [
    "### 範例3:分組及捕捉"
   ]
  },
  {
   "cell_type": "code",
   "execution_count": 13,
   "metadata": {
    "ExecuteTime": {
     "end_time": "2020-12-12T21:01:25.700430Z",
     "start_time": "2020-12-12T21:01:25.695960Z"
    }
   },
   "outputs": [
    {
     "name": "stdout",
     "output_type": "stream",
     "text": [
      "Matched: I like baseball sport\n",
      "  group(0): I like baseball sport\n",
      "  group(1): baseball\n"
     ]
    }
   ],
   "source": [
    "test_string = \"I like baseball sport.\"\n",
    "regex = 'I like (hiking|baseball) sport'\n",
    "RegexMatchingTest(regex, test_string)"
   ]
  },
  {
   "cell_type": "code",
   "execution_count": 14,
   "metadata": {
    "ExecuteTime": {
     "end_time": "2020-12-12T21:02:40.193363Z",
     "start_time": "2020-12-12T21:02:40.189524Z"
    }
   },
   "outputs": [
    {
     "name": "stdout",
     "output_type": "stream",
     "text": [
      "Matched: I like hiking sport\n",
      "  group(0): I like hiking sport\n",
      "  group(1): hiking\n"
     ]
    }
   ],
   "source": [
    "test_string = \"I like hiking sport.\"\n",
    "regex = 'I like (hiking|basketball) sport'\n",
    "RegexMatchingTest(regex, test_string)"
   ]
  },
  {
   "cell_type": "markdown",
   "metadata": {},
   "source": [
    "### 範例4:使用跳脫符號「\\」\n",
    "當遇到詮釋字元要被視為一般字元時，就必須要在前面加上跳脫符號「\\」"
   ]
  },
  {
   "cell_type": "code",
   "execution_count": 13,
   "metadata": {},
   "outputs": [
    {
     "name": "stdout",
     "output_type": "stream",
     "text": [
      "Matched: Please call number (02)2882-5252\n"
     ]
    }
   ],
   "source": [
    "test_string = \"Please call number (02)2882-5252.\"\n",
    "regex = 'Please call number \\([0-9]{2}\\)[0-9]{4}-[0-9]{4}'  #用「\\(」來匹配左括號\"(\"，用「\\)」來匹配右括號\")\"\n",
    "RegexMatchingTest(regex, test_string)"
   ]
  },
  {
   "cell_type": "markdown",
   "metadata": {},
   "source": [
    "### 範例5:比對中文字"
   ]
  },
  {
   "cell_type": "code",
   "execution_count": 15,
   "metadata": {
    "ExecuteTime": {
     "end_time": "2020-12-12T21:03:16.685119Z",
     "start_time": "2020-12-12T21:03:16.678072Z"
    }
   },
   "outputs": [
    {
     "name": "stdout",
     "output_type": "stream",
     "text": [
      "Matched: 中文字\n"
     ]
    }
   ],
   "source": [
    "test_string = \"Here are 中文字 and English\"  #中英夾雜的句子\n",
    "regex = '[\\u4e00-\\u9fa5]+'                  #中文的UNICODE，範圍是0x4E00 ~ 0x9FA5\n",
    "RegexMatchingTest(regex, test_string)"
   ]
  },
  {
   "cell_type": "code",
   "execution_count": null,
   "metadata": {},
   "outputs": [],
   "source": []
  }
 ],
 "metadata": {
  "kernelspec": {
   "display_name": "Python 3",
   "language": "python",
   "name": "python3"
  },
  "language_info": {
   "codemirror_mode": {
    "name": "ipython",
    "version": 3
   },
   "file_extension": ".py",
   "mimetype": "text/x-python",
   "name": "python",
   "nbconvert_exporter": "python",
   "pygments_lexer": "ipython3",
   "version": "3.7.4"
  },
  "toc": {
   "base_numbering": 1,
   "nav_menu": {},
   "number_sections": true,
   "sideBar": true,
   "skip_h1_title": false,
   "title_cell": "Table of Contents",
   "title_sidebar": "Contents",
   "toc_cell": true,
   "toc_position": {},
   "toc_section_display": true,
   "toc_window_display": true
  }
 },
 "nbformat": 4,
 "nbformat_minor": 2
}
