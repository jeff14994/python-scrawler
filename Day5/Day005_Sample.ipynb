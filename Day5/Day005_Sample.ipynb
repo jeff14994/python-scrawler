{
 "cells": [
  {
   "cell_type": "markdown",
   "metadata": {
    "toc": true
   },
   "source": [
    "<h1>Table of Contents<span class=\"tocSkip\"></span></h1>\n",
    "<div class=\"toc\"><ul class=\"toc-item\"><li><span><a href=\"#API-資料串接---以-Dcard-API-實作範例\" data-toc-modified-id=\"API-資料串接---以-Dcard-API-實作範例-1\"><span class=\"toc-item-num\">1&nbsp;&nbsp;</span>API 資料串接 - 以 Dcard API 實作範例</a></span><ul class=\"toc-item\"><li><span><a href=\"#下載檔案\" data-toc-modified-id=\"下載檔案-1.1\"><span class=\"toc-item-num\">1.1&nbsp;&nbsp;</span>下載檔案</a></span></li><li><span><a href=\"#作業目標\" data-toc-modified-id=\"作業目標-1.2\"><span class=\"toc-item-num\">1.2&nbsp;&nbsp;</span>作業目標</a></span></li></ul></li></ul></div>"
   ]
  },
  {
   "cell_type": "markdown",
   "metadata": {},
   "source": [
    "# API 資料串接 - 以 Dcard API 實作範例\n",
    "\n",
    "\n",
    "* 了解 Dcard API 使用方式與回傳內容\n",
    "* 撰寫程式存取 API 且解析 JSON 格式資料\n",
    "\n",
    "\n",
    "\n"
   ]
  },
  {
   "cell_type": "markdown",
   "metadata": {},
   "source": [
    "## 下載檔案"
   ]
  },
  {
   "cell_type": "code",
   "execution_count": 5,
   "metadata": {
    "ExecuteTime": {
     "end_time": "2020-12-07T05:56:01.343246Z",
     "start_time": "2020-12-07T05:56:01.139505Z"
    }
   },
   "outputs": [
    {
     "data": {
      "text/plain": [
       "'[{\"id\":225578807,\"title\":\"<請先點我> 工作板＆實習、打工職缺刊登說明\",\"excerpt\":\"工作板主要供分享職場工作心得、面試、正職、招考過程分享、各類型工作內容介紹、勞工工作權益與相關法案議題討論相關文章。文章發文後請加上話題，如：經驗分享、職業介紹、勞工權益、徵才等....，「實習職缺/刊登」請點：\",\"anonymousSchool\":false,\"anonymousDepartment\":true,\"pinned\":true,\"forumId\":\"6eeeafb2-9dac-4d81-ae4b-ffecf0ad4444\",\"replyId\":null,\"createdAt\":\"2017-01-01T06:27:39.650Z\",\"updatedAt\":\"2020-02-27T02:54:18.710Z\",\"commentCount\":49,\"likeCount\":760,\"withNickname\":true,\"tags\":[],\"topics\":[\"工作板\",\"Dcard公告\",\"實習職缺\",\"打工職缺\"],\"meta\":{},\"forumName\":\"工作\",\"forumAlias\":\"job\",\"nsfw\":false,\"gender\":\"D\",\"school\":\"客服小天使\",\"department\":\"dcard_support_2\",\"replyTitle\":null,\"mediaMeta\":[],\"reactions\":[{\"id\":\"286f599c-f86a-4932-82f0-f5a06f1eca03\",\"count\":756},{\"id\":\"aa0d425f-d530-4478-9a77-fe3aedc79eea\",\"count\":2},{\"id\":\"e8e6bc5d-41b0-4129-b134-97507523d7ff\",\"count\":2}],\"hidden\":false,\"customStyle\":null,\"isSuspiciousAccount\":false,\"isModerator\":false,\"layout\":\"classic\",\"pinnedType\":\"dcard\",\"pinnedPriority\":1582772058000,\"spoilerAlert\":false,\"withImages\":false,\"withVideos\":false,\"media\":[],\"reportReasonText\":\"\",\"excerptComments\":[],\"postAvatar\":\"\",\"verifiedBadge\":true},{\"id\":234931897,\"title\":\"你會不會用Excel？\",\"excerpt\":\"面試時時常被問到這一題，最近面試上一間自己很喜歡的公司，但突然回想在面試時，有問我 「妳會不會用excel？」通常如果想要得到這份工作的人不會回答 不會，（而且也沒有實測），而會不會的定義是什麼也不敢\",\"anonymousSchool\":true,\"anonymousDepartment\":true,\"pinned\":false,\"forumId\":\"6eeeafb2-9dac-4d81-ae4b-ffecf0ad4444\",\"replyId\":null,\"createdAt\":\"2020-12-06T15:52:33.576Z\",\"updatedAt\":\"2020-12-06T15:52:33.576Z\",\"commentCount\":31,\"likeCount\":106,\"withNickname\":false,\"tags\":[\"HIDE_THUMBNAIL\"],\"topics\":[\"工作\",\"工作經驗\",\"面試\",\"工作能力\"],\"meta\":{\"layout\":\"classic\"},\"forumName\":\"工作\",\"forumAlias\":\"job\",\"nsfw\":false,\"gender\":\"F\",\"replyTitle\":null,\"mediaMeta\":[],\"reactions\":[{\"id\":\"286f599c-f86a-4932-82f0-f5a06f1eca03\",\"count\":106}],\"hidden\":false,\"customStyle\":null,\"isSuspiciousAccount\":false,\"isModerator\":false,\"layout\":\"classic\",\"spoilerAlert\":false,\"withImages\":false,\"withVideos\":false,\"media\":[],\"reportReasonText\":\"\",\"excerptComments\":[],\"postAvatar\":\"\",\"verifiedBadge\":false},{\"id\":234932301,\"title\":\"#問 一個月只賺13000\",\"excerpt\":\"在一間公司上班快四年了，還是工讀生，班表是主管排班，他排什麼我就上什麼，最近發生一些事導致他對我有些不滿，把我的班排成了一天只有四小時，目前我12月的第一個禮拜只賺了3160，若照他這樣排班我整整12\",\"anonymousSchool\":true,\"anonymousDepartment\":true,\"pinned\":false,\"forumId\":\"6eeeafb2-9dac-4d81-ae4b-ffecf0ad4444\",\"replyId\":null,\"createdAt\":\"2020-12-06T16:52:17.022Z\",\"updatedAt\":\"2020-12-06T17:28:42.655Z\",\"commentCount\":38,\"likeCount\":62,\"withNickname\":false,\"tags\":[\"HIDE_THUMBNAIL\"],\"topics\":[\"工作\",\"工作經驗\",\"打工\",\"離職\",\"薪資\"],\"meta\":{\"layout\":\"classic\"},\"forumName\":\"工作\",\"forumAlias\":\"job\",\"nsfw\":false,\"gender\":\"F\",\"replyTitle\":null,\"mediaMeta\":[],\"reactions\":[{\"id\":\"286f599c-f86a-4932-82f0-f5a06f1eca03\",\"count\":61},{\"id\":\"aa0d425f-d530-4478-9a77-fe3aedc79eea\",\"count\":1}],\"hidden\":false,\"customStyle\":null,\"isSuspiciousAccount\":false,\"isModerator\":false,\"layout\":\"classic\",\"spoilerAlert\":false,\"categories\":[\"問\"],\"withImages\":false,\"withVideos\":false,\"media\":[],\"reportReasonText\":\"\",\"excerptComments\":[],\"postAvatar\":\"\",\"verifiedBadge\":false},{\"id\":234933435,\"title\":\"好奇大家最想去的產業！\",\"excerpt\":\"最近剛好看到這個～不知道不同年紀的卡友們最想去哪個產業！，我是Z世代的，一直都很嚮往影音娛樂那種（Netflix），資訊媒體業也覺得很夯 雖然進去有點難XD，想問問神通廣大的卡友們覺得哪種產業最有發展\",\"anonymousSchool\":true,\"anonymousDepartment\":true,\"pinned\":false,\"forumId\":\"6eeeafb2-9dac-4d81-ae4b-ffecf0ad4444\",\"replyId\":null,\"createdAt\":\"2020-12-07T01:40:25.912Z\",\"updatedAt\":\"2020-12-07T02:06:40.478Z\",\"commentCount\":7,\"likeCount\":27,\"withNickname\":false,\"tags\":[],\"topics\":[\"工作\",\"求職\",\"職業介紹\",\"公司\",\"工作經驗\"],\"meta\":{\"layout\":\"classic\"},\"forumName\":\"工作\",\"forumAlias\":\"job\",\"nsfw\":false,\"gender\":\"F\",\"replyTitle\":null,\"mediaMeta\":[{\"id\":\"67c6c6b4-268b-495c-82c4-d8d61c27a45b\",\"url\":\"https://i.imgur.com/RjmGT20l.jpg\",\"normalizedUrl\":\"https://i.imgur.com/RjmGT20l.jpg\",\"thumbnail\":\"https://i.imgur.com/RjmGT20l.jpg\",\"type\":\"image/thumbnail\",\"tags\":[\"ANNOTATED\"],\"createdAt\":\"2020-12-07T01:40:25.912Z\",\"updatedAt\":\"2020-12-07T02:06:40.478Z\",\"width\":960,\"height\":960},{\"id\":\"67c6c6b4-268b-495c-82c4-d8d61c27a45b\",\"url\":\"https://i.imgur.com/RjmGT20.jpg\",\"normalizedUrl\":\"https://imgur.com/RjmGT20\",\"thumbnail\":\"https://i.imgur.com/RjmGT20l.jpg\",\"type\":\"image/imgur\",\"tags\":[\"ANNOTATED\"],\"createdAt\":\"2020-12-07T01:40:25.912Z\",\"updatedAt\":\"2020-12-07T02:06:40.478Z\",\"width\":960,\"height\":960},{\"id\":\"2b8c8a68-4fd8-4a1c-8d88-c5ac525c1d40\",\"url\":\"https://i.imgur.com/cmS1Hh7.jpg\",\"normalizedUrl\":\"https://imgur.com/cmS1Hh7\",\"thumbnail\":\"https://i.imgur.com/cmS1Hh7l.jpg\",\"type\":\"image/imgur\",\"tags\":[\"ANNOTATED\"],\"createdAt\":\"2020-12-07T01:40:25.912Z\",\"updatedAt\":\"2020-12-07T02:06:40.478Z\",\"width\":960,\"height\":960},{\"id\":\"60c06eea-8265-4f76-aacf-0277f44a98b4\",\"url\":\"https://i.imgur.com/X7pIpgJ.jpg\",\"normalizedUrl\":\"https://imgur.com/X7pIpgJ\",\"thumbnail\":\"https://i.imgur.com/X7pIpgJl.jpg\",\"type\":\"image/imgur\",\"tags\":[\"ANNOTATED\"],\"createdAt\":\"2020-12-07T01:40:25.912Z\",\"updatedAt\":\"2020-12-07T02:06:40.478Z\",\"width\":960,\"height\":960},{\"id\":\"345d154e-6172-49d2-8f0c-1842a39ec1cb\",\"url\":\"https://i.imgur.com/3GADPxy.jpg\",\"normalizedUrl\":\"https://imgur.com/3GADPxy\",\"thumbnail\":\"https://i.imgur.com/3GADPxyl.jpg\",\"type\":\"image/imgur\",\"tags\":[\"ANNOTATED\"],\"createdAt\":\"2020-12-07T01:40:25.912Z\",\"updatedAt\":\"2020-12-07T02:06:40.478Z\",\"width\":960,\"height\":960}],\"reactions\":[{\"id\":\"286f599c-f86a-4932-82f0-f5a06f1eca03\",\"count\":27}],\"hidden\":false,\"customStyle\":null,\"isSuspiciousAccount\":false,\"isModerator\":false,\"layout\":\"classic\",\"spoilerAlert\":false,\"withImages\":true,\"withVideos\":false,\"media\":[{\"url\":\"https://i.imgur.com/RjmGT20.jpg\"},{\"url\":\"https://i.imgur.com/cmS1Hh7.jpg\"},{\"url\":\"https://i.imgur.com/X7pIpgJ.jpg\"},{\"url\":\"https://i.imgur.com/3GADPxy.jpg\"}],\"reportReasonText\":\"\",\"excerptComments\":[],\"postAvatar\":\"\",\"verifiedBadge\":false},{\"id\":234928731,\"title\":\"辭職勞健保⋯\",\"excerpt\":\"最近想辭職，因為剛畢業不知道做什麼跑去應徵超商，原本想說先做看看，但做了快三個月覺得各種心累，不管是打混的同事 每天莫名的強行加班（不是因為事情做不完 都是因為別的原因==⋯）每天都要快12.才回家⋯\",\"anonymousSchool\":true,\"anonymousDepartment\":true,\"pinned\":false,\"forumId\":\"6eeeafb2-9dac-4d81-ae4b-ffecf0ad4444\",\"replyId\":null,\"createdAt\":\"2020-12-06T06:19:05.645Z\",\"updatedAt\":\"2020-12-06T06:51:36.360Z\",\"commentCount\":8,\"likeCount\":25,\"withNickname\":false,\"tags\":[\"HIDE_THUMBNAIL\"],\"topics\":[\"辭職\",\"健保\"],\"meta\":{\"layout\":\"classic\"},\"forumName\":\"工作\",\"forumAlias\":\"job\",\"nsfw\":false,\"gender\":\"F\",\"replyTitle\":null,\"mediaMeta\":[],\"reactions\":[{\"id\":\"286f599c-f86a-4932-82f0-f5a06f1eca03\",\"count\":25}],\"hidden\":false,\"customStyle\":null,\"isSuspiciousAccount\":false,\"isModerator\":false,\"layout\":\"classic\",\"spoilerAlert\":false,\"withImages\":false,\"withVideos\":false,\"media\":[],\"reportReasonText\":\"\",\"excerptComments\":[],\"postAvatar\":\"\",\"verifiedBadge\":false},{\"id\":234929857,\"title\":\"有工作經驗是要有相關的嗎？\",\"excerpt\":\"如題，最近在投工作，看到這種要求有多久多久工作經驗的，是一定要有這個行業的工作經驗嗎？\",\"anonymousSchool\":true,\"anonymousDepartment\":true,\"pinned\":false,\"forumId\":\"6eeeafb2-9dac-4d81-ae4b-ffecf0ad4444\",\"replyId\":null,\"createdAt\":\"2020-12-06T10:11:45.414Z\",\"updatedAt\":\"2020-12-06T10:11:45.414Z\",\"commentCount\":11,\"likeCount\":22,\"withNickname\":false,\"tags\":[],\"topics\":[\"工作經驗\",\"求職\",\"工作\"],\"meta\":{\"layout\":\"classic\"},\"forumName\":\"工作\",\"forumAlias\":\"job\",\"nsfw\":false,\"gender\":\"F\",\"replyTitle\":null,\"mediaMeta\":[{\"id\":\"95702376-3411-46d1-99bb-787e3d37b81a\",\"url\":\"https://i.imgur.com/jP6vwHbl.jpg\",\"normalizedUrl\":\"https://i.imgur.com/jP6vwHbl.jpg\",\"thumbnail\":\"https://i.imgur.com/jP6vwHbl.jpg\",\"type\":\"image/thumbnail\",\"tags\":[],\"createdAt\":\"2020-12-06T10:11:45.414Z\",\"updatedAt\":\"2020-12-06T10:11:45.414Z\",\"width\":750,\"height\":1334},{\"id\":\"95702376-3411-46d1-99bb-787e3d37b81a\",\"url\":\"https://i.imgur.com/jP6vwHb.jpg\",\"normalizedUrl\":\"https://imgur.com/jP6vwHb\",\"thumbnail\":\"https://i.imgur.com/jP6vwHbl.jpg\",\"type\":\"image/imgur\",\"tags\":[],\"createdAt\":\"2020-12-06T10:11:45.414Z\",\"updatedAt\":\"2020-12-06T10:11:45.414Z\",\"width\":750,\"height\":1334},{\"id\":\"606c34e2-05aa-4b51-beea-701a22d5c3dc\",\"url\":\"https://i.imgur.com/qI76nda.jpg\",\"normalizedUrl\":\"https://imgur.com/qI76nda\",\"thumbnail\":\"https://i.imgur.com/qI76ndal.jpg\",\"type\":\"image/imgur\",\"tags\":[],\"createdAt\":\"2020-12-06T10:11:45.414Z\",\"updatedAt\":\"2020-12-06T10:11:45.414Z\",\"width\":750,\"height\":1334}],\"reactions\":[{\"id\":\"286f599c-f86a-4932-82f0-f5a06f1eca03\",\"count\":22}],\"hidden\":false,\"customStyle\":null,\"isSuspiciousAccount\":false,\"isModerator\":false,\"layout\":\"classic\",\"spoilerAlert\":false,\"withImages\":true,\"withVideos\":false,\"media\":[{\"url\":\"https://i.imgur.com/jP6vwHb.jpg\"},{\"url\":\"https://i.imgur.com/qI76nda.jpg\"}],\"reportReasonText\":\"\",\"excerptComments\":[],\"postAvatar\":\"\",\"verifiedBadge\":false},{\"id\":234930641,\"title\":\"面試時想再考慮其他公司該老實說嗎\",\"excerpt\":\"想請教在職場至少待過5年以上的大大們，或是轉職過很多遍的大大們～在面試工作時 如果遇到一家，工作內容算不錯 薪水普通，但沒到喜歡滿意到想馬上報到成為員工的程度，就是整體來說給個「尚可」分數的公司，在面\",\"anonymousSchool\":true,\"anonymousDepartment\":true,\"pinned\":false,\"forumId\":\"6eeeafb2-9dac-4d81-ae4b-ffecf0ad4444\",\"replyId\":null,\"createdAt\":\"2020-12-06T12:49:13.150Z\",\"updatedAt\":\"2020-12-06T12:49:30.121Z\",\"commentCount\":12,\"likeCount\":19,\"withNickname\":false,\"tags\":[\"HIDE_THUMBNAIL\"],\"topics\":[\"面試\",\"公司\",\"工作\"],\"meta\":{\"layout\":\"classic\"},\"forumName\":\"工作\",\"forumAlias\":\"job\",\"nsfw\":false,\"gender\":\"F\",\"replyTitle\":null,\"mediaMeta\":[],\"reactions\":[{\"id\":\"286f599c-f86a-4932-82f0-f5a06f1eca03\",\"count\":19}],\"hidden\":false,\"customStyle\":null,\"isSuspiciousAccount\":false,\"isModerator\":false,\"layout\":\"classic\",\"spoilerAlert\":false,\"withImages\":false,\"withVideos\":false,\"media\":[],\"reportReasonText\":\"\",\"excerptComments\":[],\"postAvatar\":\"\",\"verifiedBadge\":false},{\"id\":234932252,\"title\":\"我就是那種（會撒嬌）的同事\",\"excerpt\":\"看到這篇文還以為是我的同事在發文咧嚇死，還好仔細看了內文覺得不太符合，不過我跟原文提到的女生非常像，我工作不滿半年，大家都說我主管是黑面，但對我非常好，平時我有什麼問題，整個辦公室同事都會跳出來幫我研\",\"anonymousSchool\":true,\"anonymousDepartment\":true,\"pinned\":false,\"forumId\":\"6eeeafb2-9dac-4d81-ae4b-ffecf0ad4444\",\"replyId\":234915305,\"createdAt\":\"2020-12-06T16:46:03.688Z\",\"updatedAt\":\"2020-12-06T16:46:03.688Z\",\"commentCount\":3,\"likeCount\":18,\"withNickname\":false,\"tags\":[],\"topics\":[\"撒嬌\",\"職場\",\"女生\"],\"meta\":{\"layout\":\"classic\"},\"forumName\":\"工作\",\"forumAlias\":\"job\",\"nsfw\":false,\"gender\":\"F\",\"replyTitle\":\"會撒嬌的女生職場真的好吃香\",\"mediaMeta\":[],\"reactions\":[{\"id\":\"286f599c-f86a-4932-82f0-f5a06f1eca03\",\"count\":18}],\"hidden\":false,\"customStyle\":null,\"isSuspiciousAccount\":false,\"isModerator\":false,\"layout\":\"classic\",\"spoilerAlert\":false,\"withImages\":false,\"withVideos\":false,\"media\":[],\"reportReasonText\":\"\",\"excerptComments\":[],\"postAvatar\":\"\",\"verifiedBadge\":false},{\"id\":234927925,\"title\":\"死於職場霸凌\",\"excerpt\":\"此文應該適用很多工作，所以，在此板發文，希望更多人看到。曾幾何時，你滿心期待，你滿懷熱忱，你滿懷抱負，你不顧一切，所選擇的工作，最後卻賠上性命。其實，工作上的困境，「人」的因素佔比，還是比較重的。先說\",\"anonymousSchool\":true,\"anonymousDepartment\":true,\"pinned\":false,\"forumId\":\"6eeeafb2-9dac-4d81-ae4b-ffecf0ad4444\",\"replyId\":null,\"createdAt\":\"2020-12-06T02:48:53.722Z\",\"updatedAt\":\"2020-12-06T03:08:13.544Z\",\"commentCount\":3,\"likeCount\":15,\"withNickname\":false,\"tags\":[\"HIDE_THUMBNAIL\"],\"topics\":[\"工作\",\"軍旅\"],\"meta\":{\"layout\":\"classic\"},\"forumName\":\"工作\",\"forumAlias\":\"job\",\"nsfw\":false,\"gender\":\"F\",\"replyTitle\":null,\"mediaMeta\":[],\"reactions\":[{\"id\":\"286f599c-f86a-4932-82f0-f5a06f1eca03\",\"count\":15}],\"hidden\":false,\"customStyle\":null,\"isSuspiciousAccount\":false,\"isModerator\":false,\"layout\":\"classic\",\"spoilerAlert\":false,\"withImages\":false,\"withVideos\":false,\"media\":[],\"reportReasonText\":\"\",\"excerptComments\":[],\"postAvatar\":\"\",\"verifiedBadge\":false},{\"id\":234927812,\"title\":\"如何找到這些工作？\",\"excerpt\":\"我有打字的經驗和樂園的工作只是時間不久也是短期，但想找相關的例如行政助理和門市人員可是應徵都沒有通知面試，但有時候還是有但就是沒有錄取我，可是我也上過職訓但是找工作也沒有幫助所以我不知道怎麼辦？\",\"anonymousSchool\":false,\"anonymousDepartment\":true,\"pinned\":false,\"forumId\":\"6eeeafb2-9dac-4d81-ae4b-ffecf0ad4444\",\"replyId\":null,\"createdAt\":\"2020-12-06T02:02:02.785Z\",\"updatedAt\":\"2020-12-06T02:02:02.785Z\",\"commentCount\":15,\"likeCount\":14,\"withNickname\":false,\"tags\":[],\"topics\":[\"工作\",\"工作經驗\",\"求職\"],\"meta\":{\"layout\":\"classic\"},\"forumName\":\"工作\",\"forumAlias\":\"job\",\"nsfw\":false,\"gender\":\"F\",\"school\":\"國立高雄科技大學\",\"replyTitle\":null,\"mediaMeta\":[],\"reactions\":[{\"id\":\"286f599c-f86a-4932-82f0-f5a06f1eca03\",\"count\":14}],\"hidden\":false,\"customStyle\":null,\"isSuspiciousAccount\":false,\"isModerator\":false,\"layout\":\"classic\",\"spoilerAlert\":false,\"withImages\":false,\"withVideos\":false,\"media\":[],\"reportReasonText\":\"\",\"excerptComments\":[],\"postAvatar\":\"\",\"verifiedBadge\":false},{\"id\":234929443,\"title\":\"下週六老闆女兒結婚，我要不要包紅包\",\"excerpt\":\"我在打工的地方工作大約四個月，這個月要離職，跟老闆女兒不熟（老闆女兒是同事），沒有參加婚宴，因為我覺得婚宴地點太遠，又麻煩，跟與會的人都是陌生人要不然就是不熟，所以我要不要包紅包，感覺不包好像會被穿小\",\"anonymousSchool\":true,\"anonymousDepartment\":true,\"pinned\":false,\"forumId\":\"6eeeafb2-9dac-4d81-ae4b-ffecf0ad4444\",\"replyId\":null,\"createdAt\":\"2020-12-06T08:50:25.317Z\",\"updatedAt\":\"2020-12-06T08:50:25.317Z\",\"commentCount\":10,\"likeCount\":13,\"withNickname\":false,\"tags\":[],\"topics\":[\"紅包\",\"老闆\",\"工作\",\"結婚\",\"女兒\"],\"meta\":{\"layout\":\"classic\"},\"forumName\":\"工作\",\"forumAlias\":\"job\",\"nsfw\":false,\"gender\":\"F\",\"replyTitle\":null,\"mediaMeta\":[],\"reactions\":[{\"id\":\"286f599c-f86a-4932-82f0-f5a06f1eca03\",\"count\":13}],\"hidden\":false,\"customStyle\":null,\"isSuspiciousAccount\":false,\"isModerator\":false,\"layout\":\"classic\",\"spoilerAlert\":false,\"withImages\":false,\"withVideos\":false,\"media\":[],\"reportReasonText\":\"\",\"excerptComments\":[],\"postAvatar\":\"\",\"verifiedBadge\":false},{\"id\":234928381,\"title\":\"汽車業務工作分享Part 5\",\"excerpt\":\"在這個高壓的工作環境，每天被數字追著跑，相對的很多時候容易產生許多神經病，或是壓力鍋炸裂的情況，相信很多業務工作也都是這樣子，你在其他工作常見看到的小團體、勾心鬥角，在業務單位一點也不會少，甚至變本加\",\"anonymousSchool\":false,\"anonymousDepartment\":true,\"pinned\":false,\"forumId\":\"6eeeafb2-9dac-4d81-ae4b-ffecf0ad4444\",\"replyId\":234919878,\"createdAt\":\"2020-12-06T04:55:33.885Z\",\"updatedAt\":\"2020-12-06T04:55:33.885Z\",\"commentCount\":11,\"likeCount\":13,\"withNickname\":true,\"tags\":[\"HIDE_THUMBNAIL\"],\"topics\":[\"汽車\",\"業務\",\"工作\",\"工作經驗\"],\"meta\":{\"layout\":\"classic\"},\"forumName\":\"工作\",\"forumAlias\":\"job\",\"nsfw\":false,\"gender\":\"M\",\"school\":\"Ryder\",\"department\":\"virgo_ryder\",\"replyTitle\":\"汽車業務工作分享Part 4\",\"mediaMeta\":[],\"reactions\":[{\"id\":\"286f599c-f86a-4932-82f0-f5a06f1eca03\",\"count\":13}],\"hidden\":false,\"customStyle\":null,\"isSuspiciousAccount\":false,\"isModerator\":false,\"layout\":\"classic\",\"spoilerAlert\":false,\"withImages\":false,\"withVideos\":false,\"media\":[],\"reportReasonText\":\"\",\"excerptComments\":[],\"postAvatar\":\"\",\"verifiedBadge\":false},{\"id\":234927195,\"title\":\"要馬兒跑又要馬兒不吃草\",\"excerpt\":\"這篇純屬我自己個人的心聲，最近無力到每天都在夜裡思考人生，我今年大學應屆畢業生-理工相關，一年前有準備研究所，被媽媽酸 考什麼研究所 浪費錢，你考上了學費跟生活費你自己做決定，大學都要畢業了就趕快去工\",\"anonymousSchool\":false,\"anonymousDepartment\":true,\"pinned\":false,\"forumId\":\"6eeeafb2-9dac-4d81-ae4b-ffecf0ad4444\",\"replyId\":null,\"createdAt\":\"2020-12-05T18:44:52.851Z\",\"updatedAt\":\"2020-12-05T18:53:22.612Z\",\"commentCount\":13,\"likeCount\":13,\"withNickname\":false,\"tags\":[\"HIDE_THUMBNAIL\"],\"topics\":[\"工作\",\"求職\",\"工作經驗\"],\"meta\":{\"layout\":\"classic\"},\"forumName\":\"工作\",\"forumAlias\":\"job\",\"nsfw\":false,\"gender\":\"M\",\"school\":\"國立成功大學\",\"replyTitle\":null,\"mediaMeta\":[],\"reactions\":[{\"id\":\"286f599c-f86a-4932-82f0-f5a06f1eca03\",\"count\":12},{\"id\":\"514c2569-fd53-4d9d-a415-bf0f88e7329f\",\"count\":1}],\"hidden\":false,\"customStyle\":null,\"isSuspiciousAccount\":false,\"isModerator\":false,\"layout\":\"classic\",\"spoilerAlert\":false,\"withImages\":false,\"withVideos\":false,\"media\":[],\"reportReasonText\":\"\",\"excerptComments\":[],\"postAvatar\":\"\",\"verifiedBadge\":false},{\"id\":234929543,\"title\":\"履歷表工作經驗\",\"excerpt\":\"大家好~，由於因為一些個人因素而有一年半的時間都沒有在外工作，都在家裡幫忙（爸媽是農夫），最近想要應徵一間工廠當作業員但是我的履歷表不知道要怎麼寫我這段時間在家工作的經驗。請問大家可否給點意見  謝謝\",\"anonymousSchool\":true,\"anonymousDepartment\":true,\"pinned\":false,\"forumId\":\"6eeeafb2-9dac-4d81-ae4b-ffecf0ad4444\",\"replyId\":null,\"createdAt\":\"2020-12-06T09:12:40.350Z\",\"updatedAt\":\"2020-12-06T09:12:40.350Z\",\"commentCount\":7,\"likeCount\":12,\"withNickname\":false,\"tags\":[],\"topics\":[\"履歷表\",\"工作\",\"求職\",\"工作經驗\",\"履歷\"],\"meta\":{\"layout\":\"classic\"},\"forumName\":\"工作\",\"forumAlias\":\"job\",\"nsfw\":false,\"gender\":\"F\",\"replyTitle\":null,\"mediaMeta\":[],\"reactions\":[{\"id\":\"286f599c-f86a-4932-82f0-f5a06f1eca03\",\"count\":12}],\"hidden\":false,\"customStyle\":null,\"isSuspiciousAccount\":false,\"isModerator\":false,\"layout\":\"classic\",\"spoilerAlert\":false,\"withImages\":false,\"withVideos\":false,\"media\":[],\"reportReasonText\":\"\",\"excerptComments\":[],\"postAvatar\":\"\",\"verifiedBadge\":false},{\"id\":234932577,\"title\":\"丹某咖啡不有名真的不是沒有道理\",\"excerpt\":\"是這樣的，小弟我在連鎖咖啡廳打工，已經做了一年半了，真的做得心很累，想打工真的別來，太坑了。員工福利有跟沒有一樣，兼職員工點餐只有打八折，東西貴又少，真的是盤子才會在店裡吃，一堆人寧願餓著肚子下班也不\",\"anonymousSchool\":true,\"anonymousDepartment\":true,\"pinned\":false,\"forumId\":\"6eeeafb2-9dac-4d81-ae4b-ffecf0ad4444\",\"replyId\":null,\"createdAt\":\"2020-12-06T17:39:47.093Z\",\"updatedAt\":\"2020-12-06T17:39:47.093Z\",\"commentCount\":2,\"likeCount\":11,\"withNickname\":false,\"tags\":[],\"topics\":[\"工作經驗\",\"咖啡\",\"打工\",\"餐飲業\",\"離職\"],\"meta\":{\"layout\":\"classic\"},\"forumName\":\"工作\",\"forumAlias\":\"job\",\"nsfw\":false,\"gender\":\"M\",\"replyTitle\":null,\"mediaMeta\":[],\"reactions\":[{\"id\":\"286f599c-f86a-4932-82f0-f5a06f1eca03\",\"count\":11}],\"hidden\":false,\"customStyle\":null,\"isSuspiciousAccount\":false,\"isModerator\":false,\"layout\":\"classic\",\"spoilerAlert\":false,\"withImages\":false,\"withVideos\":false,\"media\":[],\"reportReasonText\":\"\",\"excerptComments\":[],\"postAvatar\":\"\",\"verifiedBadge\":false},{\"id\":234930620,\"title\":\"現在找工作\",\"excerpt\":\"現在開始投正職，假如最快報到時間是3/1的履歷表，公司會願意等嗎？\",\"anonymousSchool\":true,\"anonymousDepartment\":true,\"pinned\":false,\"forumId\":\"6eeeafb2-9dac-4d81-ae4b-ffecf0ad4444\",\"replyId\":null,\"createdAt\":\"2020-12-06T12:43:44.870Z\",\"updatedAt\":\"2020-12-06T12:43:44.870Z\",\"commentCount\":13,\"likeCount\":11,\"withNickname\":false,\"tags\":[\"HIDE_THUMBNAIL\"],\"topics\":[\"工作\",\"求職\",\"工作經驗\",\"正職\"],\"meta\":{\"layout\":\"classic\"},\"forumName\":\"工作\",\"forumAlias\":\"job\",\"nsfw\":false,\"gender\":\"F\",\"replyTitle\":null,\"mediaMeta\":[],\"reactions\":[{\"id\":\"286f599c-f86a-4932-82f0-f5a06f1eca03\",\"count\":11}],\"hidden\":false,\"customStyle\":null,\"isSuspiciousAccount\":false,\"isModerator\":false,\"layout\":\"classic\",\"spoilerAlert\":false,\"withImages\":false,\"withVideos\":false,\"media\":[],\"reportReasonText\":\"\",\"excerptComments\":[],\"postAvatar\":\"\",\"verifiedBadge\":false},{\"id\":234929627,\"title\":\"詢問工作被打報警就被辭職一事\",\"excerpt\":\"我母親和同事起爭執，但沒有辱罵對方，結果對方拿工廠用品攻擊我媽，有驗傷 有目擊證人，經理卻說拿消炎擦一擦就好，因為他不在現場，我今天打給他們老闆，說我們要報警，他叫我們我們明天去和對方在公司談，如果執\",\"anonymousSchool\":true,\"anonymousDepartment\":true,\"pinned\":false,\"forumId\":\"6eeeafb2-9dac-4d81-ae4b-ffecf0ad4444\",\"replyId\":null,\"createdAt\":\"2020-12-06T09:27:43.142Z\",\"updatedAt\":\"2020-12-06T09:37:57.808Z\",\"commentCount\":4,\"likeCount\":11,\"withNickname\":false,\"tags\":[\"HIDE_THUMBNAIL\"],\"topics\":[],\"meta\":{\"layout\":\"classic\"},\"forumName\":\"工作\",\"forumAlias\":\"job\",\"nsfw\":false,\"gender\":\"M\",\"replyTitle\":null,\"mediaMeta\":[],\"reactions\":[{\"id\":\"286f599c-f86a-4932-82f0-f5a06f1eca03\",\"count\":11}],\"hidden\":false,\"customStyle\":null,\"isSuspiciousAccount\":false,\"isModerator\":false,\"layout\":\"classic\",\"spoilerAlert\":false,\"withImages\":false,\"withVideos\":false,\"media\":[],\"reportReasonText\":\"\",\"excerptComments\":[],\"postAvatar\":\"\",\"verifiedBadge\":false},{\"id\":234928722,\"title\":\"工作3選1 新光/南紡\",\"excerpt\":\"目前有三份工作再做抉擇，我目前是在職中 但合約只到今年年底，現在是百貨公司的客服，福利、環境、同事都蠻喜歡的，但只簽到年底也沒那麼缺人只好再找工作了，1 新光三越 樓管，有上網爬文過心得 真的很兩極，\",\"anonymousSchool\":true,\"anonymousDepartment\":true,\"pinned\":false,\"forumId\":\"6eeeafb2-9dac-4d81-ae4b-ffecf0ad4444\",\"replyId\":null,\"createdAt\":\"2020-12-06T06:17:50.663Z\",\"updatedAt\":\"2020-12-06T06:22:33.103Z\",\"commentCount\":3,\"likeCount\":11,\"withNickname\":false,\"tags\":[\"HIDE_THUMBNAIL\"],\"topics\":[\"南紡\",\"新光\",\"工作\"],\"meta\":{\"layout\":\"classic\"},\"forumName\":\"工作\",\"forumAlias\":\"job\",\"nsfw\":false,\"gender\":\"F\",\"replyTitle\":null,\"mediaMeta\":[],\"reactions\":[{\"id\":\"286f599c-f86a-4932-82f0-f5a06f1eca03\",\"count\":11}],\"hidden\":false,\"customStyle\":null,\"isSuspiciousAccount\":false,\"isModerator\":false,\"layout\":\"classic\",\"spoilerAlert\":false,\"withImages\":false,\"withVideos\":false,\"media\":[],\"reportReasonText\":\"\",\"excerptComments\":[],\"postAvatar\":\"\",\"verifiedBadge\":false},{\"id\":234934394,\"title\":\"該不該辭職\",\"excerpt\":\"大家好，目前工作快要滿一年半，在科技業當行政助理！，主管一直要求打掃辦公室（面試時說的和之後實際做的差距蠻大），希望未來下份工作不要再做行政，但目前薪水就助理來說算高&還沒想好未來想做什麼，想去外面上\",\"anonymousSchool\":true,\"anonymousDepartment\":true,\"pinned\":false,\"forumId\":\"6eeeafb2-9dac-4d81-ae4b-ffecf0ad4444\",\"replyId\":null,\"createdAt\":\"2020-12-07T04:59:27.171Z\",\"updatedAt\":\"2020-12-07T05:11:24.672Z\",\"commentCount\":4,\"likeCount\":10,\"withNickname\":false,\"tags\":[\"HIDE_THUMBNAIL\"],\"topics\":[\"工作\",\"離職\"],\"meta\":{\"layout\":\"classic\"},\"forumName\":\"工作\",\"forumAlias\":\"job\",\"nsfw\":false,\"gender\":\"F\",\"replyTitle\":null,\"mediaMeta\":[],\"reactions\":[{\"id\":\"286f599c-f86a-4932-82f0-f5a06f1eca03\",\"count\":10}],\"hidden\":false,\"customStyle\":null,\"isSuspiciousAccount\":false,\"isModerator\":false,\"layout\":\"classic\",\"spoilerAlert\":false,\"withImages\":false,\"withVideos\":false,\"media\":[],\"reportReasonText\":\"\",\"excerptComments\":[],\"postAvatar\":\"\",\"verifiedBadge\":false},{\"id\":234933144,\"title\":\"怎麼讓自己適應工作？\",\"excerpt\":\"大家好，我今年22歲，社工系畢業的而終於在今年11月末在民間單位當社工（雖然擺脫待業期，但是現在好懷念那段期間還能自由耍廢），做了一個禮拜多，就覺得自己很愚笨，即便前輩都很歡迎我問問題，但我在寫企劃案\",\"anonymousSchool\":true,\"anonymousDepartment\":true,\"pinned\":false,\"forumId\":\"6eeeafb2-9dac-4d81-ae4b-ffecf0ad4444\",\"replyId\":null,\"createdAt\":\"2020-12-06T23:05:23.866Z\",\"updatedAt\":\"2020-12-06T23:07:31.290Z\",\"commentCount\":2,\"likeCount\":10,\"withNickname\":false,\"tags\":[],\"topics\":[\"工作\",\"焦慮\",\"新鮮人\"],\"meta\":{\"layout\":\"classic\"},\"forumName\":\"工作\",\"forumAlias\":\"job\",\"nsfw\":false,\"gender\":\"F\",\"replyTitle\":null,\"mediaMeta\":[],\"reactions\":[{\"id\":\"286f599c-f86a-4932-82f0-f5a06f1eca03\",\"count\":10}],\"hidden\":false,\"customStyle\":null,\"isSuspiciousAccount\":false,\"isModerator\":false,\"layout\":\"classic\",\"spoilerAlert\":false,\"withImages\":false,\"withVideos\":false,\"media\":[],\"reportReasonText\":\"\",\"excerptComments\":[],\"postAvatar\":\"\",\"verifiedBadge\":false},{\"id\":234927508,\"title\":\"推薦分享給上班族好用的投資紀錄表！\",\"excerpt\":\"\",\"anonymousSchool\":false,\"anonymousDepartment\":true,\"pinned\":false,\"forumId\":\"6eeeafb2-9dac-4d81-ae4b-ffecf0ad4444\",\"replyId\":234927503,\"createdAt\":\"2020-12-05T22:42:09.027Z\",\"updatedAt\":\"2020-12-05T22:42:09.027Z\",\"commentCount\":0,\"likeCount\":10,\"withNickname\":false,\"tags\":[],\"topics\":[\"投資\",\"理財\",\"股票\",\"台股\",\"儲蓄\"],\"meta\":{\"layout\":\"classic\",\"crossPostId\":234927503},\"forumName\":\"工作\",\"forumAlias\":\"job\",\"nsfw\":false,\"gender\":\"M\",\"school\":\"國立交通大學\",\"replyTitle\":\"【投資組合紀錄與績效追蹤回測表 】 推薦分享~\",\"mediaMeta\":[],\"reactions\":[{\"id\":\"286f599c-f86a-4932-82f0-f5a06f1eca03\",\"count\":10}],\"hidden\":false,\"customStyle\":null,\"isSuspiciousAccount\":false,\"isModerator\":false,\"layout\":\"classic\",\"spoilerAlert\":false,\"withImages\":false,\"withVideos\":false,\"media\":[],\"reportReasonText\":\"\",\"excerptComments\":[],\"postAvatar\":\"\",\"verifiedBadge\":false},{\"id\":234934501,\"title\":\"中油直營加油員\",\"excerpt\":\"目前是大四，最近看到附近的加油站有在徵人，想問問看這邊有沒有人去應徵過的經驗，是直接到加油站找站長談嗎，因為之前只有在學校工讀過...，履歷表那些中油有規定的格式嗎？還是照111人力銀行提供的履歷表就\",\"anonymousSchool\":true,\"anonymousDepartment\":true,\"pinned\":false,\"forumId\":\"6eeeafb2-9dac-4d81-ae4b-ffecf0ad4444\",\"replyId\":null,\"createdAt\":\"2020-12-07T05:18:53.904Z\",\"updatedAt\":\"2020-12-07T05:22:54.352Z\",\"commentCount\":0,\"likeCount\":9,\"withNickname\":false,\"tags\":[\"HIDE_THUMBNAIL\"],\"topics\":[\"中油\",\"求職\"],\"meta\":{\"layout\":\"classic\"},\"forumName\":\"工作\",\"forumAlias\":\"job\",\"nsfw\":false,\"gender\":\"M\",\"replyTitle\":null,\"mediaMeta\":[],\"reactions\":[{\"id\":\"286f599c-f86a-4932-82f0-f5a06f1eca03\",\"count\":9}],\"hidden\":false,\"customStyle\":null,\"isSuspiciousAccount\":false,\"isModerator\":false,\"layout\":\"classic\",\"spoilerAlert\":false,\"withImages\":false,\"withVideos\":false,\"media\":[],\"reportReasonText\":\"\",\"excerptComments\":[],\"postAvatar\":\"\",\"verifiedBadge\":false},{\"id\":234932135,\"title\":\"工作一年後公司要求重談offer\",\"excerpt\":\"各位好，小弟我去年底剛入職，因工作的需要要到國外出差（短時間），所以我的薪資是比同職等的同事薪資高，但是今年因疫情爆發後，我便不需要出國了，現在公司想找我重新談offer，請問我有權力拒絕嗎？畢竟疫情\",\"anonymousSchool\":true,\"anonymousDepartment\":true,\"pinned\":false,\"forumId\":\"6eeeafb2-9dac-4d81-ae4b-ffecf0ad4444\",\"replyId\":null,\"createdAt\":\"2020-12-06T16:27:46.991Z\",\"updatedAt\":\"2020-12-06T16:27:46.991Z\",\"commentCount\":3,\"likeCount\":9,\"withNickname\":false,\"tags\":[\"HIDE_THUMBNAIL\"],\"topics\":[\"勞工權益\",\"工作\"],\"meta\":{\"layout\":\"classic\"},\"forumName\":\"工作\",\"forumAlias\":\"job\",\"nsfw\":false,\"gender\":\"M\",\"replyTitle\":null,\"mediaMeta\":[],\"reactions\":[{\"id\":\"286f599c-f86a-4932-82f0-f5a06f1eca03\",\"count\":9}],\"hidden\":false,\"customStyle\":null,\"isSuspiciousAccount\":false,\"isModerator\":false,\"layout\":\"classic\",\"spoilerAlert\":false,\"withImages\":false,\"withVideos\":false,\"media\":[],\"reportReasonText\":\"\",\"excerptComments\":[],\"postAvatar\":\"\",\"verifiedBadge\":false},{\"id\":234933696,\"title\":\"超商工作就不是人？\",\"excerpt\":\"前提想說一下，並不是想爭論誰說誰對，不管對方多有能力多有地位，都應該要有禮貌吧？態度真的不用那麼差 因為我也沒有說不給退貨還怎樣，禮貌真的很重要！，安安大家好，第一次發文請見諒，因為我是真的無言==請\",\"anonymousSchool\":true,\"anonymousDepartment\":true,\"pinned\":false,\"forumId\":\"6eeeafb2-9dac-4d81-ae4b-ffecf0ad4444\",\"replyId\":null,\"createdAt\":\"2020-12-07T02:41:43.164Z\",\"updatedAt\":\"2020-12-07T03:52:16.688Z\",\"commentCount\":6,\"likeCount\":8,\"withNickname\":false,\"tags\":[\"HIDE_THUMBNAIL\"],\"topics\":[\"超商\",\"工作\",\"打工\"],\"meta\":{\"layout\":\"classic\"},\"forumName\":\"工作\",\"forumAlias\":\"job\",\"nsfw\":false,\"gender\":\"F\",\"replyTitle\":null,\"mediaMeta\":[],\"reactions\":[{\"id\":\"286f599c-f86a-4932-82f0-f5a06f1eca03\",\"count\":8}],\"hidden\":false,\"customStyle\":null,\"isSuspiciousAccount\":false,\"isModerator\":false,\"layout\":\"classic\",\"spoilerAlert\":false,\"withImages\":false,\"withVideos\":false,\"media\":[],\"reportReasonText\":\"\",\"excerptComments\":[],\"postAvatar\":\"\",\"verifiedBadge\":false},{\"id\":234933146,\"title\":\"月休4天\",\"excerpt\":\"如題，小的在高雄某游泳池當救生員，薪水報27000實際上扣掉勞健保只有26000出頭，上班時間是2.-9.中間一小時休息時間，但月休只有四天固定休星期一，想請問這樣是合理的嗎？查過網路上說多出來的上班\",\"anonymousSchool\":true,\"anonymousDepartment\":true,\"pinned\":false,\"forumId\":\"6eeeafb2-9dac-4d81-ae4b-ffecf0ad4444\",\"replyId\":null,\"createdAt\":\"2020-12-06T23:05:57.404Z\",\"updatedAt\":\"2020-12-06T23:05:57.404Z\",\"commentCount\":4,\"likeCount\":8,\"withNickname\":false,\"tags\":[\"HIDE_THUMBNAIL\"],\"topics\":[\"薪資\",\"勞基法\"],\"meta\":{\"layout\":\"classic\"},\"forumName\":\"工作\",\"forumAlias\":\"job\",\"nsfw\":false,\"gender\":\"F\",\"replyTitle\":null,\"mediaMeta\":[],\"reactions\":[{\"id\":\"286f599c-f86a-4932-82f0-f5a06f1eca03\",\"count\":8}],\"hidden\":false,\"customStyle\":null,\"isSuspiciousAccount\":false,\"isModerator\":false,\"layout\":\"classic\",\"spoilerAlert\":false,\"withImages\":false,\"withVideos\":false,\"media\":[],\"reportReasonText\":\"\",\"excerptComments\":[],\"postAvatar\":\"\",\"verifiedBadge\":false},{\"id\":234928693,\"title\":\"每到年末重新審視自己的經歷，總覺得很可悲\",\"excerpt\":\"商管學院畢業從工務助理開始，這兩年也換了三間公司，到現在的工程師，但卻感到茫然與無力，「好像能勝任？又好像不能？」、「好像又找不到自己在產業的價值？」、「是不是到現階段的天花板了？」這些疑惑不斷在腦海\",\"anonymousSchool\":true,\"anonymousDepartment\":true,\"pinned\":false,\"forumId\":\"6eeeafb2-9dac-4d81-ae4b-ffecf0ad4444\",\"replyId\":null,\"createdAt\":\"2020-12-06T06:10:35.187Z\",\"updatedAt\":\"2020-12-06T06:10:35.187Z\",\"commentCount\":0,\"likeCount\":8,\"withNickname\":false,\"tags\":[\"HIDE_THUMBNAIL\"],\"topics\":[\"工作經驗\",\"工作\",\"求職\",\"離職\"],\"meta\":{\"layout\":\"classic\"},\"forumName\":\"工作\",\"forumAlias\":\"job\",\"nsfw\":false,\"gender\":\"M\",\"replyTitle\":null,\"mediaMeta\":[],\"reactions\":[{\"id\":\"286f599c-f86a-4932-82f0-f5a06f1eca03\",\"count\":8}],\"hidden\":false,\"customStyle\":null,\"isSuspiciousAccount\":false,\"isModerator\":false,\"layout\":\"classic\",\"spoilerAlert\":false,\"withImages\":false,\"withVideos\":false,\"media\":[],\"reportReasonText\":\"\",\"excerptComments\":[],\"postAvatar\":\"\",\"verifiedBadge\":false},{\"id\":234927751,\"title\":\"離職請益\",\"excerpt\":\"事情是這樣的...，小弟拿到下一間公司的聘書，馬上跟原公司提離職，但沒跟老闆坦承找到新工作，老闆想慰留我，但是我堅決拒絕，而老闆一直不簽離職單，我很怕因為老闆不簽，進而影響到離職時間而無法在下一間公司\",\"anonymousSchool\":true,\"anonymousDepartment\":true,\"pinned\":false,\"forumId\":\"6eeeafb2-9dac-4d81-ae4b-ffecf0ad4444\",\"replyId\":null,\"createdAt\":\"2020-12-06T01:30:29.965Z\",\"updatedAt\":\"2020-12-06T01:30:29.965Z\",\"commentCount\":6,\"likeCount\":8,\"withNickname\":false,\"tags\":[\"HIDE_THUMBNAIL\"],\"topics\":[\"工作\",\"工作經驗\",\"求職\",\"離職\"],\"meta\":{\"layout\":\"classic\"},\"forumName\":\"工作\",\"forumAlias\":\"job\",\"nsfw\":false,\"gender\":\"M\",\"replyTitle\":null,\"mediaMeta\":[],\"reactions\":[{\"id\":\"286f599c-f86a-4932-82f0-f5a06f1eca03\",\"count\":8}],\"hidden\":false,\"customStyle\":null,\"isSuspiciousAccount\":false,\"isModerator\":false,\"layout\":\"classic\",\"spoilerAlert\":false,\"withImages\":false,\"withVideos\":false,\"media\":[],\"reportReasonText\":\"\",\"excerptComments\":[],\"postAvatar\":\"\",\"verifiedBadge\":false},{\"id\":234933811,\"title\":\"徵油漆學徒～\",\"excerpt\":\"工作環境快樂，師傅都是年輕人，人都很好，如有需要可電話聯絡或是加賴私訊即可！（加賴請說明是來了解工作的）\",\"anonymousSchool\":true,\"anonymousDepartment\":true,\"pinned\":false,\"forumId\":\"6eeeafb2-9dac-4d81-ae4b-ffecf0ad4444\",\"replyId\":null,\"createdAt\":\"2020-12-07T03:05:29.494Z\",\"updatedAt\":\"2020-12-07T03:05:29.494Z\",\"commentCount\":2,\"likeCount\":7,\"withNickname\":false,\"tags\":[],\"topics\":[\"油漆\",\"工作\",\"求職\",\"面試\",\"徵才\"],\"meta\":{\"layout\":\"classic\"},\"forumName\":\"工作\",\"forumAlias\":\"job\",\"nsfw\":false,\"gender\":\"F\",\"replyTitle\":null,\"mediaMeta\":[{\"id\":\"64d290ca-c9cf-4d39-9fdb-4a42403278eb\",\"url\":\"https://i.imgur.com/r2bqIN3l.jpg\",\"normalizedUrl\":\"https://i.imgur.com/r2bqIN3l.jpg\",\"thumbnail\":\"https://i.imgur.com/r2bqIN3l.jpg\",\"type\":\"image/thumbnail\",\"tags\":[],\"createdAt\":\"2020-12-07T03:05:29.494Z\",\"updatedAt\":\"2020-12-07T03:05:29.494Z\",\"width\":828,\"height\":1472},{\"id\":\"64d290ca-c9cf-4d39-9fdb-4a42403278eb\",\"url\":\"https://i.imgur.com/r2bqIN3.jpg\",\"normalizedUrl\":\"https://imgur.com/r2bqIN3\",\"thumbnail\":\"https://i.imgur.com/r2bqIN3l.jpg\",\"type\":\"image/imgur\",\"tags\":[],\"createdAt\":\"2020-12-07T03:05:29.494Z\",\"updatedAt\":\"2020-12-07T03:05:29.494Z\",\"width\":828,\"height\":1472}],\"reactions\":[{\"id\":\"286f599c-f86a-4932-82f0-f5a06f1eca03\",\"count\":7}],\"hidden\":false,\"customStyle\":null,\"isSuspiciousAccount\":false,\"isModerator\":false,\"layout\":\"classic\",\"spoilerAlert\":false,\"withImages\":true,\"withVideos\":false,\"media\":[{\"url\":\"https://i.imgur.com/r2bqIN3.jpg\"}],\"reportReasonText\":\"\",\"excerptComments\":[],\"postAvatar\":\"\",\"verifiedBadge\":false},{\"id\":234933262,\"title\":\"該不該回去以前的店上班\",\"excerpt\":\"我原本在家附近的50嵐工作，之後到台北讀書就在那邊的50嵐做了，可是最近想休學重考，所以要回來，但因為家裡經濟問題，還是要找工作，我沒有駕照怕回去以前的店造成負擔，想問問大家我該不該回去？\",\"anonymousSchool\":true,\"anonymousDepartment\":true,\"pinned\":false,\"forumId\":\"6eeeafb2-9dac-4d81-ae4b-ffecf0ad4444\",\"replyId\":null,\"createdAt\":\"2020-12-07T00:38:27.938Z\",\"updatedAt\":\"2020-12-07T00:38:27.938Z\",\"commentCount\":5,\"likeCount\":7,\"withNickname\":false,\"tags\":[\"HIDE_THUMBNAIL\"],\"topics\":[\"上班\",\"工作\"],\"meta\":{\"layout\":\"classic\"},\"forumName\":\"工作\",\"forumAlias\":\"job\",\"nsfw\":false,\"gender\":\"F\",\"replyTitle\":null,\"mediaMeta\":[],\"reactions\":[{\"id\":\"286f599c-f86a-4932-82f0-f5a06f1eca03\",\"count\":7}],\"hidden\":false,\"customStyle\":null,\"isSuspiciousAccount\":false,\"isModerator\":false,\"layout\":\"classic\",\"spoilerAlert\":false,\"withImages\":false,\"withVideos\":false,\"media\":[],\"reportReasonText\":\"\",\"excerptComments\":[],\"postAvatar\":\"\",\"verifiedBadge\":false},{\"id\":234932604,\"title\":\"請益 救生員工作\",\"excerpt\":\"小的最近拿到體育署救生員證 想找份泳池的PT 目前有考慮台北w hotel的PT 但不知道工作內容會不會很雜或是很拘謹 畢竟是國際知名品牌...，所以想請教有在w hotel上過救生員班的前輩們意見 \",\"anonymousSchool\":true,\"anonymousDepartment\":true,\"pinned\":false,\"forumId\":\"6eeeafb2-9dac-4d81-ae4b-ffecf0ad4444\",\"replyId\":null,\"createdAt\":\"2020-12-06T17:44:33.744Z\",\"updatedAt\":\"2020-12-06T17:44:33.744Z\",\"commentCount\":0,\"likeCount\":7,\"withNickname\":false,\"tags\":[\"HIDE_THUMBNAIL\"],\"topics\":[\"救生員\",\"工作\",\"工作經驗\",\"打工\"],\"meta\":{\"layout\":\"classic\"},\"forumName\":\"工作\",\"forumAlias\":\"job\",\"nsfw\":false,\"gender\":\"M\",\"replyTitle\":null,\"mediaMeta\":[],\"reactions\":[{\"id\":\"286f599c-f86a-4932-82f0-f5a06f1eca03\",\"count\":7}],\"hidden\":false,\"customStyle\":null,\"isSuspiciousAccount\":false,\"isModerator\":false,\"layout\":\"classic\",\"spoilerAlert\":false,\"withImages\":false,\"withVideos\":false,\"media\":[],\"reportReasonText\":\"\",\"excerptComments\":[],\"postAvatar\":\"\",\"verifiedBadge\":false}]'"
      ]
     },
     "execution_count": 5,
     "metadata": {},
     "output_type": "execute_result"
    }
   ],
   "source": [
    "import requests\n",
    "#  取工作版的資料\n",
    "r = requests.get('https://www.dcard.tw/_api/forums/job/posts?popular=true')\n",
    "response = r.text\n",
    "\n",
    "response"
   ]
  },
  {
   "cell_type": "code",
   "execution_count": 15,
   "metadata": {
    "ExecuteTime": {
     "end_time": "2020-12-07T06:08:44.701162Z",
     "start_time": "2020-12-07T06:08:44.693356Z"
    },
    "scrolled": true
   },
   "outputs": [
    {
     "name": "stdout",
     "output_type": "stream",
     "text": [
      "<請先點我> 工作板＆實習、打工職缺刊登說明 工作板主要供分享職場工作心得、面試、正職、招考過程分享、各類型工作內容介紹、勞工工作權益與相關法案議題討論相關文章。文章發文後請加上話題，如：經驗分享、職業介紹、勞工權益、徵才等....，「實習職缺/刊登」請點：\n",
      "\n",
      "\n",
      "你會不會用Excel？ 面試時時常被問到這一題，最近面試上一間自己很喜歡的公司，但突然回想在面試時，有問我 「妳會不會用excel？」通常如果想要得到這份工作的人不會回答 不會，（而且也沒有實測），而會不會的定義是什麼也不敢\n",
      "\n",
      "\n",
      "#問 一個月只賺13000 在一間公司上班快四年了，還是工讀生，班表是主管排班，他排什麼我就上什麼，最近發生一些事導致他對我有些不滿，把我的班排成了一天只有四小時，目前我12月的第一個禮拜只賺了3160，若照他這樣排班我整整12\n",
      "\n",
      "\n",
      "好奇大家最想去的產業！ 最近剛好看到這個～不知道不同年紀的卡友們最想去哪個產業！，我是Z世代的，一直都很嚮往影音娛樂那種（Netflix），資訊媒體業也覺得很夯 雖然進去有點難XD，想問問神通廣大的卡友們覺得哪種產業最有發展\n",
      "\n",
      "\n",
      "辭職勞健保⋯ 最近想辭職，因為剛畢業不知道做什麼跑去應徵超商，原本想說先做看看，但做了快三個月覺得各種心累，不管是打混的同事 每天莫名的強行加班（不是因為事情做不完 都是因為別的原因==⋯）每天都要快12.才回家⋯\n",
      "\n",
      "\n",
      "有工作經驗是要有相關的嗎？ 如題，最近在投工作，看到這種要求有多久多久工作經驗的，是一定要有這個行業的工作經驗嗎？\n",
      "\n",
      "\n",
      "面試時想再考慮其他公司該老實說嗎 想請教在職場至少待過5年以上的大大們，或是轉職過很多遍的大大們～在面試工作時 如果遇到一家，工作內容算不錯 薪水普通，但沒到喜歡滿意到想馬上報到成為員工的程度，就是整體來說給個「尚可」分數的公司，在面\n",
      "\n",
      "\n",
      "我就是那種（會撒嬌）的同事 看到這篇文還以為是我的同事在發文咧嚇死，還好仔細看了內文覺得不太符合，不過我跟原文提到的女生非常像，我工作不滿半年，大家都說我主管是黑面，但對我非常好，平時我有什麼問題，整個辦公室同事都會跳出來幫我研\n",
      "\n",
      "\n",
      "死於職場霸凌 此文應該適用很多工作，所以，在此板發文，希望更多人看到。曾幾何時，你滿心期待，你滿懷熱忱，你滿懷抱負，你不顧一切，所選擇的工作，最後卻賠上性命。其實，工作上的困境，「人」的因素佔比，還是比較重的。先說\n",
      "\n",
      "\n",
      "如何找到這些工作？ 我有打字的經驗和樂園的工作只是時間不久也是短期，但想找相關的例如行政助理和門市人員可是應徵都沒有通知面試，但有時候還是有但就是沒有錄取我，可是我也上過職訓但是找工作也沒有幫助所以我不知道怎麼辦？\n",
      "\n",
      "\n",
      "下週六老闆女兒結婚，我要不要包紅包 我在打工的地方工作大約四個月，這個月要離職，跟老闆女兒不熟（老闆女兒是同事），沒有參加婚宴，因為我覺得婚宴地點太遠，又麻煩，跟與會的人都是陌生人要不然就是不熟，所以我要不要包紅包，感覺不包好像會被穿小\n",
      "\n",
      "\n",
      "汽車業務工作分享Part 5 在這個高壓的工作環境，每天被數字追著跑，相對的很多時候容易產生許多神經病，或是壓力鍋炸裂的情況，相信很多業務工作也都是這樣子，你在其他工作常見看到的小團體、勾心鬥角，在業務單位一點也不會少，甚至變本加\n",
      "\n",
      "\n",
      "要馬兒跑又要馬兒不吃草 這篇純屬我自己個人的心聲，最近無力到每天都在夜裡思考人生，我今年大學應屆畢業生-理工相關，一年前有準備研究所，被媽媽酸 考什麼研究所 浪費錢，你考上了學費跟生活費你自己做決定，大學都要畢業了就趕快去工\n",
      "\n",
      "\n",
      "履歷表工作經驗 大家好~，由於因為一些個人因素而有一年半的時間都沒有在外工作，都在家裡幫忙（爸媽是農夫），最近想要應徵一間工廠當作業員但是我的履歷表不知道要怎麼寫我這段時間在家工作的經驗。請問大家可否給點意見  謝謝\n",
      "\n",
      "\n",
      "丹某咖啡不有名真的不是沒有道理 是這樣的，小弟我在連鎖咖啡廳打工，已經做了一年半了，真的做得心很累，想打工真的別來，太坑了。員工福利有跟沒有一樣，兼職員工點餐只有打八折，東西貴又少，真的是盤子才會在店裡吃，一堆人寧願餓著肚子下班也不\n",
      "\n",
      "\n",
      "現在找工作 現在開始投正職，假如最快報到時間是3/1的履歷表，公司會願意等嗎？\n",
      "\n",
      "\n",
      "詢問工作被打報警就被辭職一事 我母親和同事起爭執，但沒有辱罵對方，結果對方拿工廠用品攻擊我媽，有驗傷 有目擊證人，經理卻說拿消炎擦一擦就好，因為他不在現場，我今天打給他們老闆，說我們要報警，他叫我們我們明天去和對方在公司談，如果執\n",
      "\n",
      "\n",
      "工作3選1 新光/南紡 目前有三份工作再做抉擇，我目前是在職中 但合約只到今年年底，現在是百貨公司的客服，福利、環境、同事都蠻喜歡的，但只簽到年底也沒那麼缺人只好再找工作了，1 新光三越 樓管，有上網爬文過心得 真的很兩極，\n",
      "\n",
      "\n",
      "該不該辭職 大家好，目前工作快要滿一年半，在科技業當行政助理！，主管一直要求打掃辦公室（面試時說的和之後實際做的差距蠻大），希望未來下份工作不要再做行政，但目前薪水就助理來說算高&還沒想好未來想做什麼，想去外面上\n",
      "\n",
      "\n",
      "怎麼讓自己適應工作？ 大家好，我今年22歲，社工系畢業的而終於在今年11月末在民間單位當社工（雖然擺脫待業期，但是現在好懷念那段期間還能自由耍廢），做了一個禮拜多，就覺得自己很愚笨，即便前輩都很歡迎我問問題，但我在寫企劃案\n",
      "\n",
      "\n",
      "推薦分享給上班族好用的投資紀錄表！ \n",
      "\n",
      "\n",
      "中油直營加油員 目前是大四，最近看到附近的加油站有在徵人，想問問看這邊有沒有人去應徵過的經驗，是直接到加油站找站長談嗎，因為之前只有在學校工讀過...，履歷表那些中油有規定的格式嗎？還是照111人力銀行提供的履歷表就\n",
      "\n",
      "\n",
      "工作一年後公司要求重談offer 各位好，小弟我去年底剛入職，因工作的需要要到國外出差（短時間），所以我的薪資是比同職等的同事薪資高，但是今年因疫情爆發後，我便不需要出國了，現在公司想找我重新談offer，請問我有權力拒絕嗎？畢竟疫情\n",
      "\n",
      "\n",
      "超商工作就不是人？ 前提想說一下，並不是想爭論誰說誰對，不管對方多有能力多有地位，都應該要有禮貌吧？態度真的不用那麼差 因為我也沒有說不給退貨還怎樣，禮貌真的很重要！，安安大家好，第一次發文請見諒，因為我是真的無言==請\n",
      "\n",
      "\n",
      "月休4天 如題，小的在高雄某游泳池當救生員，薪水報27000實際上扣掉勞健保只有26000出頭，上班時間是2.-9.中間一小時休息時間，但月休只有四天固定休星期一，想請問這樣是合理的嗎？查過網路上說多出來的上班\n",
      "\n",
      "\n",
      "每到年末重新審視自己的經歷，總覺得很可悲 商管學院畢業從工務助理開始，這兩年也換了三間公司，到現在的工程師，但卻感到茫然與無力，「好像能勝任？又好像不能？」、「好像又找不到自己在產業的價值？」、「是不是到現階段的天花板了？」這些疑惑不斷在腦海\n",
      "\n",
      "\n",
      "離職請益 事情是這樣的...，小弟拿到下一間公司的聘書，馬上跟原公司提離職，但沒跟老闆坦承找到新工作，老闆想慰留我，但是我堅決拒絕，而老闆一直不簽離職單，我很怕因為老闆不簽，進而影響到離職時間而無法在下一間公司\n",
      "\n",
      "\n",
      "徵油漆學徒～ 工作環境快樂，師傅都是年輕人，人都很好，如有需要可電話聯絡或是加賴私訊即可！（加賴請說明是來了解工作的）\n",
      "\n",
      "\n",
      "該不該回去以前的店上班 我原本在家附近的50嵐工作，之後到台北讀書就在那邊的50嵐做了，可是最近想休學重考，所以要回來，但因為家裡經濟問題，還是要找工作，我沒有駕照怕回去以前的店造成負擔，想問問大家我該不該回去？\n",
      "\n",
      "\n",
      "請益 救生員工作 小的最近拿到體育署救生員證 想找份泳池的PT 目前有考慮台北w hotel的PT 但不知道工作內容會不會很雜或是很拘謹 畢竟是國際知名品牌...，所以想請教有在w hotel上過救生員班的前輩們意見 \n",
      "\n",
      "\n"
     ]
    }
   ],
   "source": [
    "import json\n",
    "data = json.loads(response)\n",
    "# print(data)\n",
    "for d in data:\n",
    "    print(d['title'], d['excerpt'])\n",
    "    print(\"\\n\")\n"
   ]
  },
  {
   "cell_type": "markdown",
   "metadata": {},
   "source": [
    "## 作業目標\n",
    "\n",
    "* 請利用 API: https://www.dcard.tw/_api/forums/pet/posts?popular=true 回答下列問題：\n",
    "\n",
    "    1. 這個 API 一次會回傳幾筆資料？每一筆資料包含哪些欄位？\n",
    "    2. 取出每一筆資料的「標題」、「貼文時間」、「留言人數」、「按讚人數」\n",
    "    3. 計算熱門/非熱門文章的「平均留言人數」與「平均按讚人數」\n",
    "\n",
    "\n",
    "\n"
   ]
  },
  {
   "cell_type": "code",
   "execution_count": null,
   "metadata": {},
   "outputs": [],
   "source": []
  }
 ],
 "metadata": {
  "kernelspec": {
   "display_name": "Python 3",
   "language": "python",
   "name": "python3"
  },
  "language_info": {
   "codemirror_mode": {
    "name": "ipython",
    "version": 3
   },
   "file_extension": ".py",
   "mimetype": "text/x-python",
   "name": "python",
   "nbconvert_exporter": "python",
   "pygments_lexer": "ipython3",
   "version": "3.7.4"
  },
  "toc": {
   "base_numbering": 1,
   "nav_menu": {},
   "number_sections": true,
   "sideBar": true,
   "skip_h1_title": false,
   "title_cell": "Table of Contents",
   "title_sidebar": "Contents",
   "toc_cell": true,
   "toc_position": {},
   "toc_section_display": true,
   "toc_window_display": true
  }
 },
 "nbformat": 4,
 "nbformat_minor": 2
}
