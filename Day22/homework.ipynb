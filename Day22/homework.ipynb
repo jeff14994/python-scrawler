{
 "cells": [
  {
   "cell_type": "markdown",
   "metadata": {
    "toc": true
   },
   "source": [
    "<h1>Table of Contents<span class=\"tocSkip\"></span></h1>\n",
    "<div class=\"toc\"><ul class=\"toc-item\"><li><span><a href=\"#動態網頁爬蟲---使用-Selenium\" data-toc-modified-id=\"動態網頁爬蟲---使用-Selenium-1\"><span class=\"toc-item-num\">1&nbsp;&nbsp;</span>動態網頁爬蟲 - 使用 Selenium</a></span><ul class=\"toc-item\"><li><span><a href=\"#作業目標\" data-toc-modified-id=\"作業目標-1.1\"><span class=\"toc-item-num\">1.1&nbsp;&nbsp;</span>作業目標</a></span><ul class=\"toc-item\"><li><span><a href=\"#1.-根據範例使用-selenuim-取出-Hahow-網站中所有課程的資料，並用一個適合的資料結構儲存（Hint:-將所有資料存在一個變數當中取出）\" data-toc-modified-id=\"1.-根據範例使用-selenuim-取出-Hahow-網站中所有課程的資料，並用一個適合的資料結構儲存（Hint:-將所有資料存在一個變數當中取出）-1.1.1\"><span class=\"toc-item-num\">1.1.1&nbsp;&nbsp;</span>1. 根據範例使用 selenuim 取出 Hahow 網站中所有課程的資料，並用一個適合的資料結構儲存（Hint: 將所有資料存在一個變數當中取出）</a></span></li><li><span><a href=\"#2.-剛剛的做法只能取出第一頁，試著取出所有頁面的資料。\" data-toc-modified-id=\"2.-剛剛的做法只能取出第一頁，試著取出所有頁面的資料。-1.1.2\"><span class=\"toc-item-num\">1.1.2&nbsp;&nbsp;</span>2. 剛剛的做法只能取出第一頁，試著取出所有頁面的資料。</a></span></li></ul></li></ul></li></ul></div>"
   ]
  },
  {
   "cell_type": "markdown",
   "metadata": {},
   "source": [
    "# 動態網頁爬蟲 - 使用 Selenium\n",
    "\n",
    "* 了解 Selenium 用於動態網頁爬蟲的原理\n",
    "* 能夠使用 Selenium 撰寫動態網頁爬蟲"
   ]
  },
  {
   "cell_type": "markdown",
   "metadata": {},
   "source": [
    "## 作業目標\n",
    "\n",
    "* 1. 根據範例使用 selenuim 取出 Hahow 網站中所有課程的資料，並用一個適合的資料結構儲存（Hint: 將所有資料存在一個變數當中取出）\n",
    "* 2. 剛剛的做法只能取出第一頁，試著取出所有頁面的資料。\n",
    "\n"
   ]
  },
  {
   "cell_type": "markdown",
   "metadata": {},
   "source": [
    "### 1. 根據範例使用 selenuim 取出 Hahow 網站中所有課程的資料，並用一個適合的資料結構儲存（Hint: 將所有資料存在一個變數當中取出）"
   ]
  },
  {
   "cell_type": "code",
   "execution_count": 77,
   "metadata": {
    "ExecuteTime": {
     "end_time": "2020-12-24T04:04:01.089363Z",
     "start_time": "2020-12-24T04:03:51.811754Z"
    }
   },
   "outputs": [],
   "source": [
    "from selenium import webdriver\n",
    "from selenium.webdriver.support.ui import Select\n",
    "from bs4 import BeautifulSoup\n",
    "import time\n",
    "\n",
    "browser = webdriver.Chrome(executable_path='../chromedriver/chromedriver')\n",
    "browser.get(\"https://hahow.in/courses\")"
   ]
  },
  {
   "cell_type": "code",
   "execution_count": 98,
   "metadata": {
    "ExecuteTime": {
     "end_time": "2020-12-24T04:06:08.230322Z",
     "start_time": "2020-12-24T04:06:07.881597Z"
    },
    "scrolled": true
   },
   "outputs": [
    {
     "name": "stdout",
     "output_type": "stream",
     "text": [
      "<html data-react-helmet=\"lang\" lang=\"zh-TW\"><head><meta content=\"超過百堂有趣的線上課程，讓你輕鬆自學那些學校沒有教的事！\" data-react-helmet=\"true\" name=\"description\"/><style type=\"text/css\">.styles_overlay__CLSq- {\n",
      "  background: rgba(0, 0, 0, 0.75);\n",
      "  display: flex;\n",
      "  align-items: flex-start;\n",
      "  justify-content: center;\n",
      "  position: fixed;\n",
      "  top: 0;\n",
      "  left: 0;\n",
      "  right: 0;\n",
      "  bottom: 0;\n",
      "  overflow-y: auto;\n",
      "  overflow-x: hidden;\n",
      "  z-index: 1000;\n",
      "  padding: 1.2rem;\n",
      "}\n",
      ".styles_overlayCenter__YHoO7 {\n",
      "  align-items: center;\n",
      "}\n",
      ".styles_modal__gNwvD {\n",
      "  max-width: 800px;\n",
      "  position: relative;\n",
      "  padding: 1.2rem;\n",
      "  background: #ffffff;\n",
      "  background-clip: padding-box;\n",
      "  box-shadow: 0 12px 15px 0 rgba(0, 0, 0, 0.25);\n",
      "  margin: auto;\n",
      "}\n",
      ".styles_closeButton__20ID4 {\n",
      "  position: absolute;\n",
      "  top: 14px;\n",
      "  right: 14px;\n",
      "  border: none;\n",
      "  padding: 0;\n",
      "  background-color: transparent;\n",
      "  display: flex;\n",
      "}\n",
      ".styles_closeIcon__1QwbI {\n",
      "}\n",
      ".styles_transitionEnter__3j_-a {\n",
      "  opacity: 0.01;\n",
      "}\n",
      ".styles_transitionEnterActive___eQs7 {\n",
      "  opacity: 1;\n",
      "  transition: opacity 500ms cubic-bezier(0.23, 1, 0.32, 1);\n",
      "}\n",
      ".styles_transitionExit__1KmEf {\n",
      "  opacity: 1;\n",
      "}\n",
      ".styles_transitionExitActive__1nQXw {\n",
      "  opacity: 0.01;\n",
      "  transition: opacity 500ms cubic-bezier(0.23, 1, 0.32, 1);\n",
      "}\n",
      "</style><meta content=\"1287520191288194\" data-react-helmet=\"true\" property=\"fb:app_id\"/><meta content=\"zh-TW\" data-react-helmet=\"true\" property=\"og:locale\"/><meta content=\"Hahow 提供最多元有趣的線上課程，並透過獨特的課程募資機制，讓熱愛自學與交換技能的你，在家就可以完成高效率的線上學習與成就！\" data-react-helmet=\"true\" property=\"og:description\"/><meta content=\"https://hahow.in/\" data-react-helmet=\"true\" property=\"og:url\"/><meta content=\"https://hahow.in/static/images/og-image.jpg\" data-react-helmet=\"true\" property=\"og:image\"/><meta content=\"article\" data-react-helmet=\"true\" property=\"og:type\"/><meta content=\"Hahow - 好學校\" data-react-helmet=\"true\" property=\"og:site_name\"/><meta content=\"Hahow 好學校 | 最有趣的線上課程平台 | 自學那些學校沒教的事\" data-react-helmet=\"true\" property=\"og:title\"/><meta content=\"dxQXUxo-Ypo_w3JIINgVr9PJItIfniuKoi5FJ4LZFcU\" data-react-helmet=\"true\" name=\"google-site-verification\"/><meta content=\"Hahow\" data-react-helmet=\"true\" name=\"application-name\"/><meta content=\"Hahow - 好學校\" data-react-helmet=\"true\" name=\"author\"/><meta content=\"Hahow,好學校,線上課程,課程募資,網路教學\" data-react-helmet=\"true\" name=\"keywords\"/><link data-react-helmet=\"true\" href=\"https://hahow.in/static/images/apple-touch-icon.png\" rel=\"apple-touch-icon\" sizes=\"180x180\"/><div><link href=\"https://hahow.in/static/css/19.a36629c6.chunk.css\" rel=\"stylesheet\"/></div><meta charset=\"utf-8\"/><meta content=\"width=device-width,initial-scale=1,viewport-fit=cover\" name=\"viewport\"/><meta content=\"85be3689f02516040edbcaa21c56777c\" name=\"p:domain_verify\"/><meta content=\"1608700891-16c6135\" name=\"hahow-version\"/><title>探索課程 - Hahow 好學校</title><link href=\"https://hahow.in/favicon.ico\" rel=\"shortcut icon\"/><link href=\"https://hahow.in/highres-icon.png\" rel=\"apple-touch-icon\"/><link href=\"https://hahow.in/apple-touch-icon.png\" rel=\"apple-touch-icon\"/><link color=\"#eb5e00\" href=\"https://hahow.in/website_icon.svg\" rel=\"mask-icon\"/><link crossorigin=\"anonymous\" href=\"https://cdnjs.cloudflare.com/ajax/libs/twitter-bootstrap/3.3.7/css/bootstrap.min.css\" integrity=\"sha512-6MXa8B6uaO18Hid6blRMetEIoPqHf7Ux1tnyIQdpt9qI5OACx7C+O3IVTr98vwGnlcg0LOLa02i9Y1HpVhlfiw==\" rel=\"stylesheet\"/><link href=\"https://cdnjs.cloudflare.com/ajax/libs/font-awesome/4.7.0/css/font-awesome.min.css\" rel=\"stylesheet\"/><script async=\"\" src=\"https://www.googleadservices.com/pagead/conversion_async.js\" type=\"text/javascript\"></script><script async=\"\" src=\"https://www.google-analytics.com/plugins/ua/ec.js\" type=\"text/javascript\"></script><script async=\"\" src=\"https://www.google-analytics.com/gtm/js?id=GTM-M8VMH5D&amp;cid=47950149.1608782638\" type=\"text/javascript\"></script><script async=\"\" src=\"https://widget.intercom.io/widget/pd9xhh4p\" type=\"text/javascript\"></script><script async=\"\" src=\"https://www.google-analytics.com/analytics.js\" type=\"text/javascript\"></script><script async=\"\" src=\"https://www.googletagmanager.com/gtm.js?id=GTM-5TJSLH&amp;l=dataLayer\" type=\"text/javascript\"></script><script async=\"\" src=\"https://connect.facebook.net/signals/config/1585046728435312?v=2.9.31&amp;r=stable\"></script><script async=\"\" src=\"https://connect.facebook.net/signals/plugins/identity.js?v=2.9.31\"></script><script async=\"\" src=\"https://connect.facebook.net/en_US/fbevents.js\" type=\"text/javascript\"></script><script async=\"\" src=\"https://bat.bing.com/bat.js\" type=\"text/javascript\"></script><script async=\"\" src=\"https://cdn.segment.com/analytics.js/v1/Ke1w8kRcFE0SqJSzgtD9UGNvLRyfDp96/analytics.min.js\" type=\"text/javascript\"></script><script async=\"\" charset=\"utf-8\" src=\"//static.dable.io/dist/dablena.min.js\"></script><script async=\"\" src=\"https://d.line-scdn.net/n/line_tag/public/release/v1/lt.js\"></script><script async=\"\" src=\"//cdn4.mxpnl.com/libs/mixpanel-2-latest.min.js\" type=\"text/javascript\"></script><script async=\"\" src=\"https://cdn.amplitude.com/libs/amplitude-4.4.0-min.gz.js\" type=\"text/javascript\"></script><script>FontJSON={User:\"9579\",DomainID:\"D0001874EEW\",Font:[\"DFBangShuStd-W8\"]}</script><script defer=\"defer\" src=\"https://dfo.dynacw.com.tw/DynaJSFont/DynaFont.js\"></script><script type=\"text/javascript\">!function(){var t=window.analytics=window.analytics||[];if(!t.initialize)if(t.invoked)window.console&&console.error&&console.error(\"Segment snippet included twice.\");else{t.invoked=!0,t.methods=[\"trackSubmit\",\"trackClick\",\"trackLink\",\"trackForm\",\"pageview\",\"identify\",\"reset\",\"group\",\"track\",\"ready\",\"alias\",\"debug\",\"page\",\"once\",\"off\",\"on\"],t.factory=function(e){return function(){var n=Array.prototype.slice.call(arguments);return n.unshift(e),t.push(n),t}};for(var e=0;e<t.methods.length;e++){var n=t.methods[e];t[n]=t.factory(n)}t.load=function(t){var e=document.createElement(\"script\");e.type=\"text/javascript\",e.async=!0,e.src=(\"https:\"===document.location.protocol?\"https://\":\"http://\")+\"cdn.segment.com/analytics.js/v1/\"+t+\"/analytics.min.js\";var n=document.getElementsByTagName(\"script\")[0];n.parentNode.insertBefore(e,n)},t.SNIPPET_VERSION=\"4.0.0\"}}()</script><script type=\"text/javascript\">!function(e,t){var n=e.amplitude||{_q:[],_iq:{}},i=t.createElement(\"script\");i.type=\"text/javascript\",i.async=!0,i.src=\"https://cdn.amplitude.com/libs/amplitude-4.4.0-min.gz.js\",i.onload=function(){e.amplitude.runQueuedFunctions?e.amplitude.runQueuedFunctions():console.log(\"[Amplitude] Error: could not load SDK\")};var r=t.getElementsByTagName(\"script\")[0];function s(e,t){e.prototype[t]=function(){return this._q.push([t].concat(Array.prototype.slice.call(arguments,0))),this}}r.parentNode.insertBefore(i,r);for(var o=function(){return this._q=[],this},a=[\"add\",\"append\",\"clearAll\",\"prepend\",\"set\",\"setOnce\",\"unset\"],u=0;u<a.length;u++)s(o,a[u]);n.Identify=o;for(var c=function(){return this._q=[],this},l=[\"setProductId\",\"setQuantity\",\"setPrice\",\"setRevenueType\",\"setEventProperties\"],p=0;p<l.length;p++)s(c,l[p]);n.Revenue=c;var d=[\"init\",\"logEvent\",\"logRevenue\",\"setUserId\",\"setUserProperties\",\"setOptOut\",\"setVersionName\",\"setDomain\",\"setDeviceId\",\"setGlobalUserProperties\",\"identify\",\"clearUserProperties\",\"setGroup\",\"logRevenueV2\",\"regenerateDeviceId\",\"logEventWithTimestamp\",\"logEventWithGroups\",\"setSessionId\",\"resetSessionId\"];function f(e){function t(t){e[t]=function(){e._q.push([t].concat(Array.prototype.slice.call(arguments,0)))}}for(var n=0;n<d.length;n++)t(d[n])}f(n),n.getInstance=function(e){return e=(e&&0!==e.length?e:\"$default_instance\").toLowerCase(),n._iq.hasOwnProperty(e)||(n._iq[e]={_q:[]},f(n._iq[e])),n._iq[e]},e.amplitude=n}(window,document),amplitude.getInstance().init(\"0d4a119f268ec1efe16f9178c2ea6f02\")</script><script type=\"text/javascript\">!function(e,t){if(!t.__SV){var n,a,r=window;try{var o,i,p,l=r.location,c=l.hash;o=function(e,t){return(i=e.match(RegExp(t+\"=([^&]*)\")))?i[1]:null},c&&o(c,\"state\")&&(\"mpeditor\"===(p=JSON.parse(decodeURIComponent(o(c,\"state\")))).action&&(r.sessionStorage.setItem(\"_mpcehash\",c),history.replaceState(p.desiredHash||\"\",e.title,l.pathname+l.search)))}catch(e){}window.mixpanel=t,t._i=[],t.init=function(e,r,o){function i(e,t){var n=t.split(\".\");2==n.length&&(e=e[n[0]],t=n[1]),e[t]=function(){e.push([t].concat(Array.prototype.slice.call(arguments,0)))}}var p=t;for(void 0!==o?p=t[o]=[]:o=\"mixpanel\",p.people=p.people||[],p.toString=function(e){var t=\"mixpanel\";return\"mixpanel\"!==o&&(t+=\".\"+o),e||(t+=\" (stub)\"),t},p.people.toString=function(){return p.toString(1)+\".people (stub)\"},n=\"disable time_event track track_pageview track_links track_forms track_with_groups add_group set_group remove_group register register_once alias unregister identify name_tag set_config reset opt_in_tracking opt_out_tracking has_opted_in_tracking has_opted_out_tracking clear_opt_in_out_tracking people.set people.set_once people.unset people.increment people.append people.union people.track_charge people.clear_charges people.delete_user people.remove\".split(\" \"),a=0;a<n.length;a++)i(p,n[a]);var l=\"set set_once union unset remove delete\".split(\" \");p.get_group=function(){function e(e){t[e]=function(){call2_args=arguments,call2=[e].concat(Array.prototype.slice.call(call2_args,0)),p.push([n,call2])}}for(var t={},n=[\"get_group\"].concat(Array.prototype.slice.call(arguments,0)),a=0;a<l.length;a++)e(l[a]);return t},t._i.push([e,r,o])},t.__SV=1.2,(r=e.createElement(\"script\")).type=\"text/javascript\",r.async=!0,r.src=\"undefined\"!=typeof MIXPANEL_CUSTOM_LIB_URL?MIXPANEL_CUSTOM_LIB_URL:\"file:\"===e.location.protocol&&\"//cdn4.mxpnl.com/libs/mixpanel-2-latest.min.js\".match(/^\\/\\//)?\"https://cdn4.mxpnl.com/libs/mixpanel-2-latest.min.js\":\"//cdn4.mxpnl.com/libs/mixpanel-2-latest.min.js\",(o=e.getElementsByTagName(\"script\")[0]).parentNode.insertBefore(r,o)}}(document,window.mixpanel||[]),mixpanel.init(\"f8e885a384b011aa8a98e9ab7cd51f07\"),mixpanel.register({\"User Agent\":navigator.userAgent}),/Prerender/i.test(navigator.userAgent)&&mixpanel.register({$ignore:!0})</script><script async=\"true\" src=\"//static.criteo.net/js/ld/ld.js\" type=\"text/javascript\"></script><script>!function(t,e,n){t._ltq=t._ltq||[],t._lt=t._lt||function(){t._ltq.push(arguments)};var l=\"https:\"===location.protocol?\"https://d.line-scdn.net\":\"http://d.line-cdn.net\",c=e.createElement(\"script\");c.async=1,c.src=l+\"/n/line_tag/public/release/v1/lt.js\";var a=e.getElementsByTagName(\"script\")[0];a.parentNode.insertBefore(c,a)}(window,document),_lt(\"init\",{customerType:\"lap\",tagId:\"2617dc27-b394-4da6-b610-eb950296379e\"})</script><script>!function(e,n,t,a,i,s){e[t]=e[t]||function(){(e[t].q=e[t].q||[]).push(arguments)},(i=n.createElement(a)).async=1,i.charset=\"utf-8\",i.src=\"//static.dable.io/dist/dablena.min.js\",(s=n.getElementsByTagName(a)[0]).parentNode.insertBefore(i,s)}(window,document,\"dablena\",\"script\"),dablena(\"init\",\"003-003-514\")</script><link href=\"https://hahow.in/static/css/19.a36629c6.chunk.css\" rel=\"stylesheet\"/><script async=\"\" src=\"https://static.hotjar.com/c/hotjar-301739.js?sv=6\"></script><script async=\"\" charset=\"utf-8\" src=\"https://script.hotjar.com/modules.5d1cad31427a09b055ed.js\"></script><style type=\"text/css\">iframe#_hjRemoteVarsFrame {display: none !important; width: 1px !important; height: 1px !important; opacity: 0 !important; pointer-events: none !important;}</style><style data-styled=\"active\" data-styled-version=\"5.1.1\"></style><script charset=\"utf-8\" src=\"https://hahow.in/static/js/0.b626601c.chunk.js\"></script><script charset=\"utf-8\" src=\"https://hahow.in/static/js/1.a1b9f29b.chunk.js\"></script><script charset=\"utf-8\" src=\"https://hahow.in/static/js/2.98ca1be4.chunk.js\"></script><script charset=\"utf-8\" src=\"https://hahow.in/static/js/3.5a8b8f86.chunk.js\"></script><script charset=\"utf-8\" src=\"https://hahow.in/static/js/24.5e6b3222.chunk.js\"></script><script charset=\"utf-8\" src=\"https://hahow.in/static/js/4.27f0130c.chunk.js\"></script><link href=\"https://hahow.in/static/css/37.f6fdf601.chunk.css\" rel=\"stylesheet\" type=\"text/css\"/><script charset=\"utf-8\" src=\"https://hahow.in/static/js/37.9bc73bb5.chunk.js\"></script><script src=\"https://googleads.g.doubleclick.net/pagead/viewthroughconversion/775545404/?random=1608782640725&amp;cv=9&amp;fst=1608782640725&amp;num=1&amp;bg=ffffff&amp;guid=ON&amp;resp=GooglemKTybQhCsO&amp;u_h=900&amp;u_w=1440&amp;u_ah=877&amp;u_aw=1440&amp;u_cd=30&amp;u_his=2&amp;u_tz=480&amp;u_java=false&amp;u_nplug=3&amp;u_nmime=4&amp;gtm=2oabu0&amp;sendb=1&amp;ig=1&amp;data=event%3Dgtag.config&amp;frm=0&amp;url=https%3A%2F%2Fhahow.in%2Fcourses&amp;tiba=%E6%8E%A2%E7%B4%A2%E8%AA%B2%E7%A8%8B%20-%20Hahow%20%E5%A5%BD%E5%AD%B8%E6%A0%A1&amp;hn=www.googleadservices.com&amp;async=1&amp;rfmt=3&amp;fmt=4\"></script></head><body><div courselistrandperiod=\"1800\" courselistrandwindow=\"96\" homepagerandperiod=\"1800\" homepagerandwindow=\"32\" id=\"root\" recsectionrandperiod=\"1800\" recsectionrandwindow=\"32\"><div class=\"sc-1333ojd-0 cQquzt\"><header class=\"lecture-editor-no-clickoutside\"><div class=\"ve39ah-0 iuVWON header-top\" id=\"header\"><nav class=\"navbar navbar-inverse\"><div class=\"container\"><div class=\"sc-1cdr6zq-0 fWXjsI header-top\"><div class=\"navbar-header\"><li class=\"logo pseudo-btn navbar-brand active\" role=\"presentation\"><a href=\"/\"><img alt=\"Hahow 好學校\" src=\"https://hahow.in/static/media/logo-black.59fdbe30.svg\"/></a></li><li class=\"joinus pseudo-btn\" role=\"presentation\"><a href=\"/joinus\"><img alt=\"joinusImage\" src=\"/static/images/joinus/2018hiring.svg\"/></a></li><button class=\"navbar-toggle collapsed\" type=\"button\"><span class=\"sr-only\">Toggle navigation</span><span class=\"icon-bar\"></span><span class=\"icon-bar\"></span><span class=\"icon-bar\"></span></button><a class=\"minicart-icon-mobile hidden-md hidden-lg float-right marg-rl-10 marg-tb-10 marg-rl-5-320px\" href=\"/cart\"><span class=\"sc-4t5h1o-0 hwODTs header-icon-with-badge\"><span class=\"icon-wrapper\"><img alt=\"header-icon-with-badge\" class=\"header-icon-with-badge\" src=\"https://hahow.in/static/media/mini-cart.0dba8458.svg\"/></span></span></a></div></div><div class=\"sc-11waj93-0 jJKJVO header-top\"><div class=\"navbar-collapse collapse\"><ul class=\"navbar-left nav navbar-nav\"><li class=\"explore-courses\" role=\"presentation\"><a data-multilevel-menu=\"true\" href=\"#\" role=\"button\"><span><i class=\"fa fa-th-large fa-fw\"></i>探索課程</span></a></li><li class=\"\" role=\"presentation\"><a href=\"/courses/create\"><span href=\"#\" role=\"button\"><i class=\"fa fa-pencil fa-fw\"></i>我要開課</span></a></li><li class=\"m2s929-1 ldKFcp\" role=\"presentation\"><a href=\"/club2020\"></a></li></ul><ul class=\"navbar-right nav navbar-nav\"><a class=\"m2s929-0 UQIhk\" href=\"/club2020\"></a><li class=\"visible-md visible-lg pad-t-10\" role=\"presentation\"><span href=\"#\" role=\"presentation\"><span class=\"lf412c-0 cZmNKk\"><div class=\"dropdown btn-group\"><a aria-expanded=\"false\" aria-haspopup=\"true\" aria-label=\"dropdown-mini-cart\" class=\"qshg8m-0 jFMzNK dropdown-toggle btn btn-default\" id=\"dropdown-mini-cart\" role=\"button\" type=\"button\"><span class=\"sc-4t5h1o-0 hwODTs header-icon-with-badge\"><span class=\"icon-wrapper\"><img alt=\"header-icon-with-badge\" class=\"header-icon-with-badge\" src=\"https://hahow.in/static/media/mini-cart.0dba8458.svg\"/></span></span></a><div class=\"hover-trigger-zone\" style=\"cursor: pointer;\"></div><ul aria-labelledby=\"dropdown-mini-cart\" class=\"dropdown-menu dropdown-menu-right\" role=\"menu\"><div class=\"sc-19t7g6n-0 fMTqqX\"><div class=\"empty-cart vertical-horizontal-center\"><div class=\"text-center\"><img alt=\"Empty shopping cart\" class=\"empty-box-img marg-b-10\" src=\"https://hahow.in/static/media/empty-box.e2bf3c3b.svg\"/><div class=\"marg-b-10\">購物車是空的，來去逛逛？</div><button class=\"sc-1a6j6ze-0 fBQVEd\">探索課程</button></div></div><div class=\"triangle-with-shadow\"></div></div></ul></div></span></span></li><li class=\"login pad-r-60 pad-t-10\" role=\"presentation\"><a href=\"#\" role=\"button\">登入</a></li></ul></div></div></div></nav></div></header><main class=\"content marg-t-50 padding-for-dismissable-fixed-top-message\" id=\"main-screen\" style=\"min-height: calc(100vh - 100px);\"><div class=\"sc-19z8872-0 erAemI\"><div class=\"container\"><div class=\"txm03k-0 jtsDtf search-bar-container\"><div class=\"search-bar\"><span aria-hidden=\"true\" class=\"fa fa-search search-icon\"></span><div class=\"input-wrapper\"><input class=\"search-input\" placeholder=\"熱門搜尋：社團時間\" type=\"text\" value=\"\"/></div></div><div class=\"selectors-container\"><div class=\"dropdown btn-group\"><button aria-expanded=\"false\" aria-haspopup=\"true\" class=\"dropdown-toggle btn btn-default\" id=\"CourseStatusSelector\" role=\"button\" style=\"min-width: 140px;\" type=\"button\">所有課程 <span class=\"caret\"></span></button><ul aria-labelledby=\"CourseStatusSelector\" class=\"dropdown-menu\" role=\"menu\"><li class=\"\" role=\"presentation\"><a href=\"#\" role=\"menuitem\" tabindex=\"-1\">所有課程</a></li><li class=\"\" role=\"presentation\"><a href=\"#\" role=\"menuitem\" tabindex=\"-1\">募資中課程</a></li><li class=\"\" role=\"presentation\"><a href=\"#\" role=\"menuitem\" tabindex=\"-1\">已開課課程</a></li></ul></div><div class=\"dropdown btn-group\"><button aria-expanded=\"false\" aria-haspopup=\"true\" class=\"dropdown-toggle btn btn-default\" id=\"CourseOrders\" role=\"button\" style=\"min-width: 120px;\" type=\"button\">排序 <span class=\"caret\"></span></button><ul aria-labelledby=\"CourseOrders\" class=\"dropdown-menu\" role=\"menu\"><li class=\"\" role=\"presentation\"><a href=\"#\" role=\"menuitem\" tabindex=\"-1\">最新（預設）</a></li><li class=\"\" role=\"presentation\"><a href=\"#\" role=\"menuitem\" tabindex=\"-1\">最多人數</a></li><li class=\"\" role=\"presentation\"><a href=\"#\" role=\"menuitem\" tabindex=\"-1\">最長課時</a></li><li class=\"\" role=\"presentation\"><a href=\"#\" role=\"menuitem\" tabindex=\"-1\">最高評價</a></li></ul></div></div><div class=\"filters-container\"><a class=\"search-filter\" href=\"/courses?page=1&amp;campaign=HOT\">熱門課程</a><a class=\"search-filter\" href=\"/courses?page=1&amp;campaign=COUNT_DOWN\">募資倒數</a><a class=\"search-filter\" href=\"/courses?page=1&amp;campaign=LATEST_PUBLISHED\">最新開課</a></div></div><div><div class=\"clearfix list-container\"><div class=\"sc-78kx4p-0 lpsZxb\"><div class=\"briefs-container brief-col-lg-4 brief-col-md-3 brief-col-sm-2 brief-col-xs-1\"><div class=\"sc-10r5mg2-0 fVNHJD hh-course-brief relative block\"><div class=\"cover-wrap relative\"><a href=\"/courses/5f0e2a2071bf470b216f6d25\"><div class=\"cover-image-wrap relative\"><img alt=\"五星級法式經典甜點在家做\" class=\"cx4oas-0 eafTUo e2e-cover-image absolute active loaded\" src=\"https://images.api.hahow.in/images/5fc8f789edb33403649145a9?width=300\" width=\"\"/></div><div class=\"course-flag text-sm text-bold absolute incubating\" data-for=\"course-flag\" data-tip=\"true\">募資中</div></a><div class=\"sc-1n4z0lw-0 bLmNqp bookmark relative marg-l-15 absolute\"><div class=\"circle\"><span aria-hidden=\"true\" class=\"fa fa-bookmark-o\"></span></div></div></div><div class=\"rokpy3-0 ckWaKf profile-image profile-image-sm absolute\" size=\"56\"><a class=\"\" href=\"/@happiness\"><img class=\"cx4oas-0 eafTUo loaded\" src=\"https://images.api.hahow.in/images/5fc8f1010a0abb98d3695634?width=56\" width=\"\"/></a></div><a href=\"/courses/5f0e2a2071bf470b216f6d25\"><div class=\"text pad-rl-15\"><h4 class=\"title marg-t-20 marg-b-10\">五星級法式經典甜點在家做</h4><div class=\"meta-description\">由五星級飯店甜點師彭建文教學，帶學員在家做出九種飯店等級的精緻經典法式甜點！全程老師實際操作、仔細拆解步驟，在 Hahow 好學校上無限期重複觀看！</div></div></a><div class=\"proposal-section relative marg-t-20\"><div class=\"pad-rl-15 clearfix\"><div class=\"pull-left\">預購價 <span class=\"text-primary\">NT$2,199</span></div><div class=\"pull-right\">剩 30 天</div></div><div class=\"pad-rl-15\"><div class=\"\"><div class=\"dc56mr-0 pXvSR\" height=\"10\"><div class=\"dc56mr-1 hXFvRY\"></div></div></div></div><div class=\"text-center pad-b-10 incubating\">已募資 0/30 人</div></div></div><div class=\"sc-10r5mg2-0 fVNHJD hh-course-brief relative block\"><div class=\"cover-wrap relative\"><a href=\"/courses/5fb6886a56addceac864bdcd\"><div class=\"cover-image-wrap relative\"><img alt=\"掌握鉤針編織邏輯：五種針法自造生活小物\" class=\"cx4oas-0 eafTUo e2e-cover-image absolute active loaded\" src=\"https://images.api.hahow.in/images/5fe017b7435a4b181ca6cefd?width=300\" width=\"\"/></div><div class=\"course-flag text-sm text-bold absolute incubating\" data-for=\"course-flag\" data-tip=\"true\">募資中</div></a><div class=\"sc-1n4z0lw-0 bLmNqp bookmark relative marg-l-15 absolute\"><div class=\"circle\"><span aria-hidden=\"true\" class=\"fa fa-bookmark-o\"></span></div></div></div><div class=\"rokpy3-0 ckWaKf profile-image profile-image-sm absolute\" size=\"56\"><a class=\"\" href=\"/@5fb6885c2712ed8b8aa0328a\"><img class=\"cx4oas-0 eafTUo loaded\" src=\"https://lh3.googleusercontent.com/a-/AOh14GjG5REUmZH0GiztH1s3KVQ5Mwnoo7csSHaIRu4BUQ=s96-c?sz=56\" width=\"\"/></a></div><a href=\"/courses/5fb6886a56addceac864bdcd\"><div class=\"text pad-rl-15\"><h4 class=\"title marg-t-20 marg-b-10\">掌握鉤針編織邏輯：五種針法自造生活小物</h4><div class=\"meta-description\">「從初學就打好基礎」\n",
      "\n",
      "針對鉤針新手設計的鉤織課程，只要瞭解五個基礎針法，就可以享受鉤針編織無窮的變化～\n",
      "在我們設計的練習作品中，藉由反覆的編織動作，讓身體幫你加速學習。學會看懂市售編織書裡的織圖，並且獨立完成各種療癒的作品，讓編織成為你生活的陪伴。\n",
      "\n",
      "「想設計出心目中的作品」\n",
      "拆解與重組的心法傳授！\n",
      "這堂課我們會拆解鉤織的基礎原理，從簡單的點、線、面出發，\n",
      "讓看似複雜的編織化整為零，變成可以任意組合的各種元素。\n",
      "藉著控制編織變數的加與減，來探討不同編織作品之間的設計關係。\n",
      "掌握原理，編織就可以隨心所欲，嘗試設計出屬於自己的作品吧！\n",
      "</div></div></a><div class=\"proposal-section relative marg-t-20\"><div class=\"pad-rl-15 clearfix\"><div class=\"pull-left\">預購價 <span class=\"text-primary\">NT$1,980</span></div><div class=\"pull-right\">剩 29 天</div></div><div class=\"pad-rl-15\"><div class=\"\"><div class=\"dc56mr-0 pXvSR\" height=\"10\"><div class=\"dc56mr-1 bplQMx\"></div></div></div></div><div class=\"text-center pad-b-10 incubating\">已募資 7/30 人</div></div></div><div class=\"sc-10r5mg2-0 fVNHJD hh-course-brief relative block\"><div class=\"cover-wrap relative\"><a href=\"/courses/59c688e3757b61001eea421f\"><div class=\"cover-image-wrap relative\"><img alt=\"Python 推薦系統入門: 打造令人上癮的產品\" class=\"cx4oas-0 eafTUo e2e-cover-image absolute active loaded\" src=\"https://images.api.hahow.in/images/5fda2c4d21f01232f6c9490e?width=300\" width=\"\"/></div><div class=\"course-flag text-sm text-bold absolute incubating\" data-for=\"course-flag\" data-tip=\"true\">募資中</div></a><div class=\"sc-1n4z0lw-0 bLmNqp bookmark relative marg-l-15 absolute\"><div class=\"circle\"><span aria-hidden=\"true\" class=\"fa fa-bookmark-o\"></span></div></div></div><div class=\"rokpy3-0 ckWaKf profile-image profile-image-sm absolute\" size=\"56\"><a class=\"\" href=\"/@58f34fa04909c907004ac6d1\"><img class=\"cx4oas-0 eafTUo loaded\" src=\"https://graph.facebook.com/10203430988371637/picture?width=56&amp;height=56\" width=\"\"/></a></div><a href=\"/courses/59c688e3757b61001eea421f\"><div class=\"text pad-rl-15\"><h4 class=\"title marg-t-20 marg-b-10\">Python 推薦系統入門: 打造令人上癮的產品</h4><div class=\"meta-description\">本門課為 Python 推薦系統入門課程\b，主要分為三大部分\n",
      "1. 介紹推薦系統實際商業應用\n",
      "2. 學習推薦系統原理（協同過濾、矩陣分解、機器學習、深度學習）\n",
      "3. 使用 Python 打造推薦系統\n",
      "幫助想了解推薦系統的學生或是產品經理，能夠在短時間內系統性地學習推薦系統全面知識。\n",
      "\n",
      "機器學習、深度學習已經運用在各領域如影像辨識、文字/語音處理等領域並取得很大的成就。\n",
      "推薦系統也是其中一個成長非常快速的領域，目前市面上的中文學習資源並不多，當初我自己在學習時也遇到很多坑，因此希望這門課能幫助許多的人快速理解推薦系統的全貌。</div></div></a><div class=\"proposal-section relative marg-t-20\"><div class=\"pad-rl-15 clearfix\"><div class=\"pull-left\">預購價 <span class=\"text-primary\">NT$1,500</span></div><div class=\"pull-right\">剩 28 天</div></div><div class=\"pad-rl-15\"><div class=\"\"><div class=\"dc56mr-0 pXvSR\" height=\"10\"><div class=\"dc56mr-1 mYQvN\"></div></div></div></div><div class=\"text-center pad-b-10 incubating\">已募資 18/30 人</div></div></div><div class=\"sc-10r5mg2-0 fVNHJD hh-course-brief relative block\"><div class=\"cover-wrap relative\"><a href=\"/courses/5fb4be075889914b826fec27\"><div class=\"cover-image-wrap relative\"><img alt=\"堯中人像攝影創作：掌握光影發掘人像質感\" class=\"cx4oas-0 eafTUo e2e-cover-image absolute active loaded\" src=\"https://images.api.hahow.in/images/5fe1c1ddc3b3746ea2789f8b?width=300\" width=\"\"/></div><div class=\"course-flag text-sm text-bold absolute incubating\" data-for=\"course-flag\" data-tip=\"true\">募資中</div></a><div class=\"sc-1n4z0lw-0 bLmNqp bookmark relative marg-l-15 absolute\"><div class=\"circle\"><span aria-hidden=\"true\" class=\"fa fa-bookmark-o\"></span></div></div></div><div class=\"rokpy3-0 ckWaKf profile-image profile-image-sm absolute\" size=\"56\"><a class=\"\" href=\"/@5fb4bdaa43838f1492a73206\"><img class=\"cx4oas-0 eafTUo loaded\" src=\"https://images.api.hahow.in/images/5fe014ee479373f555f8607b?width=56\" width=\"\"/></a></div><a href=\"/courses/5fb4be075889914b826fec27\"><div class=\"text pad-rl-15\"><h4 class=\"title marg-t-20 marg-b-10\">堯中人像攝影創作：掌握光影發掘人像質感</h4><div class=\"meta-description\">「人像攝影創作」結合觀念解析、攝影心法、故事創作以及表達方式等融合而產出的影像作品，透過作品傳達自己對「美」的定義，成為與世間溝通的橋樑。本課程將會從堯中老師創作實務上的思維脈絡，帶領大家從0開始，一步一步告訴你人像創作的每個步驟、每個細節，張張都是好照片。</div></div></a><div class=\"proposal-section relative marg-t-20\"><div class=\"pad-rl-15 clearfix\"><div class=\"pull-left\">預購價 <span class=\"text-primary\">NT$1,800</span></div><div class=\"pull-right\">剩 27 天</div></div><div class=\"pad-rl-15\"><div class=\"\"><div class=\"dc56mr-0 pXvSR\" height=\"10\"><div class=\"dc56mr-1 iEiLuJ\"></div></div></div></div><div class=\"text-center pad-b-10 incubating\">已募資 8/50 人</div></div></div><div class=\"sc-10r5mg2-0 fVNHJD hh-course-brief relative block\"><div class=\"cover-wrap relative\"><a href=\"/courses/5fb635ee49b97e603c00f6ca\"><div class=\"cover-image-wrap relative\"><div class=\"lazyload-placeholder\" style=\"height: 0px;\"></div></div><div class=\"course-flag text-sm text-bold absolute incubating\" data-for=\"course-flag\" data-tip=\"true\">募資中</div></a><div class=\"sc-1n4z0lw-0 bLmNqp bookmark relative marg-l-15 absolute\"><div class=\"circle\"><span aria-hidden=\"true\" class=\"fa fa-bookmark-o\"></span></div></div></div><div class=\"rokpy3-0 ckWaKf profile-image profile-image-sm absolute\" size=\"56\"><a class=\"\" href=\"/@daynewdesign\"><img class=\"cx4oas-0 eafTUo loaded\" src=\"https://images.api.hahow.in/images/5fca9b53d7f42bd406312477?width=56\" width=\"\"/></a></div><a href=\"/courses/5fb635ee49b97e603c00f6ca\"><div class=\"text pad-rl-15\"><h4 class=\"title marg-t-20 marg-b-10\">日新麥克筆魔法：十支筆創造新視界－慕夏篇</h4><div class=\"meta-description\">麥克筆，一個最好上手的彩繪媒材，顏色鮮豔、硬軟雙頭設計，能應付不同技法及風格，是很多創作者的愛用媒材！\n",
      "\n",
      "在這次的課程中，日新鑽研出只需十隻筆就能完成的麥克筆技法，透過新藝術幕夏的主題，讓各位同學能夠深入了解麥克筆繪畫獨有的魅力！</div></div></a><div class=\"proposal-section relative marg-t-20\"><div class=\"pad-rl-15 clearfix\"><div class=\"pull-left\">預購價 <span class=\"text-primary\">NT$1,440</span></div><div class=\"pull-right\">剩 23 天</div></div><div class=\"pad-rl-15\"><div class=\"\"><div class=\"dc56mr-0 pXvSR\" height=\"10\"><div class=\"dc56mr-1 cpMGSi\"></div></div></div></div><div class=\"text-center pad-b-10 incubating\">已募資 28/30 人</div></div></div><div class=\"sc-10r5mg2-0 fVNHJD hh-course-brief relative block\"><div class=\"cover-wrap relative\"><a href=\"/courses/5fb5fdd083afa949558a7d88\"><div class=\"cover-image-wrap relative\"><div class=\"lazyload-placeholder\" style=\"height: 0px;\"></div></div><div class=\"course-flag text-sm text-bold absolute incubating\" data-for=\"course-flag\" data-tip=\"true\">募資中</div></a><div class=\"sc-1n4z0lw-0 bLmNqp bookmark relative marg-l-15 absolute\"><div class=\"circle\"><span aria-hidden=\"true\" class=\"fa fa-bookmark-o\"></span></div></div></div><div class=\"rokpy3-0 ckWaKf profile-image profile-image-sm absolute\" size=\"56\"><a class=\"\" href=\"/@simpleinfo\"><img class=\"cx4oas-0 eafTUo loaded\" src=\"https://images.api.hahow.in/images/5b9b16b1ca498a001e90e405?width=56\" width=\"\"/></a></div><a href=\"/courses/5fb5fdd083afa949558a7d88\"><div class=\"text pad-rl-15\"><h4 class=\"title marg-t-20 marg-b-10\">志祺的架構性思考：從資訊整理到觀點表達</h4><div class=\"meta-description\">這堂線上課程，將會從「時事議題」出發，帶你從日常的資訊瀏覽開始練習。透過經常性的運用，將能養成「架構性思考」的習慣，並將理性溝通的影響力放大到生活各個面向！</div></div></a><div class=\"proposal-section relative marg-t-20\"><div class=\"pad-rl-15 clearfix\"><div class=\"pull-left\">預購價 <span class=\"text-primary\">NT$1,480</span></div><div class=\"pull-right\">剩 22 天</div></div><div class=\"pad-rl-15\"><div class=\"\"><div class=\"dc56mr-0 pXvSR\" height=\"10\"><div class=\"dc56mr-1 bCkZMj\"></div></div></div></div><div class=\"text-center pad-b-10 incubating\">已募資 220%</div></div></div><div class=\"sc-10r5mg2-0 fVNHJD hh-course-brief relative block\"><div class=\"cover-wrap relative\"><a href=\"/courses/58d21b6c27ea7d07005fffc1\"><div class=\"cover-image-wrap relative\"><div class=\"lazyload-placeholder\" style=\"height: 0px;\"></div></div><div class=\"course-flag text-sm text-bold absolute incubating\" data-for=\"course-flag\" data-tip=\"true\">募資中</div></a><div class=\"sc-1n4z0lw-0 bLmNqp bookmark relative marg-l-15 absolute\"><div class=\"circle\"><span aria-hidden=\"true\" class=\"fa fa-bookmark-o\"></span></div></div></div><div class=\"rokpy3-0 ckWaKf profile-image profile-image-sm absolute\" size=\"56\"><a class=\"\" href=\"/@tommy7426\"><img class=\"cx4oas-0 eafTUo loaded\" src=\"https://images.api.hahow.in/images/5b3308f02c4c44004391b494?width=56\" width=\"\"/></a></div><a href=\"/courses/58d21b6c27ea7d07005fffc1\"><div class=\"text pad-rl-15\"><h4 class=\"title marg-t-20 marg-b-10\"> PS 核心技法 | 調色技法完全講解篇</h4><div class=\"meta-description\">給所有使用 PS 的攝影師或設計師，這堂課我們要完整理解數位色彩，從數位相機成像的概念到修圖製作最終輸出成品，經由這樣的過程，加上各個擊破的 PS 調色工具運用，相信你一定可以在有系統的 SOP 裡，得到前所未有的新觀念。</div></div></a><div class=\"proposal-section relative marg-t-20\"><div class=\"pad-rl-15 clearfix\"><div class=\"pull-left\">預購價 <span class=\"text-primary\">NT$1,880</span></div><div class=\"pull-right\">剩 21 天</div></div><div class=\"pad-rl-15\"><div class=\"\"><div class=\"dc56mr-0 pXvSR\" height=\"10\"><div class=\"dc56mr-1 ezmovO\"></div></div></div></div><div class=\"text-center pad-b-10 incubating\">已募資 35/50 人</div></div></div><div class=\"sc-10r5mg2-0 fVNHJD hh-course-brief relative block\"><div class=\"cover-wrap relative\"><a href=\"/courses/5fc5ee1b08b74a6e3723abd2\"><div class=\"cover-image-wrap relative\"><div class=\"lazyload-placeholder\" style=\"height: 0px;\"></div></div><div class=\"course-flag text-sm text-bold absolute success\" data-for=\"course-flag\" data-tip=\"true\">募資成功</div></a><div class=\"sc-1n4z0lw-0 bLmNqp bookmark relative marg-l-15 absolute\"><div class=\"circle\"><span aria-hidden=\"true\" class=\"fa fa-bookmark-o\"></span></div></div></div><div class=\"rokpy3-0 ckWaKf profile-image profile-image-sm absolute\" size=\"56\"><a class=\"\" href=\"/@hahowclub06\"><img class=\"cx4oas-0 eafTUo loaded\" src=\"https://images.api.hahow.in/images/5fd33bafe328c1371947db0f?width=56\" width=\"\"/></a></div><a href=\"/courses/5fc5ee1b08b74a6e3723abd2\"><div class=\"text pad-rl-15\"><h4 class=\"title marg-t-20 marg-b-10\">҉唐鳳҉數位溝通社：就這樣把你增幅</h4><div class=\"meta-description\">唐鳳帶著我們讓目光回到「粗略的共識」，分享如何通過面對面、線上、同步、非同步、共同創作迷因等方式，有效溝通，增幅彼此。\n",
      "</div></div></a><div class=\"proposal-section relative marg-t-20\"><div class=\"pad-rl-15 clearfix\"><div class=\"pull-left\">售價 <span class=\"text-secondary\">NT$0</span></div><div class=\"pull-right\">即將開課</div></div><div class=\"pad-rl-15\"><div class=\"\"><div class=\"dc56mr-0 pXvSR\" height=\"10\"><div class=\"dc56mr-1 edbZsM\"></div></div></div></div><div class=\"text-center pad-b-10 success\">已募資 12580%</div></div></div><div class=\"sc-10r5mg2-0 fVNHJD hh-course-brief relative block\"><div class=\"cover-wrap relative\"><a href=\"/courses/5fc5ede3e95155ca6ac06ba2\"><div class=\"cover-image-wrap relative\"><div class=\"lazyload-placeholder\" style=\"height: 0px;\"></div></div><div class=\"course-flag text-sm text-bold absolute success\" data-for=\"course-flag\" data-tip=\"true\">募資成功</div></a><div class=\"sc-1n4z0lw-0 bLmNqp bookmark relative marg-l-15 absolute\"><div class=\"circle\"><span aria-hidden=\"true\" class=\"fa fa-bookmark-o\"></span></div></div></div><div class=\"rokpy3-0 ckWaKf profile-image profile-image-sm absolute\" size=\"56\"><a class=\"\" href=\"/@hahowclub05\"><div class=\"lazyload-placeholder\" style=\"height: 56px;\"></div></a></div><a href=\"/courses/5fc5ede3e95155ca6ac06ba2\"><div class=\"text pad-rl-15\"><h4 class=\"title marg-t-20 marg-b-10\">四叉貓網美談資社：美少女反串溝通愛心光波</h4><div class=\"meta-description\">聽四叉貓說故事：他如何勤跑造勢場當作參加派對，如何與異溫層共度歡樂時光、結交立場不同的好朋友。四叉貓也會分享對議題娛樂化的看法，以及他如何在公民參與中找尋自己的快樂、創造鄉民的歡樂。</div></div></a><div class=\"proposal-section relative marg-t-20\"><div class=\"pad-rl-15 clearfix\"><div class=\"pull-left\">售價 <span class=\"text-secondary\">NT$249</span></div><div class=\"pull-right\">即將開課</div></div><div class=\"pad-rl-15\"><div class=\"\"><div class=\"dc56mr-0 pXvSR\" height=\"10\"><div class=\"dc56mr-1 hfVMnG\"></div></div></div></div><div class=\"text-center pad-b-10 success\">已募資 3520%</div></div></div><div class=\"sc-10r5mg2-0 fVNHJD hh-course-brief relative block\"><div class=\"cover-wrap relative\"><a href=\"/courses/5fc5ed3fe951550e34c06b70\"><div class=\"cover-image-wrap relative\"><div class=\"lazyload-placeholder\" style=\"height: 0px;\"></div></div><div class=\"course-flag text-sm text-bold absolute published\" data-for=\"course-flag\" data-tip=\"true\">上課囉</div></a><div class=\"sc-1n4z0lw-0 bLmNqp bookmark relative marg-l-15 absolute\"><div class=\"circle\"><span aria-hidden=\"true\" class=\"fa fa-bookmark-o\"></span></div></div></div><div class=\"rokpy3-0 ckWaKf profile-image profile-image-sm absolute\" size=\"56\"><a class=\"\" href=\"/@hahowclub02\"><div class=\"lazyload-placeholder\" style=\"height: 56px;\"></div></a></div><a href=\"/courses/5fc5ed3fe951550e34c06b70\"><div class=\"text pad-rl-15\"><h4 class=\"title marg-t-20 marg-b-10\">楊大正台語詞創社：咱就大力來寫著歌</h4><div class=\"meta-description\">楊大正以《長途夜車》、《島嶼天光》、《百年追求》等大量滅火器歌詞為例，分享自己創作台語歌詞的歷程與方法。</div></div></a><div class=\"course-section marg-t-20\"><div class=\"pad-rl-15\"><div class=\"rating\"><div class=\"star-ratings\" style=\"position: relative; box-sizing: border-box; display: inline-block;\" title=\"5 Stars\"><svg class=\"star-grad\" style=\"position: absolute; z-index: 0; width: 10px; height: 10px;\"><defs><lineargradient id=\"starGrad478258849052332\" x1=\"0%\" x2=\"100%\" y1=\"0%\" y2=\"0%\"><stop class=\"stop-color-first\" offset=\"0%\" style=\"stop-color: rgb(255, 177, 21); stop-opacity: 1;\"></stop><stop class=\"stop-color-first\" offset=\"0%\" style=\"stop-color: rgb(255, 177, 21); stop-opacity: 1;\"></stop><stop class=\"stop-color-final\" offset=\"0%\" style=\"stop-color: rgb(204, 204, 204); stop-opacity: 1;\"></stop><stop class=\"stop-color-final\" offset=\"100%\" style=\"stop-color: rgb(204, 204, 204); stop-opacity: 1;\"></stop></lineargradient></defs></svg><div class=\"star-container\" style=\"position: relative; display: inline-block; vertical-align: top; padding-right: 0px;\"><svg class=\"star-svg star-level\" style=\"width: 16px; height: 16px; transition: transform 0.2s ease-in-out 0s;\" viewbox=\"0 0 25 25\"><path class=\"star\" d=\"M12.12.52l2.56,5.72a1,1,0,0,0,.76.55l6.23.67a.94.94,0,0,1,.53,1.63l-4.65,4.2a.93.93,0,0,0-.29.89l1.29,6.14a.93.93,0,0,1-1.38,1L11.73,18.2a.93.93,0,0,0-.94,0L5.36,21.32a.94.94,0,0,1-1.39-1l1.29-6.14A.93.93,0,0,0,5,13.29L.32,9.09A.94.94,0,0,1,.85,7.46l6.24-.67a.94.94,0,0,0,.75-.55L10.41.52A.94.94,0,0,1,12.12.52Z\" style=\"fill: rgb(255, 177, 21); transition: fill 0.2s ease-in-out 0s;\"></path></svg></div><div class=\"star-container\" style=\"position: relative; display: inline-block; vertical-align: top; padding-left: 0px; padding-right: 0px;\"><svg class=\"star-svg star-level\" style=\"width: 16px; height: 16px; transition: transform 0.2s ease-in-out 0s;\" viewbox=\"0 0 25 25\"><path class=\"star\" d=\"M12.12.52l2.56,5.72a1,1,0,0,0,.76.55l6.23.67a.94.94,0,0,1,.53,1.63l-4.65,4.2a.93.93,0,0,0-.29.89l1.29,6.14a.93.93,0,0,1-1.38,1L11.73,18.2a.93.93,0,0,0-.94,0L5.36,21.32a.94.94,0,0,1-1.39-1l1.29-6.14A.93.93,0,0,0,5,13.29L.32,9.09A.94.94,0,0,1,.85,7.46l6.24-.67a.94.94,0,0,0,.75-.55L10.41.52A.94.94,0,0,1,12.12.52Z\" style=\"fill: rgb(255, 177, 21); transition: fill 0.2s ease-in-out 0s;\"></path></svg></div><div class=\"star-container\" style=\"position: relative; display: inline-block; vertical-align: top; padding-left: 0px; padding-right: 0px;\"><svg class=\"star-svg star-level\" style=\"width: 16px; height: 16px; transition: transform 0.2s ease-in-out 0s;\" viewbox=\"0 0 25 25\"><path class=\"star\" d=\"M12.12.52l2.56,5.72a1,1,0,0,0,.76.55l6.23.67a.94.94,0,0,1,.53,1.63l-4.65,4.2a.93.93,0,0,0-.29.89l1.29,6.14a.93.93,0,0,1-1.38,1L11.73,18.2a.93.93,0,0,0-.94,0L5.36,21.32a.94.94,0,0,1-1.39-1l1.29-6.14A.93.93,0,0,0,5,13.29L.32,9.09A.94.94,0,0,1,.85,7.46l6.24-.67a.94.94,0,0,0,.75-.55L10.41.52A.94.94,0,0,1,12.12.52Z\" style=\"fill: rgb(255, 177, 21); transition: fill 0.2s ease-in-out 0s;\"></path></svg></div><div class=\"star-container\" style=\"position: relative; display: inline-block; vertical-align: top; padding-left: 0px; padding-right: 0px;\"><svg class=\"star-svg star-level\" style=\"width: 16px; height: 16px; transition: transform 0.2s ease-in-out 0s;\" viewbox=\"0 0 25 25\"><path class=\"star\" d=\"M12.12.52l2.56,5.72a1,1,0,0,0,.76.55l6.23.67a.94.94,0,0,1,.53,1.63l-4.65,4.2a.93.93,0,0,0-.29.89l1.29,6.14a.93.93,0,0,1-1.38,1L11.73,18.2a.93.93,0,0,0-.94,0L5.36,21.32a.94.94,0,0,1-1.39-1l1.29-6.14A.93.93,0,0,0,5,13.29L.32,9.09A.94.94,0,0,1,.85,7.46l6.24-.67a.94.94,0,0,0,.75-.55L10.41.52A.94.94,0,0,1,12.12.52Z\" style=\"fill: rgb(255, 177, 21); transition: fill 0.2s ease-in-out 0s;\"></path></svg></div><div class=\"star-container\" style=\"position: relative; display: inline-block; vertical-align: top; padding-left: 0px;\"><svg class=\"star-svg star-level\" style=\"width: 16px; height: 16px; transition: transform 0.2s ease-in-out 0s;\" viewbox=\"0 0 25 25\"><path class=\"star\" d=\"M12.12.52l2.56,5.72a1,1,0,0,0,.76.55l6.23.67a.94.94,0,0,1,.53,1.63l-4.65,4.2a.93.93,0,0,0-.29.89l1.29,6.14a.93.93,0,0,1-1.38,1L11.73,18.2a.93.93,0,0,0-.94,0L5.36,21.32a.94.94,0,0,1-1.39-1l1.29-6.14A.93.93,0,0,0,5,13.29L.32,9.09A.94.94,0,0,1,.85,7.46l6.24-.67a.94.94,0,0,0,.75-.55L10.41.52A.94.94,0,0,1,12.12.52Z\" style=\"fill: rgb(255, 177, 21); transition: fill 0.2s ease-in-out 0s;\"></path></svg></div></div> 8 則評價</div></div><div class=\"pad-rl-15 clearfix\"><div class=\"pull-left\">課時 43 分鐘</div></div><div class=\"course-info pad-rl-15 pad-t-5 pad-b-15 clearfix\"><div class=\"pull-left\">同學<span> 1076 人</span></div><div class=\"pull-right\"><span class=\"text-secondary pricing\">NT$249</span></div></div></div></div><div class=\"sc-10r5mg2-0 fVNHJD hh-course-brief relative block\"><div class=\"cover-wrap relative\"><a href=\"/courses/5fc5ecf3001c915079ab8e36\"><div class=\"cover-image-wrap relative\"><div class=\"lazyload-placeholder\" style=\"height: 0px;\"></div></div><div class=\"course-flag text-sm text-bold absolute published\" data-for=\"course-flag\" data-tip=\"true\">上課囉</div></a><div class=\"sc-1n4z0lw-0 bLmNqp bookmark relative marg-l-15 absolute\"><div class=\"circle\"><span aria-hidden=\"true\" class=\"fa fa-bookmark-o\"></span></div></div></div><div class=\"rokpy3-0 ckWaKf profile-image profile-image-sm absolute\" size=\"56\"><a class=\"\" href=\"/@hahowclub01\"><div class=\"lazyload-placeholder\" style=\"height: 56px;\"></div></a></div><a href=\"/courses/5fc5ecf3001c915079ab8e36\"><div class=\"text pad-rl-15\"><h4 class=\"title marg-t-20 marg-b-10\">大支嘻哈研究社：饒舌饒出台灣味</h4><div class=\"meta-description\">大支講解饒舌基本元素「Flow、押韻、歌詞、Beats」及其創作要點，用自己的作品《走到飛》、《音政樂治》等當作範例，並分享他一路走來的創作歷程。如果你好奇饒舌歌手的創作方法，或是想進一步認識台灣的嘻哈精神、曲風與故事，歡迎加入 Hahow 嘻研社！</div></div></a><div class=\"course-section marg-t-20\"><div class=\"pad-rl-15\"><div class=\"rating\"><div class=\"star-ratings\" style=\"position: relative; box-sizing: border-box; display: inline-block;\" title=\"5 Stars\"><svg class=\"star-grad\" style=\"position: absolute; z-index: 0; width: 10px; height: 10px;\"><defs><lineargradient id=\"starGrad373311599525034\" x1=\"0%\" x2=\"100%\" y1=\"0%\" y2=\"0%\"><stop class=\"stop-color-first\" offset=\"0%\" style=\"stop-color: rgb(255, 177, 21); stop-opacity: 1;\"></stop><stop class=\"stop-color-first\" offset=\"0%\" style=\"stop-color: rgb(255, 177, 21); stop-opacity: 1;\"></stop><stop class=\"stop-color-final\" offset=\"0%\" style=\"stop-color: rgb(204, 204, 204); stop-opacity: 1;\"></stop><stop class=\"stop-color-final\" offset=\"100%\" style=\"stop-color: rgb(204, 204, 204); stop-opacity: 1;\"></stop></lineargradient></defs></svg><div class=\"star-container\" style=\"position: relative; display: inline-block; vertical-align: top; padding-right: 0px;\"><svg class=\"star-svg star-level\" style=\"width: 16px; height: 16px; transition: transform 0.2s ease-in-out 0s;\" viewbox=\"0 0 25 25\"><path class=\"star\" d=\"M12.12.52l2.56,5.72a1,1,0,0,0,.76.55l6.23.67a.94.94,0,0,1,.53,1.63l-4.65,4.2a.93.93,0,0,0-.29.89l1.29,6.14a.93.93,0,0,1-1.38,1L11.73,18.2a.93.93,0,0,0-.94,0L5.36,21.32a.94.94,0,0,1-1.39-1l1.29-6.14A.93.93,0,0,0,5,13.29L.32,9.09A.94.94,0,0,1,.85,7.46l6.24-.67a.94.94,0,0,0,.75-.55L10.41.52A.94.94,0,0,1,12.12.52Z\" style=\"fill: rgb(255, 177, 21); transition: fill 0.2s ease-in-out 0s;\"></path></svg></div><div class=\"star-container\" style=\"position: relative; display: inline-block; vertical-align: top; padding-left: 0px; padding-right: 0px;\"><svg class=\"star-svg star-level\" style=\"width: 16px; height: 16px; transition: transform 0.2s ease-in-out 0s;\" viewbox=\"0 0 25 25\"><path class=\"star\" d=\"M12.12.52l2.56,5.72a1,1,0,0,0,.76.55l6.23.67a.94.94,0,0,1,.53,1.63l-4.65,4.2a.93.93,0,0,0-.29.89l1.29,6.14a.93.93,0,0,1-1.38,1L11.73,18.2a.93.93,0,0,0-.94,0L5.36,21.32a.94.94,0,0,1-1.39-1l1.29-6.14A.93.93,0,0,0,5,13.29L.32,9.09A.94.94,0,0,1,.85,7.46l6.24-.67a.94.94,0,0,0,.75-.55L10.41.52A.94.94,0,0,1,12.12.52Z\" style=\"fill: rgb(255, 177, 21); transition: fill 0.2s ease-in-out 0s;\"></path></svg></div><div class=\"star-container\" style=\"position: relative; display: inline-block; vertical-align: top; padding-left: 0px; padding-right: 0px;\"><svg class=\"star-svg star-level\" style=\"width: 16px; height: 16px; transition: transform 0.2s ease-in-out 0s;\" viewbox=\"0 0 25 25\"><path class=\"star\" d=\"M12.12.52l2.56,5.72a1,1,0,0,0,.76.55l6.23.67a.94.94,0,0,1,.53,1.63l-4.65,4.2a.93.93,0,0,0-.29.89l1.29,6.14a.93.93,0,0,1-1.38,1L11.73,18.2a.93.93,0,0,0-.94,0L5.36,21.32a.94.94,0,0,1-1.39-1l1.29-6.14A.93.93,0,0,0,5,13.29L.32,9.09A.94.94,0,0,1,.85,7.46l6.24-.67a.94.94,0,0,0,.75-.55L10.41.52A.94.94,0,0,1,12.12.52Z\" style=\"fill: rgb(255, 177, 21); transition: fill 0.2s ease-in-out 0s;\"></path></svg></div><div class=\"star-container\" style=\"position: relative; display: inline-block; vertical-align: top; padding-left: 0px; padding-right: 0px;\"><svg class=\"star-svg star-level\" style=\"width: 16px; height: 16px; transition: transform 0.2s ease-in-out 0s;\" viewbox=\"0 0 25 25\"><path class=\"star\" d=\"M12.12.52l2.56,5.72a1,1,0,0,0,.76.55l6.23.67a.94.94,0,0,1,.53,1.63l-4.65,4.2a.93.93,0,0,0-.29.89l1.29,6.14a.93.93,0,0,1-1.38,1L11.73,18.2a.93.93,0,0,0-.94,0L5.36,21.32a.94.94,0,0,1-1.39-1l1.29-6.14A.93.93,0,0,0,5,13.29L.32,9.09A.94.94,0,0,1,.85,7.46l6.24-.67a.94.94,0,0,0,.75-.55L10.41.52A.94.94,0,0,1,12.12.52Z\" style=\"fill: rgb(255, 177, 21); transition: fill 0.2s ease-in-out 0s;\"></path></svg></div><div class=\"star-container\" style=\"position: relative; display: inline-block; vertical-align: top; padding-left: 0px;\"><svg class=\"star-svg star-level\" style=\"width: 16px; height: 16px; transition: transform 0.2s ease-in-out 0s;\" viewbox=\"0 0 25 25\"><path class=\"star\" d=\"M12.12.52l2.56,5.72a1,1,0,0,0,.76.55l6.23.67a.94.94,0,0,1,.53,1.63l-4.65,4.2a.93.93,0,0,0-.29.89l1.29,6.14a.93.93,0,0,1-1.38,1L11.73,18.2a.93.93,0,0,0-.94,0L5.36,21.32a.94.94,0,0,1-1.39-1l1.29-6.14A.93.93,0,0,0,5,13.29L.32,9.09A.94.94,0,0,1,.85,7.46l6.24-.67a.94.94,0,0,0,.75-.55L10.41.52A.94.94,0,0,1,12.12.52Z\" style=\"fill: rgb(255, 177, 21); transition: fill 0.2s ease-in-out 0s;\"></path></svg></div></div> 14 則評價</div></div><div class=\"pad-rl-15 clearfix\"><div class=\"pull-left\">課時 45 分鐘</div></div><div class=\"course-info pad-rl-15 pad-t-5 pad-b-15 clearfix\"><div class=\"pull-left\">同學<span> 1082 人</span></div><div class=\"pull-right\"><span class=\"text-secondary pricing\">NT$249</span></div></div></div></div><div class=\"sc-10r5mg2-0 fVNHJD hh-course-brief relative block\"><div class=\"cover-wrap relative\"><a href=\"/courses/5fc5ed671be929537e5283bb\"><div class=\"cover-image-wrap relative\"><div class=\"lazyload-placeholder\" style=\"height: 0px;\"></div></div><div class=\"course-flag text-sm text-bold absolute success\" data-for=\"course-flag\" data-tip=\"true\">募資成功</div></a><div class=\"sc-1n4z0lw-0 bLmNqp bookmark relative marg-l-15 absolute\"><div class=\"circle\"><span aria-hidden=\"true\" class=\"fa fa-bookmark-o\"></span></div></div></div><div class=\"rokpy3-0 ckWaKf profile-image profile-image-sm absolute\" size=\"56\"><a class=\"\" href=\"/@hahowclub03\"><div class=\"lazyload-placeholder\" style=\"height: 56px;\"></div></a></div><a href=\"/courses/5fc5ed671be929537e5283bb\"><div class=\"text pad-rl-15\"><h4 class=\"title marg-t-20 marg-b-10\">賴品妤 Cosplay 社：ㄘ我的二次元替身攻擊</h4><div class=\"meta-description\">Cosplay 十年以上的賴品妤，從 Cosplay 時的物理「易容」、提升質感關鍵細節、拍攝企劃與執行等方面，分享她精美 Cosplay 作品背後的理想與現實，還有作為 Coser 的執著與樂趣。</div></div></a><div class=\"proposal-section relative marg-t-20\"><div class=\"pad-rl-15 clearfix\"><div class=\"pull-left\">售價 <span class=\"text-secondary\">NT$0</span></div><div class=\"pull-right\">即將開課</div></div><div class=\"pad-rl-15\"><div class=\"\"><div class=\"dc56mr-0 pXvSR\" height=\"10\"><div class=\"dc56mr-1 fcpxiW\"></div></div></div></div><div class=\"text-center pad-b-10 success\">已募資 7153%</div></div></div><div class=\"sc-10r5mg2-0 fVNHJD hh-course-brief relative block\"><div class=\"cover-wrap relative\"><a href=\"/courses/5fc5edae001c9102feab8ecf\"><div class=\"cover-image-wrap relative\"><div class=\"lazyload-placeholder\" style=\"height: 0px;\"></div></div><div class=\"course-flag text-sm text-bold absolute success\" data-for=\"course-flag\" data-tip=\"true\">募資成功</div></a><div class=\"sc-1n4z0lw-0 bLmNqp bookmark relative marg-l-15 absolute\"><div class=\"circle\"><span aria-hidden=\"true\" class=\"fa fa-bookmark-o\"></span></div></div></div><div class=\"rokpy3-0 ckWaKf profile-image profile-image-sm absolute\" size=\"56\"><a class=\"\" href=\"/@hahowclub04\"><div class=\"lazyload-placeholder\" style=\"height: 56px;\"></div></a></div><a href=\"/courses/5fc5edae001c9102feab8ecf\"><div class=\"text pad-rl-15\"><h4 class=\"title marg-t-20 marg-b-10\">月月鳥昆蟲研究社：跟鄭運鵬變身甲蟲王</h4><div class=\"meta-description\">藉由觀察「大王花金龜」、「長戟大兜蟲」活體及其他甲蟲標本，認識甲蟲從卵、幼蟲、蛹到成蟲各階段飼養方式，最後學習自製甲蟲標本，欣賞甲蟲生命之美。</div></div></a><div class=\"proposal-section relative marg-t-20\"><div class=\"pad-rl-15 clearfix\"><div class=\"pull-left\">售價 <span class=\"text-secondary\">NT$0</span></div><div class=\"pull-right\">即將開課</div></div><div class=\"pad-rl-15\"><div class=\"\"><div class=\"dc56mr-0 pXvSR\" height=\"10\"><div class=\"dc56mr-1 eqIeqG\"></div></div></div></div><div class=\"text-center pad-b-10 success\">已募資 6710%</div></div></div><div class=\"sc-10r5mg2-0 fVNHJD hh-course-brief relative block\"><div class=\"cover-wrap relative\"><a href=\"/courses/5f76847349fac446f5494e20\"><div class=\"cover-image-wrap relative\"><div class=\"lazyload-placeholder\" style=\"height: 0px;\"></div></div><div class=\"course-flag text-sm text-bold absolute incubating\" data-for=\"course-flag\" data-tip=\"true\">募資中</div></a><div class=\"sc-1n4z0lw-0 bLmNqp bookmark relative marg-l-15 absolute\"><div class=\"circle\"><span aria-hidden=\"true\" class=\"fa fa-bookmark-o\"></span></div></div></div><div class=\"rokpy3-0 ckWaKf profile-image profile-image-sm absolute\" size=\"56\"><a class=\"\" href=\"/@ur1130\"><div class=\"lazyload-placeholder\" style=\"height: 56px;\"></div></a></div><a href=\"/courses/5f76847349fac446f5494e20\"><div class=\"text pad-rl-15\"><h4 class=\"title marg-t-20 marg-b-10\">人像外拍打燈精進：有趣的L角佈燈守則</h4><div class=\"meta-description\">人像外拍打燈一直是教學課程中的大宗，但也是最難學習的一環；無非是外拍的場景是多樣性的。在這堂課中，我會利用我獨特的 L 角佈燈心法，配上 8 種不同的場景，讓大家了解只要掌握這樣的心法，你在不同的場景中，也能打出屬於自己的光線！</div></div></a><div class=\"proposal-section relative marg-t-20\"><div class=\"pad-rl-15 clearfix\"><div class=\"pull-left\">預購價 <span class=\"text-primary\">NT$1,990</span></div><div class=\"pull-right\">剩 16 天</div></div><div class=\"pad-rl-15\"><div class=\"\"><div class=\"dc56mr-0 pXvSR\" height=\"10\"><div class=\"dc56mr-1 cHYOMk\"></div></div></div></div><div class=\"text-center pad-b-10 incubating\">已募資 133%</div></div></div><div class=\"sc-10r5mg2-0 fVNHJD hh-course-brief relative block\"><div class=\"cover-wrap relative\"><a href=\"/courses/5fb68b7e2712ed3cc7a03448\"><div class=\"cover-image-wrap relative\"><div class=\"lazyload-placeholder\" style=\"height: 0px;\"></div></div><div class=\"course-flag text-sm text-bold absolute incubating\" data-for=\"course-flag\" data-tip=\"true\">募資中</div></a><div class=\"sc-1n4z0lw-0 bLmNqp bookmark relative marg-l-15 absolute\"><div class=\"circle\"><span aria-hidden=\"true\" class=\"fa fa-bookmark-o\"></span></div></div></div><div class=\"rokpy3-0 ckWaKf profile-image profile-image-sm absolute\" size=\"56\"><a class=\"\" href=\"/@5fb68b712712edee5ca0343a\"><div class=\"lazyload-placeholder\" style=\"height: 56px;\"></div></a></div><a href=\"/courses/5fb68b7e2712ed3cc7a03448\"><div class=\"text pad-rl-15\"><h4 class=\"title marg-t-20 marg-b-10\">人氣喫茶店 KADOYA 主廚帶你做日式洋菓子</h4><div class=\"meta-description\">本課程為初階帶領各位進入日式甜點的課程，老師直接教您實戰，跟您分享如何在短時間內製作出美味的人氣甜點！\n",
      "課程中教您的口味還可自行調配，無論是販售或者招待貴賓，不用再去買不愛的甜點。\n",
      "餐廳的飯後點心，也可自行製作，不用再靠批發，減少報廢，增加利潤。</div></div></a><div class=\"proposal-section relative marg-t-20\"><div class=\"pad-rl-15 clearfix\"><div class=\"pull-left\">預購價 <span class=\"text-primary\">NT$2,000</span></div><div class=\"pull-right\">剩 15 天</div></div><div class=\"pad-rl-15\"><div class=\"\"><div class=\"dc56mr-0 pXvSR\" height=\"10\"><div class=\"dc56mr-1 jNFjyB\"></div></div></div></div><div class=\"text-center pad-b-10 incubating\">已募資 15/40 人</div></div></div><div class=\"sc-10r5mg2-0 fVNHJD hh-course-brief relative block\"><div class=\"cover-wrap relative\"><a href=\"/courses/5f8809ad8135f45669bf445e\"><div class=\"cover-image-wrap relative\"><div class=\"lazyload-placeholder\" style=\"height: 0px;\"></div></div><div class=\"course-flag text-sm text-bold absolute incubating\" data-for=\"course-flag\" data-tip=\"true\">募資中</div></a><div class=\"sc-1n4z0lw-0 bLmNqp bookmark relative marg-l-15 absolute\"><div class=\"circle\"><span aria-hidden=\"true\" class=\"fa fa-bookmark-o\"></span></div></div></div><div class=\"rokpy3-0 ckWaKf profile-image profile-image-sm absolute\" size=\"56\"><a class=\"\" href=\"/@gvmkt3688\"><div class=\"lazyload-placeholder\" style=\"height: 56px;\"></div></a></div><a href=\"/courses/5f8809ad8135f45669bf445e\"><div class=\"text pad-rl-15\"><h4 class=\"title marg-t-20 marg-b-10\">你適合買房嗎？給居住焦慮世代的購屋指南</h4><div class=\"meta-description\">房地產的真相到底是什麼？購買人生最昂貴的資產，絕對不能被市場的話術擺布！房地產專家張金鶚將教你找出合適的住房策略，做出正確判斷。</div></div></a><div class=\"proposal-section relative marg-t-20\"><div class=\"pad-rl-15 clearfix\"><div class=\"pull-left\">預購價 <span class=\"text-primary\">NT$880</span></div><div class=\"pull-right\">剩 14 天</div></div><div class=\"pad-rl-15\"><div class=\"\"><div class=\"dc56mr-0 pXvSR\" height=\"10\"><div class=\"dc56mr-1 gnKzXm\"></div></div></div></div><div class=\"text-center pad-b-10 incubating\">已募資 247%</div></div></div><div class=\"sc-10r5mg2-0 fVNHJD hh-course-brief relative block\"><div class=\"cover-wrap relative\"><a href=\"/courses/5f5b2b4fe3dbc5c86eb9429f\"><div class=\"cover-image-wrap relative\"><div class=\"lazyload-placeholder\" style=\"height: 0px;\"></div></div><div class=\"course-flag text-sm text-bold absolute incubating\" data-for=\"course-flag\" data-tip=\"true\">募資中</div></a><div class=\"sc-1n4z0lw-0 bLmNqp bookmark relative marg-l-15 absolute\"><div class=\"circle\"><span aria-hidden=\"true\" class=\"fa fa-bookmark-o\"></span></div></div></div><div class=\"rokpy3-0 ckWaKf profile-image profile-image-sm absolute\" size=\"56\"><a class=\"\" href=\"/@lilypodcaster\"><div class=\"lazyload-placeholder\" style=\"height: 56px;\"></div></a></div><a href=\"/courses/5f5b2b4fe3dbc5c86eb9429f\"><div class=\"text pad-rl-15\"><h4 class=\"title marg-t-20 marg-b-10\">發展無限的 iPodcast-揭開播客教練的獲利模式</h4><div class=\"meta-description\">「想靠 Podcast 節目賺錢，難嗎？」\n",
      "\n",
      "Lily 教練說：「我想教的東西，越簡單越好，要讓學員容易上手，有興趣繼續做下去，只要他是有料的，一定可以得到收穫。」</div></div></a><div class=\"proposal-section relative marg-t-20\"><div class=\"pad-rl-15 clearfix\"><div class=\"pull-left\">預購價 <span class=\"text-primary\">NT$1,200</span></div><div class=\"pull-right\">剩 13 天</div></div><div class=\"pad-rl-15\"><div class=\"\"><div class=\"dc56mr-0 pXvSR\" height=\"10\"><div class=\"dc56mr-1 hUrrVR\"></div></div></div></div><div class=\"text-center pad-b-10 incubating\">已募資 10/50 人</div></div></div><div class=\"sc-10r5mg2-0 fVNHJD hh-course-brief relative block\"><div class=\"cover-wrap relative\"><a href=\"/courses/5f18ec643ad0ad0219eb357a\"><div class=\"cover-image-wrap relative\"><div class=\"lazyload-placeholder\" style=\"height: 0px;\"></div></div><div class=\"course-flag text-sm text-bold absolute incubating\" data-for=\"course-flag\" data-tip=\"true\">募資中</div></a><div class=\"sc-1n4z0lw-0 bLmNqp bookmark relative marg-l-15 absolute\"><div class=\"circle\"><span aria-hidden=\"true\" class=\"fa fa-bookmark-o\"></span></div></div></div><div class=\"rokpy3-0 ckWaKf profile-image profile-image-sm absolute\" size=\"56\"><a class=\"\" href=\"/@flowers42\"><div class=\"lazyload-placeholder\" style=\"height: 56px;\"></div></a></div><a href=\"/courses/5f18ec643ad0ad0219eb357a\"><div class=\"text pad-rl-15\"><h4 class=\"title marg-t-20 marg-b-10\">量價交易精隨：打造股票、期貨完美交易策略</h4><div class=\"meta-description\">量能與價格是金融市場完美的交易手法，確實掌握量價技巧，散戶也能成為別人眼裡的交易大師。跟著諒諒學交易，開創自己的交易事業。</div></div></a><div class=\"proposal-section relative marg-t-20\"><div class=\"pad-rl-15 clearfix\"><div class=\"pull-left\">預購價 <span class=\"text-primary\">NT$3,000</span></div><div class=\"pull-right\">剩 9 天</div></div><div class=\"pad-rl-15\"><div class=\"\"><div class=\"dc56mr-0 pXvSR\" height=\"10\"><div class=\"dc56mr-1 GidXz\"></div></div></div></div><div class=\"text-center pad-b-10 incubating\">已募資 583%</div></div></div><div class=\"sc-10r5mg2-0 fVNHJD hh-course-brief relative block\"><div class=\"cover-wrap relative\"><a href=\"/courses/5f59ff38f24eac1485f8097f\"><div class=\"cover-image-wrap relative\"><div class=\"lazyload-placeholder\" style=\"height: 0px;\"></div></div><div class=\"course-flag text-sm text-bold absolute published\" data-for=\"course-flag\" data-tip=\"true\">上課囉</div></a><div class=\"sc-1n4z0lw-0 bLmNqp bookmark relative marg-l-15 absolute\"><div class=\"circle\"><span aria-hidden=\"true\" class=\"fa fa-bookmark-o\"></span></div></div></div><div class=\"rokpy3-0 ckWaKf profile-image profile-image-sm absolute\" size=\"56\"><a class=\"\" href=\"/@rachel0703\"><div class=\"lazyload-placeholder\" style=\"height: 56px;\"></div></a></div><a href=\"/courses/5f59ff38f24eac1485f8097f\"><div class=\"text pad-rl-15\"><h4 class=\"title marg-t-20 marg-b-10\">掌握關鍵數據，黃金、原油投資高勝率全攻略</h4><div class=\"meta-description\">黃金與原油，一直是市場最受矚目的兩項投資商品！油價變動反應通膨，影響聯準會決策，進而牽動全球資本市場的行情 ; 而黃金保值、稀少等優勢，亦使它在歷史上一直保有商品及貨幣的特殊雙重地位。</div></div></a><div class=\"course-section marg-t-20\"><div class=\"pad-rl-15\"><div class=\"rating\"><div class=\"star-ratings\" style=\"position: relative; box-sizing: border-box; display: inline-block;\" title=\"5 Stars\"><svg class=\"star-grad\" style=\"position: absolute; z-index: 0; width: 10px; height: 10px;\"><defs><lineargradient id=\"starGrad868670699942103\" x1=\"0%\" x2=\"100%\" y1=\"0%\" y2=\"0%\"><stop class=\"stop-color-first\" offset=\"0%\" style=\"stop-color: rgb(255, 177, 21); stop-opacity: 1;\"></stop><stop class=\"stop-color-first\" offset=\"0%\" style=\"stop-color: rgb(255, 177, 21); stop-opacity: 1;\"></stop><stop class=\"stop-color-final\" offset=\"0%\" style=\"stop-color: rgb(204, 204, 204); stop-opacity: 1;\"></stop><stop class=\"stop-color-final\" offset=\"100%\" style=\"stop-color: rgb(204, 204, 204); stop-opacity: 1;\"></stop></lineargradient></defs></svg><div class=\"star-container\" style=\"position: relative; display: inline-block; vertical-align: top; padding-right: 0px;\"><svg class=\"star-svg star-level\" style=\"width: 16px; height: 16px; transition: transform 0.2s ease-in-out 0s;\" viewbox=\"0 0 25 25\"><path class=\"star\" d=\"M12.12.52l2.56,5.72a1,1,0,0,0,.76.55l6.23.67a.94.94,0,0,1,.53,1.63l-4.65,4.2a.93.93,0,0,0-.29.89l1.29,6.14a.93.93,0,0,1-1.38,1L11.73,18.2a.93.93,0,0,0-.94,0L5.36,21.32a.94.94,0,0,1-1.39-1l1.29-6.14A.93.93,0,0,0,5,13.29L.32,9.09A.94.94,0,0,1,.85,7.46l6.24-.67a.94.94,0,0,0,.75-.55L10.41.52A.94.94,0,0,1,12.12.52Z\" style=\"fill: rgb(255, 177, 21); transition: fill 0.2s ease-in-out 0s;\"></path></svg></div><div class=\"star-container\" style=\"position: relative; display: inline-block; vertical-align: top; padding-left: 0px; padding-right: 0px;\"><svg class=\"star-svg star-level\" style=\"width: 16px; height: 16px; transition: transform 0.2s ease-in-out 0s;\" viewbox=\"0 0 25 25\"><path class=\"star\" d=\"M12.12.52l2.56,5.72a1,1,0,0,0,.76.55l6.23.67a.94.94,0,0,1,.53,1.63l-4.65,4.2a.93.93,0,0,0-.29.89l1.29,6.14a.93.93,0,0,1-1.38,1L11.73,18.2a.93.93,0,0,0-.94,0L5.36,21.32a.94.94,0,0,1-1.39-1l1.29-6.14A.93.93,0,0,0,5,13.29L.32,9.09A.94.94,0,0,1,.85,7.46l6.24-.67a.94.94,0,0,0,.75-.55L10.41.52A.94.94,0,0,1,12.12.52Z\" style=\"fill: rgb(255, 177, 21); transition: fill 0.2s ease-in-out 0s;\"></path></svg></div><div class=\"star-container\" style=\"position: relative; display: inline-block; vertical-align: top; padding-left: 0px; padding-right: 0px;\"><svg class=\"star-svg star-level\" style=\"width: 16px; height: 16px; transition: transform 0.2s ease-in-out 0s;\" viewbox=\"0 0 25 25\"><path class=\"star\" d=\"M12.12.52l2.56,5.72a1,1,0,0,0,.76.55l6.23.67a.94.94,0,0,1,.53,1.63l-4.65,4.2a.93.93,0,0,0-.29.89l1.29,6.14a.93.93,0,0,1-1.38,1L11.73,18.2a.93.93,0,0,0-.94,0L5.36,21.32a.94.94,0,0,1-1.39-1l1.29-6.14A.93.93,0,0,0,5,13.29L.32,9.09A.94.94,0,0,1,.85,7.46l6.24-.67a.94.94,0,0,0,.75-.55L10.41.52A.94.94,0,0,1,12.12.52Z\" style=\"fill: rgb(255, 177, 21); transition: fill 0.2s ease-in-out 0s;\"></path></svg></div><div class=\"star-container\" style=\"position: relative; display: inline-block; vertical-align: top; padding-left: 0px; padding-right: 0px;\"><svg class=\"star-svg star-level\" style=\"width: 16px; height: 16px; transition: transform 0.2s ease-in-out 0s;\" viewbox=\"0 0 25 25\"><path class=\"star\" d=\"M12.12.52l2.56,5.72a1,1,0,0,0,.76.55l6.23.67a.94.94,0,0,1,.53,1.63l-4.65,4.2a.93.93,0,0,0-.29.89l1.29,6.14a.93.93,0,0,1-1.38,1L11.73,18.2a.93.93,0,0,0-.94,0L5.36,21.32a.94.94,0,0,1-1.39-1l1.29-6.14A.93.93,0,0,0,5,13.29L.32,9.09A.94.94,0,0,1,.85,7.46l6.24-.67a.94.94,0,0,0,.75-.55L10.41.52A.94.94,0,0,1,12.12.52Z\" style=\"fill: rgb(255, 177, 21); transition: fill 0.2s ease-in-out 0s;\"></path></svg></div><div class=\"star-container\" style=\"position: relative; display: inline-block; vertical-align: top; padding-left: 0px;\"><svg class=\"star-svg star-level\" style=\"width: 16px; height: 16px; transition: transform 0.2s ease-in-out 0s;\" viewbox=\"0 0 25 25\"><path class=\"star\" d=\"M12.12.52l2.56,5.72a1,1,0,0,0,.76.55l6.23.67a.94.94,0,0,1,.53,1.63l-4.65,4.2a.93.93,0,0,0-.29.89l1.29,6.14a.93.93,0,0,1-1.38,1L11.73,18.2a.93.93,0,0,0-.94,0L5.36,21.32a.94.94,0,0,1-1.39-1l1.29-6.14A.93.93,0,0,0,5,13.29L.32,9.09A.94.94,0,0,1,.85,7.46l6.24-.67a.94.94,0,0,0,.75-.55L10.41.52A.94.94,0,0,1,12.12.52Z\" style=\"fill: rgb(255, 177, 21); transition: fill 0.2s ease-in-out 0s;\"></path></svg></div></div> 6 則評價</div></div><div class=\"pad-rl-15 clearfix\"><div class=\"pull-left\">課時 118 分鐘</div></div><div class=\"course-info pad-rl-15 pad-t-5 pad-b-15 clearfix\"><div class=\"pull-left\">同學<span> 58 人</span></div><div class=\"pull-right\"><span class=\"text-secondary pricing\">NT$3,600</span></div></div></div></div><div class=\"sc-10r5mg2-0 fVNHJD hh-course-brief relative block\"><div class=\"cover-wrap relative\"><a href=\"/courses/5f687cda83ddde56cff24542\"><div class=\"cover-image-wrap relative\"><div class=\"lazyload-placeholder\" style=\"height: 0px;\"></div></div><div class=\"course-flag text-sm text-bold absolute incubating\" data-for=\"course-flag\" data-tip=\"true\">募資中</div></a><div class=\"sc-1n4z0lw-0 bLmNqp bookmark relative marg-l-15 absolute\"><div class=\"circle\"><span aria-hidden=\"true\" class=\"fa fa-bookmark-o\"></span></div></div></div><div class=\"rokpy3-0 ckWaKf profile-image profile-image-sm absolute\" size=\"56\"><a class=\"\" href=\"/@spotlighthouse\"><div class=\"lazyload-placeholder\" style=\"height: 56px;\"></div></a></div><a href=\"/courses/5f687cda83ddde56cff24542\"><div class=\"text pad-rl-15\"><h4 class=\"title marg-t-20 marg-b-10\">改變籃球比賽的弧線-呂政儒與簡浩射手訓練</h4><div class=\"meta-description\">你曾經想過自己是 Stephen Curry、Ray Allan、Reggie Miller 等神人射手嗎？還是你曾想像自己是三井壽，在疲勞的情況下投進一顆接一顆的追分三分球？你的夢想有人來幫助你實現！兩位中華隊當家射手呂政儒與簡浩攜手合作，從當一位職業級射手的基礎技術、訓練方式、隊友配合、空間走位，到場下的肌力訓練，以及如何自我精神激勵，在這個課程當中 ，兩位老師都將傾囊相授。</div></div></a><div class=\"proposal-section relative marg-t-20\"><div class=\"pad-rl-15 clearfix\"><div class=\"pull-left\">預購價 <span class=\"text-primary\">NT$1,980</span></div><div class=\"pull-right\">剩 7 天</div></div><div class=\"pad-rl-15\"><div class=\"\"><div class=\"dc56mr-0 pXvSR\" height=\"10\"><div class=\"dc56mr-1 cwpBPe\"></div></div></div></div><div class=\"text-center pad-b-10 incubating\">已募資 9/30 人</div></div></div><div class=\"sc-10r5mg2-0 fVNHJD hh-course-brief relative block\"><div class=\"cover-wrap relative\"><a href=\"/courses/5f94e4a770a38a8694392cf7\"><div class=\"cover-image-wrap relative\"><div class=\"lazyload-placeholder\" style=\"height: 0px;\"></div></div><div class=\"course-flag text-sm text-bold absolute incubating\" data-for=\"course-flag\" data-tip=\"true\">募資中</div></a><div class=\"sc-1n4z0lw-0 bLmNqp bookmark relative marg-l-15 absolute\"><div class=\"circle\"><span aria-hidden=\"true\" class=\"fa fa-bookmark-o\"></span></div></div></div><div class=\"rokpy3-0 ckWaKf profile-image profile-image-sm absolute\" size=\"56\"><a class=\"\" href=\"/@nteathahow\"><div class=\"lazyload-placeholder\" style=\"height: 56px;\"></div></a></div><a href=\"/courses/5f94e4a770a38a8694392cf7\"><div class=\"text pad-rl-15\"><h4 class=\"title marg-t-20 marg-b-10\">王梓沅的 3D 英文筆記術：打造最強「說」「寫」英語資料庫</h4><div class=\"meta-description\">創勝文教共同創辦人王梓沅的 3D 英文筆記術課程，將破解母語人士在寫作／口說中的表達公式，讓你擺脫零散的單字單點式記憶，運用模組來學習英文、應用英文。</div></div></a><div class=\"proposal-section relative marg-t-20\"><div class=\"pad-rl-15 clearfix\"><div class=\"pull-left\">預購價 <span class=\"text-primary\">NT$2,500</span></div><div class=\"pull-right\">剩 2 天</div></div><div class=\"pad-rl-15\"><div class=\"\"><div class=\"dc56mr-0 pXvSR\" height=\"10\"><div class=\"dc56mr-1 iPzxNh\"></div></div></div></div><div class=\"text-center pad-b-10 incubating\">已募資 5830%</div></div></div><div class=\"sc-10r5mg2-0 fVNHJD hh-course-brief relative block\"><div class=\"cover-wrap relative\"><a href=\"/courses/5efca4ad2095dd04c4d88845\"><div class=\"cover-image-wrap relative\"><div class=\"lazyload-placeholder\" style=\"height: 0px;\"></div></div><div class=\"course-flag text-sm text-bold absolute incubating\" data-for=\"course-flag\" data-tip=\"true\">募資中</div></a><div class=\"sc-1n4z0lw-0 bLmNqp bookmark relative marg-l-15 absolute\"><div class=\"circle\"><span aria-hidden=\"true\" class=\"fa fa-bookmark-o\"></span></div></div></div><div class=\"rokpy3-0 ckWaKf profile-image profile-image-sm absolute\" size=\"56\"><a class=\"\" href=\"/@jarvuschen\"><div class=\"lazyload-placeholder\" style=\"height: 56px;\"></div></a></div><a href=\"/courses/5efca4ad2095dd04c4d88845\"><div class=\"text pad-rl-15\"><h4 class=\"title marg-t-20 marg-b-10\">NBA 戰力分析！簡單打造 Python 數位報表</h4><div class=\"meta-description\">喜歡看 NBA，卻不知道怎麼玩彩券嗎？讓我們一起用 Python 分析比賽數據，以 Dash 與 Plotly 套件視覺化資料，簡單打造專屬的數位分析報表！</div></div></a><div class=\"proposal-section relative marg-t-20\"><div class=\"pad-rl-15 clearfix\"><div class=\"pull-left\">預購價 <span class=\"text-primary\">NT$1,688</span></div><div class=\"pull-right\">剩 1 天</div></div><div class=\"pad-rl-15\"><div class=\"\"><div class=\"dc56mr-0 pXvSR\" height=\"10\"><div class=\"dc56mr-1 bBibp\"></div></div></div></div><div class=\"text-center pad-b-10 incubating\">已募資 31/60 人</div></div></div><div class=\"sc-10r5mg2-0 fVNHJD hh-course-brief relative block\"><div class=\"cover-wrap relative\"><a href=\"/courses/5e6083a61c966500238f38e3\"><div class=\"cover-image-wrap relative\"><div class=\"lazyload-placeholder\" style=\"height: 0px;\"></div></div><div class=\"course-flag text-sm text-bold absolute success\" data-for=\"course-flag\" data-tip=\"true\">募資成功</div></a><div class=\"sc-1n4z0lw-0 bLmNqp bookmark relative marg-l-15 absolute\"><div class=\"circle\"><span aria-hidden=\"true\" class=\"fa fa-bookmark-o\"></span></div></div></div><div class=\"rokpy3-0 ckWaKf profile-image profile-image-sm absolute\" size=\"56\"><a class=\"\" href=\"/@cs290910\"><div class=\"lazyload-placeholder\" style=\"height: 56px;\"></div></a></div><a href=\"/courses/5e6083a61c966500238f38e3\"><div class=\"text pad-rl-15\"><h4 class=\"title marg-t-20 marg-b-10\">跟著阿麗學俄文 : 打造標準的俄語發音</h4><div class=\"meta-description\">俄籍老師阿麗將帶來最詳細的教學，你將學會正確的發音技巧，避免常犯的發音錯誤，了解俄語中的不同語調，並更有自信地說出一口標準的俄語！</div></div></a><div class=\"proposal-section relative marg-t-20\"><div class=\"pad-rl-15 clearfix\"><div class=\"pull-left\">售價 <span class=\"text-secondary\">NT$2,000</span></div><div class=\"pull-right\">即將開課</div></div><div class=\"pad-rl-15\"><div class=\"\"><div class=\"dc56mr-0 pXvSR\" height=\"10\"><div class=\"dc56mr-1 ftFGSe\"></div></div></div></div><div class=\"text-center pad-b-10 success\">已募資 240%</div></div></div><div class=\"sc-10r5mg2-0 fVNHJD hh-course-brief relative block\"><div class=\"cover-wrap relative\"><a href=\"/courses/5ed46b153ad814699a12867b\"><div class=\"cover-image-wrap relative\"><div class=\"lazyload-placeholder\" style=\"height: 0px;\"></div></div><div class=\"course-flag text-sm text-bold absolute success\" data-for=\"course-flag\" data-tip=\"true\">募資成功</div></a><div class=\"sc-1n4z0lw-0 bLmNqp bookmark relative marg-l-15 absolute\"><div class=\"circle\"><span aria-hidden=\"true\" class=\"fa fa-bookmark-o\"></span></div></div></div><div class=\"rokpy3-0 ckWaKf profile-image profile-image-sm absolute\" size=\"56\"><a class=\"\" href=\"/@kimking\"><div class=\"lazyload-placeholder\" style=\"height: 56px;\"></div></a></div><a href=\"/courses/5ed46b153ad814699a12867b\"><div class=\"text pad-rl-15\"><h4 class=\"title marg-t-20 marg-b-10\">韓式擠花神手：韓國人金老師的擠花杯子蛋糕</h4><div class=\"meta-description\">在台擠花神手韓國人金老師開課囉~\n",
      "一次學會杯子蛋糕 + 6 種美麗花款\n",
      "\n",
      "擠花杯子蛋糕是韓式擠花GFDA證書班 55000 元中，八堂中的第一堂課，實作課程也要 7000 元，募資期間只要 1.4 折。\n",
      "\n",
      "從杯子蛋糕開始教學，加上不甜不膩的食譜，跟擠久不會手酸的方法，讓您輕鬆學習韓式擠花。\n",
      "不管是要自學還是送禮，販售，保存也非常方便，這堂課也是基礎韓式 GFDA 擠花教師證書八堂課中的第一堂。</div></div></a><div class=\"proposal-section relative marg-t-20\"><div class=\"pad-rl-15 clearfix\"><div class=\"pull-left\">售價 <span class=\"text-secondary\">NT$1,280</span></div><div class=\"pull-right\">即將開課</div></div><div class=\"pad-rl-15\"><div class=\"\"><div class=\"dc56mr-0 pXvSR\" height=\"10\"><div class=\"dc56mr-1 gsMZMk\"></div></div></div></div><div class=\"text-center pad-b-10 success\">已募資 507%</div></div></div></div></div></div></div><div class=\"pagination-container\"><ul class=\"rc-pagination gbga9a-0 jYLVph\" unselectable=\"unselectable\"><li aria-disabled=\"true\" class=\"rc-pagination-disabled rc-pagination-prev\" tabindex=\"0\" title=\"上一頁\"><a href=\"/courses?page=0\"><span aria-hidden=\"true\" class=\"fa fa-chevron-left\"></span></a></li><li class=\"rc-pagination-item rc-pagination-item-1 rc-pagination-item-active\" tabindex=\"0\" title=\"1\"><a href=\"/courses?page=1\">1</a></li><li class=\"rc-pagination-item rc-pagination-item-2\" tabindex=\"0\" title=\"2\"><a href=\"/courses?page=2\">2</a></li><li class=\"rc-pagination-item rc-pagination-item-3\" tabindex=\"0\" title=\"3\"><a href=\"/courses?page=3\">3</a></li><li class=\"rc-pagination-item rc-pagination-item-4\" tabindex=\"0\" title=\"4\"><a href=\"/courses?page=4\">4</a></li><li class=\"rc-pagination-item rc-pagination-item-5 rc-pagination-item-before-jump-next\" tabindex=\"0\" title=\"5\"><a href=\"/courses?page=5\">5</a></li><li class=\"rc-pagination-jump-next\" tabindex=\"0\" title=\"向後 5 頁\"><a href=\"/courses?page=6\">...</a></li><li class=\"rc-pagination-item rc-pagination-item-24\" tabindex=\"0\" title=\"24\"><a href=\"/courses?page=24\">24</a></li><li aria-disabled=\"false\" class=\"rc-pagination-next\" tabindex=\"0\" title=\"下一頁\"><a href=\"/courses?page=2\"><span aria-hidden=\"true\" class=\"fa fa-chevron-right\"></span></a></li></ul></div></div></div></main><footer class=\"sc-1pppfxd-0 VSwFY\"><div class=\"container footer-container\"><div class=\"footer-item\"><h3>關於</h3><ul><li><a href=\"/about/hahow\">關於我們</a></li><li><a href=\"/joinus\">加入 Hahow</a></li><li><a href=\"https://hahow.in/terms\" rel=\"noopener noreferrer\" target=\"_blank\">使用者條款</a></li><li><a href=\"/paying-user-agreement\" rel=\"noopener noreferrer\" target=\"_blank\">服務契約</a></li><li><a href=\"https://hahow.in/privacy\" rel=\"noopener noreferrer\" target=\"_blank\">隱私權政策</a></li><li><a href=\"/release-notes\">功能更新</a></li></ul></div><div class=\"footer-item\"><h3>幫助</h3><ul><li><a href=\"https://business.hahow.in/\" rel=\"noopener noreferrer\" target=\"_blank\">企業學習方案</a></li><li><a href=\"/cooperator\">異業合作洽談</a></li><li><a href=\"https://help.hahow.in/zh-TW/\" rel=\"noopener noreferrer\" target=\"_blank\">常見問題</a></li><li><a href=\"/ideas\">課程許願池</a></li><li><span role=\"button\" tabindex=\"0\"><span>兌換課程</span></span></li><li><a href=\"/gifting\">線上課程禮物卡</a></li><li><a href=\"https://events.hahow.in/learning/pretest-14525?utm_source=hahow-web&amp;utm_medium=footer&amp;utm_campaign=pretest-14525&amp;mts_s=hahow-web&amp;mts_m=footer&amp;mts_c=pretest-14525&amp;mts_t=gad\" rel=\"noopener noreferrer\" target=\"_blank\">填課前問卷拿優惠</a></li></ul></div><div class=\"footer-item\"><h3>追蹤動態</h3><ul><li><a href=\"https://facebook.com/hahow.in\" rel=\"noopener noreferrer\" target=\"_blank\">Facebook</a></li><li><a href=\"https://instagram.com/hahow.in?ref=badge\" rel=\"noopener noreferrer\" target=\"_blank\">Instagram</a></li><li><a href=\"https://go.botbonnie.com/RCHSN\" rel=\"noopener noreferrer\" target=\"_blank\">LINE</a></li><li><a href=\"https://www.youtube.com/channel/UCBOSle0w9kODvOVUCgu2K_A/videos\" rel=\"noopener noreferrer\" target=\"_blank\">YouTube</a></li><li><a href=\"https://blog.hahow.in/\" rel=\"noopener noreferrer\" target=\"_blank\">Blog</a></li></ul></div><div class=\"footer-item copyright-language-country\"><div class=\"language-and-country flex\"><div class=\"flex-child\"><div class=\"sc-1jpg0tr-0 bhBCrg text-left\" height=\"43px\" width=\"100%\"><div class=\"dropdown btn-group\"><button aria-expanded=\"false\" aria-haspopup=\"true\" class=\"dropdown-toggle btn btn-default\" id=\"footer-country-selector\" role=\"button\" type=\"button\"><span>輸入地點</span> <span class=\"caret\"></span></button><ul aria-labelledby=\"footer-country-selector\" class=\"dropdown-menu\" role=\"menu\"><li class=\"active\" role=\"presentation\"><a href=\"#\" role=\"menuitem\" tabindex=\"-1\">輸入地點</a></li><li class=\"dropdown-header\" role=\"heading\">將顯示對應幣別</li><li class=\"\" role=\"presentation\"><a href=\"#\" role=\"menuitem\" tabindex=\"-1\"><span><span>TW 台灣</span>  <span class=\"text-note\">新台幣（TWD）</span></span></a></li><li class=\"\" role=\"presentation\"><a href=\"#\" role=\"menuitem\" tabindex=\"-1\"><span><span>HK 香港</span>  <span class=\"text-note\">港幣（HKD）</span></span></a></li><li class=\"\" role=\"presentation\"><a href=\"#\" role=\"menuitem\" tabindex=\"-1\"><span><span>MY 馬來西亞</span>  <span class=\"text-note\">林吉特（MYR）</span></span></a></li><li class=\"\" role=\"presentation\"><a href=\"#\" role=\"menuitem\" tabindex=\"-1\"><span><span>US 美國</span>  <span class=\"text-note\">美元（USD）</span></span></a></li><li class=\"\" role=\"presentation\"><a href=\"#\" role=\"menuitem\" tabindex=\"-1\"><span><span>JP 日本</span>  <span class=\"text-note\">日圓（JPY）</span></span></a></li><li class=\"\" role=\"presentation\"><a href=\"#\" role=\"menuitem\" tabindex=\"-1\"><span><span>CN 中國</span>  <span class=\"text-note\">人民幣（CNY）</span></span></a></li><li class=\"\" role=\"presentation\"><a href=\"#\" role=\"menuitem\" tabindex=\"-1\"><span><span>MO 澳門</span>  <span class=\"text-note\">澳門幣（MOP）</span></span></a></li><li class=\"\" role=\"presentation\"><a href=\"#\" role=\"menuitem\" tabindex=\"-1\"><span><span>SG 新加坡</span>  <span class=\"text-note\">新幣（SGD）</span></span></a></li><li class=\"\" role=\"presentation\"><a href=\"#\" role=\"menuitem\" tabindex=\"-1\"><span><span>AU 澳洲</span>  <span class=\"text-note\">澳幣（AUD）</span></span></a></li><li class=\"\" role=\"presentation\"><a href=\"#\" role=\"menuitem\" tabindex=\"-1\"><span><span>CA 加拿大</span>  <span class=\"text-note\">加幣（CAD）</span></span></a></li></ul></div></div></div><div class=\"flex-child\"><div class=\"sc-1jpg0tr-0 bQszCO\" height=\"43px\" width=\"100%\"><div class=\"dropdown btn-group\"><button aria-expanded=\"false\" aria-haspopup=\"true\" class=\"dropdown-toggle btn btn-default\" id=\"footer-language-selector\" role=\"button\" type=\"button\"><span>繁體中文</span> <span class=\"caret\"></span></button><ul aria-labelledby=\"footer-language-selector\" class=\"dropdown-menu\" role=\"menu\"><li class=\"active\" role=\"presentation\"><a href=\"#\" role=\"menuitem\" tabindex=\"-1\">繁體中文</a></li><li class=\"\" role=\"presentation\"><a href=\"#\" role=\"menuitem\" tabindex=\"-1\">简体中文</a></li></ul></div></div></div></div><span class=\"pad-t-10 pad-b-20\">Hahow 好學校 © All Rights Reserved.</span></div></div></footer></div><div><div class=\"a7jjce-0 kIKbwa\"><div class=\"a7jjce-1 hAVLEb\"><img class=\"a7jjce-3 fsWZEJ\" src=\"https://hahow.in/static/media/四叉貓蛙_立即入社.4faf3a42.png\"/><span aria-hidden=\"true\" class=\"fa fa-times-circle a7jjce-2 iALpwI\"></span></div></div></div></div><script defer=\"defer\" src=\"//fast.wistia.com/assets/external/E-v1.js\"></script><script>[Element.prototype,Document.prototype,DocumentFragment.prototype].forEach((function(e){e.hasOwnProperty(\"prepend\")||Object.defineProperty(e,\"prepend\",{configurable:!0,enumerable:!0,writable:!0,value:function(){var e=Array.prototype.slice.call(arguments),t=document.createDocumentFragment();e.forEach((function(e){var n=e instanceof Node;t.appendChild(n?e:document.createTextNode(String(e)))})),this.insertBefore(t,this.firstChild)}})}));var loadDeferredStyles=function(){var e=document.getElementById(\"deferred-styles\"),t=document.createElement(\"div\");t.innerHTML=e.textContent,document.head.prepend(t),e.parentElement.removeChild(e)},raf=window.requestAnimationFrame||window.mozRequestAnimationFrame||window.webkitRequestAnimationFrame||window.msRequestAnimationFrame;raf?raf((function(){window.setTimeout(loadDeferredStyles,0)})):window.addEventListener(\"load\",loadDeferredStyles)</script><script>!function(t,h,e,j,s,n){t.hj=t.hj||function(){(t.hj.q=t.hj.q||[]).push(arguments)},t._hjSettings={hjid:301739,hjsv:6},s=h.getElementsByTagName(\"head\")[0],(n=h.createElement(\"script\")).async=1,n.src=\"https://static.hotjar.com/c/hotjar-\"+t._hjSettings.hjid+\".js?sv=\"+t._hjSettings.hjsv,s.appendChild(n)}(window,document)</script><script>!function(e){function f(f){for(var d,a,n=f[0],o=f[1],b=f[2],u=0,l=[];u<n.length;u++)a=n[u],Object.prototype.hasOwnProperty.call(t,a)&&t[a]&&l.push(t[a][0]),t[a]=0;for(d in o)Object.prototype.hasOwnProperty.call(o,d)&&(e[d]=o[d]);for(i&&i(f);l.length;)l.shift()();return r.push.apply(r,b||[]),c()}function c(){for(var e,f=0;f<r.length;f++){for(var c=r[f],d=!0,a=1;a<c.length;a++){var o=c[a];0!==t[o]&&(d=!1)}d&&(r.splice(f--,1),e=n(n.s=c[0]))}return e}var d={},a={18:0},t={18:0},r=[];function n(f){if(d[f])return d[f].exports;var c=d[f]={i:f,l:!1,exports:{}};return e[f].call(c.exports,c,c.exports,n),c.l=!0,c.exports}n.e=function(e){var f=[];a[e]?f.push(a[e]):0!==a[e]&&{11:1,15:1,20:1,21:1,22:1,23:1,25:1,30:1,37:1,39:1,46:1,50:1,51:1,52:1,60:1,61:1,62:1,71:1,86:1,90:1,101:1,122:1}[e]&&f.push(a[e]=new Promise((function(f,c){for(var d=\"static/css/\"+({}[e]||e)+\".\"+{0:\"31d6cfe0\",1:\"31d6cfe0\",2:\"31d6cfe0\",3:\"31d6cfe0\",4:\"31d6cfe0\",5:\"31d6cfe0\",6:\"31d6cfe0\",7:\"31d6cfe0\",8:\"31d6cfe0\",9:\"31d6cfe0\",10:\"31d6cfe0\",11:\"5262706b\",12:\"31d6cfe0\",13:\"31d6cfe0\",14:\"31d6cfe0\",15:\"581845f8\",16:\"31d6cfe0\",20:\"5262706b\",21:\"5262706b\",22:\"5262706b\",23:\"f6fdf601\",24:\"31d6cfe0\",25:\"33e0f926\",26:\"31d6cfe0\",27:\"31d6cfe0\",28:\"31d6cfe0\",29:\"31d6cfe0\",30:\"5262706b\",31:\"31d6cfe0\",32:\"31d6cfe0\",33:\"31d6cfe0\",34:\"31d6cfe0\",35:\"31d6cfe0\",36:\"31d6cfe0\",37:\"f6fdf601\",38:\"31d6cfe0\",39:\"5262706b\",40:\"31d6cfe0\",41:\"31d6cfe0\",42:\"31d6cfe0\",43:\"31d6cfe0\",44:\"31d6cfe0\",45:\"31d6cfe0\",46:\"581845f8\",47:\"31d6cfe0\",48:\"31d6cfe0\",49:\"31d6cfe0\",50:\"581845f8\",51:\"f6fdf601\",52:\"5262706b\",53:\"31d6cfe0\",54:\"31d6cfe0\",55:\"31d6cfe0\",56:\"31d6cfe0\",57:\"31d6cfe0\",58:\"31d6cfe0\",59:\"31d6cfe0\",60:\"f6fdf601\",61:\"f6fdf601\",62:\"f6fdf601\",63:\"31d6cfe0\",64:\"31d6cfe0\",65:\"31d6cfe0\",66:\"31d6cfe0\",67:\"31d6cfe0\",68:\"31d6cfe0\",69:\"31d6cfe0\",70:\"31d6cfe0\",71:\"c70c5ee7\",72:\"31d6cfe0\",73:\"31d6cfe0\",74:\"31d6cfe0\",75:\"31d6cfe0\",76:\"31d6cfe0\",77:\"31d6cfe0\",78:\"31d6cfe0\",79:\"31d6cfe0\",80:\"31d6cfe0\",81:\"31d6cfe0\",82:\"31d6cfe0\",83:\"31d6cfe0\",84:\"31d6cfe0\",85:\"31d6cfe0\",86:\"61e64c6e\",87:\"31d6cfe0\",88:\"31d6cfe0\",89:\"31d6cfe0\",90:\"9b987f77\",91:\"31d6cfe0\",92:\"31d6cfe0\",93:\"31d6cfe0\",94:\"31d6cfe0\",95:\"31d6cfe0\",96:\"31d6cfe0\",97:\"31d6cfe0\",98:\"31d6cfe0\",99:\"31d6cfe0\",100:\"31d6cfe0\",101:\"f6fdf601\",102:\"31d6cfe0\",103:\"31d6cfe0\",104:\"31d6cfe0\",105:\"31d6cfe0\",106:\"31d6cfe0\",107:\"31d6cfe0\",108:\"31d6cfe0\",109:\"31d6cfe0\",110:\"31d6cfe0\",111:\"31d6cfe0\",112:\"31d6cfe0\",113:\"31d6cfe0\",114:\"31d6cfe0\",115:\"31d6cfe0\",116:\"31d6cfe0\",117:\"31d6cfe0\",118:\"31d6cfe0\",119:\"31d6cfe0\",120:\"31d6cfe0\",121:\"31d6cfe0\",122:\"746ed336\",123:\"31d6cfe0\",124:\"31d6cfe0\",125:\"31d6cfe0\",126:\"31d6cfe0\",127:\"31d6cfe0\",128:\"31d6cfe0\",129:\"31d6cfe0\",130:\"31d6cfe0\",131:\"31d6cfe0\",132:\"31d6cfe0\",133:\"31d6cfe0\",134:\"31d6cfe0\",135:\"31d6cfe0\",136:\"31d6cfe0\",137:\"31d6cfe0\",138:\"31d6cfe0\",139:\"31d6cfe0\",140:\"31d6cfe0\",141:\"31d6cfe0\",142:\"31d6cfe0\"}[e]+\".chunk.css\",t=n.p+d,r=document.getElementsByTagName(\"link\"),o=0;o<r.length;o++){var b=(i=r[o]).getAttribute(\"data-href\")||i.getAttribute(\"href\");if(\"stylesheet\"===i.rel&&(b===d||b===t))return f()}var u=document.getElementsByTagName(\"style\");for(o=0;o<u.length;o++){var i;if((b=(i=u[o]).getAttribute(\"data-href\"))===d||b===t)return f()}var l=document.createElement(\"link\");l.rel=\"stylesheet\",l.type=\"text/css\",l.onload=f,l.onerror=function(f){var d=f&&f.target&&f.target.src||t,r=new Error(\"Loading CSS chunk \"+e+\" failed.\\n(\"+d+\")\");r.code=\"CSS_CHUNK_LOAD_FAILED\",r.request=d,delete a[e],l.parentNode.removeChild(l),c(r)},l.href=t,document.getElementsByTagName(\"head\")[0].appendChild(l)})).then((function(){a[e]=0})));var c=t[e];if(0!==c)if(c)f.push(c[2]);else{var d=new Promise((function(f,d){c=t[e]=[f,d]}));f.push(c[2]=d);var r,o=document.createElement(\"script\");o.charset=\"utf-8\",o.timeout=120,n.nc&&o.setAttribute(\"nonce\",n.nc),o.src=function(e){return n.p+\"static/js/\"+({}[e]||e)+\".\"+{0:\"b626601c\",1:\"a1b9f29b\",2:\"98ca1be4\",3:\"5a8b8f86\",4:\"27f0130c\",5:\"98739748\",6:\"81ec85d3\",7:\"9a3afa6e\",8:\"27b08c4d\",9:\"3141aa80\",10:\"f7ba9b50\",11:\"b45692ae\",12:\"4d4ce3f8\",13:\"751fec45\",14:\"efd6b262\",15:\"788d4197\",16:\"5af09295\",20:\"e0dfce0c\",21:\"b15743a8\",22:\"3e64793e\",23:\"50fc8a19\",24:\"5e6b3222\",25:\"c464a1c3\",26:\"d8f9a57f\",27:\"27943148\",28:\"55fceecd\",29:\"512f4476\",30:\"f0a3f841\",31:\"f5dd63a3\",32:\"ce0829c1\",33:\"0e5ba9b8\",34:\"59d979a7\",35:\"3e76e7cd\",36:\"4f6a7e2e\",37:\"9bc73bb5\",38:\"aa82ea80\",39:\"6bd7cb9a\",40:\"d007ca8e\",41:\"36b2c2aa\",42:\"b4bf6a37\",43:\"d6e39f85\",44:\"8395620d\",45:\"ffdf34f9\",46:\"6f434f8a\",47:\"f55f80ed\",48:\"1086ee2d\",49:\"6cc6d6e9\",50:\"f895179b\",51:\"50c128f5\",52:\"e1b8ad83\",53:\"cabd246d\",54:\"f7c53959\",55:\"4fdf0a8f\",56:\"341f8bdb\",57:\"376bd42e\",58:\"85e50cb4\",59:\"4f74d6f2\",60:\"6cda974f\",61:\"a7b364fb\",62:\"94ac8de0\",63:\"190ffb60\",64:\"0a8b8adc\",65:\"e22fa282\",66:\"e674adae\",67:\"31db9d08\",68:\"a413037c\",69:\"c6633e31\",70:\"785cdea0\",71:\"278eaa9c\",72:\"091b2a38\",73:\"0188553a\",74:\"69f5d623\",75:\"2ec6c84c\",76:\"702dbb33\",77:\"606b745e\",78:\"6d79363d\",79:\"fe34f40b\",80:\"aaf19c13\",81:\"0ff59ea0\",82:\"a1a34ddc\",83:\"5528e502\",84:\"9c0d2017\",85:\"e842964e\",86:\"43fba566\",87:\"4f9f2ccd\",88:\"ebc7bd3d\",89:\"4e83ec0b\",90:\"fc6d002f\",91:\"b38a4262\",92:\"078a180f\",93:\"782e03bc\",94:\"c2716eb0\",95:\"a04988a6\",96:\"8cbc78e7\",97:\"40d5365a\",98:\"d19d3387\",99:\"ede973ff\",100:\"6a64fb2f\",101:\"6ccb7e42\",102:\"c2918422\",103:\"207b4023\",104:\"d9fd52d7\",105:\"719e0e86\",106:\"cd52df97\",107:\"6954a0f7\",108:\"a27a47af\",109:\"d26c3cd1\",110:\"8ff4fe54\",111:\"8c054d71\",112:\"997c7535\",113:\"6d0fed10\",114:\"75e72d24\",115:\"aac33af7\",116:\"dfd957c4\",117:\"4bb0aaf4\",118:\"120832f2\",119:\"acb3b1d6\",120:\"86177a0d\",121:\"407ce5d2\",122:\"45d3c7ac\",123:\"c281e5e3\",124:\"aac12830\",125:\"632dc807\",126:\"ea54206a\",127:\"fc180e5c\",128:\"6543585b\",129:\"05fa9d46\",130:\"c828f8c6\",131:\"24a50ee4\",132:\"da93feb4\",133:\"f751e6a9\",134:\"80f9a6e3\",135:\"7cea5571\",136:\"9f2520e0\",137:\"f2723e86\",138:\"757f1b8d\",139:\"72c7af46\",140:\"8213d7fb\",141:\"445005c0\",142:\"b086b56e\"}[e]+\".chunk.js\"}(e);var b=new Error;r=function(f){o.onerror=o.onload=null,clearTimeout(u);var c=t[e];if(0!==c){if(c){var d=f&&(\"load\"===f.type?\"missing\":f.type),a=f&&f.target&&f.target.src;b.message=\"Loading chunk \"+e+\" failed.\\n(\"+d+\": \"+a+\")\",b.name=\"ChunkLoadError\",b.type=d,b.request=a,c[1](b)}t[e]=void 0}};var u=setTimeout((function(){r({type:\"timeout\",target:o})}),12e4);o.onerror=o.onload=r,document.head.appendChild(o)}return Promise.all(f)},n.m=e,n.c=d,n.d=function(e,f,c){n.o(e,f)||Object.defineProperty(e,f,{enumerable:!0,get:c})},n.r=function(e){\"undefined\"!=typeof Symbol&&Symbol.toStringTag&&Object.defineProperty(e,Symbol.toStringTag,{value:\"Module\"}),Object.defineProperty(e,\"__esModule\",{value:!0})},n.t=function(e,f){if(1&f&&(e=n(e)),8&f)return e;if(4&f&&\"object\"==typeof e&&e&&e.__esModule)return e;var c=Object.create(null);if(n.r(c),Object.defineProperty(c,\"default\",{enumerable:!0,value:e}),2&f&&\"string\"!=typeof e)for(var d in e)n.d(c,d,function(f){return e[f]}.bind(null,d));return c},n.n=function(e){var f=e&&e.__esModule?function(){return e.default}:function(){return e};return n.d(f,\"a\",f),f},n.o=function(e,f){return Object.prototype.hasOwnProperty.call(e,f)},n.p=\"https://hahow.in/\",n.oe=function(e){throw console.error(e),e};var o=this[\"webpackJsonphh-frontend-react\"]=this[\"webpackJsonphh-frontend-react\"]||[],b=o.push.bind(o);o.push=f,o=o.slice();for(var u=0;u<o.length;u++)f(o[u]);var i=b;c()}([])</script><script src=\"https://hahow.in/static/js/19.570fef82.chunk.js\"></script><div id=\"criteo-tags-div\" style=\"display: none;\"></div><script src=\"https://hahow.in/static/js/main.a2554c1a.chunk.js\"></script><style class=\"wistia_injected_style\" id=\"wistia_18_style\" type=\"text/css\">\n",
      "@font-face {\n",
      "font-family: 'WistiaPlayerOverpassNumbers';\n",
      "src: url(data:application/x-font-ttf;charset=utf-8;base64,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);\n",
      "}\n",
      "</style><style class=\"wistia_injected_style\" id=\"wistia_24_style\" type=\"text/css\">\n",
      "@font-face {\n",
      "font-family: 'WistiaPlayerInterNumbersSemiBold';\n",
      "font-feature-settings: 'tnum' 1;\n",
      "src: url(data:application/x-font-woff;charset=utf-8;base64,d09GMk9UVE8AAAaMAAwAAAAACgAAAAZBAAMD1wAAAAAAAAAAAAAAAAAAAAAAAAAADYpwGhQbIBwqBmAAgTIBNgIkAzAEBgWDGgcgGykJEZWkARP8KHCbm2tEznyIN98tPTUk9Ig3oiVV3pbDIzXa+f/fZgXpALFTZhBoMVFC9cp036dXvRKVmVnsxe+D+1NDQI5lG7ikZWEINIElTeBIdnxlhauQ5GQtoLHA/wN0riVdSx5xgbxF3KTbgnjVQ4B9P7YqCx7FpEZK+6ilx0AoopUh4aExJEKmkU+0ncdr4iFfKhdSFD9y91LCRaxNbVqvi0dND3rxI7ndUDR7EiwT3bhiua9krFA0oepCy2hCjwmjnjDjKjNTDz2ZuHtN8820Wfw/l8u4w4yV/f8/6uscs5rmiN00LcP4hAofyZUSyS3WinX0RGFFtnGrjj36x6dlNa57+PLTlrUisH2n9orfgd+R34XfDd0NsWDXwfwhvKHpbs3UBni37dBlPvO4KYn/PgylilcgSdw6sjsSSxsRGfIJgqhi14bKZCHcQvjUh/+3HMotTYrGLVYCxyMFjEnYC98yTAp6atAKVxaZ9eu2NMji8WTj4w/Y34elD60PPwb5bEywLqAX/amwmUo6TBCy14N/TL44jb3sE5JdUIPXXI0RBSoGt3BUObn4agKGIxxQhlyQacbstK4fS2mZoBtFNQ1bd+4zND2vQu6anl7gWFOj8MV2DVMtU44xMhpwElrrjA7zO5IqWojd/v1Vso6cqp91zC2YrGhDOy07Iqyza2q9smDIwUYek0AWbCt/8x78QmrzayQ6xtpmqfCYsLfgU9HdeP3UqutZTTNd/9Q8k08XzXzIxSdvLPda8YaeeZnkxUwql0nDKyUYdaWZjGAy7UDLHpVqBVHTxSV0wBy21El9u/491ik2J3YkdiP2LPZL41RBeeNUWtp97Bbn0Ee1g9wr9qqV/X+4R9nlPX03743dylnaXZyNp8v58yLOsFYCbUnCVQzjN+5QhlmKccO7aMkueWJggROd4qnw2x5LydUcg/NRamE3XMlkGovpRWPKWEavP74P2O1RANM/3gIIPJj7TX+lqU2geQuaBx4B/7cWAOx0ucTiEHYJU9y5DBuUMYNIHeHZz9tn+Fw2G5EBTqUlHRfRi4eB5wNlJsRsv5k4b6HyFkhIC6BO4LzPbWhW7rbCcxubeKHOc6UaBKZBMMd4j8XuRUynOCCa4EMfF9grkI1NcTaSAVtk1nrIOwFfeEBlQw4f4phb6zHzBOm0ZZ0dBcaZRVdYIo5xYiyOMEWONwQHmjKGE//VuRBgul1QrpyxmMvF4vGj0xfuuQrNt4tVTsRhEnjY9AuKa1FVLSEneQWzFd5WbO7hasX08ONUOVQgwQuVqACFXkSoIoUgK1hJEkAgbkG5CjqBS5wrRFuY2IfVwhRnLsVyZTZpatveGR4yEbYqbE6J80nM4aa+LD7Oqmr8PdSJFUQVynmgN4lerGQV1+uLdYzdOFWHPW/iK2gIQayhizQ0NMwyvBEBlrDczRfmU40CTtAHqLQGnjQG8MYkxm1MwJuTqjHwVCu9iRJ1C8ojWGHxUYowH0c5X57zpXquvlw0wzHHGMTfufxiJ1psFJTzq6nGeDvHF4LgmHHWCUViZBaInRn+cswnBi460RBPRYg9TRUQ0CZUC5LAT0qLLu50FpdTeBhjGf7/h4dg9hE0uqsBx/saOcYRDIfnOhfzGFBHyizcJK3p2edUjWrC0rn1aGjXtfVUCHMAKKhlxV8eTEIcV2jCOdKiqahv/MisrfRQVnxPJoOU62mR6pu2ZllIzo8zOZqQB7kWJXW2/c0aihata5PcIVJKfFRgHAETmEQVTCELptGMGcyigTnMJ1voUVN6uCZS9pV2hrwl7FYMvBwtUSd7L7E5qP9t7BIPRF7EcmA9ct2nIPHrxgWajtDltbXuBLuaY6qRZGa5ZlX5anfR0lYXaHUzVSFjZa8rfdhZ8rKXFZg21LVL5LFjI5TlDIbwnFGHE2dypHs6Q50N015dpOgLONEUlOqoiQgIaeCsjMq9gITDKwRMieQgKUy9UQY1BTFYZU2KpE2SkILMIjW8IdFwIKmMaK8oClJVssAEtFnz5dQ1s+w6EZoNGtPGQfzx+aoE8ikiP8GCYOWtgB+HBdWDaxACAZInVq14dZI85RRDvZGIghyONw59KV/BBEQ02P1ER8hmNGiURT2hQP8WfAY=);\n",
      "}\n",
      "</style><iframe id=\"_hjRemoteVarsFrame\" name=\"_hjRemoteVarsFrame\" src=\"https://vars.hotjar.com/box-469cf41adb11dc78be68c1ae7f9457a4.html\" style=\"display: none !important; width: 1px !important; height: 1px !important; opacity: 0 !important; pointer-events: none !important;\" title=\"_hjRemoteVarsFrame\"></iframe><div id=\"batBeacon343342014342\" style=\"width:0px; height:0px; display:none; visibility:hidden;\"><img alt=\"\" height=\"0\" id=\"batBeacon417810017177\" src=\"https://bat.bing.com/action/0?ti=5857216&amp;Ver=2&amp;mid=c5278408-9c06-49fe-8f2c-5ea520f1ac2e&amp;sid=0c44c5c0459d11ebb214eb946ee6a3aa&amp;vid=0c45b540459d11ebb7fb59fcabaed9ee&amp;vids=1&amp;pi=1200101525&amp;lg=en-US&amp;sw=1440&amp;sh=900&amp;sc=30&amp;tl=Hahow%20%E5%A5%BD%E5%AD%B8%E6%A0%A1%20%7C%20%E6%9C%80%E6%9C%89%E8%B6%A3%E7%9A%84%E7%B7%9A%E4%B8%8A%E8%AA%B2%E7%A8%8B%E5%B9%B3%E5%8F%B0%20%7C%20%E8%87%AA%E5%AD%B8%E9%82%A3%E4%BA%9B%E5%AD%B8%E6%A0%A1%E6%B2%92%E6%95%99%E7%9A%84%E4%BA%8B&amp;kw=Hahow,%E5%A5%BD%E5%AD%B8%E6%A0%A1,%E7%B7%9A%E4%B8%8A%E8%AA%B2%E7%A8%8B,%E8%AA%B2%E7%A8%8B%E5%8B%9F%E8%B3%87,%E7%B6%B2%E8%B7%AF%E6%95%99%E5%AD%B8&amp;p=https%3A%2F%2Fhahow.in%2Fcourses&amp;r=&amp;lt=1957&amp;evt=pageLoad&amp;msclkid=N&amp;sv=1&amp;rn=116224\" style=\"width:0px; height:0px; display:none; visibility:hidden;\" width=\"0\"/><img alt=\"\" height=\"0\" id=\"batBeacon234806786094\" src=\"https://bat.bing.com/action/0?ti=5857216&amp;Ver=2&amp;mid=c5278408-9c06-49fe-8f2c-5ea520f1ac2e&amp;sid=0c44c5c0459d11ebb214eb946ee6a3aa&amp;vid=0c45b540459d11ebb7fb59fcabaed9ee&amp;vids=0&amp;ea=track&amp;el=Product List Viewed&amp;el2=Product%20List%20Viewed&amp;evt=custom&amp;msclkid=N&amp;rn=284956\" style=\"width:0px; height:0px; display:none; visibility:hidden;\" width=\"0\"/></div><script id=\"\" type=\"text/javascript\">(function(){var b=localStorage.getItem(\"satellizer_token\"),a=window.location.host,c=null;ga&&ga.getAll&&ga.getAll()[0]&&(c=ga.getAll()[0].get(\"_gid\"));var d=/hahow\\.in$/;d.test(a)&&(a=new XMLHttpRequest,a.open(\"POST\",\"https://production.uts.hahow.in/api/v1/collect\"),b&&a.setRequestHeader(\"Authorization\",\"Bearer \"+b),a.setRequestHeader(\"Content-Type\",\"application/json;charset\\x3dUTF-8\"),b={gid:c,event:\"page view\",data:{time:new Date,url:window.location.href,origin:window.location.origin,search:window.location.search,\n",
      "referrer:document.referrer||null}},a.send(JSON.stringify(b)))})();</script>\n",
      "<script id=\"\" src=\"https://www.googletagmanager.com/gtag/js?id=AW-775545404\" type=\"text/javascript\"></script><script id=\"\" type=\"text/javascript\">var element=document.getElementById(\"root\");element.setAttribute(\"courseListRandPeriod\",1800);element.setAttribute(\"courseListRandWindow\",96);element.setAttribute(\"recSectionRandPeriod\",1800);element.setAttribute(\"recSectionRandWindow\",32);element.setAttribute(\"homePageRandPeriod\",1800);element.setAttribute(\"homePageRandWindow\",32);</script><iframe aria-hidden=\"true\" id=\"intercom-frame\" style=\"position: absolute !important; opacity: 0 !important; width: 1px !important; height: 1px !important; top: 0 !important; left: 0 !important; border: none !important; display: block !important; z-index: -1 !important; pointer-events: none;\" tabindex=\"-1\" title=\"Intercom\"></iframe>\n",
      "<script id=\"\" type=\"text/javascript\">window.dataLayer=window.dataLayer||[];function gtag(){dataLayer.push(arguments)}gtag(\"js\",new Date);gtag(\"config\",\"AW-775545404\");</script>\n",
      "<div aria-live=\"polite\" class=\"intercom-lightweight-app\"><style id=\"intercom-lightweight-app-style\" type=\"text/css\">\n",
      "  @keyframes intercom-lightweight-app-launcher {\n",
      "    from {\n",
      "      opacity: 0;\n",
      "      transform: scale(0.5);\n",
      "    }\n",
      "    to {\n",
      "      opacity: 1;\n",
      "      transform: scale(1);\n",
      "    }\n",
      "  }\n",
      "\n",
      "  @keyframes intercom-lightweight-app-gradient {\n",
      "    from {\n",
      "      opacity: 0;\n",
      "    }\n",
      "    to {\n",
      "      opacity: 1;\n",
      "    }\n",
      "  }\n",
      "\n",
      "  @keyframes intercom-lightweight-app-messenger {\n",
      "    from {\n",
      "      opacity: 0;\n",
      "      transform: translateY(20px);\n",
      "    }\n",
      "    to {\n",
      "      opacity: 1;\n",
      "      transform: translateY(0);\n",
      "    }\n",
      "  }\n",
      "\n",
      "  .intercom-lightweight-app {\n",
      "    position: fixed;\n",
      "    z-index: 2147483001;\n",
      "    width: 0;\n",
      "    height: 0;\n",
      "    font-family: intercom-font, \"Helvetica Neue\", \"Apple Color Emoji\", Helvetica, Arial, sans-serif;\n",
      "  }\n",
      "\n",
      "  .intercom-lightweight-app-gradient {\n",
      "    position: fixed;\n",
      "    z-index: 2147483002;\n",
      "    width: 500px;\n",
      "    height: 500px;\n",
      "    bottom: 0;\n",
      "    right: 0;\n",
      "    pointer-events: none;\n",
      "    background: radial-gradient(\n",
      "      ellipse at bottom right,\n",
      "      rgba(29, 39, 54, 0.16) 0%,\n",
      "      rgba(29, 39, 54, 0) 72%);\n",
      "    animation: intercom-lightweight-app-gradient 200ms ease-out;\n",
      "  }\n",
      "\n",
      "  .intercom-lightweight-app-launcher {\n",
      "    position: fixed;\n",
      "    z-index: 2147483003;\n",
      "    bottom: 20px;\n",
      "    right: 20px;\n",
      "    width: 60px;\n",
      "    height: 60px;\n",
      "    border-radius: 50%;\n",
      "    background: #00BEA4;\n",
      "    cursor: pointer;\n",
      "    box-shadow: 0 1px 6px 0 rgba(0, 0, 0, 0.06), 0 2px 32px 0 rgba(0, 0, 0, 0.16);\n",
      "    animation: intercom-lightweight-app-launcher 250ms ease;\n",
      "  }\n",
      "\n",
      "  .intercom-lightweight-app-launcher:focus {\n",
      "    outline: none;\n",
      "    \n",
      "  }\n",
      "\n",
      "  .intercom-lightweight-app-launcher-icon {\n",
      "    display: flex;\n",
      "    align-items: center;\n",
      "    justify-content: center;\n",
      "    position: absolute;\n",
      "    top: 0;\n",
      "    left: 0;\n",
      "    width: 60px;\n",
      "    height: 60px;\n",
      "    transition: transform 100ms linear, opacity 80ms linear;\n",
      "  }\n",
      "\n",
      "  .intercom-lightweight-app-launcher-icon-open {\n",
      "    \n",
      "        opacity: 1;\n",
      "        transform: rotate(0deg) scale(1);\n",
      "      \n",
      "  }\n",
      "\n",
      "  .intercom-lightweight-app-launcher-icon-open svg {\n",
      "    width: 28px;\n",
      "    height: 32px;\n",
      "  }\n",
      "\n",
      "  .intercom-lightweight-app-launcher-icon-open svg path {\n",
      "    fill: rgb(255, 255, 255);\n",
      "  }\n",
      "\n",
      "  .intercom-lightweight-app-launcher-icon-self-serve {\n",
      "    \n",
      "        opacity: 1;\n",
      "        transform: rotate(0deg) scale(1);\n",
      "      \n",
      "  }\n",
      "\n",
      "  .intercom-lightweight-app-launcher-icon-self-serve svg {\n",
      "    height: 56px;\n",
      "  }\n",
      "\n",
      "  .intercom-lightweight-app-launcher-icon-self-serve svg path {\n",
      "    fill: rgb(255, 255, 255);\n",
      "  }\n",
      "\n",
      "  .intercom-lightweight-app-launcher-custom-icon-open {\n",
      "    max-height: 36px;\n",
      "    max-width: 36px;\n",
      "    \n",
      "        opacity: 1;\n",
      "        transform: rotate(0deg) scale(1);\n",
      "      \n",
      "  }\n",
      "\n",
      "  .intercom-lightweight-app-launcher-icon-minimize {\n",
      "    \n",
      "        opacity: 0;\n",
      "        transform: rotate(-60deg) scale(0);\n",
      "      \n",
      "  }\n",
      "\n",
      "  .intercom-lightweight-app-launcher-icon-minimize svg {\n",
      "    width: 16px;\n",
      "  }\n",
      "\n",
      "  .intercom-lightweight-app-launcher-icon-minimize svg path {\n",
      "    fill: rgb(255, 255, 255);\n",
      "  }\n",
      "\n",
      "  .intercom-lightweight-app-messenger {\n",
      "    position: fixed;\n",
      "    z-index: 2147483003;\n",
      "    overflow: hidden;\n",
      "    background-color: white;\n",
      "    animation: intercom-lightweight-app-messenger 250ms ease-out;\n",
      "    \n",
      "        width: 376px;\n",
      "        height: calc(100% - 120px);\n",
      "        max-height: 704px;\n",
      "        min-height: 250px;\n",
      "        right: 20px;\n",
      "        bottom: 100px;\n",
      "        box-shadow: 0 5px 40px rgba(0,0,0,0.16);\n",
      "        border-radius: 8px;\n",
      "      \n",
      "  }\n",
      "\n",
      "  .intercom-lightweight-app-messenger-header {\n",
      "    height: 75px;\n",
      "    background: linear-gradient(\n",
      "      135deg,\n",
      "      rgb(0, 190, 164) 0%,\n",
      "      rgb(0, 88, 76) 100%\n",
      "    );\n",
      "  }\n",
      "\n",
      "  @media print {\n",
      "    .intercom-lightweight-app {\n",
      "      display: none;\n",
      "    }\n",
      "  }\n",
      "</style><div aria-label=\"Open Intercom Messenger\" class=\"intercom-lightweight-app-launcher intercom-launcher\" role=\"button\" tabindex=\"0\"><div class=\"intercom-lightweight-app-launcher-icon intercom-lightweight-app-launcher-icon-open\"><svg viewbox=\"0 0 28 32\" xmlns=\"http://www.w3.org/2000/svg\"><path d=\"M28 32s-4.714-1.855-8.527-3.34H3.437C1.54 28.66 0 27.026 0 25.013V3.644C0 1.633 1.54 0 3.437 0h21.125c1.898 0 3.437 1.632 3.437 3.645v18.404H28V32zm-4.139-11.982a.88.88 0 00-1.292-.105c-.03.026-3.015 2.681-8.57 2.681-5.486 0-8.517-2.636-8.571-2.684a.88.88 0 00-1.29.107 1.01 1.01 0 00-.219.708.992.992 0 00.318.664c.142.128 3.537 3.15 9.762 3.15 6.226 0 9.621-3.022 9.763-3.15a.992.992 0 00.317-.664 1.01 1.01 0 00-.218-.707z\"></path></svg></div><div class=\"intercom-lightweight-app-launcher-icon intercom-lightweight-app-launcher-icon-minimize\"><svg viewbox=\"0 0 16 14\" xmlns=\"http://www.w3.org/2000/svg\"><path clip-rule=\"evenodd\" d=\"M.116 4.884l1.768-1.768L8 9.232l6.116-6.116 1.768 1.768L8 12.768.116 4.884z\" fill-rule=\"evenodd\"></path></svg></div></div></div><iframe height=\"0\" style=\"display: none;\" title=\"Criteo DIS iframe\" width=\"0\"></iframe></body></html>\n"
     ]
    }
   ],
   "source": [
    "# 取得資料（等瀏覽器資料出現後才執行）\n",
    "html_source = browser.page_source\n",
    "# html_source\n",
    "\n",
    "# 取得資料\n",
    "html_source = browser.page_source\n",
    "soup = BeautifulSoup(html_source, 'html.parser')\n",
    "# print(soup)\n"
   ]
  },
  {
   "cell_type": "code",
   "execution_count": 121,
   "metadata": {
    "ExecuteTime": {
     "end_time": "2020-12-24T04:14:20.283032Z",
     "start_time": "2020-12-24T04:14:20.154197Z"
    }
   },
   "outputs": [
    {
     "name": "stdout",
     "output_type": "stream",
     "text": [
      "['臺菜廚神阿發師的 12 堂課 - 辦桌菜輕鬆做', '跨國紙筆之旅：B6 速寫男帶你畫遍全世界', '說故事的 15 個秘密－基礎編劇實戰力', '侯吉諒書法講堂：從零開始，學寫一手好字', 'Python 行銷資料科學 ：基礎語法入門最前線', 'Unity 從零開始新手入門：2D 橫向捲軸遊戲', '品牌包裝設計學：從包裝建立最佳使用體驗', 'Today at Apple:和攝影師 Paddy 用 iPhone 拍出商業空間形象照', 'Today at Apple:和設計師馮宇拆解商業 LOGO 案例', 'Today at Apple:和攝影師 Ada Lin 用 iPhone 學習專業商品攝影', 'Python 資料分析：AI 機器學習入門到應用', '余惟的生活時尚攝影：拍出日常裡的封面人物', '雷浩斯價值投資：用質化分析找出價值成長股', '火頭工做麵包：與酵母共舞，設計專屬配方', '職場英文大補帖｜上班族的跨國會議必修課', '【生活裡的花與器】風格美感花藝選搭課', '數位轉型敲門磚，產業必學 AI 思維通識課', '揮別五音不全：威宇老師的音準訓練課', '一課思考學：你需要知道的一切，都在這一課', '這樣做設計思考更有用！UX 有感提案術', '創新先生瘋狂創造力：創造力思維與發想流程', '基礎情境練習課：建立你的英文文法邏輯腦', '藝用解剖學 2 - 凝望透視之眼 360 度全視野攻略', '新手能上手！居家健身，肌群練習一次到位']\n"
     ]
    }
   ],
   "source": [
    "def get_a_page_class_title(soup):\n",
    "    courses = []\n",
    "    class_title = soup.find_all(\"h4\", class_=\"title\")\n",
    "#     print(class_title)\n",
    "    # 從 Set(soup.find_all return 的資料型式) 裡取出，存成 List\n",
    "    for i in range(len(class_title)):\n",
    "        class_title = soup.find_all(\"h4\", class_=\"title\")[i].text\n",
    "    #     print(class_title)\n",
    "        courses.append(class_title)\n",
    "    print(courses)\n",
    "    return courses\n",
    "    \n",
    "courses = get_a_page_class_title(soup)"
   ]
  },
  {
   "cell_type": "code",
   "execution_count": null,
   "metadata": {
    "ExecuteTime": {
     "end_time": "2020-12-24T02:54:22.177678Z",
     "start_time": "2020-12-24T02:54:22.120469Z"
    }
   },
   "outputs": [],
   "source": [
    "browser.close()"
   ]
  },
  {
   "cell_type": "markdown",
   "metadata": {},
   "source": [
    "### 2. 剛剛的做法只能取出第一頁，試著取出所有頁面的資料。"
   ]
  },
  {
   "cell_type": "code",
   "execution_count": 70,
   "metadata": {
    "ExecuteTime": {
     "end_time": "2020-12-24T03:57:27.861797Z",
     "start_time": "2020-12-24T03:57:27.856754Z"
    }
   },
   "outputs": [],
   "source": [
    "from selenium import webdriver\n",
    "from selenium.webdriver.support.ui import Select\n",
    "from bs4 import BeautifulSoup\n",
    "def open_browser():\n",
    "    browser = webdriver.Chrome(executable_path='../chromedriver/chromedriver')\n",
    "    browser.get(\"https://hahow.in/courses\")\n",
    "    return browser"
   ]
  },
  {
   "cell_type": "code",
   "execution_count": 71,
   "metadata": {
    "ExecuteTime": {
     "end_time": "2020-12-24T03:57:29.395733Z",
     "start_time": "2020-12-24T03:57:29.391827Z"
    }
   },
   "outputs": [],
   "source": [
    "# 取得資料（等瀏覽器資料出現後才執行）\n",
    "def get_html(browser):\n",
    "    html_source = browser.page_source\n",
    "    soup = BeautifulSoup(html_source, 'html.parser')\n",
    "    return soup\n"
   ]
  },
  {
   "cell_type": "code",
   "execution_count": 67,
   "metadata": {
    "ExecuteTime": {
     "end_time": "2020-12-24T03:52:42.580053Z",
     "start_time": "2020-12-24T03:52:42.567947Z"
    }
   },
   "outputs": [
    {
     "name": "stdout",
     "output_type": "stream",
     "text": [
      "24\n"
     ]
    }
   ],
   "source": [
    "# 1. 先取出全部有幾頁\n",
    "# 法ㄧ：使用Selenium  -> XX\n",
    "# page = soup.find_all(\"div\", class_=\"pagination-container\")\n",
    "# print(page)\n",
    "# next_page = Select(browser.find_element_by_class_name(\"fa\"))\n",
    "# next_page.click()\n",
    "\n",
    "# 法二：另一種思維：發 Get Request，停止條件，若有 \"找不到你搜尋的課程\"，則停止。 -> XX\n",
    "# import requests\n",
    "# url = \"https://hahow.in/courses?page=\"\n",
    "# # while True:\n",
    "#     page_num = 25\n",
    "#     url = url + str(page_num)\n",
    "#     response = requests.get(url)\n",
    "#     print(response.text)\n",
    "#     # soup = soup.BeautifulSoup(response.text, \"html.parser\")\n",
    "#     # print(soup)\n",
    "#     if \"找不到你搜尋的課程\" in response.text:\n",
    "#         break\n",
    "#         print(\"%d is the last page\"%page_num)\n",
    "#     page_num += 1\n",
    "# # print(page_num)\n",
    "\n",
    "# 直接取最後一個！\n",
    "page = soup.find_all(class_=\"rc-pagination-item\")[-1].text\n",
    "print(page)\n"
   ]
  },
  {
   "cell_type": "code",
   "execution_count": 132,
   "metadata": {
    "ExecuteTime": {
     "end_time": "2020-12-24T04:29:08.716676Z",
     "start_time": "2020-12-24T04:29:08.711938Z"
    },
    "scrolled": false
   },
   "outputs": [],
   "source": [
    "# 2. 每頁都取出資料放入 courses\n",
    "def get_all_course(page, browser, ):\n",
    "    courses = []\n",
    "    page_num = 1\n",
    "    for i in range(int(page)):\n",
    "        url = \"https://hahow.in/courses?page=\"\n",
    "        url = url + str(page_num)\n",
    "        # 跳轉頁面\n",
    "        browser.get(url)\n",
    "        # 剖析資料\n",
    "        soup = get_html(browser)\n",
    "        # 獲取該頁所有課程資訊\n",
    "        one_page_courses = get_a_page_class_title(soup)\n",
    "\n",
    "        # 添加到總課表\n",
    "        courses.append(one_page_courses)\n",
    "        # 頁數更新\n",
    "        page_num += 1\n",
    "        # 等待一秒\n",
    "        time.sleep(1)\n",
    "    browser.close()"
   ]
  },
  {
   "cell_type": "code",
   "execution_count": 131,
   "metadata": {
    "ExecuteTime": {
     "end_time": "2020-12-24T04:25:58.960350Z",
     "start_time": "2020-12-24T04:25:58.940276Z"
    }
   },
   "outputs": [
    {
     "name": "stdout",
     "output_type": "stream",
     "text": [
      "[['五星級法式經典甜點在家做', '掌握鉤針編織邏輯：五種針法自造生活小物', 'Python 推薦系統入門: 打造令人上癮的產品', '堯中人像攝影創作：掌握光影發掘人像質感', '日新麥克筆魔法：十支筆創造新視界－慕夏篇', '志祺的架構性思考：從資訊整理到觀點表達', ' PS 核心技法 | 調色技法完全講解篇', '҉唐鳳҉數位溝通社：就這樣把你增幅', '四叉貓網美談資社：美少女反串溝通愛心光波', '楊大正台語詞創社：咱就大力來寫著歌', '大支嘻哈研究社：饒舌饒出台灣味', '賴品妤 Cosplay 社：ㄘ我的二次元替身攻擊', '月月鳥昆蟲研究社：跟鄭運鵬變身甲蟲王', '人像外拍打燈精進：有趣的L角佈燈守則', '人氣喫茶店 KADOYA 主廚帶你做日式洋菓子', '你適合買房嗎？給居住焦慮世代的購屋指南', '發展無限的 iPodcast-揭開播客教練的獲利模式', '量價交易精隨：打造股票、期貨完美交易策略', '掌握關鍵數據，黃金、原油投資高勝率全攻略', '改變籃球比賽的弧線-呂政儒與簡浩射手訓練', '王梓沅的 3D 英文筆記術：打造最強「說」「寫」英語資料庫', 'NBA 戰力分析！簡單打造 Python 數位報表', '跟著阿麗學俄文 : 打造標準的俄語發音', '韓式擠花神手：韓國人金老師的擠花杯子蛋糕'], ['臺菜廚神阿發師的 12 堂課 - 辦桌菜輕鬆做', '跨國紙筆之旅：B6 速寫男帶你畫遍全世界', '說故事的 15 個秘密－基礎編劇實戰力', '侯吉諒書法講堂：從零開始，學寫一手好字', 'Python 行銷資料科學 ：基礎語法入門最前線', 'Unity 從零開始新手入門：2D 橫向捲軸遊戲', '品牌包裝設計學：從包裝建立最佳使用體驗', 'Today at Apple:和攝影師 Paddy 用 iPhone 拍出商業空間形象照', 'Today at Apple:和設計師馮宇拆解商業 LOGO 案例', 'Today at Apple:和攝影師 Ada Lin 用 iPhone 學習專業商品攝影', 'Python 資料分析：AI 機器學習入門到應用', '余惟的生活時尚攝影：拍出日常裡的封面人物', '雷浩斯價值投資：用質化分析找出價值成長股', '火頭工做麵包：與酵母共舞，設計專屬配方', '職場英文大補帖｜上班族的跨國會議必修課', '【生活裡的花與器】風格美感花藝選搭課', '數位轉型敲門磚，產業必學 AI 思維通識課', '揮別五音不全：威宇老師的音準訓練課', '一課思考學：你需要知道的一切，都在這一課', '這樣做設計思考更有用！UX 有感提案術', '創新先生瘋狂創造力：創造力思維與發想流程', '基礎情境練習課：建立你的英文文法邏輯腦', '藝用解剖學 2 - 凝望透視之眼 360 度全視野攻略', '新手能上手！居家健身，肌群練習一次到位'], ['婚禮企劃與主持入門課', '黃瑽寧的 10 堂育兒必修課全系列', '毛心潔的哺乳全攻略：觀念篇＋實作篇', '鄧惠文的關係心理學：親子篇', '10 堂課教出孩子的好情緒', '聽海苔熊「談」戀愛：剖析童話，療癒愛情', 'Python 進階課程：觀念、語法、專案、爬蟲', '龍師傅的台菜世界廚房', '萬用馭髮術全攻略 - 女神髮型養成班', '實境遊戲設計：打造好玩又有意義的情境體驗', '產品設計實戰：用Figma打造絕佳UI/UX', '許榮哲的故事課 - 三分鐘說 18 萬個故事', 'Rose 的色鉛筆插畫課 - 粉彩系午茶派對', '旅行攝影：按下快門，用攝影書寫故事', '占星之門安格斯｜十二宮位找出人生攻略', '一生必學的圍棋課—入門變達人', '台式冷便當｜不用蒸也能輕鬆帶的便當', '跟 YouTuber 莫彩曦學美國道地的說話習慣', '用 Python 理財：打造加密貨幣實戰策略', '總經投資必學，看懂美中歐三大央行政策！', '第一堂德語課：開啟德國留學之路', '行銷提案實戰：讓你的想法被一次買單', '每天十分鐘跳出自信與魅力：超好學街舞課！', 'Podcast 全攻略：打造你的品牌和影響力'], ['凱蒂瑜珈：夢幻動作從頭學，開啟練習新里程', '六大實拍範例，商攝打光再精進', '24 單元入門投資科學 一次搞懂投資必備知識', '養個股兒子︱要存就存冷門股', 'Unity+Fungus 免程式製作你的文字冒險遊戲', '作品集必備！Mockup 模擬圖合成術', '小錢投資大公司，受用一生美股投資觀念', '冠軍 DJ DinPei－帶你從零開始成為專業 DJ', '女性專屬！筋肉媽媽的高效增肌減脂課', '寫一手西洋書法美字：銅版體習字課', '服飾批貨課：獨門批購心法讓你低庫存高利潤', '一變應萬變：RWD 響應式網頁設計', '精通 Bootstrap 4 - 開發超強不解釋', '使用 HTML、CSS 開發一個網站', '使用 jQuery 打造互動性網頁動畫效果', '職場必備的批判思考力：沉思力篇', '職場人必學的商業分析術', '產品數據分析 - 打造網路產品的決策引擎', '做圖啦！設計省攻略：品牌應用新手速成', '我的設計超美感 – C4D 視覺密碼懶人包', '從零開始，ob11/黏土娃娃衣製作教學', '用攝影打造第二人生｜讓熱情全職為你工作', '6五3的書法設計課：跳脫字帖的書寫自由式', '打電動也能賺錢：如何成為遊戲實況主？'], [], ['出門好狗兒：抓住狗狗注意力，提升信任關係', '韓式和菓子自己做：一次學會 12 種造型', '微甜的仲夏氣息：雪莉療癒水彩時光', '從零到專業-成為影片製作師的教學手冊', '不小心就學會！用 UI 設計方法製作網站', '個人品牌變現力：開始打造你的多元收入！', '喬老師模型課：出神入化模型技法｜鋼普拉篇', '職場必備的 Excel 關鍵技法－進階', '用「英文邏輯」溝通說服！職場、生活都適用', '從零開始，Unity3D 射擊遊戲製作真簡單', '手繪珠寶設計入門：完成你的第一件珠寶設計', '職場寫作課：從個人品牌到自媒體', '紙上的美妝師：連禾時尚彩妝畫', '顧客分類大師：Python x RFM 會員經營新觀點', '翻轉文字：給孩子好玩的創意寫作課！', '大人的蠟筆畫：活用油畫知識，寫實生活微光', '機器學習攻略：實戰心法到求職技巧', '法式甜點在地魂製作攻略－日日在家菓實日', '林長揚職場簡報術：一次搞定所有工作簡報！', '概念式時尚插畫｜我的小小時裝週', '羅寶鴻的安定教養課：12 個對話練習與心法', '七日減醣計畫「一週持續執行！」邊吃邊享瘦', '閱讀攝影的眼神 - 啟動你的影像理解力', '手機 App 開發入門：App Inventor 2 實作'], ['全民防疫通識課：陳建仁副總統來開講', '省錢攝影術：零基礎拍好美食＆商品！', 'Linux 我來教: CentOS/ RHEL 8 新世代雲端', '口譯員浩爾的打獵式聆聽＆資訊處理術', '資料變決策！從零上手 Tableau 大數據視覺化', '互動藝術程式創作入門 (Creative Coding)', '人生管理學：把自己當成公司經營', '薩克斯風 - 13 堂基本功吹出專輯的美聲', '用實際案例學設計-美編的 InDesign 排版課', '動盪時代的資產配置：王伯達人生財務規劃學', '手繪轉電繪，我選 Procreate！', '氣球達人不藏私！宋俊霖的塞球雕塑造型課', '0-2 歲寶寶父母必修課 - 專業治療師開課囉！', '一支手機拍完行銷影片，產品賣更好！', 'Keynote即戰力：簡報製作到上台演講都搞定', '輕鬆學好道地美式發音！', '資料科學：Azure 機器學習工作室入門', '話聊庶務課－探索你說話的個人風格', 'Office論文格式技巧：高效編輯專業文件', '蝦皮新手賣家行銷術：突破網拍初期盲點', 'ZBrush 201 從初階到高階 - 隱藏密技大公開', 'PHP 攻略：Laravel 5.8 從入門到實務', '成功前進科技巨頭，百萬年薪面試術！'], ['Github 免費架站術！輕鬆打造個人品牌', '網美咖啡廳在你家，九款鏡面蛋糕一次學', '產品分析入門：UX 設計師的思考術', 'Docker 部署入門完全指南-圖片速學攻略', 'Python 0 到 1 基礎商業數據分析實戰', '角色原型雕塑 - 走進電影美術的世界', '【AI 深度學習】新手入門應用篇', '一次搞懂專案管理 - 從入門到業界實務', '畫出有質感的 2D 手繪動畫 - Toon Boom', '你的遠端私人教練，從零開始的增肌訓練課', '新制多益聽力滿分攻略－高效率秒殺解題技巧', '指尖上的閃亮秘密 - 你的第一堂指甲養護課', '資料應用：Excel VBA 爬蟲與 IE 操控入門', '把美肌關了吧！韓星好膚質底妝，是畫出來的', '超強印象！人與動物的 logo 設計課', '職場必備的批判思考力：反省力篇', '日本電商代購批貨：銷售獲利心法', '程式交易極速上手！用 Eleader 30 秒寫策略', '開運陽宅系列：人人必備的臥房風水常識', '兩小時學會子彈筆記：訂製專屬你的高效生活', '跨平台 APP - React Native 快速學習攻略', 'YouTuber 的 36 堂課：讓你被更多人看到', '英文寫作經典指南：10個流暢俐落的必備法則', '讓創作帶來長期收入！圖像 IP 授權第一課'], ['Python 資料分析 - 網頁爬蟲與視覺呈現', '低熱量馬卡龍自己做：韓國金老師的甜點時光', '產品思維：Spotify 產品經理帶你快速入門', '自學程式如何快速入門 - 以 Python/JS 為例', '說說刺繡：基礎到進階立體，此刻的煦色韶光', 'Katie 凱蒂流動瑜珈：啟動熱能，身心修復', '社會在走 面子要有-明星彩妝師的型男打造術', 'GTM 建置術：數位追蹤必備，代碼設定神器', '如何成為資料分析師：從問題解決到行動方案', '日常應用到舞台，Hold 住全場主持力', '開店一次搞定！餐廳創業最強生存攻略', '成為專業筆譯必備：商務日文翻譯力', '你的第一堂花藝課：一起來綁一束花吧！', '貓咪就醫減壓完全指南', '陳列設計：隱形的視覺傳銷學', '專業造型師技法在家學 - 新娘秘書養成班', '一小時光屋 - 魔術方塊速解高手之路', '職場必備的批判思考力：論戰力篇', '散戶必看！台股擂台王的波段操作心法', '把捉日常光影細節-畫出充滿靈魂的人像插畫', '生活中的哲學！給新手的手沖咖啡入門課', '從興趣到接案：建立專業插畫創作流程', '生活要清爽：讓空間煥然一新的整理收納課', '利息養成現金流：債券入門投資術'], ['小資族保險的第一堂入門課', '創作你的療癒香草茶！百種風味搭配邏輯', '托福口說拿分 4 原則｜發音、表達一把罩', 'LOGO 必修課：發展品牌識別的第一步', 'Excel VBA 金融資料抓取 | 打造股票研究系統', '開啟你的 AI 技能 —— 無痛入門 NLP', '日本求職全攻略，開啟你海外求職第一步', 'AI 行銷學：用 Python 機器學習創造商業新價值', '戶外攝影實戰：用鏡頭看見台灣', '從生活小物到街景，用鋼筆速寫在日子裡旅行', 'illustrator 入門：從形狀到美麗的向量插畫', '小資族 ETF 狠會賺投資法', '不用動腦的攝影課-七堂課拍出有質感的照片', '英雄之旅：自己的故事，別當配角', 'AutoLisp - 紮實入門與實例應用', 'GA 從零上手！數位時代必學的數據行銷秘笈', '真空烹調在家做，科學方法學舒肥', '區塊鏈應用敲門磚：行動支付到商業案例', '開啟程式設計之門 - C++ 核心課程', 'R語言和文字探勘 - 洞悉巨量文字的商業價值', '網路行銷新手入門，打造品牌電商', '職場必備的批判思考力：創意力篇', '品牌力革命：運動品牌塑造心法', 'ZBrush - 設計師公仔入門課'], ['零基礎輕鬆學：流行鋼琴【即興伴奏】彈唱', '金融市場 x 程式交易：通往財富自由之路', '韓語基礎文法自由行－輕鬆開口說', '愛上突破困難的新自己：你可以更快樂', 'BIM 實務即戰力！一堂課學會建築資訊模型', '電音製作入門：EDM 編曲攻略！', '從姿勢開始：生活人體工學 & 痠痛自救法！', '手作乾燥花 - 創造植感生活', '一支燈學打光，家裡就是攝影棚', '【影像說書人】攝影不只是按下快門', '求職平台大揭秘！寫出讓人資心動的專業履歷', '活用深度學習：MT4 交易程式整合視覺模型', '新手必學的3件事 - 進場點、停損點、停利點', '玩轉數據與資料：Excel VBA 入門教學', '產品經理職場學：PM 必修的職涯指南！', '成為電音製作人：帶你完成一首電音單曲！', '廣告照片怎麼拍 ─ 美食拍攝秘訣教給你嘍', '職場必備的批判思考力：基礎篇', 'IG 全攻略：從零開始的 Instagram 經營學', '聲入人心-周震宇的人聲必修課', '如何秒速視譜？驚人的獨家視譜法', '吉他彈唱診療室 - 彈唱入門必學基本功', 'Git - 軟體工程師必備的版本管理時光機', '知名歌手的老師 幫你歌聲大改造'], ['爵士吉他入門訓練班', '面子裡子都不輸 - 王介安的 GAS 職場談判課', '不可錯過的時代趨勢：從自學區塊鏈到專家！', '科技苦手事務所：不學 Coding 的邏輯思考課', '醫學簡報快製力', 'ChatBot 從 0 到 1 突破演算法の後社群神器', '將知識提煉成觀點：鮪魚的獨門閱讀心法！', '15 單元看懂經濟運行，掌握全球投資趨勢', '樂理指法一把抓 - 鋼琴基礎從零開始', '超人氣吸睛表達力－職場必學表達課！', '提升工程師的科技力！AWS 雲端網站建置', '一滑就看完！條漫繪製攻略', '用 Python 理財：打造自己的 AI 股票理專', '淺談設計營運: 給設計團隊的版本控制技巧', '打造被動收入：建立人生主導權的系統化做法', 'TALK SMART！打造更有深度的英語口說', '學會 9 種場合適用妝容 － 小資女孩化妝術', '行銷必上文案課：受眾溝通與表達', '時間管理心法：升級人生作業系統', '工作疲累的救星：放鬆筋膜不求人！', 'Python 入門特訓 - 基礎實作到證照攻略', '百萬 YouTuber 阿滴－攻心剪輯術！', '火頭工做麵包：用科學方法學做健康麵包', '存零股學理財 - 累積你人生的第一張股王'], ['啟動你的工匠魂：打造第一個皮件作品！', 'Kotlin Android 高效開發：全新語言雲端世代', '氣球達人宋俊霖 教你氣球編織玩造型！', '買房必知！告別無殼蝸牛的銀行貸財術！', '紙上咖啡店開張！雪莉的午茶繪畫課', '出遊拍照不 NG - 應用 PS 修出美麗天空', 'amps－初階人物繪製基礎概念', '看穿公司背後隠藏的秘密   一切從財報開始', '好想法好好說 - 潘月琪的12堂質感說話課', '用 Python 打造自己的股票小秘書', '訪談溝通術：交流、說服與談判的必勝訣竅', '新多益閱讀：英語教父助你一舉突破企業門檻', '小資生活投資學，美股研究趣', 'Logic Pro X 從零開始', '職場必備的 Excel 關鍵技法 - 入門', '為個人品牌設計的 WiX 網站架設實作', '設計色彩學：建立自己的色彩品味資料庫', '【幫寶貝做照片貼圖】用愛將回憶保鮮  ', '上台惡夢變美夢：穩健台風的魅力溝通術', '怪獸工場 - 基礎素描實戰篇', '你的明星教練－祖雄的腹肌養成計畫', '股市投資新手策略筆記', 'PS 核心技法 | 人像膚質精修篇', 'AI 人工智慧－深度學習－金融實戰應用'], ['實用記憶法 - 用記憶改善生活', '水彩插畫師皮忠 - 鯨魚初階課', '一練就上手！書寫高效率日常美字', '三步驟學會即興演奏爵士樂', '用手機捕捉瞬息美好-IPPA 冠軍的攝影心法', '微電影進階－硬體原理與 Log 調色技術', '興趣變副業！打造自己的手作品牌', '畫桌上的植物學-自然控的觀察手繪圖鑑課', 'Java 與 Kotlin 一起學 : 程式設計的起點', '不正經古文講堂：流傳五千年的魯蛇哲學', '動畫背後邏輯與創意－臺灣吧知識轉譯力', '大學生必修的 12 堂簡報課', '賴導教你 搜便宜機票 玩航空哩程！', '韓式豆沙裱花-特殊造型蛋糕', '批判到創新：不是研究生也能學的研究方法', '台灣小說名場面：五百字吸收文字內力', '標標標標標準字 - 從生活創意到邏輯實踐', '瘦身營養學：用科學飲食邁向理想體態！', '藍曬技法 - 初學者的氰版顯影  ', '數據為王: 金融資料分析＆算法交易', '零基礎邁向區塊鏈工程師：Solidity 智能合約', '職場英文大補帖｜上班族的 Email 寫作課', '玩轉 Unity! 零基礎打造自己的 2D 遊戲！', 'Evernote，你的無壓工作術'], ['Excel程式量化交易速成：不盯盤期貨投資法', 'Excel 達人：學會所有商務應用的需求！', '愛情哲學課-學習愛情知識 克服愛的難題', '【Illustrator / Ai 進階】深度精修班', 'Power BI數據分析實戰-邏輯與資料視覺化', '第一次自助旅行就輕鬆上手！', 'ETF 投資全球：帶你量身打造專屬資產配置', '啾啾鞋的資料彙整術 - 別淹沒在資訊海！', '職場在走法律常識要有-上班族必修法律課', '四小時學會打光，成為商業攝影師！', '實用Photoshop - 入門到大師，紮實範例', '簡報方舟：高效簡報的系統化做法', '比阿里巴巴還便宜的女裝批發', '從生活認識微積分：基礎觀念篇(1)', '伸縮自如的字體課：從基本功到創意風格', '教養心法：用數位心智圖提升孩童學習力', 'TOEIC — 全方位攻略 2018 新制多益！', 'R語言和商業分析-洞悉商業世界中的資料科學', '經典駭客攻擊教程：給每個人的網站安全入門', '掌握英文8原則-自學英文的最短路徑', '台科 EMBA 年年爆滿的一門 Word 課（B+C 系列）', 'Android APP高效入門 強靭基礎刻不容緩', '一步一步學編劇：搞笑催淚技巧大揭密', '營養師萊恩：狗狗鮮食簡單做'], ['畫圖無死角，360 度全景透視法', 'ZBrush 101 - 從零開始學 ZBrush', 'Final Cut Pro X 入門 - 0到1帶你學會剪輯', '全方位學 WordPress - 從架站到整合行銷', '斜槓世代必學｜自拍自剪影片養成計畫', '印花樂－自製手感印花好禮', '三小時教你怎麼講道德不輸人', '設計師接案學－業界求生必備守則', '空間大數據分析：GIS入門', 'Facebook 廣告投放實戰', '從 iPad 入門 - 音樂製作 & 影像剪輯', '【影音行銷】將名單變成訂單的最佳解答', '獵頭顧問 S 姐帶你健檢人生職涯', '在家也能成為氣球達人！', '平面設計 - 從理論到實務運用及對談 (初階)', '英語教父教你輕鬆戰勝新多益聽力', '加密貨幣交易戰鬥營 - 一條龍翻身攻略！', '美食攝影師：配色、擺盤、光影的視覺饗宴', 'AE基礎動畫 -【讓 2D 角色簡單動起來】', '總體經濟投資術：用數據分析清楚了解市場', '【電商正夯】找工作找實習必備 4 大技能', '畫你、畫他、畫我們的人物頭像！', '從上手到專業，寫出你想要的文案效果', 'Adobe XD / PS  —  網頁設計 與 UI 教學'], ['穿越影像的魔幻世界 - PS 超現實合成後製教學', '240 分鐘 - 忘掉拍照，學會攝影', '免批卡免出國，也能日本代購批貨', '用 Python 理財：打造小資族選股策略', '【行內人密技】讓你的 Word 擁有 World', '超現實影像創作 - PS 合成後製課', '外商銀行主管 - 教您外匯市場賺錢的秘密', '超快速 iOS 實用開發入門～學會6個APP', '【不會畫圖】也能製作角色動態LINE貼圖', '內容力：打造品牌的超能力', '創業先修，你準備好了嗎？', '台科 EMBA 年年爆滿的一門 Word 課（A系列）', '網路行銷全方位入門實戰（下集）', 'Unity 遊戲開發- [進階篇] 打造堆疊遊戲', '從 0 開始學 AE（下集）｜進階動態應用', '攝影創作 - 調出電影感色彩', '快速養成《深入人心英文簡報術》', '臉的故事-風格人像壓克力繪畫', '【不沾水水彩】入門-色鉛筆畫出水彩風', '股市投資實務', '上班族的存股投資術', '【吉他伴奏大全】', '三小時學會拆解社會現象與新聞議題！', '藝術字數位化，手寫風格 Logo 設計'], ['財富順流 GPS - 3 步驟打造財務自由藍圖！', '精準設計：簡報心法篇', '行動裝置繪圖趣 ☆ 手機平板皆可畫', '社群力：30 堂課突破你的內容行銷盲點！', '小資族理財的第一堂入門課', 'AutoCAD 電腦繪圖 3D應用篇－紮實入門', '打動人心的創作秘密，畫出個性的角色設計', '【Illustrator / Ai 入門】五小時保證上手', '入門到專精，成為職業 DJ 從這裡開始！', '資料庫設計 - 有效的使用系統資料', '給對 Premiere 毫無頭緒的你：最完整的 8 堂課', '用程式構築的繪畫世界 — CSS 繪圖', '職人必修的 RWD 網頁入門班', '當個水彩甜點師 — 雪莉的午茶繪畫課', 'Python 資料分析＆機器學習入門', '在台灣也能學一口漂亮英文！Phonics 自然發音&正音教學', '40 張佈燈圖來看打燈這回事', 'MATLAB 音訊處理入門 - 專屬語音助理', '畫圖不帶尺，輕鬆學會透視畫建築！', '解碼程式思維－物件導向的靈魂', '追劇學韓文—韓語初級會話課程', '網路行銷全方位入門實戰（上集）', '從0開始：從書籍封面學平面設計！', '旅行插畫，培養不可或缺的創造力'], ['吉他編曲超訓練：豐富精緻的彈奏設計', '設計 DIY - 網拍家的 PS 設計實戰', '浪漫探戈 - 從基本舞步到即興組合', '漫遊程海 | Python 入門到製作遊戲演算法', '從零開始學文案 — 育名的文案小教室', '進入比特幣世界 - 比 99% 的人更懂它！', '商用日語：一次學好各種敬語及書信禮儀', '履歷面試大剖析－網路科技外商求職技巧', '人人都是賈伯斯,你也可以開發自己的產品', 'POP-UP！立體繪本手工書 - 娃娃屋篇', '拯救你的樂理 - 現代音樂和聲學', 'Duga 的奇幻插畫課 - 幻想角色篇', '動畫互動網頁特效入門（JS/CANVAS）', '不必下蠱的人心攻略術 — 小說實戰技術', '跟著插畫家十堂課輕鬆學塔羅', '如何練習動漫速寫 - Anime Sketches', '從入門到業界實戰 - UI / UX 前端網頁設計', '開啟資料科學的學習大門 - R入門教學', '你真的會買淘寶？代購秘密大公開', 'AE/MG || 進階動畫特效 Vol.2', 'APP Inventor 2  進階實戰', '從 0 開始學 AE（上集）｜動態設計基礎', '與大師相會：每個人都能體現的舞台魅力', '【Java 程式語言】從 0 到 1'], ['Python 網頁爬蟲入門實戰', 'C 語言入門特訓', '靈魂的代言人-塔羅牌義全解析', '攝影剪輯必學6堂課 - 微電影、VLOG、MV', 'App Inventor 2 入門特訓', '藝用解剖學1 - 達文西維特魯威人', '吉他從零開始-Fingerstyle（進階）', '設計思考，頂尖企業都在學的創新流程！', '在世界各地都可以成為溜溜球高手', 'Node.js 網站開發 with React.js', '怪獸工場 - 基礎角色造型篇', '怪獸工場-遊戲場景設計篇', 'Photoshop練功坊 -入門操作到進階合成', '不到一小時就能學會的個人網站製作', '初心者！Lightroom數位暗房基礎後製', '相機外閃的神奇攝影術', '六分鐘快速理解一篇英文文章!', '挖出你的節奏細胞!爵士鼓教學-基本節奏篇', '一個小時！DIY你的作品集網站', '迎向南美－從零開始學西班牙文', '前進夢想工作：寫出必勝履歷！', '用歌唱技巧唱出屬於自己的迪士尼魂-初階', '初學者也能學會名片設計', '邊走邊畫，帶著手帳旅行去！'], ['常見日文發音錯誤及發音指南', '比ㄅㄆㄇ簡單的韓語發音', '前往停格動畫的奇幻旅程Vol.1｜玩具篇', '十堂課輕鬆學會木吉他自彈自唱', 'JavaScript 程式設計新手村', 'AutoCAD 電腦繪圖2D基礎篇－紮實入門', '手作印章：篆刻基礎技法', '莉朵花藝 - 體驗不凋花（材料包已售完）', 'Illustrator 平面圖像設計', 'Processing - 讓程式碼說設計語言', '復古風味色鉛筆食品速寫', '克服阻礙，快速說出流暢英文', 'Photoshop 最重要的基本課', '2016 未來大人物－全系列課程', 'iOS 入門 － 從介面設計到開發', '小編必學，百萬觀眾動畫製作術－動畫星球', 'MG特效 -【3D陣列圖形與分子運用C4D+AE】', '成長駭客 (1)－Landing Page 5 分鐘上手', '超簡單羊毛氈捲毛好朋友入門班', '男友必學攝影課 by 有fu攝影', '動物水彩 - 記錄生活中的小夥伴', '神秘腹語術，我要成為腹語師！', 'LINE 貼圖 DIY - 隨手創意輕鬆玩！', 'UI 介面設計入門，輕鬆上手 Sketch！'], ['日文助詞大補帖', '動畫互動網頁程式入門 (HTML/CSS/JS)', '用簡單的日文自助遊日本', '波波的氣球娃娃 - 歌姬初音篇', '用隨處可得的平價筆寫一手美字', '輕鬆畫出毛小孩的幸福臉龐♡ 免費軟體 MediBang Paint', '讓圖不只是好看的－資訊設計思考力！', '流行歌曲製作秘訣：Cubase 8 編曲軟體應用', '創業必備：前端網頁設計入門', '精準設計：PowerPoint 實戰技巧', '角色設計2_人體動態與空間透視', '基礎音樂製作 - Ableton Live', '超濃郁！美味的食物插畫', '日文時態快速上手', '丟掉 Word，進入 InDesign 的排版世界', 'Cartoon 插畫 - 人物篇 (●—●)', '畫，故事 //手繪深度圖像創作', '怪獸工場 - 頭部構成與造型設計篇', '怪獸工場 - 人體結構篇', '每天戀一點，戀愛心理學', '音樂創作原來這麼簡單！', '手繪溫度．甜點丼飯插畫篇', '一堂把你變高跟鞋專家的課', '刺繡 - 簡單學會多種針法做別針'], [], ['掌握產品素描 - ID Sketch（入門）', '和以莉高露一起學吉他', '超療癒！唐幼馨的孕婦瑜伽', '火箭飛船遊太空 Rocket 2', '火箭發射飛行中 Rocket 1', '火箭準備起飛了 Yoga Basics', '超好玩！李麥克的親子玩具製作', '動物插畫', '超滿足！王師傅的元氣料理', '超 EAZY！在家初學的紓壓瑜伽', '做自己的藏書票（新孔版）', '法式繽紛馬卡龍', '簡單學會入門款 【復古手工書 】', '糖果娃娃 - 學校畢業紀念娃娃', '為申請學校或工作寫好英文自傳', '療癒感手繪插畫食譜', '教你用免費軟體 混音組曲當 DJ！', '不一樣的西洋美術史', 'Line 的貼圖自己動手做！', '數位拼貼的手感', '幾何圖形分割 X 色塊組合']]\n"
     ]
    }
   ],
   "source": [
    "# 3. done!\n",
    "\n",
    "print(courses)"
   ]
  },
  {
   "cell_type": "code",
   "execution_count": null,
   "metadata": {
    "ExecuteTime": {
     "start_time": "2020-12-24T04:29:55.248Z"
    }
   },
   "outputs": [
    {
     "name": "stdout",
     "output_type": "stream",
     "text": [
      "['五星級法式經典甜點在家做', '掌握鉤針編織邏輯：五種針法自造生活小物', 'Python 推薦系統入門: 打造令人上癮的產品', '堯中人像攝影創作：掌握光影發掘人像質感', '日新麥克筆魔法：十支筆創造新視界－慕夏篇', '志祺的架構性思考：從資訊整理到觀點表達', ' PS 核心技法 | 調色技法完全講解篇', '҉唐鳳҉數位溝通社：就這樣把你增幅', '四叉貓網美談資社：美少女反串溝通愛心光波', '楊大正台語詞創社：咱就大力來寫著歌', '大支嘻哈研究社：饒舌饒出台灣味', '賴品妤 Cosplay 社：ㄘ我的二次元替身攻擊', '月月鳥昆蟲研究社：跟鄭運鵬變身甲蟲王', '人像外拍打燈精進：有趣的L角佈燈守則', '人氣喫茶店 KADOYA 主廚帶你做日式洋菓子', '你適合買房嗎？給居住焦慮世代的購屋指南', '發展無限的 iPodcast-揭開播客教練的獲利模式', '量價交易精隨：打造股票、期貨完美交易策略', '掌握關鍵數據，黃金、原油投資高勝率全攻略', '改變籃球比賽的弧線-呂政儒與簡浩射手訓練', '王梓沅的 3D 英文筆記術：打造最強「說」「寫」英語資料庫', 'NBA 戰力分析！簡單打造 Python 數位報表', '跟著阿麗學俄文 : 打造標準的俄語發音', '韓式擠花神手：韓國人金老師的擠花杯子蛋糕']\n",
      "['臺菜廚神阿發師的 12 堂課 - 辦桌菜輕鬆做', '跨國紙筆之旅：B6 速寫男帶你畫遍全世界', '說故事的 15 個秘密－基礎編劇實戰力', '侯吉諒書法講堂：從零開始，學寫一手好字', 'Python 行銷資料科學 ：基礎語法入門最前線', 'Unity 從零開始新手入門：2D 橫向捲軸遊戲', '品牌包裝設計學：從包裝建立最佳使用體驗', 'Today at Apple:和攝影師 Paddy 用 iPhone 拍出商業空間形象照', 'Today at Apple:和設計師馮宇拆解商業 LOGO 案例', 'Today at Apple:和攝影師 Ada Lin 用 iPhone 學習專業商品攝影', 'Python 資料分析：AI 機器學習入門到應用', '余惟的生活時尚攝影：拍出日常裡的封面人物', '雷浩斯價值投資：用質化分析找出價值成長股', '火頭工做麵包：與酵母共舞，設計專屬配方', '職場英文大補帖｜上班族的跨國會議必修課', '【生活裡的花與器】風格美感花藝選搭課', '數位轉型敲門磚，產業必學 AI 思維通識課', '揮別五音不全：威宇老師的音準訓練課', '一課思考學：你需要知道的一切，都在這一課', '這樣做設計思考更有用！UX 有感提案術', '創新先生瘋狂創造力：創造力思維與發想流程', '基礎情境練習課：建立你的英文文法邏輯腦', '藝用解剖學 2 - 凝望透視之眼 360 度全視野攻略', '新手能上手！居家健身，肌群練習一次到位']\n",
      "['婚禮企劃與主持入門課', '黃瑽寧的 10 堂育兒必修課全系列', '毛心潔的哺乳全攻略：觀念篇＋實作篇', '鄧惠文的關係心理學：親子篇', '10 堂課教出孩子的好情緒', '聽海苔熊「談」戀愛：剖析童話，療癒愛情', 'Python 進階課程：觀念、語法、專案、爬蟲', '龍師傅的台菜世界廚房', '萬用馭髮術全攻略 - 女神髮型養成班', '實境遊戲設計：打造好玩又有意義的情境體驗', '產品設計實戰：用Figma打造絕佳UI/UX', '許榮哲的故事課 - 三分鐘說 18 萬個故事', 'Rose 的色鉛筆插畫課 - 粉彩系午茶派對', '旅行攝影：按下快門，用攝影書寫故事', '占星之門安格斯｜十二宮位找出人生攻略', '一生必學的圍棋課—入門變達人', '台式冷便當｜不用蒸也能輕鬆帶的便當', '跟 YouTuber 莫彩曦學美國道地的說話習慣', '用 Python 理財：打造加密貨幣實戰策略', '總經投資必學，看懂美中歐三大央行政策！', '第一堂德語課：開啟德國留學之路', '行銷提案實戰：讓你的想法被一次買單', '每天十分鐘跳出自信與魅力：超好學街舞課！', 'Podcast 全攻略：打造你的品牌和影響力']\n",
      "[]\n",
      "[]\n",
      "[]\n",
      "['全民防疫通識課：陳建仁副總統來開講', '省錢攝影術：零基礎拍好美食＆商品！', 'Linux 我來教: CentOS/ RHEL 8 新世代雲端', '口譯員浩爾的打獵式聆聽＆資訊處理術', '資料變決策！從零上手 Tableau 大數據視覺化', '互動藝術程式創作入門 (Creative Coding)', '人生管理學：把自己當成公司經營', '薩克斯風 - 13 堂基本功吹出專輯的美聲', '用實際案例學設計-美編的 InDesign 排版課', '動盪時代的資產配置：王伯達人生財務規劃學', '手繪轉電繪，我選 Procreate！', '氣球達人不藏私！宋俊霖的塞球雕塑造型課', '0-2 歲寶寶父母必修課 - 專業治療師開課囉！', '一支手機拍完行銷影片，產品賣更好！', 'Keynote即戰力：簡報製作到上台演講都搞定', '輕鬆學好道地美式發音！', '資料科學：Azure 機器學習工作室入門', '話聊庶務課－探索你說話的個人風格', 'Office論文格式技巧：高效編輯專業文件', '蝦皮新手賣家行銷術：突破網拍初期盲點', 'ZBrush 201 從初階到高階 - 隱藏密技大公開', 'PHP 攻略：Laravel 5.8 從入門到實務', '成功前進科技巨頭，百萬年薪面試術！']\n",
      "['Github 免費架站術！輕鬆打造個人品牌', '網美咖啡廳在你家，九款鏡面蛋糕一次學', '產品分析入門：UX 設計師的思考術', 'Docker 部署入門完全指南-圖片速學攻略', 'Python 0 到 1 基礎商業數據分析實戰', '角色原型雕塑 - 走進電影美術的世界', '【AI 深度學習】新手入門應用篇', '一次搞懂專案管理 - 從入門到業界實務', '畫出有質感的 2D 手繪動畫 - Toon Boom', '你的遠端私人教練，從零開始的增肌訓練課', '新制多益聽力滿分攻略－高效率秒殺解題技巧', '指尖上的閃亮秘密 - 你的第一堂指甲養護課', '資料應用：Excel VBA 爬蟲與 IE 操控入門', '把美肌關了吧！韓星好膚質底妝，是畫出來的', '超強印象！人與動物的 logo 設計課', '職場必備的批判思考力：反省力篇', '日本電商代購批貨：銷售獲利心法', '程式交易極速上手！用 Eleader 30 秒寫策略', '開運陽宅系列：人人必備的臥房風水常識', '兩小時學會子彈筆記：訂製專屬你的高效生活', '跨平台 APP - React Native 快速學習攻略', 'YouTuber 的 36 堂課：讓你被更多人看到', '英文寫作經典指南：10個流暢俐落的必備法則', '讓創作帶來長期收入！圖像 IP 授權第一課']\n"
     ]
    }
   ],
   "source": [
    "# 整個過程：\n",
    "\n",
    "# 開啟瀏覽器\n",
    "browser = open_browser()\n",
    "# 剖析資料\n",
    "soup = get_html(browser)\n",
    "\n",
    "# 取最後一頁\n",
    "page = soup.find_all(class_=\"rc-pagination-item\")[-1].text\n",
    "# print(page)\n",
    "\n",
    "# 跳轉到該頁，再爬蟲(以獲取全部課程)\n",
    "get_all_course(page, browser)\n"
   ]
  },
  {
   "cell_type": "code",
   "execution_count": null,
   "metadata": {},
   "outputs": [],
   "source": []
  }
 ],
 "metadata": {
  "kernelspec": {
   "display_name": "Python 3",
   "language": "python",
   "name": "python3"
  },
  "language_info": {
   "codemirror_mode": {
    "name": "ipython",
    "version": 3
   },
   "file_extension": ".py",
   "mimetype": "text/x-python",
   "name": "python",
   "nbconvert_exporter": "python",
   "pygments_lexer": "ipython3",
   "version": "3.7.4"
  },
  "toc": {
   "base_numbering": 1,
   "nav_menu": {},
   "number_sections": true,
   "sideBar": true,
   "skip_h1_title": false,
   "title_cell": "Table of Contents",
   "title_sidebar": "Contents",
   "toc_cell": true,
   "toc_position": {},
   "toc_section_display": true,
   "toc_window_display": true
  }
 },
 "nbformat": 4,
 "nbformat_minor": 2
}
