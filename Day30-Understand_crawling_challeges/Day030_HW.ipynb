{
 "cells": [
  {
   "cell_type": "markdown",
   "metadata": {
    "toc": true
   },
   "source": [
    "<h1>Table of Contents<span class=\"tocSkip\"></span></h1>\n",
    "<div class=\"toc\"><ul class=\"toc-item\"><li><span><a href=\"#實務上的爬蟲與挑戰\" data-toc-modified-id=\"實務上的爬蟲與挑戰-1\"><span class=\"toc-item-num\">1&nbsp;&nbsp;</span>實務上的爬蟲與挑戰</a></span><ul class=\"toc-item\"><li><span><a href=\"#作業目標\" data-toc-modified-id=\"作業目標-1.1\"><span class=\"toc-item-num\">1.1&nbsp;&nbsp;</span>作業目標</a></span><ul class=\"toc-item\"><li><span><a href=\"#（簡答題）試著舉出一到三個爬蟲可能會遇到的問題導致無法抓取的？\" data-toc-modified-id=\"（簡答題）試著舉出一到三個爬蟲可能會遇到的問題導致無法抓取的？-1.1.1\"><span class=\"toc-item-num\">1.1.1&nbsp;&nbsp;</span>（簡答題）試著舉出一到三個爬蟲可能會遇到的問題導致無法抓取的？</a></span></li></ul></li><li><span><a href=\"#常見反爬蟲機制與應對方法\" data-toc-modified-id=\"常見反爬蟲機制與應對方法-1.2\"><span class=\"toc-item-num\">1.2&nbsp;&nbsp;</span>常見反爬蟲機制與應對方法</a></span></li><li><span><a href=\"#應對反爬策略\" data-toc-modified-id=\"應對反爬策略-1.3\"><span class=\"toc-item-num\">1.3&nbsp;&nbsp;</span>應對反爬策略</a></span></li></ul></li></ul></div>"
   ]
  },
  {
   "cell_type": "markdown",
   "metadata": {},
   "source": [
    "# 實務上的爬蟲與挑戰\n",
    "\n",
    "\n",
    "* 實務上爬蟲可能遇到的問題有哪些\n",
    "* 淺談常見防爬蟲機制與處理策略\n",
    "* 如何建構一個可以自動持續更新的爬蟲程式\n",
    "\n",
    "\n"
   ]
  },
  {
   "cell_type": "markdown",
   "metadata": {},
   "source": [
    "## 作業目標\n",
    "\n",
    "* （簡答題）試著舉出一到三個爬蟲可能會遇到的問題導致無法抓取的？\n"
   ]
  },
  {
   "cell_type": "markdown",
   "metadata": {},
   "source": [
    "### （簡答題）試著舉出一到三個爬蟲可能會遇到的問題導致無法抓取的？"
   ]
  },
  {
   "cell_type": "markdown",
   "metadata": {},
   "source": [
    "1. 沒有帶 User-Agent 的 Header 導致無法爬蟲\n",
    "2. 爬蟲速度太快，被伺服器擋住\n",
    "3. 同一個 IP 要求過多資源，也會被擋住\n",
    "4. 誤入 Honey Pot\n",
    "5. 相同的文章，使用不同的標籤格式，使爬蟲難以進行"
   ]
  },
  {
   "cell_type": "markdown",
   "metadata": {},
   "source": [
    "## 常見反爬蟲機制與應對方法"
   ]
  },
  {
   "cell_type": "markdown",
   "metadata": {
    "ExecuteTime": {
     "end_time": "2021-01-02T14:44:48.818458Z",
     "start_time": "2021-01-02T14:44:48.814471Z"
    }
   },
   "source": [
    "- Resources: [https://blog.csdn.net/guangyinglanshan/article/details/79043612]"
   ]
  },
  {
   "cell_type": "markdown",
   "metadata": {},
   "source": [
    "## 應對反爬策略"
   ]
  },
  {
   "cell_type": "markdown",
   "metadata": {
    "ExecuteTime": {
     "end_time": "2021-01-02T14:43:59.887525Z",
     "start_time": "2021-01-02T14:43:59.882965Z"
    }
   },
   "source": [
    "- Resources: [https://blog.csdn.net/dhaiuda/article/details/81410535]()"
   ]
  },
  {
   "cell_type": "code",
   "execution_count": null,
   "metadata": {},
   "outputs": [],
   "source": []
  }
 ],
 "metadata": {
  "kernelspec": {
   "display_name": "Python 3",
   "language": "python",
   "name": "python3"
  },
  "language_info": {
   "codemirror_mode": {
    "name": "ipython",
    "version": 3
   },
   "file_extension": ".py",
   "mimetype": "text/x-python",
   "name": "python",
   "nbconvert_exporter": "python",
   "pygments_lexer": "ipython3",
   "version": "3.7.4"
  },
  "toc": {
   "base_numbering": 1,
   "nav_menu": {},
   "number_sections": true,
   "sideBar": true,
   "skip_h1_title": false,
   "title_cell": "Table of Contents",
   "title_sidebar": "Contents",
   "toc_cell": true,
   "toc_position": {},
   "toc_section_display": true,
   "toc_window_display": true
  }
 },
 "nbformat": 4,
 "nbformat_minor": 2
}
