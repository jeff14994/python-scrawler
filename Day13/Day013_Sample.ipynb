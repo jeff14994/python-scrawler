{
 "cells": [
  {
   "cell_type": "markdown",
   "metadata": {
    "toc": true
   },
   "source": [
    "<h1>Table of Contents<span class=\"tocSkip\"></span></h1>\n",
    "<div class=\"toc\"><ul class=\"toc-item\"><li><span><a href=\"#PTT-網路爬蟲實作練習\" data-toc-modified-id=\"PTT-網路爬蟲實作練習-1\"><span class=\"toc-item-num\">1&nbsp;&nbsp;</span>PTT 網路爬蟲實作練習</a></span><ul class=\"toc-item\"><li><span><a href=\"#PTT-網頁爬蟲\" data-toc-modified-id=\"PTT-網頁爬蟲-1.1\"><span class=\"toc-item-num\">1.1&nbsp;&nbsp;</span>PTT 網頁爬蟲</a></span></li><li><span><a href=\"#作業目標\" data-toc-modified-id=\"作業目標-1.2\"><span class=\"toc-item-num\">1.2&nbsp;&nbsp;</span>作業目標</a></span></li></ul></li></ul></div>"
   ]
  },
  {
   "cell_type": "markdown",
   "metadata": {},
   "source": [
    "# PTT 網路爬蟲實作練習\n",
    "\n",
    "\n",
    "* 能夠利用 Request + BeatifulSour 撰寫爬蟲，並存放到合適的資料結構\n"
   ]
  },
  {
   "cell_type": "markdown",
   "metadata": {},
   "source": [
    "## PTT 網頁爬蟲"
   ]
  },
  {
   "cell_type": "code",
   "execution_count": 3,
   "metadata": {
    "ExecuteTime": {
     "end_time": "2020-12-15T07:01:35.822274Z",
     "start_time": "2020-12-15T07:01:17.584518Z"
    }
   },
   "outputs": [
    {
     "name": "stdout",
     "output_type": "stream",
     "text": [
      "[BOX ] Mavericks 128:112 Bucks 熱身賽數據\n",
      "作者: laptic (靜夜聖林彼岸花)\n",
      "Re: [討論] NIKE旗下的「簽名鞋」等級球員\n",
      "作者: azlbf (上邪!我欲與君相知)\n",
      "[情報] 球爸:免費送活塞樂透簽還不要，傻到爆\n",
      "作者: VeryGoodBoy (很棒的男孩)\n",
      "[新聞] 2020十大運動人物　詹姆斯擠下戴資穎、\n",
      "作者: XperiaZ6C (索尼)\n",
      "[情報] 尼克簽下後衛James Young\n",
      "作者: justgetup (Kono Dio Da!)\n",
      "[BOX ] Grizzlies 123:104 Timberwolves 熱身賽數據\n",
      "作者: laptic (靜夜聖林彼岸花)\n",
      "[花邊] NFL烏鴉隊四分衛拿08 Final G1老皮開玩笑\n",
      "作者: ccpz (OoOoOo)\n",
      "[花邊] Doncic:我一直以來都不是個大肌肌\n",
      "作者: jackal44748 (流雲絮雨)\n",
      "(本文已被刪除) [Myosotis]\n",
      "[專欄] 亞洲版Zion 李弘權期待成為下一個林書豪\n",
      "作者: ckny (辛苦的歲月)\n",
      "[BOX ] Suns 92:111 Jazz 熱身賽數據\n",
      "作者: laptic (靜夜聖林彼岸花)\n",
      "[討論] 什麼時候會提高對一個球員的標準\n",
      "作者: justgetup (Kono Dio Da!)\n",
      "[公告] 板規v6.8\n",
      "[情報] 2020-21 自由球員市場異動 (表格)(12/10)\n",
      "[情報] 2020-21 自由球員市場異動 (每日文字)  \n"
     ]
    }
   ],
   "source": [
    "import requests\n",
    "from bs4 import BeautifulSoup\n",
    "\n",
    "url = 'https://www.ptt.cc/bbs/NBA/index.html'\n",
    "r = requests.get(url)\n",
    "\n",
    "soup = BeautifulSoup(r.text, \"html.parser\")\n",
    "\n",
    "for d in soup.find_all(class_=\"title\"):\n",
    "    print(d.text.replace('\\t', '').replace('\\n', ''))\n",
    "#     print(d.text)\n",
    "    try:\n",
    "        # 去爬 title 裡面的網址\n",
    "        # 將 title 找到的網址 連接起來\n",
    "        r = BeautifulSoup(requests.get('https://www.ptt.cc' + d.find('a')['href']).text, \"html.parser\")\n",
    "        # 找作者\n",
    "        # 使用 tag 去找\n",
    "        print('作者: ' + r.find(class_='article-meta-value').text)\n",
    "    except:\n",
    "        continue\n"
   ]
  },
  {
   "cell_type": "markdown",
   "metadata": {},
   "source": [
    "## 作業目標\n",
    "\n",
    "根據範例 ，完成以下問題：\n",
    "\n",
    "* ① 印出最新文章的「作者」「標題」「時間」\n",
    "* ② 印出第一頁所有文章的「作者」「標題」「時間」\n",
    "* ③ 試著爬爬看其他版的文章\n"
   ]
  },
  {
   "cell_type": "code",
   "execution_count": null,
   "metadata": {},
   "outputs": [],
   "source": []
  }
 ],
 "metadata": {
  "kernelspec": {
   "display_name": "Python 3",
   "language": "python",
   "name": "python3"
  },
  "language_info": {
   "codemirror_mode": {
    "name": "ipython",
    "version": 3
   },
   "file_extension": ".py",
   "mimetype": "text/x-python",
   "name": "python",
   "nbconvert_exporter": "python",
   "pygments_lexer": "ipython3",
   "version": "3.7.4"
  },
  "toc": {
   "base_numbering": 1,
   "nav_menu": {},
   "number_sections": true,
   "sideBar": true,
   "skip_h1_title": false,
   "title_cell": "Table of Contents",
   "title_sidebar": "Contents",
   "toc_cell": true,
   "toc_position": {},
   "toc_section_display": true,
   "toc_window_display": true
  }
 },
 "nbformat": 4,
 "nbformat_minor": 2
}
