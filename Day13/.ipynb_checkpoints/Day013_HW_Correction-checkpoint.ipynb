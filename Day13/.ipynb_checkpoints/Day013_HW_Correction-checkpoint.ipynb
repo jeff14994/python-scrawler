{
 "cells": [
  {
   "cell_type": "markdown",
   "metadata": {
    "toc": true
   },
   "source": [
    "<h1>Table of Contents<span class=\"tocSkip\"></span></h1>\n",
    "<div class=\"toc\"><ul class=\"toc-item\"><li><span><a href=\"#PTT-網路爬蟲實作練習\" data-toc-modified-id=\"PTT-網路爬蟲實作練習-1\"><span class=\"toc-item-num\">1&nbsp;&nbsp;</span>PTT 網路爬蟲實作練習</a></span><ul class=\"toc-item\"><li><span><a href=\"#作業目標\" data-toc-modified-id=\"作業目標-1.1\"><span class=\"toc-item-num\">1.1&nbsp;&nbsp;</span>作業目標</a></span><ul class=\"toc-item\"><li><span><a href=\"#①-印出最新文章的「作者」「標題」「時間」\" data-toc-modified-id=\"①-印出最新文章的「作者」「標題」「時間」-1.1.1\"><span class=\"toc-item-num\">1.1.1&nbsp;&nbsp;</span>① 印出最新文章的「作者」「標題」「時間」</a></span></li><li><span><a href=\"#②-印出第一頁所有文章的「作者」「標題」「時間」\" data-toc-modified-id=\"②-印出第一頁所有文章的「作者」「標題」「時間」-1.1.2\"><span class=\"toc-item-num\">1.1.2&nbsp;&nbsp;</span>② 印出第一頁所有文章的「作者」「標題」「時間」</a></span></li><li><span><a href=\"#③-試著爬爬看其他版的文章\" data-toc-modified-id=\"③-試著爬爬看其他版的文章-1.1.3\"><span class=\"toc-item-num\">1.1.3&nbsp;&nbsp;</span>③ 試著爬爬看其他版的文章</a></span></li></ul></li></ul></li></ul></div>"
   ]
  },
  {
   "cell_type": "markdown",
   "metadata": {},
   "source": [
    "# PTT 網路爬蟲實作練習\n",
    "\n",
    "\n",
    "* 能夠利用 Request + BeatifulSour 撰寫爬蟲，並存放到合適的資料結構\n"
   ]
  },
  {
   "cell_type": "markdown",
   "metadata": {},
   "source": [
    "## 作業目標\n",
    "\n",
    "根據範例 ，完成以下問題：\n",
    "\n",
    "* ① 印出最新文章的「作者」「標題」「時間」\n",
    "* ② 印出第一頁所有文章的「作者」「標題」「時間」\n"
   ]
  },
  {
   "cell_type": "code",
   "execution_count": 4,
   "metadata": {
    "ExecuteTime": {
     "end_time": "2020-12-15T09:11:59.652477Z",
     "start_time": "2020-12-15T09:11:59.346235Z"
    }
   },
   "outputs": [],
   "source": [
    "# 印出作者、標題\n",
    "import requests\n",
    "from bs4 import BeautifulSoup\n",
    "url = 'https://www.ptt.cc/bbs/NBA/index.html'\n",
    "\n",
    "# 印出標題、作者、時間的 funtion\n",
    "\n",
    "def print_title_author_time(url): \n",
    "    r = requests.get(url)\n",
    "    soup = BeautifulSoup(r.text, \"html.parser\")\n",
    "    \n",
    "    for d in soup.find_all(class_=\"title\"):\n",
    "        title = d.text.replace('\\t', '').replace('\\n', '')\n",
    "        print(title)\n",
    "#         print(d.text)\n",
    "        try:\n",
    "            # 去爬 title 裡面的網址\n",
    "            # 將 title 找到的網址 連接起來\n",
    "            soup2 = BeautifulSoup(requests.get('https://www.ptt.cc' + d.find('a')['href']).text, \"html.parser\")\n",
    "            # 找作者\n",
    "            # 使用 tag 去找作者\n",
    "            author = soup2.find(class_='article-meta-value').text\n",
    "            print('作者: ' + author)\n",
    "            \n",
    "            # 找時間\n",
    "            # 先找全部的 span tag 並且 class 等於  atricle-meta-value 的內容，取陣列第四個 element\n",
    "            # find_all() 是返回陣列，可以使用 list [] 取資料，再用 get_text() 取裡面的內容\n",
    "            # Resources: https://tinyurl.com/ybqjk6br\n",
    "                # https://tinyurl.com/y9aemu5u\n",
    "            time = soup2.find_all(\"span\", class_=\"article-meta-value\")[3].get_text()\n",
    "            print(\"時間: \", time)\n",
    "            print(\"\\n\")\n",
    "            \n",
    "        except:\n",
    "            continue\n"
   ]
  },
  {
   "cell_type": "code",
   "execution_count": 10,
   "metadata": {
    "ExecuteTime": {
     "end_time": "2020-12-15T09:13:41.046290Z",
     "start_time": "2020-12-15T09:13:41.037819Z"
    }
   },
   "outputs": [],
   "source": [
    "\n",
    "def print_newest_post(url):\n",
    "    # 將資料用 dict 的方式儲存到 list\n",
    "    posts = []\n",
    "    post = {}\n",
    "    r = requests.get(url)\n",
    "    soup = BeautifulSoup(r.text, \"html.parser\")\n",
    "    for d in soup.find_all(class_=\"title\"):\n",
    "        try: \n",
    "#             print(d)\n",
    "#             print(type(d))\n",
    "            title = d.text.replace('\\t', '').replace('\\n', '')\n",
    "            # 去爬 title 裡面的網址\n",
    "            # 將 title 找到的網址 連接起來\n",
    "            soup2 = BeautifulSoup(requests.get('https://www.ptt.cc' + d.find('a')['href']).text, \"html.parser\")\n",
    "            # 找時間\n",
    "            # 先找全部的 span tag 並且 class 等於  atricle-meta-value 的內容，取陣列第四個 element\n",
    "            # find_all() 是返回陣列，可以使用 list [] 取資料，再用 get_text() 取裡面的內容\n",
    "            # Resources: https://tinyurl.com/ybqjk6br\n",
    "                # https://tinyurl.com/y9aemu5u\n",
    "            time = soup2.find_all(\"span\", class_=\"article-meta-value\")[3].get_text()\n",
    "            author = soup2.find(class_='article-meta-value').text\n",
    "            post['title'] = title\n",
    "            post['author'] = author\n",
    "            post['time'] = time\n",
    "            # 將 post append 起來\n",
    "            posts.append(post)\n",
    "#             print(posts)\n",
    "        except: \n",
    "            continue \n",
    "    # return 最新時間的 post\n",
    "    posts = sorted(posts, key=lambda x: x['time'])\n",
    "    # posts[-1] 表示拿最後面的那一個(最新)\n",
    "#     print(posts[-1])\n",
    "    print(posts)"
   ]
  },
  {
   "cell_type": "markdown",
   "metadata": {
    "ExecuteTime": {
     "end_time": "2020-12-15T08:52:44.469911Z",
     "start_time": "2020-12-15T08:52:44.467044Z"
    }
   },
   "source": [
    "### ① 印出最新文章的「作者」「標題」「時間」"
   ]
  },
  {
   "cell_type": "code",
   "execution_count": 11,
   "metadata": {
    "ExecuteTime": {
     "end_time": "2020-12-15T09:14:02.365852Z",
     "start_time": "2020-12-15T09:13:43.326644Z"
    }
   },
   "outputs": [
    {
     "name": "stdout",
     "output_type": "stream",
     "text": [
      "[{'title': '[新聞] 時來運轉 NBA新球季開打 冠軍玩法早買賠', 'author': 'leonjapan (強尼六本)', 'time': 'Tue Dec 15 15:49:08 2020'}, {'title': '[新聞] 時來運轉 NBA新球季開打 冠軍玩法早買賠', 'author': 'leonjapan (強尼六本)', 'time': 'Tue Dec 15 15:49:08 2020'}, {'title': '[新聞] 時來運轉 NBA新球季開打 冠軍玩法早買賠', 'author': 'leonjapan (強尼六本)', 'time': 'Tue Dec 15 15:49:08 2020'}, {'title': '[新聞] 時來運轉 NBA新球季開打 冠軍玩法早買賠', 'author': 'leonjapan (強尼六本)', 'time': 'Tue Dec 15 15:49:08 2020'}, {'title': '[新聞] 時來運轉 NBA新球季開打 冠軍玩法早買賠', 'author': 'leonjapan (強尼六本)', 'time': 'Tue Dec 15 15:49:08 2020'}, {'title': '[新聞] 時來運轉 NBA新球季開打 冠軍玩法早買賠', 'author': 'leonjapan (強尼六本)', 'time': 'Tue Dec 15 15:49:08 2020'}, {'title': '[新聞] 時來運轉 NBA新球季開打 冠軍玩法早買賠', 'author': 'leonjapan (強尼六本)', 'time': 'Tue Dec 15 15:49:08 2020'}, {'title': '[新聞] 時來運轉 NBA新球季開打 冠軍玩法早買賠', 'author': 'leonjapan (強尼六本)', 'time': 'Tue Dec 15 15:49:08 2020'}, {'title': '[新聞] 時來運轉 NBA新球季開打 冠軍玩法早買賠', 'author': 'leonjapan (強尼六本)', 'time': 'Tue Dec 15 15:49:08 2020'}, {'title': '[新聞] 時來運轉 NBA新球季開打 冠軍玩法早買賠', 'author': 'leonjapan (強尼六本)', 'time': 'Tue Dec 15 15:49:08 2020'}, {'title': '[新聞] 時來運轉 NBA新球季開打 冠軍玩法早買賠', 'author': 'leonjapan (強尼六本)', 'time': 'Tue Dec 15 15:49:08 2020'}, {'title': '[新聞] 時來運轉 NBA新球季開打 冠軍玩法早買賠', 'author': 'leonjapan (強尼六本)', 'time': 'Tue Dec 15 15:49:08 2020'}, {'title': '[新聞] 時來運轉 NBA新球季開打 冠軍玩法早買賠', 'author': 'leonjapan (強尼六本)', 'time': 'Tue Dec 15 15:49:08 2020'}, {'title': '[新聞] 時來運轉 NBA新球季開打 冠軍玩法早買賠', 'author': 'leonjapan (強尼六本)', 'time': 'Tue Dec 15 15:49:08 2020'}]\n"
     ]
    }
   ],
   "source": [
    "print_newest_post(url)"
   ]
  },
  {
   "cell_type": "markdown",
   "metadata": {},
   "source": [
    "### ② 印出第一頁所有文章的「作者」「標題」「時間」"
   ]
  },
  {
   "cell_type": "code",
   "execution_count": 23,
   "metadata": {
    "ExecuteTime": {
     "end_time": "2020-12-15T09:05:19.014274Z",
     "start_time": "2020-12-15T09:05:00.235672Z"
    }
   },
   "outputs": [
    {
     "name": "stdout",
     "output_type": "stream",
     "text": [
      "[BOX ] Mavericks 128:112 Bucks 熱身賽數據\n",
      "作者: laptic (靜夜聖林彼岸花)\n",
      "時間:  Tue Dec 15 11:58:04 2020\n",
      "\n",
      "\n",
      "Re: [討論] NIKE旗下的「簽名鞋」等級球員\n",
      "作者: azlbf (上邪!我欲與君相知)\n",
      "時間:  Tue Dec 15 12:36:20 2020\n",
      "\n",
      "\n",
      "[情報] 球爸:免費送活塞樂透簽還不要，傻到爆\n",
      "作者: VeryGoodBoy (很棒的男孩)\n",
      "時間:  Tue Dec 15 12:41:50 2020\n",
      "\n",
      "\n",
      "[新聞] 2020十大運動人物　詹姆斯擠下戴資穎、\n",
      "作者: XperiaZ6C (索尼)\n",
      "時間:  Tue Dec 15 13:04:44 2020\n",
      "\n",
      "\n",
      "[情報] 尼克簽下後衛James Young\n",
      "作者: justgetup (Kono Dio Da!)\n",
      "時間:  Tue Dec 15 13:30:35 2020\n",
      "\n",
      "\n",
      "[BOX ] Grizzlies 123:104 Timberwolves 熱身賽數據\n",
      "作者: laptic (靜夜聖林彼岸花)\n",
      "時間:  Tue Dec 15 13:37:56 2020\n",
      "\n",
      "\n",
      "[花邊] NFL烏鴉隊四分衛拿08 Final G1老皮開玩笑\n",
      "作者: ccpz (OoOoOo)\n",
      "時間:  Tue Dec 15 13:46:11 2020\n",
      "\n",
      "\n",
      "[花邊] Doncic:我一直以來都不是個大肌肌\n",
      "作者: jackal44748 (流雲絮雨)\n",
      "時間:  Tue Dec 15 13:52:12 2020\n",
      "\n",
      "\n",
      "(本文已被刪除) [Myosotis]\n",
      "[專欄] 亞洲版Zion 李弘權期待成為下一個林書豪\n",
      "作者: ckny (辛苦的歲月)\n",
      "時間:  Tue Dec 15 14:34:55 2020\n",
      "\n",
      "\n",
      "[BOX ] Suns 92:111 Jazz 熱身賽數據\n",
      "作者: laptic (靜夜聖林彼岸花)\n",
      "時間:  Tue Dec 15 14:37:31 2020\n",
      "\n",
      "\n",
      "[討論] 什麼時候會提高對一個球員的標準\n",
      "作者: justgetup (Kono Dio Da!)\n",
      "時間:  Tue Dec 15 14:43:07 2020\n",
      "\n",
      "\n",
      "[討論] 當萬年爛隊的球迷是什麼感覺？\n",
      "作者: goodgooddad (ㄟ你過來一下)\n",
      "時間:  Tue Dec 15 15:13:50 2020\n",
      "\n",
      "\n",
      "[情報] Duncan Robinson 成為台灣乾麵品牌代言人\n",
      "作者: thnlkj0665 (灰色地帶)\n",
      "時間:  Tue Dec 15 15:37:39 2020\n",
      "\n",
      "\n",
      "[新聞] 時來運轉 NBA新球季開打 冠軍玩法早買賠\n",
      "作者: leonjapan (強尼六本)\n",
      "時間:  Tue Dec 15 15:49:08 2020\n",
      "\n",
      "\n",
      "[公告] 板規v6.8\n",
      "[情報] 2020-21 自由球員市場異動 (表格)(12/10)\n",
      "[情報] 2020-21 自由球員市場異動 (每日文字)  \n"
     ]
    }
   ],
   "source": [
    "print_title_author_time(url)"
   ]
  },
  {
   "cell_type": "markdown",
   "metadata": {},
   "source": [
    "### ③ 試著爬爬看其他版的文章"
   ]
  },
  {
   "cell_type": "code",
   "execution_count": 33,
   "metadata": {
    "ExecuteTime": {
     "end_time": "2020-12-15T07:47:40.869496Z",
     "start_time": "2020-12-15T07:47:15.796014Z"
    }
   },
   "outputs": [
    {
     "name": "stdout",
     "output_type": "stream",
     "text": [
      "[新聞] 《孤兒怨》隔11年前傳拍完了！劇透照曝「\n",
      "作者: CYKONGG (XXX)\n",
      "時間:  Tue Dec 15 00:23:17 2020\n",
      "\n",
      "\n",
      "(本文已被刪除) [yu1164]\n",
      "[請益] 大賭秀的vcd\n",
      "作者: pentiumevo (數學系最不靈光的人)\n",
      "時間:  Tue Dec 15 00:31:29 2020\n",
      "\n",
      "\n",
      "Re: [請益] 一代梟雄三支旗 取材\n",
      "作者: MrLuna (草泥馬)\n",
      "時間:  Tue Dec 15 01:16:32 2020\n",
      "\n",
      "\n",
      "[好雷] 孤味\n",
      "作者: dakkk (我是牛我反芻)\n",
      "時間:  Tue Dec 15 03:07:29 2020\n",
      "\n",
      "\n",
      "[討論] DC是不是想用多元宇宙救回正義聯盟？\n",
      "作者: wxvwxv (7號)\n",
      "時間:  Tue Dec 15 08:31:53 2020\n",
      "\n",
      "\n",
      "Fw: [公告] 水桶\n",
      "作者: hhwang (我待退我最大)\n",
      "時間:  Tue Dec 15 09:18:05 2020\n",
      "\n",
      "\n",
      "Re: [好雷] 孤味\n",
      "作者: dir0813 (dir0813)\n",
      "時間:  Tue Dec 15 10:03:55 2020\n",
      "\n",
      "\n",
      "Fw: [情報] 《鬼滅之刃劇場版無限列車篇》4DX 12/31\n",
      "作者: S890127 (丁讀生)\n",
      "時間:  Tue Dec 15 12:08:12 2020\n",
      "\n",
      "\n",
      "[新聞] 《黑亞當》DC版暴風女「旋風」選角曝光\n",
      "作者: CYKONGG (XXX)\n",
      "時間:  Tue Dec 15 12:09:18 2020\n",
      "\n",
      "\n",
      "[情報] Indiewire 2020年度總評選\n",
      "作者: lgng66133 (Mad Fer It！)\n",
      "時間:  Tue Dec 15 13:34:11 2020\n",
      "\n",
      "\n",
      "[普雷]嘮嘮叨叨的《新解釋·三國志》 \n",
      "作者: yurigo (yurilove)\n",
      "時間:  Tue Dec 15 13:37:19 2020\n",
      "\n",
      "\n",
      "(本文已被刪除) [chirex]\n",
      "Re: [討論] 台灣是不是很多人死也不看國片？\n",
      "作者: godgod777 (Tim)\n",
      "時間:  Tue Dec 15 14:00:25 2020\n",
      "\n",
      "\n",
      "[情報] 唬爛三小DVD(改編為同學麥娜絲)進貨\n",
      "作者: sentital (三小)\n",
      "時間:  Tue Dec 15 14:16:49 2020\n",
      "\n",
      "\n",
      "[情報] 細田守新作《竜與雀斑公主》2021 年暑假日本上映決定！\n",
      "作者: qpr322 (龍魚)\n",
      "時間:  Tue Dec 15 14:41:10 2020\n",
      "\n",
      "\n",
      "[討論] 《蟻人3》女兒換人演！ 兩位演員的發文\n",
      "作者: CYKONGG (XXX)\n",
      "時間:  Tue Dec 15 15:21:44 2020\n",
      "\n",
      "\n",
      "[贈票]佐藤浩市X西島秀俊 【聖誕殺戮日】特映會\n",
      "作者: chentingyi80 (elaine)\n",
      "時間:  Tue Dec 15 15:23:50 2020\n",
      "\n",
      "\n",
      "[新聞] 神隱少女票房上調至316.8億\n",
      "作者: WARgame723 (ss)\n",
      "時間:  Tue Dec 15 15:41:22 2020\n",
      "\n",
      "\n",
      "[情報] 近期院線預計重映片單\n",
      "作者: lgng66133 (Mad Fer It！)\n",
      "時間:  Wed May 13 15:44:52 2020\n",
      "\n",
      "\n",
      "[公告][板規] 電影版申訴與檢舉辦法\n",
      "作者: hhwang (雪野)\n",
      "時間:  Mon Aug  3 22:31:53 2020\n",
      "\n",
      "\n",
      "[公告] 電影板板規12/08/2020\n",
      "作者: TtTt4 (夜間飛行)\n",
      "時間:  Wed Aug 12 22:30:03 2020\n",
      "\n",
      "\n",
      "[公告] movie板發文限制變更\n",
      "作者: hhwang (我待退我最大)\n",
      "時間:  Wed Dec  2 20:42:01 2020\n",
      "\n",
      "\n",
      "[公告] 2020獎季放寬發文限額\n",
      "作者: hhwang (我待退我最大)\n",
      "時間:  Wed Dec  2 13:21:56 2020\n",
      "\n",
      "\n"
     ]
    }
   ],
   "source": [
    "# https://www.ptt.cc/bbs/movie/index.html\n",
    "# 爬電影版\n",
    "movie_url = \"https://www.ptt.cc/bbs/movie/index.html\"\n",
    "print_title_author_time(movie_url)"
   ]
  },
  {
   "cell_type": "code",
   "execution_count": 34,
   "metadata": {
    "ExecuteTime": {
     "end_time": "2020-12-15T07:48:31.760441Z",
     "start_time": "2020-12-15T07:48:20.712505Z"
    }
   },
   "outputs": [
    {
     "name": "stdout",
     "output_type": "stream",
     "text": [
      "[猜謎] 貓狗大戰\n",
      "作者: xjpjeass (叉JP)\n",
      "時間:  Tue Dec 15 03:58:55 2020\n",
      "\n",
      "\n",
      "Re: [猜謎] 誰生了約翰\n",
      "作者: songgood (ilovegoodgame)\n",
      "時間:  Tue Dec 15 09:44:36 2020\n",
      "\n",
      "\n",
      "[猜謎] 金山銀山不如…？\n",
      "作者: jeremyzhan (↖煞气ａ嘴嘴↘)\n",
      "時間:  Tue Dec 15 10:55:08 2020\n",
      "\n",
      "\n",
      "[耍冷] 陳奕迅玩酒拳\n",
      "作者: Xalan (軟手喵)\n",
      "時間:  Tue Dec 15 10:58:40 2020\n",
      "\n",
      "\n",
      "[趣圖] 有趣分享集（12-15）\n",
      "作者: g8956956 (低調的手滑)\n",
      "時間:  Tue Dec 15 11:58:11 2020\n",
      "\n",
      "\n",
      "[猜謎] 為什麼小明沒有拿到禮物？\n",
      "作者: Qorqios (銀長直傲嬌JK☁之呼吸)\n",
      "時間:  Tue Dec 15 12:01:17 2020\n",
      "\n",
      "\n",
      "[趣圖] ^Q^ 好吃\n",
      "作者: st210113 (會飛的豬不稀奇)\n",
      "時間:  Tue Dec 15 15:10:09 2020\n",
      "\n",
      "\n",
      "[公告] joke板規（2020/10/07 更新）\n",
      "作者: RockCat0218 (搖滾貓)\n",
      "時間:  Wed Oct  7 01:34:43 2020\n",
      "\n",
      "\n",
      "[閒聊] 就可溫馨置底閒聊列車\n",
      "作者: RockCat0218 (搖滾貓)\n",
      "時間:  Tue Dec  1 22:12:19 2020\n",
      "\n",
      "\n"
     ]
    }
   ],
   "source": [
    "# https://www.ptt.cc/bbs/joke/index.html\n",
    "# 爬 joke 版\n",
    "joke_url = \"https://www.ptt.cc/bbs/joke/index.html\"\n",
    "print_author_title_time(joke_url)"
   ]
  },
  {
   "cell_type": "code",
   "execution_count": 35,
   "metadata": {
    "ExecuteTime": {
     "end_time": "2020-12-15T07:50:11.964353Z",
     "start_time": "2020-12-15T07:49:43.036559Z"
    }
   },
   "outputs": [
    {
     "name": "stdout",
     "output_type": "stream",
     "text": [
      "[徵才] 特力智慧/AWS亞馬遜運維工程師 80K UP\n",
      "作者: laex (雷厲風馳)\n",
      "時間:  Mon Dec  7 15:55:07 2020\n",
      "\n",
      "\n",
      "［徵才］百睿達 誠徵軟體品保工程師 \n",
      "作者: aron123 (Aaron)\n",
      "時間:  Mon Dec  7 18:02:50 2020\n",
      "\n",
      "\n",
      "[徵才] 國泰IT’s Time資訊人才招募中\n",
      "作者: yuting850820 (yuting)\n",
      "時間:  Mon Dec  7 23:10:05 2020\n",
      "\n",
      "\n",
      "[問卷] 職場互動調查 (贈p幣+抽千元禮券！)\n",
      "作者: elmo1419 (elmo1419)\n",
      "時間:  Tue Dec  8 22:38:59 2020\n",
      "\n",
      "\n",
      "[請益] 製作API供他人使用\n",
      "作者: qazsd (加油!)\n",
      "時間:  Wed Dec  9 14:59:08 2020\n",
      "\n",
      "\n",
      "[請益] 訊真科技近況？\n",
      "作者: cherryfruit (cherry)\n",
      "時間:  Wed Dec  9 16:42:00 2020\n",
      "\n",
      "\n",
      "[徵才] Operations Engineer\n",
      "作者: mchotdog730 (YuCheng)\n",
      "時間:  Thu Dec 10 16:00:49 2020\n",
      "\n",
      "\n",
      "[徵才] 汪喵星球_Wordpress網頁工程師\n",
      "作者: zongdesun (zongde)\n",
      "時間:  Thu Dec 10 18:20:28 2020\n",
      "\n",
      "\n",
      "Re: [請益] 資策會Java與C#選擇\n",
      "作者: xrururururu (胖達)\n",
      "時間:  Thu Dec 10 23:27:44 2020\n",
      "\n",
      "\n",
      "[心得] 換跑道看到博弈公司需要工程師面試感想\n",
      "作者: XXVV (XXVV)\n",
      "時間:  Fri Dec 11 19:02:07 2020\n",
      "\n",
      "\n",
      "[請益] 應徵最初階Android工程師最少需要會什麼?\n",
      "作者: MAXQb ()\n",
      "時間:  Fri Dec 11 22:24:09 2020\n",
      "\n",
      "\n",
      "Re: [請益] 資策會Java與C#選擇\n",
      "作者: chal (&nbsp;)\n",
      "時間:  Fri Dec 11 23:04:10 2020\n",
      "\n",
      "\n",
      "Re: [請益] 資策會Java與C#選擇\n",
      "作者: vi000246 (Vi)\n",
      "時間:  Sat Dec 12 02:43:02 2020\n",
      "\n",
      "\n",
      "[心得] 伊頓婚紗\n",
      "作者: ellischeng (EC)\n",
      "時間:  Sat Dec 12 04:19:35 2020\n",
      "\n",
      "\n",
      "(本文已被刪除) [ucrxzero]\n",
      "[請益] 關於sass編譯問題\n",
      "作者: angeleda (滾滾筋膜王)\n",
      "時間:  Sun Dec 13 14:59:55 2020\n",
      "\n",
      "\n",
      "Re: [請益] 資策會Java與C#選擇\n",
      "作者: pornstar (迪克)\n",
      "時間:  Sun Dec 13 15:22:10 2020\n",
      "\n",
      "\n",
      "[心得]以策略模式重構switch case或if (影片)\n",
      "作者: landlord (91)\n",
      "時間:  Sun Dec 13 21:27:28 2020\n",
      "\n",
      "\n",
      "[請益] 36歲了是不是該去考公務員了？\n",
      "作者: wusbetz (我是白癡)\n",
      "時間:  Mon Dec 14 08:11:26 2020\n",
      "\n",
      "\n",
      "[請益] 要從銀行業IT跳出來，要學哪些語言比較\n",
      "作者: CJ100Lin (微笑工頭)\n",
      "時間:  Mon Dec 14 16:41:19 2020\n",
      "\n",
      "\n",
      "[公告] 本板板規  2017/4/10更新\n",
      "作者: MOONY135 (談無慾)\n",
      "時間:  Fri Aug  4 14:18:53 2017\n",
      "\n",
      "\n",
      "[公告] 徵才不符板規或徵才自刪公司\n",
      "作者: MOONY135 (談無慾)\n",
      "時間:  Fri Aug  4 14:21:30 2017\n",
      "\n",
      "\n",
      "[情報] 訓練課程與付費APP與網站分享\n",
      "作者: MOONY135 (談無慾)\n",
      "時間:  Fri Aug  4 19:49:16 2017\n",
      "\n",
      "\n",
      "[情報] 社群活動與免費APP與網站分享\n",
      "作者: MOONY135 (談無慾)\n",
      "時間:  Fri Aug  4 19:50:43 2017\n",
      "\n",
      "\n"
     ]
    }
   ],
   "source": [
    "# https://www.ptt.cc/bbs/Soft_Job/index.html\n",
    "# 爬 Soft_Job\n",
    "soft_job_url = \"https://www.ptt.cc/bbs/Soft_Job/index.html\"\n",
    "print_author_title_time(soft_job_url)"
   ]
  },
  {
   "cell_type": "code",
   "execution_count": 14,
   "metadata": {
    "ExecuteTime": {
     "end_time": "2020-12-15T09:18:32.327821Z",
     "start_time": "2020-12-15T09:18:12.067051Z"
    }
   },
   "outputs": [
    {
     "name": "stdout",
     "output_type": "stream",
     "text": [
      "[{'標題': '[BOX ] Mavericks 128:112 Bucks 熱身賽數據', '作者': 'laptic (靜夜聖林彼岸花)', '時間': 'Tue Dec 15 11:58:04 2020'}, {'標題': 'Re: [討論] NIKE旗下的「簽名鞋」等級球員', '作者': 'azlbf (上邪!我欲與君相知)', '時間': 'Tue Dec 15 12:36:20 2020'}, {'標題': '[情報] 球爸:免費送活塞樂透簽還不要，傻到爆', '作者': 'VeryGoodBoy (很棒的男孩)', '時間': 'Tue Dec 15 12:41:50 2020'}, {'標題': '[新聞] 2020十大運動人物\\u3000詹姆斯擠下戴資穎、', '作者': 'XperiaZ6C (索尼)', '時間': 'Tue Dec 15 13:04:44 2020'}, {'標題': '[情報] 尼克簽下後衛James Young', '作者': 'justgetup (Kono Dio Da!)', '時間': 'Tue Dec 15 13:30:35 2020'}, {'標題': '[BOX ] Grizzlies 123:104 Timberwolves 熱身賽數據', '作者': 'laptic (靜夜聖林彼岸花)', '時間': 'Tue Dec 15 13:37:56 2020'}, {'標題': '[花邊] NFL烏鴉隊四分衛拿08 Final G1老皮開玩笑', '作者': 'ccpz (OoOoOo)', '時間': 'Tue Dec 15 13:46:11 2020'}, {'標題': '[花邊] Doncic:我一直以來都不是個大肌肌', '作者': 'jackal44748 (流雲絮雨)', '時間': 'Tue Dec 15 13:52:12 2020'}, {'標題': '[專欄] 亞洲版Zion 李弘權期待成為下一個林書豪', '作者': 'ckny (辛苦的歲月)', '時間': 'Tue Dec 15 14:34:55 2020'}, {'標題': '[BOX ] Suns 92:111 Jazz 熱身賽數據', '作者': 'laptic (靜夜聖林彼岸花)', '時間': 'Tue Dec 15 14:37:31 2020'}, {'標題': '[討論] 什麼時候會提高對一個球員的標準', '作者': 'justgetup (Kono Dio Da!)', '時間': 'Tue Dec 15 14:43:07 2020'}, {'標題': '[討論] 當萬年爛隊的球迷是什麼感覺？', '作者': 'goodgooddad (ㄟ你過來一下)', '時間': 'Tue Dec 15 15:13:50 2020'}, {'標題': '[情報] Duncan Robinson 成為台灣乾麵品牌代言人', '作者': 'thnlkj0665 (灰色地帶)', '時間': 'Tue Dec 15 15:37:39 2020'}, {'標題': '[新聞] 時來運轉 NBA新球季開打 冠軍玩法早買賠', '作者': 'leonjapan (強尼六本)', '時間': 'Tue Dec 15 15:49:08 2020'}, {'標題': '[花邊] 一名自稱可愛好友的人提告快艇', '作者': 'Sam920218 (邦邦我)', '時間': 'Tue Dec 15 17:15:47 2020'}]\n"
     ]
    }
   ],
   "source": [
    "# 比較 post = {} 放在迴圈內與外的差別\n",
    "# 就結果而言，沒差\n",
    "# 就效能而言，post = {} 放在迴圈外速度更快 9ms vs 20ms(因為放在迴圈內每次都要重新宣告一個 dict，需要花費更多的時間)\n",
    "r = requests.get(url)\n",
    "soup = BeautifulSoup(r.text, \"html.parser\")\n",
    "\n",
    "posts = []\n",
    "\n",
    "for d in soup.find_all(class_=\"title\"):\n",
    "    try:\n",
    "        post = {}\n",
    "        post['標題'] = d.text.replace('\\t', '').replace('\\n', '')\n",
    "        \n",
    "        r = BeautifulSoup(requests.get('https://www.ptt.cc'+d.find('a')['href']).text, \"html.parser\")\n",
    "        post['作者'] = r.find(class_='article-meta-value').text\n",
    "        post['時間'] = r.find_all(class_='article-meta-value')[-1].text\n",
    "        \n",
    "        posts.append(post)\n",
    "    except:\n",
    "        continue\n",
    "        \n",
    "posts = sorted(posts, key= lambda x: x['時間'])\n",
    "# 補充：List of Dict 的排序方法\n",
    "# https://stackoverflow.com/questions/72899/how-do-i-sort-a-list-of-dictionaries-by-a-value-of-the-dictionary\n",
    "print(posts)"
   ]
  },
  {
   "cell_type": "code",
   "execution_count": null,
   "metadata": {},
   "outputs": [],
   "source": []
  }
 ],
 "metadata": {
  "kernelspec": {
   "display_name": "Python 3",
   "language": "python",
   "name": "python3"
  },
  "language_info": {
   "codemirror_mode": {
    "name": "ipython",
    "version": 3
   },
   "file_extension": ".py",
   "mimetype": "text/x-python",
   "name": "python",
   "nbconvert_exporter": "python",
   "pygments_lexer": "ipython3",
   "version": "3.7.4"
  },
  "toc": {
   "base_numbering": 1,
   "nav_menu": {},
   "number_sections": true,
   "sideBar": true,
   "skip_h1_title": false,
   "title_cell": "Table of Contents",
   "title_sidebar": "Contents",
   "toc_cell": true,
   "toc_position": {},
   "toc_section_display": true,
   "toc_window_display": true
  }
 },
 "nbformat": 4,
 "nbformat_minor": 2
}
