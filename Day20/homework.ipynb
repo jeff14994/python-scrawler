{
 "cells": [
  {
   "cell_type": "markdown",
   "metadata": {
    "toc": true
   },
   "source": [
    "<h1>Table of Contents<span class=\"tocSkip\"></span></h1>\n",
    "<div class=\"toc\"><ul class=\"toc-item\"><li><span><a href=\"#動態網頁爬蟲---API-Request\" data-toc-modified-id=\"動態網頁爬蟲---API-Request-1\"><span class=\"toc-item-num\">1&nbsp;&nbsp;</span>動態網頁爬蟲 - API Request</a></span><ul class=\"toc-item\"><li><span><a href=\"#作業目標\" data-toc-modified-id=\"作業目標-1.1\"><span class=\"toc-item-num\">1.1&nbsp;&nbsp;</span>作業目標</a></span></li></ul></li></ul></div>"
   ]
  },
  {
   "cell_type": "markdown",
   "metadata": {},
   "source": [
    "# 動態網頁爬蟲 - API Request\n",
    "\n",
    "* 了解 API Request 用於動態網頁爬蟲的原理\n",
    "* 能夠使用 API Request 撰寫動態網頁爬蟲\n",
    "\n",
    "\n",
    "\n",
    "\n"
   ]
  },
  {
   "cell_type": "markdown",
   "metadata": {},
   "source": [
    "## 作業目標\n",
    "\n",
    "* 根據範例的教學，去找出 Dcard 中呼叫的 API 當中，有一個跟「取得所有看板」是哪一個？並且利用 Requests 呼叫。\n"
   ]
  },
  {
   "cell_type": "markdown",
   "metadata": {},
   "source": [
    "* 請附上截圖：_______\n",
    "    - ![](https://i.imgur.com/iC6vnjw.jpg)\n",
    "    - API 網址\n",
    "        - ![](https://i.imgur.com/9cPBcoJ.jpg)\n"
   ]
  },
  {
   "cell_type": "code",
   "execution_count": 8,
   "metadata": {
    "ExecuteTime": {
     "end_time": "2020-12-22T02:27:05.712375Z",
     "start_time": "2020-12-22T02:27:04.899606Z"
    }
   },
   "outputs": [],
   "source": [
    "import requests\n",
    "import json\n",
    "url = \"https://www.dcard.tw/service/api/v2/forums?nsfw=false\"\n",
    "response = requests.get(url)\n",
    "# 兩種方式顯示 Json 格式\n",
    "# 法一：使用 Requests 物件內建函式 .json()\n",
    "orig_data = response.json()\n",
    "# print(orig_data)\n",
    "# orig_data -> no return\n",
    "# 法二：使用 json 模組搭配 .loads(response.text)\n",
    "data = json.loads(response.text)\n",
    "# print(data)\n",
    "# data -> return beautify json"
   ]
  },
  {
   "cell_type": "code",
   "execution_count": null,
   "metadata": {},
   "outputs": [],
   "source": []
  }
 ],
 "metadata": {
  "kernelspec": {
   "display_name": "Python 3",
   "language": "python",
   "name": "python3"
  },
  "language_info": {
   "codemirror_mode": {
    "name": "ipython",
    "version": 3
   },
   "file_extension": ".py",
   "mimetype": "text/x-python",
   "name": "python",
   "nbconvert_exporter": "python",
   "pygments_lexer": "ipython3",
   "version": "3.7.4"
  },
  "toc": {
   "base_numbering": 1,
   "nav_menu": {},
   "number_sections": true,
   "sideBar": true,
   "skip_h1_title": false,
   "title_cell": "Table of Contents",
   "title_sidebar": "Contents",
   "toc_cell": true,
   "toc_position": {},
   "toc_section_display": true,
   "toc_window_display": true
  }
 },
 "nbformat": 4,
 "nbformat_minor": 2
}
