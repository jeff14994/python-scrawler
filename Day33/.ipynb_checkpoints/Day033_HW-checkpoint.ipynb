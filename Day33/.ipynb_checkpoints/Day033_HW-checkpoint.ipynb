{
 "cells": [
  {
   "cell_type": "markdown",
   "metadata": {
    "toc": true
   },
   "source": [
    "<h1>Table of Contents<span class=\"tocSkip\"></span></h1>\n",
    "<div class=\"toc\"><ul class=\"toc-item\"><li><span><a href=\"#反爬：登入授權模擬\" data-toc-modified-id=\"反爬：登入授權模擬-1\"><span class=\"toc-item-num\">1&nbsp;&nbsp;</span>反爬：登入授權模擬</a></span><ul class=\"toc-item\"><li><span><a href=\"#作業目標\" data-toc-modified-id=\"作業目標-1.1\"><span class=\"toc-item-num\">1.1&nbsp;&nbsp;</span>作業目標</a></span></li><li><span><a href=\"#思考流程\" data-toc-modified-id=\"思考流程-1.2\"><span class=\"toc-item-num\">1.2&nbsp;&nbsp;</span>思考流程</a></span><ul class=\"toc-item\"><li><span><a href=\"#比較兩個不同的進入方式：\" data-toc-modified-id=\"比較兩個不同的進入方式：-1.2.1\"><span class=\"toc-item-num\">1.2.1&nbsp;&nbsp;</span>比較兩個不同的進入方式：</a></span></li><li><span><a href=\"#多了3個-cookies\" data-toc-modified-id=\"多了3個-cookies-1.2.2\"><span class=\"toc-item-num\">1.2.2&nbsp;&nbsp;</span>多了3個 cookies</a></span></li></ul></li></ul></li></ul></div>"
   ]
  },
  {
   "cell_type": "markdown",
   "metadata": {},
   "source": [
    "# 反爬：登入授權模擬\n",
    "\n",
    "* 了解「登入權限機制」的反爬蟲機制\n",
    "* 「登入權限機制」反爬蟲的因應策略"
   ]
  },
  {
   "cell_type": "markdown",
   "metadata": {},
   "source": [
    "## 作業目標\n",
    "\n",
    "* 找一個需要登入的網站試試看，並說明思考流程\n",
    "（如果不知道要用哪個網站的話，可以試試看 https://github.com/new 網址，未登入時會被導向登入頁）\n",
    "\n"
   ]
  },
  {
   "cell_type": "code",
   "execution_count": 20,
   "metadata": {
    "ExecuteTime": {
     "end_time": "2021-01-05T06:04:45.228941Z",
     "start_time": "2021-01-05T06:04:45.225716Z"
    }
   },
   "outputs": [],
   "source": [
    "import requests\n",
    "from bs4 import BeautifulSoup\n",
    "import json"
   ]
  },
  {
   "cell_type": "markdown",
   "metadata": {
    "ExecuteTime": {
     "end_time": "2021-01-05T05:52:09.895331Z",
     "start_time": "2021-01-05T05:52:09.892926Z"
    }
   },
   "source": [
    "## 思考流程"
   ]
  },
  {
   "attachments": {},
   "cell_type": "markdown",
   "metadata": {},
   "source": [
    "### 比較兩個不同的進入方式：\n",
    "1. 不登入進入 -> 看到的 cookies\n",
    "![](https://i.imgur.com/O2SwFyr.png)\n",
    "2. 登入進入 -> 看到的 cookies\n",
    "![](https://i.imgur.com/s3thAxO.png)\n",
    "\n",
    "### 多了3個 cookies\n",
    "- dotcom_user\n",
    "- \\__Host-user__session_same_site\n",
    "- user_seesion\n",
    "- logged_in -> 從 no(未登入) 變 yes(已登入)"
   ]
  },
  {
   "cell_type": "code",
   "execution_count": 28,
   "metadata": {
    "ExecuteTime": {
     "end_time": "2021-01-05T06:07:04.479002Z",
     "start_time": "2021-01-05T06:07:03.881131Z"
    }
   },
   "outputs": [
    {
     "name": "stderr",
     "output_type": "stream",
     "text": [
      "/Users/hungyuchuan/opt/anaconda3/lib/python3.7/site-packages/urllib3/connectionpool.py:1004: InsecureRequestWarning: Unverified HTTPS request is being made. Adding certificate verification is strongly advised. See: https://urllib3.readthedocs.io/en/latest/advanced-usage.html#ssl-warnings\n",
      "  InsecureRequestWarning,\n",
      "/Users/hungyuchuan/opt/anaconda3/lib/python3.7/site-packages/urllib3/connectionpool.py:1004: InsecureRequestWarning: Unverified HTTPS request is being made. Adding certificate verification is strongly advised. See: https://urllib3.readthedocs.io/en/latest/advanced-usage.html#ssl-warnings\n",
      "  InsecureRequestWarning,\n"
     ]
    },
    {
     "name": "stdout",
     "output_type": "stream",
     "text": [
      "<RequestsCookieJar[<Cookie _device_id=9e96c11cf39fdb3c9c9294955fcc091d for github.com/>, <Cookie _gh_sess=qv36b1EGyIez4dcXWVLv4CQgfAErOnzWdYH2c6RW4ixw5kkRbIP0UxCTqckAi3tSlXHc4kDlgVJ6T8lQ%2FTkguJzdWOMBWNZrCAshbzrhozewQ7m4dXP3JsSSTJbP8T4UK1Y5sJqrxUQyiKk7Ijt5HUG37YcpdoW95zrJCSfwxWDsjMdr9nfci4KqyYKWCW8lYLP4ed67mdlxxmzdrXcd%2Bb%2F8WC5LiZVbPdZ3XV%2BKEo1otA2i4yftBBVdlFdaBHQ%2Bx2wqSAybfniSdg8oKAUd2w%3D%3D--YCPKVGl9SkMUIq5K--lHuLWZkB8mXBUpNOrg1i0w%3D%3D for github.com/>]>\n"
     ]
    }
   ],
   "source": [
    "#使用 requests.session() 觀察 cookies\n",
    "url = \"https://github.com/new\"\n",
    "sess =  requests.session()\n",
    "response = sess.get(url, verify=False)\n",
    "headers = response.cookies\n",
    "print(headers)"
   ]
  },
  {
   "cell_type": "code",
   "execution_count": 30,
   "metadata": {
    "ExecuteTime": {
     "end_time": "2021-01-05T06:14:21.528761Z",
     "start_time": "2021-01-05T06:14:20.711346Z"
    }
   },
   "outputs": [
    {
     "data": {
      "text/plain": [
       "<title>Sign in to GitHub · GitHub</title>"
      ]
     },
     "execution_count": 30,
     "metadata": {},
     "output_type": "execute_result"
    }
   ],
   "source": [
    "# Without cookie\n",
    "response = requests.get(url)\n",
    "soup = BeautifulSoup(response.text, \"lxml\")\n",
    "soup.title"
   ]
  },
  {
   "cell_type": "code",
   "execution_count": 31,
   "metadata": {
    "ExecuteTime": {
     "end_time": "2021-01-05T06:15:08.664837Z",
     "start_time": "2021-01-05T06:15:08.030370Z"
    }
   },
   "outputs": [
    {
     "data": {
      "text/plain": [
       "<title>Create a New Repository</title>"
      ]
     },
     "execution_count": 31,
     "metadata": {},
     "output_type": "execute_result"
    }
   ],
   "source": [
    "# Without cookies\n",
    "cookies = \\\n",
    "{\"logged_in\": \"yes\",\n",
    " \"user_session\": \"戴上自己的 user_session\"\n",
    "}\n",
    "response = requests.get(url, cookies=cookies)\n",
    "soup = BeautifulSoup(response.text, \"lxml\")\n",
    "soup.title"
   ]
  },
  {
   "cell_type": "code",
   "execution_count": null,
   "metadata": {},
   "outputs": [],
   "source": []
  }
 ],
 "metadata": {
  "kernelspec": {
   "display_name": "Python 3",
   "language": "python",
   "name": "python3"
  },
  "language_info": {
   "codemirror_mode": {
    "name": "ipython",
    "version": 3
   },
   "file_extension": ".py",
   "mimetype": "text/x-python",
   "name": "python",
   "nbconvert_exporter": "python",
   "pygments_lexer": "ipython3",
   "version": "3.7.4"
  },
  "toc": {
   "base_numbering": 1,
   "nav_menu": {},
   "number_sections": true,
   "sideBar": true,
   "skip_h1_title": false,
   "title_cell": "Table of Contents",
   "title_sidebar": "Contents",
   "toc_cell": true,
   "toc_position": {},
   "toc_section_display": true,
   "toc_window_display": true
  }
 },
 "nbformat": 4,
 "nbformat_minor": 2
}
