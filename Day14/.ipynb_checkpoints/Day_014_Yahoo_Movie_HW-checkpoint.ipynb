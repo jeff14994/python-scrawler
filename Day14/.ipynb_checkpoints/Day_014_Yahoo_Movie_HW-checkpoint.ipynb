{
 "cells": [
  {
   "cell_type": "markdown",
   "metadata": {
    "toc": true
   },
   "source": [
    "<h1>Table of Contents<span class=\"tocSkip\"></span></h1>\n",
    "<div class=\"toc\"><ul class=\"toc-item\"><li><span><a href=\"#YAHOO電影爬蟲練習\" data-toc-modified-id=\"YAHOO電影爬蟲練習-1\"><span class=\"toc-item-num\">1&nbsp;&nbsp;</span>YAHOO電影爬蟲練習</a></span><ul class=\"toc-item\"><li><span><a href=\"#練習爬取電影放映資訊。必須逐步獲取電影的代號、放映地區、放映日期後，再送出查詢給伺服器。\" data-toc-modified-id=\"練習爬取電影放映資訊。必須逐步獲取電影的代號、放映地區、放映日期後，再送出查詢給伺服器。-1.1\"><span class=\"toc-item-num\">1.1&nbsp;&nbsp;</span>練習爬取電影放映資訊。必須逐步獲取電影的代號、放映地區、放映日期後，再送出查詢給伺服器。</a></span><ul class=\"toc-item\"><li><span><a href=\"#先搜尋全部的電影代號(ID)資訊\" data-toc-modified-id=\"先搜尋全部的電影代號(ID)資訊-1.1.1\"><span class=\"toc-item-num\">1.1.1&nbsp;&nbsp;</span>先搜尋全部的電影代號(ID)資訊</a></span></li><li><span><a href=\"#指定你有興趣的電影其ID，然後查詢其放映地區資訊。\" data-toc-modified-id=\"指定你有興趣的電影其ID，然後查詢其放映地區資訊。-1.1.2\"><span class=\"toc-item-num\">1.1.2&nbsp;&nbsp;</span>指定你有興趣的電影其ID，然後查詢其放映地區資訊。</a></span></li><li><span><a href=\"#指定你想要觀看的放映地區，查詢有上映電影的場次日期\" data-toc-modified-id=\"指定你想要觀看的放映地區，查詢有上映電影的場次日期-1.1.3\"><span class=\"toc-item-num\">1.1.3&nbsp;&nbsp;</span>指定你想要觀看的放映地區，查詢有上映電影的場次日期</a></span></li><li><span><a href=\"#最後指定觀看的日期，查詢並列印出放映的電影院、放映類型(數位、3D、IMAX-3D...)、放映時間等資訊。\" data-toc-modified-id=\"最後指定觀看的日期，查詢並列印出放映的電影院、放映類型(數位、3D、IMAX-3D...)、放映時間等資訊。-1.1.4\"><span class=\"toc-item-num\">1.1.4&nbsp;&nbsp;</span>最後指定觀看的日期，查詢並列印出放映的電影院、放映類型(數位、3D、IMAX 3D...)、放映時間等資訊。</a></span></li></ul></li></ul></li></ul></div>"
   ]
  },
  {
   "cell_type": "markdown",
   "metadata": {},
   "source": [
    "# YAHOO電影爬蟲練習\n",
    "## 練習爬取電影放映資訊。必須逐步獲取電影的代號、放映地區、放映日期後，再送出查詢給伺服器。"
   ]
  },
  {
   "cell_type": "code",
   "execution_count": null,
   "metadata": {
    "ExecuteTime": {
     "end_time": "2020-12-16T16:05:31.903844Z",
     "start_time": "2020-12-16T16:05:31.597915Z"
    }
   },
   "outputs": [],
   "source": [
    "import requests\n",
    "import re\n",
    "from bs4 import BeautifulSoup"
   ]
  },
  {
   "cell_type": "markdown",
   "metadata": {},
   "source": [
    "### 先搜尋全部的電影代號(ID)資訊"
   ]
  },
  {
   "cell_type": "code",
   "execution_count": 2,
   "metadata": {
    "ExecuteTime": {
     "end_time": "2020-12-16T16:05:41.671798Z",
     "start_time": "2020-12-16T16:05:40.876019Z"
    },
    "scrolled": true
   },
   "outputs": [
    {
     "name": "stdout",
     "output_type": "stream",
     "text": [
      "Movie: 聖羅蘭：時尚影子的人生, ID: 11079\n",
      "Movie: 行動代號：熱狗, ID: 11078\n",
      "Movie: 人性爆走課, ID: 11075\n",
      "Movie: 逃獄兄弟, ID: 11074\n",
      "Movie: 喬瑟與老虎、魚, ID: 11058\n",
      "Movie: 新解釋・三國志, ID: 11050\n",
      "Movie: 信用詐欺師JP：公主篇, ID: 11021\n",
      "Movie: 怵目驚魂28天, ID: 10997\n",
      "Movie: 求婚好意外, ID: 10796\n",
      "Movie: 再見街貓BOB, ID: 11016\n",
      "Movie: 黑暗角落：死亡之後, ID: 11094\n",
      "Movie: 黑暗角落：小丑夢靨, ID: 11093\n",
      "Movie: 紐約龐克：女力之聲, ID: 11092\n",
      "Movie: 瑜珈怨, ID: 11077\n",
      "Movie: 搖滾變色龍：大衛鮑伊, ID: 11061\n",
      "Movie: 女王特大號, ID: 11057\n",
      "Movie: 只有悲傷才是美麗的, ID: 11055\n",
      "Movie: 愛在午夜希臘時, ID: 11054\n",
      "Movie: 愛在黎明破曉時, ID: 11053\n",
      "Movie: 愛在日落巴黎時, ID: 11052\n",
      "Movie: 熱血合唱團, ID: 11044\n",
      "Movie: 情攝大師, ID: 11030\n",
      "Movie: 魔物獵人, ID: 10983\n",
      "Movie: 用甜酒漱口, ID: 10895\n",
      "Movie: 親愛的殺手, ID: 10861\n",
      "Movie: 鬼弒訊, ID: 11083\n",
      "Movie: 無間行者之生死潛行, ID: 11051\n",
      "Movie: 他們的自由年代, ID: 11037\n",
      "Movie: 十二夜2：回到第零天, ID: 11035\n",
      "Movie: 尋找小魔女Doremi, ID: 11027\n",
      "Movie: 緝毒風暴, ID: 11023\n",
      "Movie: 說不出的告別, ID: 11019\n",
      "Movie: 追殺胖老爹, ID: 11015\n",
      "Movie: 慾望摩天輪, ID: 11010\n",
      "Movie: 古魯家族：新石代, ID: 10958\n",
      "Movie: 盜墓同盟, ID: 11031\n",
      "Movie: 愛在末路之境, ID: 11008\n",
      "Movie: 你是豬, ID: 10995\n",
      "Movie: 同學麥娜絲, ID: 10935\n",
      "Movie: 惡童當街 經典重映, ID: 10932\n",
      "Movie: 名偵探柯南：紅之校外旅行 鮮紅篇&戀紅篇, ID: 10887\n",
      "Movie: 逃, ID: 10565\n",
      "Movie: 家在蘭若寺, ID: 11034\n",
      "Movie: 5x1, ID: 11032\n",
      "Movie: 綠洲：數位經典版, ID: 11013\n",
      "Movie: 紙花, ID: 10896\n",
      "Movie: 孤味, ID: 10477\n",
      "Movie: 女巫們, ID: 10976\n",
      "Movie: 破碎的擁抱 經典數位修復, ID: 10924\n",
      "Movie: 壞教慾經典數位修復, ID: 10878\n",
      "Movie: 鬼滅之刃劇場版 無限列車篇, ID: 10816\n",
      "Movie: 親愛的房客, ID: 10707\n",
      "Movie: 地下弒的秘密, ID: 10984\n",
      "Movie: 奪命守門人, ID: 10952\n",
      "Movie: 藥頭大媽, ID: 10951\n",
      "Movie: 幻愛, ID: 10945\n",
      "Movie: 無聲, ID: 10926\n",
      "Movie: 愛情列車長, ID: 10857\n",
      "Movie: 特斯拉, ID: 10942\n",
      "Movie: 阿公當家, ID: 10914\n",
      "Movie: 刻在你心底的名字, ID: 10902\n",
      "Movie: 森林特攻隊：大腳ㄚ家族, ID: 10894\n",
      "Movie: 急先鋒, ID: 10443\n",
      "Movie: 電影哆啦A夢：大雄的新恐龍, ID: 10891\n",
      "Movie: 皮諾丘的奇幻旅程, ID: 10921\n",
      "Movie: 寂寞調香師, ID: 10905\n",
      "Movie: 消失的情人節, ID: 10870\n",
      "Movie: 訂製幸福滋味, ID: 10908\n",
      "Movie: 密弒直播, ID: 10888\n",
      "Movie: 海霧, ID: 10872\n",
      "Movie: 退休大贏家, ID: 10920\n",
      "Movie: 花木蘭, ID: 8632\n",
      "Movie: 馗降：粽邪2, ID: 10787\n",
      "Movie: TENET天能, ID: 10433\n",
      "Movie: 可不可以，你也剛好喜歡我, ID: 10473\n",
      "Movie: 怪胎, ID: 10733\n",
      "Movie: 不丹是教室, ID: 10789\n",
      "Movie: 東京日和, ID: 7959\n",
      "Movie: 一首搖滾上月球, ID: 4887\n",
      "Movie: 錢不夠用2, ID: 3026\n"
     ]
    }
   ],
   "source": [
    "# 查看目前上映那些電影，並擷取出其ID資訊\n",
    "url = 'https://movies.yahoo.com.tw/'\n",
    "resp = requests.get(url)\n",
    "resp.encoding = 'utf-8'\n",
    "\n",
    "soup = BeautifulSoup(resp.text, 'lxml')\n",
    "html = soup.find(\"select\", attrs={'name':'movie_id'})\n",
    "# 因為 data-name 的 value 都不一樣，因此用 re.complie('.*') 匹配所有字元\n",
    "movie_item = html.find_all(\"option\", attrs={'data-name':re.compile('.*')})\n",
    "# print(type(movie_item))\n",
    "\n",
    "for p in movie_item:\n",
    "    print(\"Movie: %s, ID: %s\" % (p[\"data-name\"], p[\"value\"]))"
   ]
  },
  {
   "cell_type": "markdown",
   "metadata": {},
   "source": [
    "### 指定你有興趣的電影其ID，然後查詢其放映地區資訊。"
   ]
  },
  {
   "cell_type": "code",
   "execution_count": 3,
   "metadata": {
    "ExecuteTime": {
     "end_time": "2020-12-16T16:05:46.370742Z",
     "start_time": "2020-12-16T16:05:46.368242Z"
    }
   },
   "outputs": [],
   "source": [
    "# 參考前一個步驟中擷取到的ID資訊，並指定ID\n",
    "movie_id = 11079"
   ]
  },
  {
   "cell_type": "code",
   "execution_count": 4,
   "metadata": {
    "ExecuteTime": {
     "end_time": "2020-12-16T16:05:49.859976Z",
     "start_time": "2020-12-16T16:05:49.285556Z"
    }
   },
   "outputs": [
    {
     "name": "stdout",
     "output_type": "stream",
     "text": [
      "[{'area_id': 28, 'title': '台北市', 'priority': 150, 'ts_update': 1547519309}]\n",
      "------\n",
      "放映地區: 台北市, 代號(area_id): 28\n"
     ]
    }
   ],
   "source": [
    "url = 'https://movies.yahoo.com.tw/api/v1/areas_by_movie_theater'\n",
    "# 將 movie_id 轉為字串\n",
    "payload = {'movie_id':str(movie_id)}\n",
    "\n",
    "\n",
    "# 模擬一個header\n",
    "headers = {\n",
    "    'authority': 'movies.yahoo.com.tw',\n",
    "    'method': 'GET',\n",
    "    'path': '/api/v1/areas_by_movie_theater?movie_id=' + str(movie_id),\n",
    "    'scheme': 'https',\n",
    "    'accept': 'application/json, text/javascript, */*; q=0.01',\n",
    "    'accept-encoding': 'gzip, deflate, br',\n",
    "    'accept-language': 'zh-TW,zh;q=0.9,en-US;q=0.8,en;q=0.7,zh-CN;q=0.6',\n",
    "    'cookie': 'rxx=9s3x2fws06.1g16irnc&v=1; _ga=GA1.3.2056742944.1551651301; GUC=AQEBAQFczFpdm0IfmwSB&s=AQAAACoo4N5D&g=XMsVBw; BX=4hkdk1decm57t&b=3&s=mr; _ga=GA1.4.2056742944.1551651301; nexagesuid=82843256dd234e8e91aa73f2062f8218; browsed_movie=eyJpdiI6IlJXWWtiSWJaZlNGK2MxQnhscnVUYWc9PSIsInZhbHVlIjoiMXRhMmVHRXRIeUNjc1RBWDJzdGYwbnlIQURmWGsrcjJSMzhkbkcraDNJVUNIZEZsbzU3amlFcVZ1NzlmazJrTGpoMjVrbHk1YmpoRENXaHZTOUw1TmI2ZTZVWHdOejZQZm16RmVuMWlHTTJLaTZLVFZZVkFOMDlTd1wvSGltcytJIiwibWFjIjoiZWQ2ZjA4MmVjZmZlYjlmNjJmYmY2NGMyMDI0Njc0NWViYjVkOWE2NDg0N2RhODMxZjBjZDhiMmJhZTc2MDZhYiJ9; avi=eyJpdiI6Im1NeWFJRlVRWDR1endEcGRGUGJUbVE9PSIsInZhbHVlIjoickRpU3JuUytmcGl6cjF5OW0rNU9iZz09IiwibWFjIjoiY2VmY2NkNzZmM2NhNjY5YzlkOTcyNjE5OGEyMzU0NWYxOTdmMDRkMDY3OWNmMmZjOTMxYjc5MjI5N2Q5NGE5MiJ9; cmp=t=1559391030&j=0; _gid=GA1.4.779543841.1559391031; XSRF-TOKEN=eyJpdiI6IkhpS2hGcDRQaHlmWUJmaHdSS2Q2bHc9PSIsInZhbHVlIjoiOUVoNFk4OHI1UUZmUWRtYXhza0MyWjJSTlhlZ3RnT0VGeVJPN2JuczVRMGRFdWt2OUlsamVKeHRobFwvcHBGM0dhU3VyMXNGTHlsb2dVM2l0U1hpUGxBPT0iLCJtYWMiOiJkZWU4YzJhNjAxMTY3MzE4Y2ExNWIxYmE1ZjE1YWZlZTlhOTcyYjc4M2RlZGY4ZWNjZDYyMTA2NGYwZGViMzc2In0%3D; m_s=eyJpdiI6InpsZHZ2Tk1BZ0dxaHhETml1RjBnUXc9PSIsInZhbHVlIjoiSkNGeHUranRoXC85bDFiaDhySTJqNkJRcWdjWUxjeVRJSHVYZ1wvd2d4bWJZUTUrSHVDM0lUcW5KNHdETFZ4T1lieU81OUhzc1VoUXhZcWk0UDZSQXVFdz09IiwibWFjIjoiYmJkMDJkMDhlODIzMzcyMWY4M2NmYWNjNGVlOWRjMDIwZmVmNzAyMjE3Yzg3ZGY3ODBkZWEzZTI4MTI5ZWNmOSJ9; _gat=1; nexagesd=10',\n",
    "    'dnt': '1',\n",
    "    'mv-authorization': '21835b082e15b91a69b3851eec7b31b82ce82afb',\n",
    "    'referer': 'https://movies.yahoo.com.tw/',\n",
    "    'user-agent': 'Mozilla/5.0 (Windows NT 10.0; Win64; x64) AppleWebKit/537.36 (KHTML, like Gecko) Chrome/74.0.3729.169 Safari/537.36',\n",
    "    'x-requested-with': 'XMLHttpRequest',\n",
    "}\n",
    "\n",
    "# 發起請求\n",
    "resp = requests.get(url, params=payload, headers=headers)\n",
    "print(resp.json())  # 若有需要，列印出json原始碼\n",
    "print(\"------\")\n",
    "# 這裡回傳的格式是JSON格式的資料，要解析JSON擷取資料\n",
    "for p in resp.json():\n",
    "    print('放映地區: {0}, 代號(area_id): {1}'.format(p['title'], p['area_id']))"
   ]
  },
  {
   "cell_type": "markdown",
   "metadata": {},
   "source": [
    "### 指定你想要觀看的放映地區，查詢有上映電影的場次日期"
   ]
  },
  {
   "cell_type": "code",
   "execution_count": 5,
   "metadata": {
    "ExecuteTime": {
     "end_time": "2020-12-16T16:05:51.774246Z",
     "start_time": "2020-12-16T16:05:51.771463Z"
    }
   },
   "outputs": [],
   "source": [
    "# 指定放映地區\n",
    "area_id = 28"
   ]
  },
  {
   "cell_type": "code",
   "execution_count": 6,
   "metadata": {
    "ExecuteTime": {
     "end_time": "2020-12-16T16:05:54.123124Z",
     "start_time": "2020-12-16T16:05:53.363846Z"
    }
   },
   "outputs": [
    {
     "name": "stdout",
     "output_type": "stream",
     "text": [
      "播放日期: \n",
      "十二月 17\n",
      "十二月 18\n",
      "十二月 19\n",
      "十二月 20\n",
      "十二月 21\n"
     ]
    }
   ],
   "source": [
    "# 向網站發送請求\n",
    "url = 'https://movies.yahoo.com.tw/movietime_result.html'\n",
    "payload = {'movie_id':str(movie_id), 'area_id':str(area_id)}\n",
    "resp = requests.get(url, params=payload)\n",
    "resp.encoding = 'utf-8'\n",
    "\n",
    "soup = BeautifulSoup(resp.text, 'lxml')\n",
    "# regular expression date_[\\d] to find pattern([\\d] 用括弧刮起來表示只匹配一個字)\n",
    "movie_date = soup.find_all(\"label\", attrs={'for':re.compile(\"date_[\\d]\")})\n",
    "# print(movie_date)\n",
    "# 列印播放日期\n",
    "print(\"播放日期: \")\n",
    "for date in movie_date:\n",
    "    # date.p.string -> 表從 date 裡取 p tag 裡的內容\n",
    "    print(\"%s %s\" % (date.p.string, date.h3.string))"
   ]
  },
  {
   "cell_type": "markdown",
   "metadata": {},
   "source": [
    "### 最後指定觀看的日期，查詢並列印出放映的電影院、放映類型(數位、3D、IMAX 3D...)、放映時間等資訊。"
   ]
  },
  {
   "cell_type": "code",
   "execution_count": 14,
   "metadata": {
    "ExecuteTime": {
     "end_time": "2020-12-16T16:15:32.906681Z",
     "start_time": "2020-12-16T16:15:32.904652Z"
    }
   },
   "outputs": [],
   "source": [
    "# 選定要觀看的日期\n",
    "date = \"2020-12-17\""
   ]
  },
  {
   "cell_type": "code",
   "execution_count": 60,
   "metadata": {
    "ExecuteTime": {
     "end_time": "2020-12-16T16:39:14.784502Z",
     "start_time": "2020-12-16T16:39:14.125137Z"
    },
    "scrolled": true
   },
   "outputs": [
    {
     "name": "stdout",
     "output_type": "stream",
     "text": [
      "<div class=\"pc-movie-schedule-form\">\n",
      "    <div class=\"area_timebox\">\n",
      "   <div class=\"area_title\">台北市</div>\n",
      "      <ul id=\"theater_id_186\" class=\"area_time _c jq_area_time\" data-theater_name=\"喜樂時代影城南港店\" data-theater_url=\"http://www.centuryasia.com.tw/default.aspx\" data-theater_schedules=\"https://movies.yahoo.com.tw/theater_result.html/id=186\" >\n",
      "       <li class=\"adds\">\n",
      "           <a href=\"https://movies.yahoo.com.tw/theater_result.html/id=186\">喜樂時代影城南港店</a>\n",
      "           <span>02-27888185</span>\n",
      "       </li>\n",
      "                         <li class=\"taps\">\n",
      "                <span class=\"tapR\">數位</span>                 <span class=\"tapB\">法語</span>            </li>\n",
      "           <li class=\"time _c\">\n",
      "               <div class=\"input_picker jq_input_picker\">\n",
      "                                                                   <input type=\"radio\" name=\"schedule_list\" id=\"74655988\" class=\"gabtn\"\n",
      "                        value=\"2020-12-17 16:30:00\"  data-movie=\"f4ad61a9bf194c08b8d6c6710fd8a755\"\n",
      "                        data-cinema=\"40288eb0050f542401050f5681782dc5\" data-session=\"008d5091f21f4299b0bf847049385578\"\n",
      "                        data-date=\"1608134400\" data-time=\"1608193800\"\n",
      "                        data-movie_type=\"數位\"\n",
      "                        data-movie_title=\"聖羅蘭：時尚影子的人生\"\n",
      "                        data-movie_date=\"12.17\"\n",
      "                        data-movie_time=\"16:30\"\n",
      "                        data-ga=\"['電影頁_時刻表', '電影頁_時刻表_場次', '聖羅蘭：時尚影子的人生']\" data-ezding=\"ezding\"\n",
      "                        />\n",
      "                    <label for=\"74655988\" class=\"select\">16:30</label>\n",
      "                                               </div>\n",
      "           </li>\n",
      "          </ul>\n",
      "   </div>\n",
      "\n",
      "    <div class=\"booking_modal jq_booking_modal\">\n",
      "    <div class=\"booking_modal_backdrop\"></div>\n",
      "    <!-- 時報訂票 ＆ 有官網訂票 新增 class => no_seats -->\n",
      "    <div class=\"booking_modal_content jq_booking_modal_content\">\n",
      "        <form method=\"get\" action=\"https://movies.yahoo.com.tw/ticket/ezding_ticket\" target=\"_blank\" id=\"form_schedule\">\n",
      "                <div class=\"ezding_ticket_value\">\n",
      "            <input type=\"hidden\" name=\"movie_id\" value=\"\">\n",
      "            <input type=\"hidden\" name=\"cinema_id\" value=\"\">\n",
      "            <input type=\"hidden\" name=\"session_id\" value=\"\">\n",
      "            <input type=\"hidden\" name=\"date\" value=\"\">\n",
      "            <input type=\"hidden\" name=\"time\" value=\"\">\n",
      "            <input type=\"hidden\" name=\"campaign_code\" value=\"yahoopc\">\n",
      "        </div>\n",
      "        <ul class=\"top_infos\">\n",
      "            <li>\n",
      "                <p>片名</p>\n",
      "                <h3 id=\"top_infos_movie\"></h3>\n",
      "            </li>\n",
      "            <li>\n",
      "                <p>影城</p>\n",
      "                <h3 id=\"top_infos_theater\"></h3>\n",
      "            </li>\n",
      "            <li>\n",
      "                <p>日期</p>\n",
      "                <h3 id=\"top_infos_date\"></h3>\n",
      "            </li>\n",
      "            <li>\n",
      "                <p>版本</p>\n",
      "                <h3 id=\"top_infos_movie_type\"></h3>\n",
      "            </li>\n",
      "            <li>\n",
      "                <p>時間</p>\n",
      "                <h3 id=\"top_infos_time\"></h3>\n",
      "            </li>\n",
      "        </ul>\n",
      "        \n",
      "        <div class=\"booking_seats\">\n",
      "            <a href=\"#\" class=\"theater_schedules gabtn\" data-ga=\"['電影頁_時刻表', '電影頁_時刻表_一般戲院_全部電影場次', '']\">全部電影場次</a>\n",
      "            <a href=\"#\" class=\"theater_url gabtn\" data-ga=\"['電影頁_時刻表', '電影頁_時刻表_一般戲院_官網訂票', '']\" target=\"_blank\">官網訂票</a>\n",
      "            <p id=\"no_theater_url\" class=\"no_theater_url\">無提供官網訂票</p>\n",
      "\n",
      "            <p id=\"booking_number\" class=\"booking_number\">人數</p>\n",
      "            <div class=\"booking_seat_group jq_booking_seat_group\">\n",
      "                                    <input type=\"radio\" name=\"tickets\" id=\"seat_1\" value=\"1\" />\n",
      "                    <label for=\"seat_1\">1</label>\n",
      "                                    <input type=\"radio\" name=\"tickets\" id=\"seat_2\" value=\"2\"  checked />\n",
      "                    <label for=\"seat_2\">2</label>\n",
      "                                    <input type=\"radio\" name=\"tickets\" id=\"seat_3\" value=\"3\" />\n",
      "                    <label for=\"seat_3\">3</label>\n",
      "                                    <input type=\"radio\" name=\"tickets\" id=\"seat_4\" value=\"4\" />\n",
      "                    <label for=\"seat_4\">4</label>\n",
      "                                    <input type=\"radio\" name=\"tickets\" id=\"seat_5\" value=\"5\" />\n",
      "                    <label for=\"seat_5\">5</label>\n",
      "                                    <input type=\"radio\" name=\"tickets\" id=\"seat_6\" value=\"6\" />\n",
      "                    <label for=\"seat_6\">6</label>\n",
      "                            </div>\n",
      "            <button type=\"submit\" class=\"action_btn action_booking_btn jq_booking_btn gabtn\" data-ga=\"['電影頁_時刻表', '電影頁_時刻表_一般戲院_選位', '']\">選位</button>\n",
      "            <a href=\"#\" class=\"action_btn action_link jq_booking_link gabtn\" data-ga=\"['電影頁_時刻表', '電影頁_時刻表_時報戲院_官網選位', '']\" target=\"_blank\">官網訂票</a>\n",
      "            <button type=\"button\" class=\"action_btn close jq_close_booking_btn\">關閉</button>\n",
      "        </div>\n",
      "        </form>\n",
      "\n",
      "        <!-- 無官網訂票區塊 -->\n",
      "        <div class=\"no_theater_section\">\n",
      "            <p>無提供官網訂票</p>\n",
      "            <button type=\"button\" class=\"action_btn close jq_close_booking_btn\">關閉</button>\n",
      "        </div>\n",
      "    </div>\n",
      "</div></div>\n",
      "<class 'bs4.BeautifulSoup'>\n"
     ]
    }
   ],
   "source": [
    "# 向網站發送請求，獲取上映的電影院及時間資訊\n",
    "url = \"https://movies.yahoo.com.tw/ajax/pc/get_schedule_by_movie\"\n",
    "payload = {'movie_id':str(movie_id),\n",
    "           'date':date,\n",
    "           'area_id':str(area_id),\n",
    "           'theater_id':'',\n",
    "           'datetime':'',\n",
    "           'movie_type_id':''}\n",
    "\n",
    "resp = requests.get(url, params=payload)\n",
    "print(resp.json()['view'])  # 若有需要，列印出json原始碼\n",
    "print(type(soup))\n",
    "# print(soup)\n",
    "soup = BeautifulSoup(resp.json()['view'], 'lxml')\n",
    "\n",
    "html = soup.find_all(\"ul\", attrs={'data-theater_name':re.compile(\".*\")})\n",
    "# print(html[0].json())"
   ]
  },
  {
   "cell_type": "code",
   "execution_count": 68,
   "metadata": {
    "ExecuteTime": {
     "end_time": "2020-12-16T16:44:37.212879Z",
     "start_time": "2020-12-16T16:44:37.207580Z"
    }
   },
   "outputs": [
    {
     "name": "stdout",
     "output_type": "stream",
     "text": [
      "電影院名稱: 喜樂時代影城南港店\n",
      "影片放映類型: 數位\n",
      "時間表: 12.17 16:30\n"
     ]
    }
   ],
   "source": [
    "# 試著從上一步驟回傳的電影院資料中，擷取電影院名稱、影片放映類型以及時間表\n",
    "\n",
    "# 擷取電影院名稱\n",
    "theater = html[0].find(\"li\").find(\"a\").text\n",
    "# print(type(html)) # -> <class 'bs4.element.ResultSet'>\n",
    "# print(type(html[0])) # -> <class 'bs4.element.Tag'>\n",
    "# print(type(theater)) # -> str\n",
    "\n",
    "# 擷取影片放映類型\n",
    "movie_type = html[0].find(\"input\")[\"data-movie_type\"]\n",
    "# print(type(html[0].find(\"input\"))) # -> <class 'bs4.element.Tag'> 可以使用 []\n",
    "# print(type(movie_type)) # -> <class 'str'>\n",
    "\n",
    "# 擷取時間\n",
    "movie_date = html[0].find(\"input\")[\"data-movie_date\"]\n",
    "movie_time = html[0].find(\"input\")[\"data-movie_time\"]\n",
    "\n",
    "# 印出來\n",
    "print(\"電影院名稱: %s\"%theater)\n",
    "print(\"影片放映類型: %s\"%movie_type)\n",
    "print(\"時間表: %s %s\"%(movie_date, movie_time))\n",
    "\n"
   ]
  },
  {
   "cell_type": "code",
   "execution_count": null,
   "metadata": {},
   "outputs": [],
   "source": []
  }
 ],
 "metadata": {
  "kernelspec": {
   "display_name": "Python 3",
   "language": "python",
   "name": "python3"
  },
  "language_info": {
   "codemirror_mode": {
    "name": "ipython",
    "version": 3
   },
   "file_extension": ".py",
   "mimetype": "text/x-python",
   "name": "python",
   "nbconvert_exporter": "python",
   "pygments_lexer": "ipython3",
   "version": "3.7.4"
  },
  "toc": {
   "base_numbering": 1,
   "nav_menu": {},
   "number_sections": true,
   "sideBar": true,
   "skip_h1_title": false,
   "title_cell": "Table of Contents",
   "title_sidebar": "Contents",
   "toc_cell": true,
   "toc_position": {},
   "toc_section_display": true,
   "toc_window_display": true
  }
 },
 "nbformat": 4,
 "nbformat_minor": 2
}
