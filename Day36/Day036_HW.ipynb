{
 "cells": [
  {
   "cell_type": "markdown",
   "metadata": {
    "toc": true
   },
   "source": [
    "<h1>Table of Contents<span class=\"tocSkip\"></span></h1>\n",
    "<div class=\"toc\"><ul class=\"toc-item\"><li><span><a href=\"#加速：非同步爬蟲\" data-toc-modified-id=\"加速：非同步爬蟲-1\"><span class=\"toc-item-num\">1&nbsp;&nbsp;</span>加速：非同步爬蟲</a></span><ul class=\"toc-item\"><li><span><a href=\"#作業目標\" data-toc-modified-id=\"作業目標-1.1\"><span class=\"toc-item-num\">1.1&nbsp;&nbsp;</span>作業目標</a></span><ul class=\"toc-item\"><li><span><a href=\"#圖解非同步爬蟲與多線程爬蟲差異\" data-toc-modified-id=\"圖解非同步爬蟲與多線程爬蟲差異-1.1.1\"><span class=\"toc-item-num\">1.1.1&nbsp;&nbsp;</span>圖解非同步爬蟲與多線程爬蟲差異</a></span></li></ul></li></ul></li></ul></div>"
   ]
  },
  {
   "cell_type": "markdown",
   "metadata": {},
   "source": [
    "# 加速：非同步爬蟲\n",
    "\n",
    "* 了解非同步爬蟲加速原理與實作"
   ]
  },
  {
   "cell_type": "markdown",
   "metadata": {},
   "source": [
    "## 作業目標\n",
    "\n",
    "* 比較一下非同步爬蟲跟多線程爬蟲的差異是什麼？各自的優缺點為何？"
   ]
  },
  {
   "cell_type": "markdown",
   "metadata": {
    "ExecuteTime": {
     "end_time": "2021-01-08T03:54:20.365079Z",
     "start_time": "2021-01-08T03:54:20.362552Z"
    },
    "scrolled": true
   },
   "source": [
    "### 圖解非同步爬蟲與多線程爬蟲差異"
   ]
  },
  {
   "cell_type": "markdown",
   "metadata": {
    "ExecuteTime": {
     "end_time": "2021-01-08T03:56:36.391563Z",
     "start_time": "2021-01-08T03:56:36.260870Z"
    }
   },
   "source": [
    "![](https://i.imgur.com/i5Qi0C9.jpg)"
   ]
  },
  {
   "cell_type": "markdown",
   "metadata": {},
   "source": [
    "### 各自的優缺點\n",
    "1. 非同步\n",
    "- 優點：單一 Process 可以做很多事，不會因頻繁 I/O 而被堵塞\n",
    "- 缺點：\n",
    "2. 多線程\n",
    "- 優點：網站多的時候，可以一次爬很多個\n",
    "- 缺點："
   ]
  }
 ],
 "metadata": {
  "colab": {
   "name": "homework.ipynb",
   "provenance": []
  },
  "kernelspec": {
   "display_name": "Python 3",
   "language": "python",
   "name": "python3"
  },
  "language_info": {
   "codemirror_mode": {
    "name": "ipython",
    "version": 3
   },
   "file_extension": ".py",
   "mimetype": "text/x-python",
   "name": "python",
   "nbconvert_exporter": "python",
   "pygments_lexer": "ipython3",
   "version": "3.7.4"
  },
  "toc": {
   "base_numbering": 1,
   "nav_menu": {},
   "number_sections": true,
   "sideBar": true,
   "skip_h1_title": false,
   "title_cell": "Table of Contents",
   "title_sidebar": "Contents",
   "toc_cell": true,
   "toc_position": {},
   "toc_section_display": true,
   "toc_window_display": true
  }
 },
 "nbformat": 4,
 "nbformat_minor": 1
}
