{
 "cells": [
  {
   "cell_type": "markdown",
   "metadata": {
    "toc": true
   },
   "source": [
    "<h1>Table of Contents<span class=\"tocSkip\"></span></h1>\n",
    "<div class=\"toc\"><ul class=\"toc-item\"><li><span><a href=\"#加速：多線程爬蟲\" data-toc-modified-id=\"加速：多線程爬蟲-1\"><span class=\"toc-item-num\">1&nbsp;&nbsp;</span>加速：多線程爬蟲</a></span><ul class=\"toc-item\"><li><span><a href=\"#作業目標\" data-toc-modified-id=\"作業目標-1.1\"><span class=\"toc-item-num\">1.1&nbsp;&nbsp;</span>作業目標</a></span></li><li><span><a href=\"#沒有-thread\" data-toc-modified-id=\"沒有-thread-1.2\"><span class=\"toc-item-num\">1.2&nbsp;&nbsp;</span>沒有 thread</a></span></li><li><span><a href=\"#有-thread\" data-toc-modified-id=\"有-thread-1.3\"><span class=\"toc-item-num\">1.3&nbsp;&nbsp;</span>有 thread</a></span></li><li><span><a href=\"#比較差異\" data-toc-modified-id=\"比較差異-1.4\"><span class=\"toc-item-num\">1.4&nbsp;&nbsp;</span>比較差異</a></span><ul class=\"toc-item\"><li><span><a href=\"#未使用-thread：-花費-571-ms\" data-toc-modified-id=\"未使用-thread：-花費-571-ms-1.4.1\"><span class=\"toc-item-num\">1.4.1&nbsp;&nbsp;</span>未使用 thread： 花費 571 ms</a></span></li><li><span><a href=\"#使用-thread-：花費-22ms\" data-toc-modified-id=\"使用-thread-：花費-22ms-1.4.2\"><span class=\"toc-item-num\">1.4.2&nbsp;&nbsp;</span>使用 thread ：花費 22ms</a></span></li></ul></li></ul></li></ul></div>"
   ]
  },
  {
   "cell_type": "markdown",
   "metadata": {},
   "source": [
    "# 加速：多線程爬蟲\n",
    "\n",
    "\n",
    "\n",
    "* 了解知乎 API 使用方式與回傳內容\n",
    "* 撰寫程式存取 API 且添加標頭"
   ]
  },
  {
   "cell_type": "markdown",
   "metadata": {},
   "source": [
    "## 作業目標\n",
    "\n",
    "* 找一個之前實作過的爬蟲改用多線程改寫，比較前後時間的差異。\n",
    "\n",
    "\n",
    "\n"
   ]
  },
  {
   "cell_type": "code",
   "execution_count": 8,
   "metadata": {
    "ExecuteTime": {
     "end_time": "2021-01-07T03:32:59.364078Z",
     "start_time": "2021-01-07T03:32:59.361897Z"
    }
   },
   "outputs": [],
   "source": [
    "import requests\n",
    "from bs4 import BeautifulSoup\n",
    "import time\n",
    "import _thread"
   ]
  },
  {
   "cell_type": "markdown",
   "metadata": {},
   "source": [
    "## 沒有 thread"
   ]
  },
  {
   "cell_type": "code",
   "execution_count": 7,
   "metadata": {
    "ExecuteTime": {
     "end_time": "2021-01-07T03:32:13.405694Z",
     "start_time": "2021-01-07T03:32:12.829462Z"
    }
   },
   "outputs": [
    {
     "name": "stdout",
     "output_type": "stream",
     "text": [
      "0.5719099044799805\n"
     ]
    }
   ],
   "source": [
    "url = 'https://www.zhihu.com/explore'\n",
    "\n",
    "# headers 是一個 dict。user-agent 中間有個 Dash。user-agent value 可以隨意填寫\n",
    "headers = {\"user-agent\": \"OMG/0.0.1\"}\n",
    "\n",
    "# 紀錄程式開始時間\n",
    "startTime = time.time()\n",
    "r = requests.get(url, headers=headers)\n",
    "r.encoding = 'utf-8'\n",
    "# print(r.text)\n",
    "# 紀錄程式結束時間\n",
    "finishTime = time.time()\n",
    "print(finishTime - startTime)\n"
   ]
  },
  {
   "cell_type": "markdown",
   "metadata": {},
   "source": [
    "## 有 thread"
   ]
  },
  {
   "cell_type": "code",
   "execution_count": 15,
   "metadata": {
    "ExecuteTime": {
     "end_time": "2021-01-07T03:39:05.296072Z",
     "start_time": "2021-01-07T03:39:05.269030Z"
    }
   },
   "outputs": [
    {
     "name": "stdout",
     "output_type": "stream",
     "text": [
      "123145404489728\n",
      "0.0022058486938476562\n"
     ]
    }
   ],
   "source": [
    "url = 'https://www.zhihu.com/explore'\n",
    "\n",
    "# headers 是一個 dict。user-agent 中間有個 Dash。user-agent value 可以隨意填寫\n",
    "headers = {\"user-agent\": \"OMG/0.0.1\"}\n",
    "\n",
    "# 紀錄程式開始時間\n",
    "startTime = time.time()\n",
    "# r = requests.get(url, headers=headers)\n",
    "r = _thread.start_new_thread(requests.get, (url, headers))\n",
    "# r.encoding = 'utf-8'\n",
    "print(r)\n",
    "# print(r.text)\n",
    "# 紀錄程式結束時間\n",
    "finishTime = time.time()\n",
    "print(finishTime - startTime)\n"
   ]
  },
  {
   "cell_type": "markdown",
   "metadata": {},
   "source": [
    "## 比較差異\n",
    "### 未使用 thread： 花費 571 ms\n",
    "### 使用 thread ：花費 22ms"
   ]
  }
 ],
 "metadata": {
  "colab": {
   "name": "homework.ipynb",
   "provenance": []
  },
  "kernelspec": {
   "display_name": "Python 3",
   "language": "python",
   "name": "python3"
  },
  "language_info": {
   "codemirror_mode": {
    "name": "ipython",
    "version": 3
   },
   "file_extension": ".py",
   "mimetype": "text/x-python",
   "name": "python",
   "nbconvert_exporter": "python",
   "pygments_lexer": "ipython3",
   "version": "3.7.4"
  },
  "toc": {
   "base_numbering": 1,
   "nav_menu": {},
   "number_sections": true,
   "sideBar": true,
   "skip_h1_title": false,
   "title_cell": "Table of Contents",
   "title_sidebar": "Contents",
   "toc_cell": true,
   "toc_position": {},
   "toc_section_display": true,
   "toc_window_display": true
  }
 },
 "nbformat": 4,
 "nbformat_minor": 1
}
