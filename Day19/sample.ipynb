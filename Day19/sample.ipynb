{
 "cells": [
  {
   "cell_type": "markdown",
   "metadata": {
    "toc": true
   },
   "source": [
    "<h1>Table of Contents<span class=\"tocSkip\"></span></h1>\n",
    "<div class=\"toc\"><ul class=\"toc-item\"><li><span><a href=\"#動態網頁爬蟲---使用-Selenium\" data-toc-modified-id=\"動態網頁爬蟲---使用-Selenium-1\"><span class=\"toc-item-num\">1&nbsp;&nbsp;</span>動態網頁爬蟲 - 使用 Selenium</a></span><ul class=\"toc-item\"><li><span><a href=\"#使用-Requests-爬蟲\" data-toc-modified-id=\"使用-Requests-爬蟲-1.1\"><span class=\"toc-item-num\">1.1&nbsp;&nbsp;</span>使用 Requests 爬蟲</a></span></li><li><span><a href=\"#動態模擬瀏覽器行為\" data-toc-modified-id=\"動態模擬瀏覽器行為-1.2\"><span class=\"toc-item-num\">1.2&nbsp;&nbsp;</span>動態模擬瀏覽器行為</a></span></li><li><span><a href=\"#作業目標\" data-toc-modified-id=\"作業目標-1.3\"><span class=\"toc-item-num\">1.3&nbsp;&nbsp;</span>作業目標</a></span></li></ul></li></ul></div>"
   ]
  },
  {
   "cell_type": "markdown",
   "metadata": {},
   "source": [
    "# 動態網頁爬蟲 - 使用 Selenium\n",
    "\n",
    "* 了解 Selenium 用於動態網頁爬蟲的原理\n",
    "* 能夠使用 Selenium 撰寫動態網頁爬蟲"
   ]
  },
  {
   "cell_type": "markdown",
   "metadata": {},
   "source": [
    "## 使用 Requests 爬蟲"
   ]
  },
  {
   "cell_type": "code",
   "execution_count": 1,
   "metadata": {
    "ExecuteTime": {
     "end_time": "2020-12-21T03:03:51.469224Z",
     "start_time": "2020-12-21T03:03:50.581647Z"
    }
   },
   "outputs": [
    {
     "data": {
      "text/plain": [
       "'[Element.prototype,Document.prototype,DocumentFragment.prototype].forEach((function(e){e.hasOwnProperty(\"prepend\")||Object.defineProperty(e,\"prepend\",{configurable:!0,enumerable:!0,writable:!0,value:function(){var e=Array.prototype.slice.call(arguments),t=document.createDocumentFragment();e.forEach((function(e){var n=e instanceof Node;t.appendChild(n?e:document.createTextNode(String(e)))})),this.insertBefore(t,this.firstChild)}})}));var loadDeferredStyles=function(){var e=document.getElementById(\"deferred-styles\"),t=document.createElement(\"div\");t.innerHTML=e.textContent,document.head.prepend(t),e.parentElement.removeChild(e)},raf=window.requestAnimationFrame||window.mozRequestAnimationFrame||window.webkitRequestAnimationFrame||window.msRequestAnimationFrame;raf?raf((function(){window.setTimeout(loadDeferredStyles,0)})):window.addEventListener(\"load\",loadDeferredStyles)!function(t,h,e,j,s,n){t.hj=t.hj||function(){(t.hj.q=t.hj.q||[]).push(arguments)},t._hjSettings={hjid:301739,hjsv:6},s=h.getElementsByTagName(\"head\")[0],(n=h.createElement(\"script\")).async=1,n.src=\"https://static.hotjar.com/c/hotjar-\"+t._hjSettings.hjid+\".js?sv=\"+t._hjSettings.hjsv,s.appendChild(n)}(window,document)!function(e){function f(f){for(var d,t,n=f[0],o=f[1],b=f[2],u=0,l=[];u<n.length;u++)t=n[u],Object.prototype.hasOwnProperty.call(a,t)&&a[t]&&l.push(a[t][0]),a[t]=0;for(d in o)Object.prototype.hasOwnProperty.call(o,d)&&(e[d]=o[d]);for(i&&i(f);l.length;)l.shift()();return r.push.apply(r,b||[]),c()}function c(){for(var e,f=0;f<r.length;f++){for(var c=r[f],d=!0,t=1;t<c.length;t++){var o=c[t];0!==a[o]&&(d=!1)}d&&(r.splice(f--,1),e=n(n.s=c[0]))}return e}var d={},t={18:0},a={18:0},r=[];function n(f){if(d[f])return d[f].exports;var c=d[f]={i:f,l:!1,exports:{}};return e[f].call(c.exports,c,c.exports,n),c.l=!0,c.exports}n.e=function(e){var f=[];t[e]?f.push(t[e]):0!==t[e]&&{11:1,15:1,20:1,21:1,22:1,23:1,25:1,30:1,37:1,39:1,46:1,50:1,51:1,52:1,60:1,61:1,62:1,71:1,86:1,90:1,101:1,122:1}[e]&&f.push(t[e]=new Promise((function(f,c){for(var d=\"static/css/\"+({}[e]||e)+\".\"+{0:\"31d6cfe0\",1:\"31d6cfe0\",2:\"31d6cfe0\",3:\"31d6cfe0\",4:\"31d6cfe0\",5:\"31d6cfe0\",6:\"31d6cfe0\",7:\"31d6cfe0\",8:\"31d6cfe0\",9:\"31d6cfe0\",10:\"31d6cfe0\",11:\"5262706b\",12:\"31d6cfe0\",13:\"31d6cfe0\",14:\"31d6cfe0\",15:\"581845f8\",16:\"31d6cfe0\",20:\"5262706b\",21:\"5262706b\",22:\"5262706b\",23:\"f6fdf601\",24:\"31d6cfe0\",25:\"33e0f926\",26:\"31d6cfe0\",27:\"31d6cfe0\",28:\"31d6cfe0\",29:\"31d6cfe0\",30:\"5262706b\",31:\"31d6cfe0\",32:\"31d6cfe0\",33:\"31d6cfe0\",34:\"31d6cfe0\",35:\"31d6cfe0\",36:\"31d6cfe0\",37:\"f6fdf601\",38:\"31d6cfe0\",39:\"5262706b\",40:\"31d6cfe0\",41:\"31d6cfe0\",42:\"31d6cfe0\",43:\"31d6cfe0\",44:\"31d6cfe0\",45:\"31d6cfe0\",46:\"581845f8\",47:\"31d6cfe0\",48:\"31d6cfe0\",49:\"31d6cfe0\",50:\"581845f8\",51:\"f6fdf601\",52:\"5262706b\",53:\"31d6cfe0\",54:\"31d6cfe0\",55:\"31d6cfe0\",56:\"31d6cfe0\",57:\"31d6cfe0\",58:\"31d6cfe0\",59:\"31d6cfe0\",60:\"f6fdf601\",61:\"f6fdf601\",62:\"f6fdf601\",63:\"31d6cfe0\",64:\"31d6cfe0\",65:\"31d6cfe0\",66:\"31d6cfe0\",67:\"31d6cfe0\",68:\"31d6cfe0\",69:\"31d6cfe0\",70:\"31d6cfe0\",71:\"c70c5ee7\",72:\"31d6cfe0\",73:\"31d6cfe0\",74:\"31d6cfe0\",75:\"31d6cfe0\",76:\"31d6cfe0\",77:\"31d6cfe0\",78:\"31d6cfe0\",79:\"31d6cfe0\",80:\"31d6cfe0\",81:\"31d6cfe0\",82:\"31d6cfe0\",83:\"31d6cfe0\",84:\"31d6cfe0\",85:\"31d6cfe0\",86:\"61e64c6e\",87:\"31d6cfe0\",88:\"31d6cfe0\",89:\"31d6cfe0\",90:\"9b987f77\",91:\"31d6cfe0\",92:\"31d6cfe0\",93:\"31d6cfe0\",94:\"31d6cfe0\",95:\"31d6cfe0\",96:\"31d6cfe0\",97:\"31d6cfe0\",98:\"31d6cfe0\",99:\"31d6cfe0\",100:\"31d6cfe0\",101:\"f6fdf601\",102:\"31d6cfe0\",103:\"31d6cfe0\",104:\"31d6cfe0\",105:\"31d6cfe0\",106:\"31d6cfe0\",107:\"31d6cfe0\",108:\"31d6cfe0\",109:\"31d6cfe0\",110:\"31d6cfe0\",111:\"31d6cfe0\",112:\"31d6cfe0\",113:\"31d6cfe0\",114:\"31d6cfe0\",115:\"31d6cfe0\",116:\"31d6cfe0\",117:\"31d6cfe0\",118:\"31d6cfe0\",119:\"31d6cfe0\",120:\"31d6cfe0\",121:\"31d6cfe0\",122:\"746ed336\",123:\"31d6cfe0\",124:\"31d6cfe0\",125:\"31d6cfe0\",126:\"31d6cfe0\",127:\"31d6cfe0\",128:\"31d6cfe0\",129:\"31d6cfe0\",130:\"31d6cfe0\",131:\"31d6cfe0\",132:\"31d6cfe0\",133:\"31d6cfe0\",134:\"31d6cfe0\",135:\"31d6cfe0\",136:\"31d6cfe0\",137:\"31d6cfe0\",138:\"31d6cfe0\",139:\"31d6cfe0\",140:\"31d6cfe0\",141:\"31d6cfe0\",142:\"31d6cfe0\"}[e]+\".chunk.css\",a=n.p+d,r=document.getElementsByTagName(\"link\"),o=0;o<r.length;o++){var b=(i=r[o]).getAttribute(\"data-href\")||i.getAttribute(\"href\");if(\"stylesheet\"===i.rel&&(b===d||b===a))return f()}var u=document.getElementsByTagName(\"style\");for(o=0;o<u.length;o++){var i;if((b=(i=u[o]).getAttribute(\"data-href\"))===d||b===a)return f()}var l=document.createElement(\"link\");l.rel=\"stylesheet\",l.type=\"text/css\",l.onload=f,l.onerror=function(f){var d=f&&f.target&&f.target.src||a,r=new Error(\"Loading CSS chunk \"+e+\" failed.\\\\n(\"+d+\")\");r.code=\"CSS_CHUNK_LOAD_FAILED\",r.request=d,delete t[e],l.parentNode.removeChild(l),c(r)},l.href=a,document.getElementsByTagName(\"head\")[0].appendChild(l)})).then((function(){t[e]=0})));var c=a[e];if(0!==c)if(c)f.push(c[2]);else{var d=new Promise((function(f,d){c=a[e]=[f,d]}));f.push(c[2]=d);var r,o=document.createElement(\"script\");o.charset=\"utf-8\",o.timeout=120,n.nc&&o.setAttribute(\"nonce\",n.nc),o.src=function(e){return n.p+\"static/js/\"+({}[e]||e)+\".\"+{0:\"b626601c\",1:\"a1b9f29b\",2:\"98ca1be4\",3:\"5a8b8f86\",4:\"27f0130c\",5:\"98739748\",6:\"81ec85d3\",7:\"9a3afa6e\",8:\"27b08c4d\",9:\"3141aa80\",10:\"f7ba9b50\",11:\"b45692ae\",12:\"4d4ce3f8\",13:\"751fec45\",14:\"efd6b262\",15:\"788d4197\",16:\"5af09295\",20:\"32c92923\",21:\"01a63894\",22:\"a4525dd0\",23:\"72dd0457\",24:\"5e6b3222\",25:\"c464a1c3\",26:\"d0bea1ec\",27:\"74c37b24\",28:\"55fceecd\",29:\"512f4476\",30:\"dd8e058e\",31:\"a8f48c4d\",32:\"f115a5c0\",33:\"0e5ba9b8\",34:\"f4c3e64b\",35:\"3e76e7cd\",36:\"549614ac\",37:\"9bc73bb5\",38:\"2409636d\",39:\"6c8ba07f\",40:\"6acc16c7\",41:\"9af32221\",42:\"b4bf6a37\",43:\"d6e39f85\",44:\"8395620d\",45:\"ffdf34f9\",46:\"6f434f8a\",47:\"f55f80ed\",48:\"275f57ca\",49:\"5a0d9622\",50:\"f895179b\",51:\"50c128f5\",52:\"e1b8ad83\",53:\"495de791\",54:\"f6e91b57\",55:\"4fdf0a8f\",56:\"1d0c9d77\",57:\"be47a1c8\",58:\"85e50cb4\",59:\"4f74d6f2\",60:\"6cda974f\",61:\"a7b364fb\",62:\"94ac8de0\",63:\"190ffb60\",64:\"0a8b8adc\",65:\"e22fa282\",66:\"e674adae\",67:\"31db9d08\",68:\"a413037c\",69:\"c6633e31\",70:\"785cdea0\",71:\"278eaa9c\",72:\"091b2a38\",73:\"0188553a\",74:\"69f5d623\",75:\"2ec6c84c\",76:\"702dbb33\",77:\"606b745e\",78:\"6d79363d\",79:\"fe34f40b\",80:\"aaf19c13\",81:\"0ff59ea0\",82:\"a1a34ddc\",83:\"5528e502\",84:\"9c0d2017\",85:\"e842964e\",86:\"43fba566\",87:\"4f9f2ccd\",88:\"ebc7bd3d\",89:\"4e83ec0b\",90:\"fc6d002f\",91:\"b38a4262\",92:\"078a180f\",93:\"782e03bc\",94:\"c2716eb0\",95:\"a04988a6\",96:\"8cbc78e7\",97:\"40d5365a\",98:\"d19d3387\",99:\"ede973ff\",100:\"6a64fb2f\",101:\"6ccb7e42\",102:\"c2918422\",103:\"207b4023\",104:\"d9fd52d7\",105:\"719e0e86\",106:\"cd52df97\",107:\"6954a0f7\",108:\"a27a47af\",109:\"d26c3cd1\",110:\"8ff4fe54\",111:\"8c054d71\",112:\"997c7535\",113:\"6d0fed10\",114:\"75e72d24\",115:\"aac33af7\",116:\"dfd957c4\",117:\"4bb0aaf4\",118:\"120832f2\",119:\"acb3b1d6\",120:\"d836e1fd\",121:\"407ce5d2\",122:\"45d3c7ac\",123:\"c281e5e3\",124:\"aac12830\",125:\"632dc807\",126:\"ea54206a\",127:\"fc180e5c\",128:\"6543585b\",129:\"05fa9d46\",130:\"c828f8c6\",131:\"24a50ee4\",132:\"da93feb4\",133:\"f751e6a9\",134:\"80f9a6e3\",135:\"7cea5571\",136:\"9f2520e0\",137:\"f2723e86\",138:\"757f1b8d\",139:\"72c7af46\",140:\"8213d7fb\",141:\"445005c0\",142:\"b086b56e\"}[e]+\".chunk.js\"}(e);var b=new Error;r=function(f){o.onerror=o.onload=null,clearTimeout(u);var c=a[e];if(0!==c){if(c){var d=f&&(\"load\"===f.type?\"missing\":f.type),t=f&&f.target&&f.target.src;b.message=\"Loading chunk \"+e+\" failed.\\\\n(\"+d+\": \"+t+\")\",b.name=\"ChunkLoadError\",b.type=d,b.request=t,c[1](b)}a[e]=void 0}};var u=setTimeout((function(){r({type:\"timeout\",target:o})}),12e4);o.onerror=o.onload=r,document.head.appendChild(o)}return Promise.all(f)},n.m=e,n.c=d,n.d=function(e,f,c){n.o(e,f)||Object.defineProperty(e,f,{enumerable:!0,get:c})},n.r=function(e){\"undefined\"!=typeof Symbol&&Symbol.toStringTag&&Object.defineProperty(e,Symbol.toStringTag,{value:\"Module\"}),Object.defineProperty(e,\"__esModule\",{value:!0})},n.t=function(e,f){if(1&f&&(e=n(e)),8&f)return e;if(4&f&&\"object\"==typeof e&&e&&e.__esModule)return e;var c=Object.create(null);if(n.r(c),Object.defineProperty(c,\"default\",{enumerable:!0,value:e}),2&f&&\"string\"!=typeof e)for(var d in e)n.d(c,d,function(f){return e[f]}.bind(null,d));return c},n.n=function(e){var f=e&&e.__esModule?function(){return e.default}:function(){return e};return n.d(f,\"a\",f),f},n.o=function(e,f){return Object.prototype.hasOwnProperty.call(e,f)},n.p=\"https://hahow.in/\",n.oe=function(e){throw console.error(e),e};var o=this[\"webpackJsonphh-frontend-react\"]=this[\"webpackJsonphh-frontend-react\"]||[],b=o.push.bind(o);o.push=f,o=o.slice();for(var u=0;u<o.length;u++)f(o[u]);var i=b;c()}([])'"
      ]
     },
     "execution_count": 1,
     "metadata": {},
     "output_type": "execute_result"
    }
   ],
   "source": [
    "import requests\n",
    "from bs4 import BeautifulSoup\n",
    "\n",
    "r = requests.get(\"https://hahow.in/courses\")\n",
    "d = BeautifulSoup(r.text, 'lxml')\n",
    "\n",
    "d.body.text\n",
    "# 只會爬蟲 JavaScript 語法，沒有網頁內容中的資料"
   ]
  },
  {
   "cell_type": "markdown",
   "metadata": {},
   "source": [
    "## 動態模擬瀏覽器行為"
   ]
  },
  {
   "cell_type": "code",
   "execution_count": 2,
   "metadata": {
    "ExecuteTime": {
     "end_time": "2020-12-21T03:03:55.656426Z",
     "start_time": "2020-12-21T03:03:55.598810Z"
    }
   },
   "outputs": [],
   "source": [
    "from selenium import webdriver\n",
    "from selenium.webdriver.support.ui import Select\n",
    "from bs4 import BeautifulSoup"
   ]
  },
  {
   "cell_type": "code",
   "execution_count": 6,
   "metadata": {
    "ExecuteTime": {
     "end_time": "2020-12-21T03:07:03.352062Z",
     "start_time": "2020-12-21T03:06:55.683397Z"
    }
   },
   "outputs": [],
   "source": [
    "# 使用 chromedriver 輸入網址後驅動瀏覽器\n",
    "browser = webdriver.Chrome(executable_path='../chromedriver/chromedriver')\n",
    "browser.get(\"https://hahow.in/courses\")"
   ]
  },
  {
   "cell_type": "code",
   "execution_count": 9,
   "metadata": {
    "ExecuteTime": {
     "end_time": "2020-12-21T03:07:26.267842Z",
     "start_time": "2020-12-21T03:07:26.246023Z"
    },
    "scrolled": true
   },
   "outputs": [
    {
     "ename": "NoSuchWindowException",
     "evalue": "Message: no such window: window was already closed\n  (Session info: chrome=87.0.4280.88)\n",
     "output_type": "error",
     "traceback": [
      "\u001b[0;31m---------------------------------------------------------------------------\u001b[0m",
      "\u001b[0;31mNoSuchWindowException\u001b[0m                     Traceback (most recent call last)",
      "\u001b[0;32m<ipython-input-9-67efeb339cf9>\u001b[0m in \u001b[0;36m<module>\u001b[0;34m\u001b[0m\n\u001b[1;32m      1\u001b[0m \u001b[0;31m# 取得資料（等瀏覽器資料出現後才執行）\u001b[0m\u001b[0;34m\u001b[0m\u001b[0;34m\u001b[0m\u001b[0;34m\u001b[0m\u001b[0m\n\u001b[0;32m----> 2\u001b[0;31m \u001b[0mhtml_source\u001b[0m \u001b[0;34m=\u001b[0m \u001b[0mbrowser\u001b[0m\u001b[0;34m.\u001b[0m\u001b[0mpage_source\u001b[0m\u001b[0;34m\u001b[0m\u001b[0;34m\u001b[0m\u001b[0m\n\u001b[0m\u001b[1;32m      3\u001b[0m \u001b[0mhtml_source\u001b[0m\u001b[0;34m\u001b[0m\u001b[0;34m\u001b[0m\u001b[0m\n",
      "\u001b[0;32m~/opt/anaconda3/lib/python3.7/site-packages/selenium/webdriver/remote/webdriver.py\u001b[0m in \u001b[0;36mpage_source\u001b[0;34m(self)\u001b[0m\n\u001b[1;32m    677\u001b[0m             \u001b[0mdriver\u001b[0m\u001b[0;34m.\u001b[0m\u001b[0mpage_source\u001b[0m\u001b[0;34m\u001b[0m\u001b[0;34m\u001b[0m\u001b[0m\n\u001b[1;32m    678\u001b[0m         \"\"\"\n\u001b[0;32m--> 679\u001b[0;31m         \u001b[0;32mreturn\u001b[0m \u001b[0mself\u001b[0m\u001b[0;34m.\u001b[0m\u001b[0mexecute\u001b[0m\u001b[0;34m(\u001b[0m\u001b[0mCommand\u001b[0m\u001b[0;34m.\u001b[0m\u001b[0mGET_PAGE_SOURCE\u001b[0m\u001b[0;34m)\u001b[0m\u001b[0;34m[\u001b[0m\u001b[0;34m'value'\u001b[0m\u001b[0;34m]\u001b[0m\u001b[0;34m\u001b[0m\u001b[0;34m\u001b[0m\u001b[0m\n\u001b[0m\u001b[1;32m    680\u001b[0m \u001b[0;34m\u001b[0m\u001b[0m\n\u001b[1;32m    681\u001b[0m     \u001b[0;32mdef\u001b[0m \u001b[0mclose\u001b[0m\u001b[0;34m(\u001b[0m\u001b[0mself\u001b[0m\u001b[0;34m)\u001b[0m\u001b[0;34m:\u001b[0m\u001b[0;34m\u001b[0m\u001b[0;34m\u001b[0m\u001b[0m\n",
      "\u001b[0;32m~/opt/anaconda3/lib/python3.7/site-packages/selenium/webdriver/remote/webdriver.py\u001b[0m in \u001b[0;36mexecute\u001b[0;34m(self, driver_command, params)\u001b[0m\n\u001b[1;32m    319\u001b[0m         \u001b[0mresponse\u001b[0m \u001b[0;34m=\u001b[0m \u001b[0mself\u001b[0m\u001b[0;34m.\u001b[0m\u001b[0mcommand_executor\u001b[0m\u001b[0;34m.\u001b[0m\u001b[0mexecute\u001b[0m\u001b[0;34m(\u001b[0m\u001b[0mdriver_command\u001b[0m\u001b[0;34m,\u001b[0m \u001b[0mparams\u001b[0m\u001b[0;34m)\u001b[0m\u001b[0;34m\u001b[0m\u001b[0;34m\u001b[0m\u001b[0m\n\u001b[1;32m    320\u001b[0m         \u001b[0;32mif\u001b[0m \u001b[0mresponse\u001b[0m\u001b[0;34m:\u001b[0m\u001b[0;34m\u001b[0m\u001b[0;34m\u001b[0m\u001b[0m\n\u001b[0;32m--> 321\u001b[0;31m             \u001b[0mself\u001b[0m\u001b[0;34m.\u001b[0m\u001b[0merror_handler\u001b[0m\u001b[0;34m.\u001b[0m\u001b[0mcheck_response\u001b[0m\u001b[0;34m(\u001b[0m\u001b[0mresponse\u001b[0m\u001b[0;34m)\u001b[0m\u001b[0;34m\u001b[0m\u001b[0;34m\u001b[0m\u001b[0m\n\u001b[0m\u001b[1;32m    322\u001b[0m             response['value'] = self._unwrap_value(\n\u001b[1;32m    323\u001b[0m                 response.get('value', None))\n",
      "\u001b[0;32m~/opt/anaconda3/lib/python3.7/site-packages/selenium/webdriver/remote/errorhandler.py\u001b[0m in \u001b[0;36mcheck_response\u001b[0;34m(self, response)\u001b[0m\n\u001b[1;32m    240\u001b[0m                 \u001b[0malert_text\u001b[0m \u001b[0;34m=\u001b[0m \u001b[0mvalue\u001b[0m\u001b[0;34m[\u001b[0m\u001b[0;34m'alert'\u001b[0m\u001b[0;34m]\u001b[0m\u001b[0;34m.\u001b[0m\u001b[0mget\u001b[0m\u001b[0;34m(\u001b[0m\u001b[0;34m'text'\u001b[0m\u001b[0;34m)\u001b[0m\u001b[0;34m\u001b[0m\u001b[0;34m\u001b[0m\u001b[0m\n\u001b[1;32m    241\u001b[0m             \u001b[0;32mraise\u001b[0m \u001b[0mexception_class\u001b[0m\u001b[0;34m(\u001b[0m\u001b[0mmessage\u001b[0m\u001b[0;34m,\u001b[0m \u001b[0mscreen\u001b[0m\u001b[0;34m,\u001b[0m \u001b[0mstacktrace\u001b[0m\u001b[0;34m,\u001b[0m \u001b[0malert_text\u001b[0m\u001b[0;34m)\u001b[0m\u001b[0;34m\u001b[0m\u001b[0;34m\u001b[0m\u001b[0m\n\u001b[0;32m--> 242\u001b[0;31m         \u001b[0;32mraise\u001b[0m \u001b[0mexception_class\u001b[0m\u001b[0;34m(\u001b[0m\u001b[0mmessage\u001b[0m\u001b[0;34m,\u001b[0m \u001b[0mscreen\u001b[0m\u001b[0;34m,\u001b[0m \u001b[0mstacktrace\u001b[0m\u001b[0;34m)\u001b[0m\u001b[0;34m\u001b[0m\u001b[0;34m\u001b[0m\u001b[0m\n\u001b[0m\u001b[1;32m    243\u001b[0m \u001b[0;34m\u001b[0m\u001b[0m\n\u001b[1;32m    244\u001b[0m     \u001b[0;32mdef\u001b[0m \u001b[0m_value_or_default\u001b[0m\u001b[0;34m(\u001b[0m\u001b[0mself\u001b[0m\u001b[0;34m,\u001b[0m \u001b[0mobj\u001b[0m\u001b[0;34m,\u001b[0m \u001b[0mkey\u001b[0m\u001b[0;34m,\u001b[0m \u001b[0mdefault\u001b[0m\u001b[0;34m)\u001b[0m\u001b[0;34m:\u001b[0m\u001b[0;34m\u001b[0m\u001b[0;34m\u001b[0m\u001b[0m\n",
      "\u001b[0;31mNoSuchWindowException\u001b[0m: Message: no such window: window was already closed\n  (Session info: chrome=87.0.4280.88)\n"
     ]
    }
   ],
   "source": [
    "# 取得資料（等瀏覽器資料出現後才執行）\n",
    "html_source = browser.page_source\n",
    "html_source"
   ]
  },
  {
   "cell_type": "code",
   "execution_count": 8,
   "metadata": {
    "ExecuteTime": {
     "end_time": "2020-12-21T03:07:15.549952Z",
     "start_time": "2020-12-21T03:07:15.397974Z"
    },
    "scrolled": true
   },
   "outputs": [
    {
     "data": {
      "text/plain": [
       "'日新麥克筆魔法：十支筆創造新視界－慕夏篇'"
      ]
     },
     "execution_count": 8,
     "metadata": {},
     "output_type": "execute_result"
    }
   ],
   "source": [
    "# 取得資料\n",
    "html_source = browser.page_source\n",
    "\n",
    "soup = BeautifulSoup(html_source, 'html.parser')\n",
    "soup.find('h4', class_='title').text\n",
    "# 改用 selenium 就可以正常取得"
   ]
  },
  {
   "cell_type": "markdown",
   "metadata": {},
   "source": [
    "## 作業目標\n",
    "\n",
    "* 1. 請試著利用 Selenium 開啟 Google 網頁，不要關掉。\n",
    "* 2. 請利用剛剛開啟的瀏覽器，切換到 這個網址 網頁，取得內文。（URL: https://www.cupoy.com/clubnews/ai_tw/0000016E62FB84E4000000026375706F795F72656C656173654B5741535354434C5542/0000016F69B5DB8C000000266375706F795F72656C656173654B5741535354434C55424E455753 ）\n",
    "* 3. 將瀏覽器關閉\n"
   ]
  },
  {
   "cell_type": "code",
   "execution_count": null,
   "metadata": {},
   "outputs": [],
   "source": []
  }
 ],
 "metadata": {
  "kernelspec": {
   "display_name": "Python 3",
   "language": "python",
   "name": "python3"
  },
  "language_info": {
   "codemirror_mode": {
    "name": "ipython",
    "version": 3
   },
   "file_extension": ".py",
   "mimetype": "text/x-python",
   "name": "python",
   "nbconvert_exporter": "python",
   "pygments_lexer": "ipython3",
   "version": "3.7.4"
  },
  "toc": {
   "base_numbering": 1,
   "nav_menu": {},
   "number_sections": true,
   "sideBar": true,
   "skip_h1_title": false,
   "title_cell": "Table of Contents",
   "title_sidebar": "Contents",
   "toc_cell": true,
   "toc_position": {},
   "toc_section_display": true,
   "toc_window_display": true
  }
 },
 "nbformat": 4,
 "nbformat_minor": 2
}
