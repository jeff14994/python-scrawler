{
 "cells": [
  {
   "cell_type": "markdown",
   "metadata": {
    "toc": true
   },
   "source": [
    "<h1>Table of Contents<span class=\"tocSkip\"></span></h1>\n",
    "<div class=\"toc\"><ul class=\"toc-item\"><li><span><a href=\"#API-資料串接---以-知乎-API-實作範例\" data-toc-modified-id=\"API-資料串接---以-知乎-API-實作範例-1\"><span class=\"toc-item-num\">1&nbsp;&nbsp;</span>API 資料串接 - 以 知乎 API 實作範例</a></span><ul class=\"toc-item\"><li><span><a href=\"#作業目標\" data-toc-modified-id=\"作業目標-1.1\"><span class=\"toc-item-num\">1.1&nbsp;&nbsp;</span>作業目標</a></span><ul class=\"toc-item\"><li><span><a href=\"#1.-取出知乎問題發問時間\" data-toc-modified-id=\"1.-取出知乎問題發問時間-1.1.1\"><span class=\"toc-item-num\">1.1.1&nbsp;&nbsp;</span>1. 取出知乎問題發問時間</a></span></li><li><span><a href=\"#2.-取出第一筆與最後一筆回答的時間\" data-toc-modified-id=\"2.-取出第一筆與最後一筆回答的時間-1.1.2\"><span class=\"toc-item-num\">1.1.2&nbsp;&nbsp;</span>2. 取出第一筆與最後一筆回答的時間</a></span></li></ul></li></ul></li></ul></div>"
   ]
  },
  {
   "cell_type": "markdown",
   "metadata": {},
   "source": [
    "# API 資料串接 - 以 知乎 API 實作範例\n",
    "\n",
    "\n",
    "\n",
    "* 了解知乎 API 使用方式與回傳內容\n",
    "* 撰寫程式存取 API 且添加標頭\n",
    "\n",
    "\n"
   ]
  },
  {
   "cell_type": "markdown",
   "metadata": {},
   "source": [
    "## 作業目標\n",
    "\n",
    "* 根據範例提供的 API ，完成以下問題：\n",
    "\n",
    "    1. 取出知乎問題發問時間\n",
    "    2. 取出第一筆與最後一筆回答的時間\n"
   ]
  },
  {
   "cell_type": "markdown",
   "metadata": {},
   "source": [
    "### 1. 取出知乎問題發問時間"
   ]
  },
  {
   "cell_type": "code",
   "execution_count": 36,
   "metadata": {
    "ExecuteTime": {
     "end_time": "2020-12-08T05:08:34.398092Z",
     "start_time": "2020-12-08T05:08:33.889156Z"
    },
    "scrolled": false
   },
   "outputs": [],
   "source": [
    "# 1. 取出知乎問題發問時間\n",
    "import requests\n",
    "import json\n",
    "headers = {\"user-agent\": 'my-app/0.0.1'}\n",
    "response = requests.get('https://www.zhihu.com/api/v4/questions/55493026/answers', headers=headers)\n",
    "response_content = response.text\n",
    "# 格式化，將其美化\n",
    "# response.json()\n",
    "data = json.loads(response_content)"
   ]
  },
  {
   "cell_type": "code",
   "execution_count": 34,
   "metadata": {
    "ExecuteTime": {
     "end_time": "2020-12-08T05:08:26.117494Z",
     "start_time": "2020-12-08T05:08:26.113470Z"
    }
   },
   "outputs": [
    {
     "name": "stdout",
     "output_type": "stream",
     "text": [
      "1486390229\n"
     ]
    }
   ],
   "source": [
    "# 取 key 是 data 的資料\n",
    "# question_time = data['data']\n",
    "# 取 data 的第一筆資料\n",
    "# question_time = data['data'][0]\n",
    "# 取 data 的第一筆資料的 question 欄位\n",
    "# question_time = data['data'][0]['question']\n",
    "question_time = data['data'][0]['question']['created']\n",
    "print(question_time)"
   ]
  },
  {
   "cell_type": "code",
   "execution_count": 35,
   "metadata": {
    "ExecuteTime": {
     "end_time": "2020-12-08T05:08:28.268938Z",
     "start_time": "2020-12-08T05:08:28.265233Z"
    }
   },
   "outputs": [
    {
     "name": "stdout",
     "output_type": "stream",
     "text": [
      "2017-02-06 22:10:29\n"
     ]
    }
   ],
   "source": [
    "# 將 Timestamp 轉成時間\n",
    "from datetime import datetime\n",
    "question_time_date = datetime.fromtimestamp(question_time)\n",
    "print(question_time_date)"
   ]
  },
  {
   "cell_type": "markdown",
   "metadata": {},
   "source": [
    "### 2. 取出第一筆與最後一筆回答的時間"
   ]
  },
  {
   "cell_type": "code",
   "execution_count": 33,
   "metadata": {
    "ExecuteTime": {
     "end_time": "2020-12-08T05:07:37.493735Z",
     "start_time": "2020-12-08T05:07:37.489629Z"
    },
    "scrolled": false
   },
   "outputs": [],
   "source": [
    "# 2. 取出第一筆與最後一筆回答的時間\n",
    "# 使用 time 進行轉換(https://tinyurl.com/y45tv3np)\n",
    "import time\n",
    "# readable = time.ctime(timestamp)\n",
    "data = json.loads(response_content)"
   ]
  },
  {
   "cell_type": "code",
   "execution_count": 31,
   "metadata": {
    "ExecuteTime": {
     "end_time": "2020-12-08T05:07:25.142822Z",
     "start_time": "2020-12-08T05:07:25.139667Z"
    }
   },
   "outputs": [
    {
     "name": "stdout",
     "output_type": "stream",
     "text": [
      "[1554085028, 1557824412, 1585227854, 1493693113, 1604942938]\n"
     ]
    }
   ],
   "source": [
    "# 查看一下，發現文章並非依照時間排序\n",
    "create_time_list = []\n",
    "for d in data['data']:\n",
    "    create_time_list.append(d['created_time'])\n",
    "print(create_time_list)"
   ]
  },
  {
   "cell_type": "code",
   "execution_count": 32,
   "metadata": {
    "ExecuteTime": {
     "end_time": "2020-12-08T05:07:31.862722Z",
     "start_time": "2020-12-08T05:07:31.857899Z"
    }
   },
   "outputs": [
    {
     "name": "stdout",
     "output_type": "stream",
     "text": [
      "第一筆時間： Tue May  2 10:45:13 2017\n",
      "最後一筆時間：Tue Nov 10 01:28:58 2020\n"
     ]
    }
   ],
   "source": [
    "# 取出第一個資料\n",
    "first_answer_time = data['data'][0]['created_time']\n",
    "latest_answer_time = 0\n",
    "# print(first_answer_time)\n",
    "# 取出第一筆與最後一筆時間(排序)\n",
    "for d in create_time_list:\n",
    "    if(d < first_answer_time):\n",
    "        first_answer_time = d\n",
    "    if(d > latest_answer_time):\n",
    "        latest_answer_time = d\n",
    "print(\"第一筆時間： %s\"%time.ctime(first_answer_time))\n",
    "print(\"最後一筆時間：%s\"%time.ctime(latest_answer_time))"
   ]
  }
 ],
 "metadata": {
  "kernelspec": {
   "display_name": "Python 3",
   "language": "python",
   "name": "python3"
  },
  "language_info": {
   "codemirror_mode": {
    "name": "ipython",
    "version": 3
   },
   "file_extension": ".py",
   "mimetype": "text/x-python",
   "name": "python",
   "nbconvert_exporter": "python",
   "pygments_lexer": "ipython3",
   "version": "3.7.4"
  },
  "toc": {
   "base_numbering": 1,
   "nav_menu": {},
   "number_sections": true,
   "sideBar": true,
   "skip_h1_title": false,
   "title_cell": "Table of Contents",
   "title_sidebar": "Contents",
   "toc_cell": true,
   "toc_position": {},
   "toc_section_display": true,
   "toc_window_display": true
  }
 },
 "nbformat": 4,
 "nbformat_minor": 2
}
