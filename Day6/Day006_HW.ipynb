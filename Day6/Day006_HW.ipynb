{
 "cells": [
  {
   "cell_type": "markdown",
   "metadata": {
    "toc": true
   },
   "source": [
    "<h1>Table of Contents<span class=\"tocSkip\"></span></h1>\n",
    "<div class=\"toc\"><ul class=\"toc-item\"><li><span><a href=\"#API-資料串接---以-知乎-API-實作範例\" data-toc-modified-id=\"API-資料串接---以-知乎-API-實作範例-1\"><span class=\"toc-item-num\">1&nbsp;&nbsp;</span>API 資料串接 - 以 知乎 API 實作範例</a></span><ul class=\"toc-item\"><li><span><a href=\"#作業目標\" data-toc-modified-id=\"作業目標-1.1\"><span class=\"toc-item-num\">1.1&nbsp;&nbsp;</span>作業目標</a></span><ul class=\"toc-item\"><li><span><a href=\"#1.-取出知乎問題發問時間\" data-toc-modified-id=\"1.-取出知乎問題發問時間-1.1.1\"><span class=\"toc-item-num\">1.1.1&nbsp;&nbsp;</span>1. 取出知乎問題發問時間</a></span></li><li><span><a href=\"#2.-取出第一筆與最後一筆回答的時間\" data-toc-modified-id=\"2.-取出第一筆與最後一筆回答的時間-1.1.2\"><span class=\"toc-item-num\">1.1.2&nbsp;&nbsp;</span>2. 取出第一筆與最後一筆回答的時間</a></span></li></ul></li></ul></li></ul></div>"
   ]
  },
  {
   "cell_type": "markdown",
   "metadata": {},
   "source": [
    "# API 資料串接 - 以 知乎 API 實作範例\n",
    "\n",
    "\n",
    "\n",
    "* 了解知乎 API 使用方式與回傳內容\n",
    "* 撰寫程式存取 API 且添加標頭\n",
    "\n",
    "\n"
   ]
  },
  {
   "cell_type": "markdown",
   "metadata": {},
   "source": [
    "## 作業目標\n",
    "\n",
    "* 根據範例提供的 API ，完成以下問題：\n",
    "\n",
    "    1. 取出知乎問題發問時間\n",
    "    2. 取出第一筆與最後一筆回答的時間\n"
   ]
  },
  {
   "cell_type": "markdown",
   "metadata": {},
   "source": [
    "### 1. 取出知乎問題發問時間"
   ]
  },
  {
   "cell_type": "code",
   "execution_count": 19,
   "metadata": {
    "ExecuteTime": {
     "end_time": "2020-12-08T04:12:14.726095Z",
     "start_time": "2020-12-08T04:12:14.219757Z"
    }
   },
   "outputs": [
    {
     "name": "stdout",
     "output_type": "stream",
     "text": [
      "1554085028\n",
      "1557824412\n",
      "1585227854\n",
      "1493693113\n",
      "1604942938\n"
     ]
    }
   ],
   "source": [
    "# 1. 取出知乎問題發問時間\n",
    "import requests\n",
    "import json\n",
    "headers = {\"user-agent\": 'my-app/0.0.1'}\n",
    "response = requests.get('https://www.zhihu.com/api/v4/questions/55493026/answers', headers=headers)\n",
    "response_content = response.text\n",
    "# 格式化，將其美化\n",
    "response.json()\n",
    "data = json.loads(response_content)\n",
    "for d in data['data']:\n",
    "    print(d['created_time'])\n"
   ]
  },
  {
   "cell_type": "markdown",
   "metadata": {},
   "source": [
    "### 2. 取出第一筆與最後一筆回答的時間"
   ]
  },
  {
   "cell_type": "code",
   "execution_count": 47,
   "metadata": {
    "ExecuteTime": {
     "end_time": "2020-12-08T04:35:29.066605Z",
     "start_time": "2020-12-08T04:35:29.059585Z"
    }
   },
   "outputs": [
    {
     "name": "stdout",
     "output_type": "stream",
     "text": [
      "第一筆時間： Mon Apr  1 10:17:08 2019\n",
      "最後一筆時間：Tue Nov 10 01:28:58 2020\n"
     ]
    }
   ],
   "source": [
    "# 2. 取出第一筆與最後一筆回答的時間\n",
    "# 使用 time 進行轉換(https://tinyurl.com/y45tv3np)\n",
    "import time\n",
    "# readable = time.ctime(timestamp)\n",
    "data = json.loads(response_content)\n",
    "create_time_list = []\n",
    "for d in data['data']:\n",
    "    create_time_list.append(d['created_time'])\n",
    "\n",
    "print(\"第一筆時間： %s\"%time.ctime(create_time_list[0]))\n",
    "print(\"最後一筆時間：%s\"%time.ctime(create_time_list[-1]))\n",
    "   "
   ]
  }
 ],
 "metadata": {
  "kernelspec": {
   "display_name": "Python 3",
   "language": "python",
   "name": "python3"
  },
  "language_info": {
   "codemirror_mode": {
    "name": "ipython",
    "version": 3
   },
   "file_extension": ".py",
   "mimetype": "text/x-python",
   "name": "python",
   "nbconvert_exporter": "python",
   "pygments_lexer": "ipython3",
   "version": "3.7.4"
  },
  "toc": {
   "base_numbering": 1,
   "nav_menu": {},
   "number_sections": true,
   "sideBar": true,
   "skip_h1_title": false,
   "title_cell": "Table of Contents",
   "title_sidebar": "Contents",
   "toc_cell": true,
   "toc_position": {},
   "toc_section_display": true,
   "toc_window_display": true
  }
 },
 "nbformat": 4,
 "nbformat_minor": 2
}
