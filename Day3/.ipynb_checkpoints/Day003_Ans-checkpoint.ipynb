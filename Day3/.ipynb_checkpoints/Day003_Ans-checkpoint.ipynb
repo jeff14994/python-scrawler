{
 "cells": [
  {
   "cell_type": "markdown",
   "metadata": {
    "toc": true
   },
   "source": [
    "<h1>Table of Contents<span class=\"tocSkip\"></span></h1>\n",
    "<div class=\"toc\"><ul class=\"toc-item\"><li><span><a href=\"#Python-下載XML檔案與解析\" data-toc-modified-id=\"Python-下載XML檔案與解析-1\"><span class=\"toc-item-num\">1&nbsp;&nbsp;</span>Python 下載XML檔案與解析</a></span><ul class=\"toc-item\"><li><span><a href=\"#作業目標\" data-toc-modified-id=\"作業目標-1.1\"><span class=\"toc-item-num\">1.1&nbsp;&nbsp;</span>作業目標</a></span><ul class=\"toc-item\"><li><span><a href=\"#比較一下範例檔案中的「File-I/O」與「xmltodict」讀出來的內容有什麼差異\" data-toc-modified-id=\"比較一下範例檔案中的「File-I/O」與「xmltodict」讀出來的內容有什麼差異-1.1.1\"><span class=\"toc-item-num\">1.1.1&nbsp;&nbsp;</span>比較一下範例檔案中的「File I/O」與「xmltodict」讀出來的內容有什麼差異</a></span></li><li><span><a href=\"#根據範例檔案的結果：\" data-toc-modified-id=\"根據範例檔案的結果：-1.1.2\"><span class=\"toc-item-num\">1.1.2&nbsp;&nbsp;</span>根據範例檔案的結果：</a></span></li></ul></li></ul></li></ul></div>"
   ]
  },
  {
   "cell_type": "markdown",
   "metadata": {},
   "source": [
    "# Python 下載XML檔案與解析\n",
    "\n",
    "\n",
    "* 了解 xml 檔案格式與內容\n",
    "* 能夠利用套件存取 xml 格式的檔案\n"
   ]
  },
  {
   "cell_type": "markdown",
   "metadata": {},
   "source": [
    "## 作業目標\n",
    "\n",
    "* 比較一下範例檔案中的「File I/O」與「xmltodict」讀出來的內容有什麼差異\n",
    "\n",
    "* 根據範例檔案的結果：\n",
    "    1. 請問高雄市有多少地區有溫度資料？\n",
    "    2. 請取出每一個地區所記錄的第一個時間點跟溫度\n",
    "    3. 請取出第一個地區所記錄的每一個時間點跟溫度"
   ]
  },
  {
   "cell_type": "markdown",
   "metadata": {},
   "source": [
    "### 比較一下範例檔案中的「File I/O」與「xmltodict」讀出來的內容有什麼差異\n"
   ]
  },
  {
   "cell_type": "code",
   "execution_count": null,
   "metadata": {},
   "outputs": [],
   "source": [
    "'''\n",
    "Your Code\n",
    "'''"
   ]
  },
  {
   "cell_type": "markdown",
   "metadata": {},
   "source": [
    "### 根據範例檔案的結果：\n",
    "\n",
    "1. 請問高雄市有多少地區有溫度資料？\n",
    "2. 請取出每一個地區所記錄的第一個時間點跟溫度\n",
    "3. 請取出第一個地區所記錄的每一個時間點跟溫度"
   ]
  },
  {
   "cell_type": "code",
   "execution_count": 2,
   "metadata": {
    "ExecuteTime": {
     "end_time": "2020-12-05T17:04:04.715539Z",
     "start_time": "2020-12-05T17:04:04.273532Z"
    }
   },
   "outputs": [
    {
     "name": "stdout",
     "output_type": "stream",
     "text": [
      "38\n"
     ]
    }
   ],
   "source": [
    "# 1. 請問高雄市有多少地區有溫度資料？\n",
    "import xmltodict \n",
    "with open('./data/64_72hr_CH.xml') as xml:\n",
    "    data = dict(xmltodict.parse(xml.read()))\n",
    "locations = data['cwbopendata']['dataset']['locations']['location']\n",
    "print(len(locations))"
   ]
  },
  {
   "cell_type": "code",
   "execution_count": 23,
   "metadata": {
    "ExecuteTime": {
     "end_time": "2020-12-05T17:10:24.295330Z",
     "start_time": "2020-12-05T17:10:24.286810Z"
    },
    "scrolled": true
   },
   "outputs": [
    {
     "name": "stdout",
     "output_type": "stream",
     "text": [
      "鹽埕區\n",
      "2020-12-05T18:00:00+08:00\n",
      "OrderedDict([('value', '23'), ('measures', '攝氏度')])\n",
      "鼓山區\n",
      "2020-12-05T18:00:00+08:00\n",
      "OrderedDict([('value', '23'), ('measures', '攝氏度')])\n",
      "左營區\n",
      "2020-12-05T18:00:00+08:00\n",
      "OrderedDict([('value', '23'), ('measures', '攝氏度')])\n",
      "楠梓區\n",
      "2020-12-05T18:00:00+08:00\n",
      "OrderedDict([('value', '24'), ('measures', '攝氏度')])\n",
      "三民區\n",
      "2020-12-05T18:00:00+08:00\n",
      "OrderedDict([('value', '23'), ('measures', '攝氏度')])\n",
      "新興區\n",
      "2020-12-05T18:00:00+08:00\n",
      "OrderedDict([('value', '24'), ('measures', '攝氏度')])\n",
      "前金區\n",
      "2020-12-05T18:00:00+08:00\n",
      "OrderedDict([('value', '23'), ('measures', '攝氏度')])\n",
      "苓雅區\n",
      "2020-12-05T18:00:00+08:00\n",
      "OrderedDict([('value', '24'), ('measures', '攝氏度')])\n",
      "前鎮區\n",
      "2020-12-05T18:00:00+08:00\n",
      "OrderedDict([('value', '24'), ('measures', '攝氏度')])\n",
      "旗津區\n",
      "2020-12-05T18:00:00+08:00\n",
      "OrderedDict([('value', '23'), ('measures', '攝氏度')])\n",
      "小港區\n",
      "2020-12-05T18:00:00+08:00\n",
      "OrderedDict([('value', '24'), ('measures', '攝氏度')])\n",
      "鳳山區\n",
      "2020-12-05T18:00:00+08:00\n",
      "OrderedDict([('value', '24'), ('measures', '攝氏度')])\n",
      "林園區\n",
      "2020-12-05T18:00:00+08:00\n",
      "OrderedDict([('value', '25'), ('measures', '攝氏度')])\n",
      "大寮區\n",
      "2020-12-05T18:00:00+08:00\n",
      "OrderedDict([('value', '24'), ('measures', '攝氏度')])\n",
      "大樹區\n",
      "2020-12-05T18:00:00+08:00\n",
      "OrderedDict([('value', '24'), ('measures', '攝氏度')])\n",
      "大社區\n",
      "2020-12-05T18:00:00+08:00\n",
      "OrderedDict([('value', '24'), ('measures', '攝氏度')])\n",
      "仁武區\n",
      "2020-12-05T18:00:00+08:00\n",
      "OrderedDict([('value', '24'), ('measures', '攝氏度')])\n",
      "鳥松區\n",
      "2020-12-05T18:00:00+08:00\n",
      "OrderedDict([('value', '24'), ('measures', '攝氏度')])\n",
      "岡山區\n",
      "2020-12-05T18:00:00+08:00\n",
      "OrderedDict([('value', '23'), ('measures', '攝氏度')])\n",
      "橋頭區\n",
      "2020-12-05T18:00:00+08:00\n",
      "OrderedDict([('value', '24'), ('measures', '攝氏度')])\n",
      "燕巢區\n",
      "2020-12-05T18:00:00+08:00\n",
      "OrderedDict([('value', '23'), ('measures', '攝氏度')])\n",
      "田寮區\n",
      "2020-12-05T18:00:00+08:00\n",
      "OrderedDict([('value', '22'), ('measures', '攝氏度')])\n",
      "阿蓮區\n",
      "2020-12-05T18:00:00+08:00\n",
      "OrderedDict([('value', '22'), ('measures', '攝氏度')])\n",
      "路竹區\n",
      "2020-12-05T18:00:00+08:00\n",
      "OrderedDict([('value', '23'), ('measures', '攝氏度')])\n",
      "湖內區\n",
      "2020-12-05T18:00:00+08:00\n",
      "OrderedDict([('value', '22'), ('measures', '攝氏度')])\n",
      "茄萣區\n",
      "2020-12-05T18:00:00+08:00\n",
      "OrderedDict([('value', '22'), ('measures', '攝氏度')])\n",
      "永安區\n",
      "2020-12-05T18:00:00+08:00\n",
      "OrderedDict([('value', '22'), ('measures', '攝氏度')])\n",
      "彌陀區\n",
      "2020-12-05T18:00:00+08:00\n",
      "OrderedDict([('value', '22'), ('measures', '攝氏度')])\n",
      "梓官區\n",
      "2020-12-05T18:00:00+08:00\n",
      "OrderedDict([('value', '22'), ('measures', '攝氏度')])\n",
      "旗山區\n",
      "2020-12-05T18:00:00+08:00\n",
      "OrderedDict([('value', '22'), ('measures', '攝氏度')])\n",
      "美濃區\n",
      "2020-12-05T18:00:00+08:00\n",
      "OrderedDict([('value', '23'), ('measures', '攝氏度')])\n",
      "六龜區\n",
      "2020-12-05T18:00:00+08:00\n",
      "OrderedDict([('value', '21'), ('measures', '攝氏度')])\n",
      "甲仙區\n",
      "2020-12-05T18:00:00+08:00\n",
      "OrderedDict([('value', '20'), ('measures', '攝氏度')])\n",
      "杉林區\n",
      "2020-12-05T18:00:00+08:00\n",
      "OrderedDict([('value', '22'), ('measures', '攝氏度')])\n",
      "內門區\n",
      "2020-12-05T18:00:00+08:00\n",
      "OrderedDict([('value', '22'), ('measures', '攝氏度')])\n",
      "茂林區\n",
      "2020-12-05T18:00:00+08:00\n",
      "OrderedDict([('value', '21'), ('measures', '攝氏度')])\n",
      "桃源區\n",
      "2020-12-05T18:00:00+08:00\n",
      "OrderedDict([('value', '19'), ('measures', '攝氏度')])\n",
      "那瑪夏區\n",
      "2020-12-05T18:00:00+08:00\n",
      "OrderedDict([('value', '18'), ('measures', '攝氏度')])\n"
     ]
    }
   ],
   "source": [
    "# 2. 請取出每一個地區所記錄的第一個時間點跟溫度\n",
    "\n",
    "for location in locations:\n",
    "    print(location['locationName'])\n",
    "    print(location['weatherElement'][0]['time'][0]['dataTime'] )\n",
    "    print(location['weatherElement'][0]['time'][0]['elementValue'] )\n",
    "#     print(location['weatherElement'][0]['time'][0]['elementValue']['value'] )"
   ]
  },
  {
   "cell_type": "code",
   "execution_count": 6,
   "metadata": {
    "ExecuteTime": {
     "end_time": "2020-12-05T17:05:01.870275Z",
     "start_time": "2020-12-05T17:05:01.863604Z"
    },
    "scrolled": true
   },
   "outputs": [
    {
     "name": "stdout",
     "output_type": "stream",
     "text": [
      "鹽埕區\n",
      "2020-12-05T18:00:00+08:00\n",
      "OrderedDict([('value', '23'), ('measures', '攝氏度')])\n",
      "2020-12-05T21:00:00+08:00\n",
      "OrderedDict([('value', '22'), ('measures', '攝氏度')])\n",
      "2020-12-06T00:00:00+08:00\n",
      "OrderedDict([('value', '20'), ('measures', '攝氏度')])\n",
      "2020-12-06T03:00:00+08:00\n",
      "OrderedDict([('value', '20'), ('measures', '攝氏度')])\n",
      "2020-12-06T06:00:00+08:00\n",
      "OrderedDict([('value', '19'), ('measures', '攝氏度')])\n",
      "2020-12-06T09:00:00+08:00\n",
      "OrderedDict([('value', '21'), ('measures', '攝氏度')])\n",
      "2020-12-06T12:00:00+08:00\n",
      "OrderedDict([('value', '26'), ('measures', '攝氏度')])\n",
      "2020-12-06T15:00:00+08:00\n",
      "OrderedDict([('value', '27'), ('measures', '攝氏度')])\n",
      "2020-12-06T18:00:00+08:00\n",
      "OrderedDict([('value', '25'), ('measures', '攝氏度')])\n",
      "2020-12-06T21:00:00+08:00\n",
      "OrderedDict([('value', '24'), ('measures', '攝氏度')])\n",
      "2020-12-07T00:00:00+08:00\n",
      "OrderedDict([('value', '22'), ('measures', '攝氏度')])\n",
      "2020-12-07T03:00:00+08:00\n",
      "OrderedDict([('value', '22'), ('measures', '攝氏度')])\n",
      "2020-12-07T06:00:00+08:00\n",
      "OrderedDict([('value', '21'), ('measures', '攝氏度')])\n",
      "2020-12-07T09:00:00+08:00\n",
      "OrderedDict([('value', '23'), ('measures', '攝氏度')])\n",
      "2020-12-07T12:00:00+08:00\n",
      "OrderedDict([('value', '27'), ('measures', '攝氏度')])\n",
      "2020-12-07T15:00:00+08:00\n",
      "OrderedDict([('value', '27'), ('measures', '攝氏度')])\n",
      "2020-12-07T18:00:00+08:00\n",
      "OrderedDict([('value', '26'), ('measures', '攝氏度')])\n",
      "2020-12-07T21:00:00+08:00\n",
      "OrderedDict([('value', '24'), ('measures', '攝氏度')])\n",
      "2020-12-08T00:00:00+08:00\n",
      "OrderedDict([('value', '23'), ('measures', '攝氏度')])\n",
      "2020-12-08T03:00:00+08:00\n",
      "OrderedDict([('value', '22'), ('measures', '攝氏度')])\n",
      "2020-12-08T06:00:00+08:00\n",
      "OrderedDict([('value', '22'), ('measures', '攝氏度')])\n",
      "2020-12-08T09:00:00+08:00\n",
      "OrderedDict([('value', '23'), ('measures', '攝氏度')])\n",
      "2020-12-08T12:00:00+08:00\n",
      "OrderedDict([('value', '26'), ('measures', '攝氏度')])\n",
      "2020-12-08T15:00:00+08:00\n",
      "OrderedDict([('value', '27'), ('measures', '攝氏度')])\n"
     ]
    }
   ],
   "source": [
    "# 3. 請取出第一個地區所記錄的每一個時間點跟溫度\n",
    "\n",
    "location = locations[0]\n",
    "print(location['locationName'])\n",
    "for l in location['weatherElement'][0]['time']:\n",
    "    print(l['dataTime'] )\n",
    "    print(l['elementValue'] )"
   ]
  },
  {
   "cell_type": "code",
   "execution_count": null,
   "metadata": {},
   "outputs": [],
   "source": []
  }
 ],
 "metadata": {
  "kernelspec": {
   "display_name": "Python 3",
   "language": "python",
   "name": "python3"
  },
  "language_info": {
   "codemirror_mode": {
    "name": "ipython",
    "version": 3
   },
   "file_extension": ".py",
   "mimetype": "text/x-python",
   "name": "python",
   "nbconvert_exporter": "python",
   "pygments_lexer": "ipython3",
   "version": "3.7.4"
  },
  "toc": {
   "base_numbering": 1,
   "nav_menu": {},
   "number_sections": true,
   "sideBar": true,
   "skip_h1_title": false,
   "title_cell": "Table of Contents",
   "title_sidebar": "Contents",
   "toc_cell": true,
   "toc_position": {},
   "toc_section_display": true,
   "toc_window_display": true
  }
 },
 "nbformat": 4,
 "nbformat_minor": 2
}
