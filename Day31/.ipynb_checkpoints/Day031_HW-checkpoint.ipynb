{
 "cells": [
  {
   "cell_type": "markdown",
   "metadata": {
    "toc": true
   },
   "source": [
    "<h1>Table of Contents<span class=\"tocSkip\"></span></h1>\n",
    "<div class=\"toc\"><ul class=\"toc-item\"><li><span><a href=\"#反爬：瀏覽器標頭與基本資訊\" data-toc-modified-id=\"反爬：瀏覽器標頭與基本資訊-1\"><span class=\"toc-item-num\">1&nbsp;&nbsp;</span>反爬：瀏覽器標頭與基本資訊</a></span><ul class=\"toc-item\"><li><span><a href=\"#作業目標\" data-toc-modified-id=\"作業目標-1.1\"><span class=\"toc-item-num\">1.1&nbsp;&nbsp;</span>作業目標</a></span><ul class=\"toc-item\"><li><span><a href=\"#尋找一個網站是有作-Header-檢查的（Hint:-有加跟沒有加回傳結果不一樣）\" data-toc-modified-id=\"尋找一個網站是有作-Header-檢查的（Hint:-有加跟沒有加回傳結果不一樣）-1.1.1\"><span class=\"toc-item-num\">1.1.1&nbsp;&nbsp;</span>尋找一個網站是有作 Header 檢查的（Hint: 有加跟沒有加回傳結果不一樣）</a></span></li><li><span><a href=\"#用上述網站說明該如何判斷-Header-中必須加上哪些資料才會正確\" data-toc-modified-id=\"用上述網站說明該如何判斷-Header-中必須加上哪些資料才會正確-1.1.2\"><span class=\"toc-item-num\">1.1.2&nbsp;&nbsp;</span>用上述網站說明該如何判斷 Header 中必須加上哪些資料才會正確</a></span></li></ul></li></ul></li></ul></div>"
   ]
  },
  {
   "cell_type": "markdown",
   "metadata": {},
   "source": [
    "# 反爬：瀏覽器標頭與基本資訊\n",
    "\n",
    "\n",
    "* 了解「檢查 HTTP 標頭檔」的反爬蟲機制\n",
    "* 「檢查 HTTP 標頭檔」反爬蟲的因應策略\n"
   ]
  },
  {
   "cell_type": "markdown",
   "metadata": {},
   "source": [
    "## 作業目標\n",
    "\n",
    "* 尋找一個網站是有作 Header 檢查的（Hint: 有加跟沒有加回傳結果不一樣）\n",
    "* 用上述網站說明該如何判斷 Header 中必須加上哪些資料才會正確\n"
   ]
  },
  {
   "cell_type": "markdown",
   "metadata": {},
   "source": [
    "### 尋找一個網站是有作 Header 檢查的（Hint: 有加跟沒有加回傳結果不一樣）"
   ]
  },
  {
   "cell_type": "code",
   "execution_count": 4,
   "metadata": {
    "ExecuteTime": {
     "end_time": "2021-01-03T04:01:23.943835Z",
     "start_time": "2021-01-03T04:01:23.194132Z"
    }
   },
   "outputs": [
    {
     "data": {
      "text/plain": [
       "'<html>\\n<head><title>404 Not Found</title></head>\\n<body>\\n<center><h1>404 Not Found</h1></center>\\n<hr><center>nginx</center>\\n</body>\\n</html>\\n'"
      ]
     },
     "execution_count": 4,
     "metadata": {},
     "output_type": "execute_result"
    }
   ],
   "source": [
    "# HackTheBox\n",
    "import requests\n",
    "url = \"https://www.hackthebox.eu/\"\n",
    "response = requests.get(url)\n",
    "response.text"
   ]
  },
  {
   "cell_type": "markdown",
   "metadata": {},
   "source": [
    "### 用上述網站說明該如何判斷 Header 中必須加上哪些資料才會正確\n"
   ]
  },
  {
   "cell_type": "code",
   "execution_count": 6,
   "metadata": {
    "ExecuteTime": {
     "end_time": "2021-01-03T04:02:57.980844Z",
     "start_time": "2021-01-03T04:02:57.519532Z"
    }
   },
   "outputs": [
    {
     "data": {
      "text/plain": [
       "'<!DOCTYPE html> <!--[if lt IE 7]> <html class=\"no-js lt-ie9 lt-ie8 lt-ie7\"> <![endif]--> <!--[if IE 7]> <html class=\"no-js lt-ie9 lt-ie8\"> <![endif]--> <!--[if IE 8]> <html class=\"no-js lt-ie9\"> <![endif]--> <!--[if gt IE 8]><!--> <html lang=\"en\" class=\"no-js\"> <!--<![endif]--> <head> <meta charset=\"utf-8\"> <title>Hack The Box :: Penetration Testing Labs</title> <meta name=\"viewport\" content=\"width=device-width, initial-scale=1\"> <meta http-equiv=\"X-UA-Compatible\" content=\"IE=edge\"> <meta name=\"author\" content=\"Hack The Box\"> <meta name=\"google-site-verification\" content=\"q7Cl0RYCaMsZVkoZTMa6inBmgOJM9UyJPrKfhgXMgsE\"> <meta property=\"fb:app_id\" content=\"269224263502219\"> <meta property=\"og:site_name\" content=\"Hack The Box\"> <meta property=\"og:url\" content=\"https://www.hackthebox.eu\"> <meta property=\"og:title\" content=\"Hack The Box :: Penetration Testing Labs\"> <meta property=\"og:image\" content=\"https://www.hackthebox.eu/images/favicon.png\"> <meta property=\"og:description\" content=\"An online platform to test and advance your skills in penetration testing and cyber security.\"> <meta name=\"keywords\" content=\"penetration testing, pen testing, penetration testing labs, pen testing labs, penetration testing training\"> <meta name=\"description\" content=\"An online platform to test and advance your skills in penetration testing and cyber security. Join today and start training in our online labs.\"> <meta name=\"wot-verification\" content=\"1eeefbec1f6305acd476\"> <link rel=\"icon\" href=\"/images/favicon.png\"> <link href=\"https://www.hackthebox.eu/css/landing.min.css\" rel=\"stylesheet\" type=\"text/css\" media=\"all\" /> <!--[if gte IE 9]> <link rel=\"stylesheet\" type=\"text/css\" href=\"https://www.hackthebox.eu/css/ie9.min.css\" /> <![endif]--> <link href=\\'https://fonts.googleapis.com/css?family=Open+Sans:300italic,400italic,400,300,600,700%7CRaleway:700\\' rel=\\'stylesheet\\' type=\\'text/css\\'> <link rel=\"stylesheet\" href=\"https://www.hackthebox.eu/css/icons.css\" /> <style> .btn-cta { border: 1px solid #9acc14; background: #9acc14; padding: 5px 20px; border-radius: 3px; font-weight: bold; transition: unset; } .btn-cta:hover { color: #fff; filter: brightness(95%); transition: unset; } .nav a:hover { filter: unset; } </style> <script type=\"application/ld+json\"> { \"@context\": \"http://schema.org\", \"@type\": \"Organization\", \"url\": \"https://www.hackthebox.eu\", \"name\": \"Hack The Box\", \"contactPoint\": [{ \"@type\": \"ContactPoint\", \"telephone\": \"+44-203-6178-265\", \"contactType\": \"emergency\" }], \"sameAs\": [ \"https://www.facebook.com/hackthebox.eu\", \"https://www.linkedin.com/company/hackthebox\", \"https://twitter.com/hackthebox_eu\" ], \"logo\": \"https://www.hackthebox.eu/images/favicon.png\", \"description\": \"An online platform to test and advance your skills in penetration testing and cyber security.\", \"founder\": { \"@type\": \"Person\", \"name\": \"Haris Pylarinos\" }, \"aggregateRating\": { \"@type\": \"AggregateRating\", \"ratingValue\": \"4.93\", \"bestRating\": \"5\", \"worstRating\": \"1\", \"ratingCount\": \"400\" } } </script> <script src=\"https://www.hackthebox.eu/js/modernizr-2.6.2-respond-1.1.0.min.js\"></script> <script async src=\"//cdnjs.cloudflare.com/ajax/libs/cookieconsent2/3.0.3/cookieconsent.min.js\"></script> <script> window.addEventListener(\"load\", function(){ window.cookieconsent.initialise({ \"palette\": { \"popup\": { \"background\": \"black\", \"text\": \"#949ba2\" }, \"button\": { \"background\": \"transparent\", \"border\": \"#9acc14\", \"text\": \"#9acc14\" } }, \"position\": \"bottom-right\", \"content\": { \"href\": \"https://www.hackthebox.eu/tos\" } })}); </script> <script> !function(){var analytics=window.analytics=window.analytics||[];if(!analytics.initialize)if(analytics.invoked)window.console&&console.error&&console.error(\"Segment snippet included twice.\");else{analytics.invoked=!0;analytics.methods=[\"trackSubmit\",\"trackClick\",\"trackLink\",\"trackForm\",\"pageview\",\"identify\",\"reset\",\"group\",\"track\",\"ready\",\"alias\",\"debug\",\"page\",\"once\",\"off\",\"on\"];analytics.factory=function(t){return function(){var e=Array.prototype.slice.call(arguments);e.unshift(t);analytics.push(e);return analytics}};for(var t=0;t<analytics.methods.length;t++){var e=analytics.methods[t];analytics[e]=analytics.factory(e)}analytics.load=function(t,e){var n=document.createElement(\"script\");n.type=\"text/javascript\";n.async=!0;n.src=\"https://cdn.segment.com/analytics.js/v1/\"+t+\"/analytics.min.js\";var a=document.getElementsByTagName(\"script\")[0];a.parentNode.insertBefore(n,a);analytics._loadOptions=e};analytics.SNIPPET_VERSION=\"4.1.0\"; analytics.load(\"0TfpkI8Z8dM5cArXmzVpfEBmj10vpbfI\"); analytics.page(\"Homepage\"); }}(); </script> <script> (function(i,s,o,g,r,a,m){i[\\'GoogleAnalyticsObject\\']=r;i[r]=i[r]||function(){ (i[r].q=i[r].q||[]).push(arguments)},i[r].l=1*new Date();a=s.createElement(o), m=s.getElementsByTagName(o)[0];a.async=1;a.src=g;m.parentNode.insertBefore(a,m) })(window,document,\\'script\\',\\'https://www.google-analytics.com/analytics.js\\',\\'ga\\'); ga(\\'create\\', \\'UA-93577176-1\\', \\'auto\\'); ga(\\'set\\',\\'anonymizeIp\\',true); ga(\\'send\\', \\'pageview\\'); </script> <script async src=\"https://www.googletagmanager.com/gtag/js?id=AW-757546894\"></script> <script> window.dataLayer = window.dataLayer || []; function gtag(){dataLayer.push(arguments);} gtag(\\'js\\', new Date()); gtag(\\'config\\', \\'AW-757546894\\'); </script> <link rel=\"stylesheet\" type=\"text/css\" href=\"//cdnjs.cloudflare.com/ajax/libs/cookieconsent2/3.0.3/cookieconsent.min.css\" /> <script src=\"//rum-static.pingdom.net/pa-5cff9944e9ea69001700000b.js\" async></script> </head> <body> <nav class=\"navbar navbar-default navbar-fixed-top\" role=\"navigation\"> <div class=\"container-fluid\"> <div class=\"navbar-header\"> <button type=\"button\" class=\"navbar-toggle collapsed\" data-toggle=\"collapse\" data-target=\"#navbar\" aria-expanded=\"false\" aria-controls=\"navbar\"> <span class=\"sr-only\">Toggle navigation</span> <span class=\"icon-bar\"></span> <span class=\"icon-bar\"></span> <span class=\"icon-bar\"></span> </button> <a class=\"navbar-brand\" href=\"https://www.hackthebox.eu\"><img src=\"https://www.hackthebox.eu/images/logofull-tr-web.png\" alt=\"Hack The Box\" style=\"padding-left:10px\"></a> </div> <div id=\"navbar\" class=\"navbar-collapse collapse\" aria-expanded=\"false\"> <ul class=\"nav navbar-nav navbar-right\"> <li><a href=\"https://www.hackthebox.eu/individuals\">Individuals</a></li> <li><a href=\"https://www.hackthebox.eu/companies\">Companies</a></li> <li><a href=\"https://www.hackthebox.eu/universities\">Universities</a></li> <li><a href=\"https://hackthebox.store/\" target=\"_blank\">Store</a></li> <li><a href=\"https://www.hackthebox.eu/giftcards\">Gift Cards</a></li> <li><a href=\"https://www.hackthebox.eu/login\">Login</a></li> <li><a href=\"https://www.hackthebox.eu/invite\" style=\"padding-top:7px;padding-bottom:7px;\"><div class=\"btn-cta\">Join Now</div></a></li> </ul> </div> </div> </nav> <div id=\"particles-js\"></div> <div class=\"main-container\"> <header class=\"fullscreen-element no-pad centered-text\"> <div class=\"container header-htb\"> <div class=\"row\"> <div class=\"col-md-12 text-center\"> <img src=\"https://www.hackthebox.eu/images/logo600.png\" alt=\"Hack The Box Pentesting Labs Logo\"><br> <div class=\"autotype\"> <span class=\"shell-red\"><a href=\"/cdn-cgi/l/email-protection\" class=\"__cf_email__\" data-cfemail=\"9cefe8fdeee8dcf4fdfff7f5f2fb\">[email&#160;protected]</a></span>:<span class=\"shell-blue\">~</span># <span id=\"autotype\"></span> </div> <a href=\"https://www.hackthebox.eu/individuals\" class=\"btn btn-primary btn-white\">Individuals</a> <a href=\"#companies\" class=\"btn btn-primary btn-white\">companies &amp; universities</a> </div> </div> </div> </header> <section class=\"clients\"> <div class=\"container-fluid\"> <div class=\"col-md-3\"> <div class=\"row\"> <div class=\"col-sm-12 text-center\"> <p class=\"text-sunk\">Partners<br></p> </div> </div> <div class=\"row client-row\"> <div class=\"row-wrapper\"> <div class=\"col-sm-12 col-md-12 col-lg-6 text-center\"> <a href=\"https://www.hackthebox.eu/trackandgo/20\" target=\"_blank\"><img alt=\"Security BSides Athens\" src=\"https://www.hackthebox.eu/storage/companies/20.png\"></a> </div> <div class=\"col-sm-12 col-md-12 col-lg-6 text-center\"> <a href=\"https://www.hackthebox.eu/trackandgo/28\" target=\"_blank\"><img alt=\"Faraday\" src=\"https://www.hackthebox.eu/storage/companies/28.png\"></a> </div> </div> </div> <div class=\"row client-row\"> <div class=\"row-wrapper\"> <div class=\"col-sm-12 col-lg-6 text-center\"> <a href=\"https://www.hackthebox.eu/trackandgo/45\" target=\"_blank\"><img alt=\"Parrot Linux\" src=\"https://www.hackthebox.eu/storage/companies/45.png\"></a> </div> <div class=\"col-lg-6 text-center\"> </div> </div> </div> </div> <div class=\"col-md-6\"> <div class=\"row\"> <div class=\"col-sm-12 text-center\"> <p class=\"text-sunk\">Gold Sponsors<br></p> </div> </div> <div class=\"row client-row\"> <div class=\"row-wrapper\"> <div class=\"col-sm-4 text-center\"> <a href=\"https://www.hackthebox.eu/trackandgo/2\" target=\"_blank\"><img alt=\"TwelveSec\" src=\"https://www.hackthebox.eu/storage/companies/2.png\"></a> </div> <div class=\"col-sm-4 text-center\"> <a href=\"https://www.hackthebox.eu/trackandgo/3\" target=\"_blank\"><img alt=\"Jet.com\" src=\"https://www.hackthebox.eu/storage/companies/3.png\"></a> </div> <div class=\"col-sm-4 text-center\"> <a href=\"https://www.hackthebox.eu/trackandgo/4\" target=\"_blank\"><img alt=\"GuidePoint Security\" src=\"https://www.hackthebox.eu/storage/companies/4.png\"></a> </div> </div> </div> <div class=\"row client-row\"> <div class=\"row-wrapper\"> <div class=\"col-sm-4 text-center\"> <a href=\"https://www.hackthebox.eu/trackandgo/9\" target=\"_blank\"><img alt=\"Context\" src=\"https://www.hackthebox.eu/storage/companies/9.png\"></a> </div> </div> </div> </div> <div class=\"col-md-3\"> <div class=\"row\"> <div class=\"col-sm-12 text-center\"> <p class=\"text-sunk\">Silver Sponsors<br></p> </div> </div> <div class=\"row client-row\"> <div class=\"row-wrapper\"> <div class=\"col-sm-12 col-md-12 col-lg-6 text-center\"> <a href=\"https://www.hackthebox.eu/trackandgo/30\" target=\"_blank\"><img alt=\"SureCloud\" src=\"https://www.hackthebox.eu/storage/companies/30.png\"></a> </div> <div class=\"col-sm-12 col-md-12 col-lg-6 text-center\"> <a href=\"https://www.hackthebox.eu/trackandgo/40\" target=\"_blank\"><img alt=\"Vartai Security\" src=\"https://www.hackthebox.eu/storage/companies/40.png\"></a> </div> </div> </div> </div> </div> </section> <section class=\"video-inline\"> <div class=\"container\"> <div class=\"row\"> <div class=\"col-md-6 col-sm-12\"> <h1 class=\"space-bottom-medium\">About Hack The Box&nbsp;Pen-testing Labs</h1> <p class=\"lead space-bottom-medium\"> Hack The Box is an online platform allowing you to test your penetration testing skills and exchange ideas and methodologies with thousands of people in the security field.&nbsp;Click below to hack our invite challenge, then get started on one of our many live machines or challenges.</p> <a href=\"https://www.hackthebox.eu/invite\" class=\"btn btn-primary btn-white\">Join</a> <a href=\"https://www.hackthebox.eu/individuals\" class=\"btn btn-primary btn-text-only\">Learn More</a> </div> <div class=\"col-md-6 col-sm-12\"> <div class=\"media-holder\"> <iframe width=\"100%\" height=\"315\" src=\"https://www.youtube-nocookie.com/embed/_pjICT3pdNw\" frameborder=\"0\" allowfullscreen=\"\"></iframe> </div> </div> </div> </div> </section> <section class=\"duplicatable-content\"> <div class=\"container\"> <div class=\"row\"> <div class=\"col-md-12 text-center\"> <h2>Features</h2> </div> </div> <div class=\"row\"> <div class=\"col-sm-6\"> <div class=\"feature feature-icon-large\"> <div class=\"pull-left\"> <i class=\"icon fas fa-plus\"></i> </div> <div class=\"pull-right\"> <h5>Massive Lab</h5> <p> With new machines and challenges released on a weekly basis, you will learn hundreds of new techniques, tips and tricks. </p> </div> </div> </div> <div class=\"col-sm-6\"> <div class=\"feature feature-icon-large\"> <div class=\"pull-left\"> <i class=\"icon fal fa-trophy\"></i> </div> <div class=\"pull-right\"> <h5>Ranks & Badges</h5> <p> Compete with other users to reach the top of the Hall of Fame and show off your progress with many different ranks and badges. </p> </div> </div> </div> <div class=\"col-sm-6\"> <div class=\"feature feature-icon-large\"> <div class=\"pull-left\"> <i class=\"icon fal fa-user-md\"></i> </div> <div class=\"pull-right\"> <h5>Careers</h5> <p> Apply for security-related job openings or use Hack The Box as a platform to find talent for your own company. </p> </div> </div> </div> <div class=\"col-sm-6\"> <div class=\"feature feature-icon-large\"> <div class=\"pull-left\"> <i class=\"icon fal fa-building\"></i> </div> <div class=\"pull-right\"> <h5>Dedicated Labs</h5> <p> Rent your own private lab for your company or university, fully managed and tailored to your requirements. </p> </div> </div> </div> </div> </div> </section> <section class=\"stat-counters duplicatable-content bg-none\"> <div class=\"container\"> <div class=\"row\"> <div class=\"col-xs-12 col-sm-4\"> <div class=\"stat feature\"> <div class=\"stat-bubble\"> <span id=\"usercount\"><i class=\"far fa-spinner fa-spin\"></i></span> </div> <h3>Users</h3> </div> </div> <div class=\"col-xs-12 col-sm-4\"> <div class=\"stat feature\"> <div class=\"stat-bubble\"> <span id=\"machinecount\"><i class=\"far fa-spinner fa-spin\"></i></span> </div> <h3>Machines</h3> </div> </div> <div class=\"col-xs-12 col-sm-4\"> <div class=\"stat feature\"> <div class=\"stat-bubble\"> <span id=\"challengecount\"><i class=\"far fa-spinner fa-spin\"></i></span> </div> <h3>Challenges</h3> </div> </div> </div> </div> </section> <section class=\"side-image clearfix\" id=\"companies\"> <div class=\"image-container col-md-5 col-sm-4 pull-left\"> <div class=\"background-image-holder\"> <img class=\"background-image\" alt=\"Background Image\" src=\"https://www.hackthebox.eu/images/landing/companies.jpg\"> </div> </div> <div class=\"container\"> <div class=\"row\"> <div class=\"col-md-6 col-md-offset-6 col-sm-7 col-sm-offset-5 content clearfix\"> <h2>For Companies</h2> <p class=\"lead\"> Hack The Box provides a wealth of information and experience for your security team. Train your employees or find new talent among some of the world\\'s top security experts using our recruitment system. <br><br><a href=\"https://www.hackthebox.eu/companies\" class=\"btn btn-primary btn-white\">Learn More</a> </p> <div class=\"row\"> <div class=\"col-md-6 no-pad-left\"> <div class=\"feature feature-icon-left\"> <div class=\"icon-holder\"> <i class=\"fal fa-building\"></i> </div> <div class=\"feature-text\"> <h6>Dedicated Labs</h6> <p> Private labs which allow you to choose who has access and which machines are available. </p> </div> </div> </div> <div class=\"col-md-6 no-pad-left\"> <div class=\"feature feature-icon-left\"> <div class=\"icon-holder\"> <i class=\"fal fa-user-md\"></i> </div> <div class=\"feature-text\"> <h6>Recruiting</h6> <p> Post open positions for your company, or reach out directly to users that have opted-in. </p> </div> </div> </div> </div> <div class=\"row\"> <div class=\"col-md-6 no-pad-left\"> <div class=\"feature feature-icon-left\"> <div class=\"icon-holder\"> <i class=\"fal fa-star\"></i> </div> <div class=\"feature-text\"> <h6>Sponsorship Opportunities</h6> <p> Get brand exposure to thousands of the worlds top security professionals. </p> </div> </div> </div> <div class=\"col-md-6 no-pad-left\"> <div class=\"feature feature-icon-left\"> <div class=\"icon-holder\"> <i class=\"fab fa-product-hunt\"></i> </div> <div class=\"feature-text\"> <h6>Pro Labs</h6> <p> Active Directory labs mimicking a corporate environment with simulated user interaction. </p> </div> </div> </div> </div> </div> </div> </div> </section> <section class=\"side-image clearfix\" id=\"universities\"> <div class=\"image-container col-md-5 col-sm-4 pull-right\"> <div class=\"background-image-holder\"> <img class=\"background-image\" alt=\"Background Image\" src=\"https://www.hackthebox.eu/images/landing/universities.jpg\"> </div> </div> <div class=\"container\"> <div class=\"row\"> <div class=\"col-md-6 col-sm-7 content clearfix\"> <h2>For Universities</h2> <p class=\"lead\"> Universities from all over the globe are welcome to enroll for free and start competing against other universities. We also offer discounts to educational institutions for many of our services. <br><br><a href=\"https://www.hackthebox.eu/universities\" class=\"btn btn-primary btn-white\">Learn More</a> </p> <div class=\"row\"> <div class=\"col-md-6 no-pad-left\"> <div class=\"feature feature-icon-left\"> <div class=\"icon-holder\"> <i class=\"fal fa-building\"></i> </div> <div class=\"feature-text\"> <h6>Dedicated Labs</h6> <p> Private labs which allow you to choose who has access and which machines are available. </p> </div> </div> </div> <div class=\"col-md-6 no-pad-left\"> <div class=\"feature feature-icon-left\"> <div class=\"icon-holder\"> <i class=\"fal fa-users\"></i> </div> <div class=\"feature-text\"> <h6>Teams</h6> <p> University teams for students and faculty, with team member rankings. </p> </div> </div> </div> </div> <div class=\"row\"> <div class=\"col-md-6 no-pad-left\"> <div class=\"feature feature-icon-left\"> <div class=\"icon-holder\"> <i class=\"fal fa-trophy\"></i> </div> <div class=\"feature-text\"> <h6>Rankings</h6> <p> Compete against other universities in the global rankings. </p> </div> </div> </div> <div class=\"col-md-6 no-pad-left\"> <div class=\"feature feature-icon-left\"> <div class=\"icon-holder\"> <i class=\"fab fa-product-hunt\"></i> </div> <div class=\"feature-text\"> <h6>Pro Labs</h6> <p> Active Directory labs mimicking a corporate environment with simulated user events. </p> </div> </div> </div> </div> </div> </div> </div> </section> <div class=\"text-center\" style=\"width:100%;padding:80px 0;\"> <a href=\"https://www.hackthebox.eu/giftcards\"><i class=\"fal fa-gifts\" style=\"margin-right:10px;font-size:64px;vertical-align:middle\"></i> <span class=\"text-white\" style=\"font-size:24px;vertical-align:middle\">Purchase a gift card and give the gift of security</span></a> </div> <section class=\"action-banner overlay\"> <div class=\"container\"> <div class=\"row\"> <div class=\"col-md-8 col-md-offset-2 col-sm-10 col-sm-offset-1 text-center\"> <div class=\"text-white join-cta\">Join Now</div> <h2 class=\"text-white\">Take the invite challenge and join Hack The Box penetration testing labs today.</h2> <a href=\"https://www.hackthebox.eu/individuals\" class=\"btn btn-primary btn-white\">Learn More<br></a> <a href=\"https://www.hackthebox.eu/invite\" class=\"btn btn-primary btn-white btn-filled\">Join</a> </div> </div> </div> </section> </div> <div class=\"footer-container\"> <footer class=\"details\"> <div class=\"container text-center\"> <div class=\"row\"> <div class=\"col-sm-4\"> <div class=\"footer-title\">About Hack The Box</div> <p>An online platform to test and advance your skills in penetration testing and cyber security.</p> <a href=\"https://academy.hackthebox.eu/\" target=\"_blank\">Academy</a><br> <a href=\"https://www.hackthebox.eu/press/list\">Press Releases</a><br> <a href=\"https://www.hackthebox.eu/members\">Members</a><br> <a href=\"https://www.hackthebox.eu/teams\">Teams</a><br> <a href=\"https://www.hackthebox.eu/careers\">Careers</a><br> <a href=\"https://www.hackthebox.eu/certificates\">Certificate Validation</a> </div> <div class=\"col-sm-4\"> <div class=\"footer-title\">Social</div> <ul class=\"social-icons\"> <li> <a href=\"https://www.facebook.com/hackthebox.eu\" target=\"_blank\"> <i class=\"fab fa-facebook-f\"></i> </a> </li> <li> <a href=\"https://twitter.com/hackthebox_eu\" target=\"_blank\"> <i class=\"fab fa-twitter\"></i> </a> </li> <li> <a href=\"https://www.linkedin.com/company/hackthebox\" target=\"_blank\"> <i class=\"fab fa-linkedin-in\"></i> </a> </li> <li> <a href=\"https://www.instagram.com/hackthebox/\" target=\"_blank\"> <i class=\"fab fa-instagram\"></i> </a> </li> </ul> </div> <div class=\"col-sm-4\"> <div class=\"footer-title\">Contact</div> <p> <a href=\"/cdn-cgi/l/email-protection#b7ded9d1d8f7dfd6d4dcc3dfd2d5d8cf99d2c2\"><span class=\"__cf_email__\" data-cfemail=\"056c6b636a456d64666e716d60676a7d2b6070\">[email&#160;protected]</span></a><br> 38 Walton Road<br> Folkestone, Kent<br> CT19 5QS, United Kingdom<br> Company No. 10826193 </p> </div> </div> <div class=\"row\"> <div class=\"col-sm-12\"> <span class=\"sub\"> Copyright &copy; <a href=\"https://www.hackthebox.eu\">Hack The Box</a> 2021<br> <a href=\"https://www.hackthebox.eu/aup\">Acceptable Use Policy</a> | <a href=\"https://www.hackthebox.eu/tos\">Terms of Service</a> | <a href=\"https://www.hackthebox.eu/privacypolicy\">Privacy Policy</a> </span> </div> </div> </div> </footer> </div> <script data-cfasync=\"false\" src=\"/cdn-cgi/scripts/5c5dd728/cloudflare-static/email-decode.min.js\"></script><script src=\"https://www.hackthebox.eu/js/landing.min.js\"></script> <script> var typed = new Typed(\\'#autotype\\', { strings: [\"devel\", \"popcorn\", \"arctic\", \"cronos\", \"october\", \"blue\", \"mirai\", \"kotarak\", \"node\", \"sense\", \"jeeves\", \"inception\", \"bashed\", \"canape\", \"olympus\", \"legacy\", \"bank\", \"blocky\", \"beep\", \"optimum\", \"tenten\", \"silo\", \"poison\", \"rabbit\", \"valentine\", \"nibbles\", \"fulcrum\", \"jail\", \"calamity\", \"holiday\", \"fighter\", \"dropzone\", \"devoops\", \"bounty\", \"smasher\", \"hawk\", \"mischief\", \"reddish\", \"active\", \"waldo\", \"oz\", \"giddy\", \"carrier\"], typeSpeed: 75, backSpeed: 30, loop: true }); $.ajax({ type: \"GET\", dataType: \"json\", url: \\'/api/stats/overview\\', success: function (response) { $(\"#usercount\").empty().append(response.users); $(\"#machinecount\").empty().append(response.machines); $(\"#challengecount\").empty().append(response.challenges); } }); </script> </body> </html> '"
      ]
     },
     "execution_count": 6,
     "metadata": {},
     "output_type": "execute_result"
    }
   ],
   "source": [
    "import requests\n",
    "url = \"https://www.hackthebox.eu/\"\n",
    "headers = {'user-agent': 'my-app/0.0.1'}\n",
    "response = requests.get(url, headers = headers)\n",
    "response.text"
   ]
  }
 ],
 "metadata": {
  "kernelspec": {
   "display_name": "Python 3",
   "language": "python",
   "name": "python3"
  },
  "language_info": {
   "codemirror_mode": {
    "name": "ipython",
    "version": 3
   },
   "file_extension": ".py",
   "mimetype": "text/x-python",
   "name": "python",
   "nbconvert_exporter": "python",
   "pygments_lexer": "ipython3",
   "version": "3.7.4"
  },
  "toc": {
   "base_numbering": 1,
   "nav_menu": {},
   "number_sections": true,
   "sideBar": true,
   "skip_h1_title": false,
   "title_cell": "Table of Contents",
   "title_sidebar": "Contents",
   "toc_cell": true,
   "toc_position": {},
   "toc_section_display": true,
   "toc_window_display": true
  }
 },
 "nbformat": 4,
 "nbformat_minor": 2
}
