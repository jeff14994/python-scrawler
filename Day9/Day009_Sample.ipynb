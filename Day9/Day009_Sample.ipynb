{
 "cells": [
  {
   "cell_type": "markdown",
   "metadata": {
    "toc": true
   },
   "source": [
    "<h1>Table of Contents<span class=\"tocSkip\"></span></h1>\n",
    "<div class=\"toc\"><ul class=\"toc-item\"><li><span><a href=\"#範例\" data-toc-modified-id=\"範例-1\"><span class=\"toc-item-num\">1&nbsp;&nbsp;</span>範例</a></span></li></ul></div>"
   ]
  },
  {
   "cell_type": "markdown",
   "metadata": {},
   "source": [
    "# 範例\n",
    "\n",
    "以正確的副檔名下載網頁中的圖片\n",
    "範例網頁:https://www.ptt.cc/bbs/Beauty/M.1574854555.A.E5C.html\n",
    "\n",
    "Note：因為 PTT 會詢問「是否滿 18 歲」，這邊可以用 cookies 繞過\n",
    "\n",
    "`requests.get(URL, cookies={'over18': '1'}`"
   ]
  },
  {
   "cell_type": "code",
   "execution_count": 1,
   "metadata": {
    "ExecuteTime": {
     "end_time": "2020-12-11T07:04:55.133984Z",
     "start_time": "2020-12-11T07:04:53.151645Z"
    }
   },
   "outputs": [],
   "source": [
    "import requests\n",
    "import os\n",
    "\n",
    "from bs4 import BeautifulSoup\n",
    "from PIL import Image"
   ]
  },
  {
   "cell_type": "code",
   "execution_count": 2,
   "metadata": {
    "ExecuteTime": {
     "end_time": "2020-12-11T07:05:09.103188Z",
     "start_time": "2020-12-11T07:05:07.904222Z"
    }
   },
   "outputs": [],
   "source": [
    "url = 'https://www.ptt.cc/bbs/Beauty/M.1574854555.A.E5C.html'\n",
    "# 自帶 cookies\n",
    "resp = requests.get(url, cookies={'over18': '1'})\n",
    "soup = BeautifulSoup(resp.text)"
   ]
  },
  {
   "cell_type": "code",
   "execution_count": 13,
   "metadata": {
    "ExecuteTime": {
     "end_time": "2020-12-11T07:41:59.117019Z",
     "start_time": "2020-12-11T07:41:59.103598Z"
    }
   },
   "outputs": [
    {
     "name": "stdout",
     "output_type": "stream",
     "text": [
      "Yvqa9MC.jpg\n",
      "4aqPUFf.jpg\n",
      "hG9seBk.jpg\n",
      "2M5b3z4.jpg\n",
      "ncyh1pY.jpg\n",
      "Z8L1vqU.jpg\n",
      "tJyl8gf.jpg\n",
      "hwry1vC.jpg\n",
      "WaPmVsl.jpg\n",
      "u3a9fBO.jpg\n"
     ]
    }
   ],
   "source": [
    "# 決定要儲存的資料夾\n",
    "output_dir = 'downloads'\n",
    "\n",
    "# 假如資料夾不存在就新增一個資料夾\n",
    "if not os.path.exists(output_dir):\n",
    "    os.makedirs(output_dir)\n",
    "\n",
    "# 定位所有圖片的 tag\n",
    "# 重點是 url，而非圖片本身\n",
    "# image_tags 是滿足條件的全部的 image_tags\n",
    "# 如果只想搜索tag的直接子节点,可以使用参数 recursive=False\n",
    "image_tags = soup.find(id='main-content').findChildren('a', recursive=False)\n",
    "# print(image_tags)\n",
    "for img_tag in image_tags:\n",
    "    # 取得所有圖片在第三方服務（imgur）的 id\n",
    "    # 如果沒有 imgur 關鍵字的話，就跳過本輪迴圈\n",
    "    if 'imgur' not in img_tag['href']:\n",
    "        continue\n",
    "    # 取出檔名(用 / 切割)\n",
    "    img_id = img_tag['href'].split('/')[-1]\n",
    "    #print(img_id) # -> e.g. Yvqa9MC.jpg\n",
    "    組合圖片而非網站的網址\n",
    "    img_url = 'https://i.imgur.com/{}'.format(img_id)\n",
    "    # print(img_url) -> e.g. https://i.imgur.com/Yvqa9MC.jpg\n",
    "    # 對圖片送出請求\n",
    "    with requests.get(img_url, stream=True) as r:\n",
    "        r.raise_for_status()\n",
    "        # 檢查圖片副檔名(Opens and identifies the given image file)\n",
    "        img = Image.open(r.raw)\n",
    "        # print(img) -> <PIL.JpegImagePlugin.JpegImageFile image mode=RGB size=1000x664 at 0x7FCEEDC13690>\n",
    "        # 檔名儲存方式\n",
    "        img_savename = '{outdir}/{img_id}.{img_ext}'.format(\n",
    "            outdir=output_dir, img_id=img_id, img_ext=img.format.lower())\n",
    "        # 儲存圖片\n",
    "        img.save(img_savename)\n",
    "        print('Save image {}'.format(img_savename))"
   ]
  },
  {
   "cell_type": "code",
   "execution_count": null,
   "metadata": {},
   "outputs": [],
   "source": []
  }
 ],
 "metadata": {
  "kernelspec": {
   "display_name": "Python 3",
   "language": "python",
   "name": "python3"
  },
  "language_info": {
   "codemirror_mode": {
    "name": "ipython",
    "version": 3
   },
   "file_extension": ".py",
   "mimetype": "text/x-python",
   "name": "python",
   "nbconvert_exporter": "python",
   "pygments_lexer": "ipython3",
   "version": "3.7.4"
  },
  "toc": {
   "base_numbering": 1,
   "nav_menu": {},
   "number_sections": true,
   "sideBar": true,
   "skip_h1_title": false,
   "title_cell": "Table of Contents",
   "title_sidebar": "Contents",
   "toc_cell": true,
   "toc_position": {},
   "toc_section_display": true,
   "toc_window_display": true
  }
 },
 "nbformat": 4,
 "nbformat_minor": 2
}
